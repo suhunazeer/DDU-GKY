{
 "cells": [
  {
   "cell_type": "markdown",
   "id": "c841878a",
   "metadata": {},
   "source": [
    "# <center> <u> Filling missing values"
   ]
  },
  {
   "cell_type": "code",
   "execution_count": 1,
   "id": "6b229cab",
   "metadata": {},
   "outputs": [],
   "source": [
    "import pandas as pd\n",
    "import numpy as np\n",
    "import warnings \n",
    "warnings.filterwarnings('ignore')"
   ]
  },
  {
   "cell_type": "code",
   "execution_count": 2,
   "id": "bdea6733",
   "metadata": {},
   "outputs": [
    {
     "data": {
      "text/html": [
       "<div>\n",
       "<style scoped>\n",
       "    .dataframe tbody tr th:only-of-type {\n",
       "        vertical-align: middle;\n",
       "    }\n",
       "\n",
       "    .dataframe tbody tr th {\n",
       "        vertical-align: top;\n",
       "    }\n",
       "\n",
       "    .dataframe thead th {\n",
       "        text-align: right;\n",
       "    }\n",
       "</style>\n",
       "<table border=\"1\" class=\"dataframe\">\n",
       "  <thead>\n",
       "    <tr style=\"text-align: right;\">\n",
       "      <th></th>\n",
       "      <th>date</th>\n",
       "      <th>temperature</th>\n",
       "      <th>windSpeed</th>\n",
       "      <th>status</th>\n",
       "    </tr>\n",
       "  </thead>\n",
       "  <tbody>\n",
       "    <tr>\n",
       "      <th>0</th>\n",
       "      <td>2020-05-06</td>\n",
       "      <td>35.6582</td>\n",
       "      <td>10.788378</td>\n",
       "      <td>sunny</td>\n",
       "    </tr>\n",
       "    <tr>\n",
       "      <th>1</th>\n",
       "      <td>2020-05-07</td>\n",
       "      <td>NaN</td>\n",
       "      <td>NaN</td>\n",
       "      <td>NaN</td>\n",
       "    </tr>\n",
       "    <tr>\n",
       "      <th>2</th>\n",
       "      <td>2020-05-08</td>\n",
       "      <td>30.9343</td>\n",
       "      <td>NaN</td>\n",
       "      <td>rainy</td>\n",
       "    </tr>\n",
       "    <tr>\n",
       "      <th>3</th>\n",
       "      <td>2020-05-09</td>\n",
       "      <td>NaN</td>\n",
       "      <td>6.889682</td>\n",
       "      <td>cloudy</td>\n",
       "    </tr>\n",
       "    <tr>\n",
       "      <th>4</th>\n",
       "      <td>2020-05-10</td>\n",
       "      <td>13.9082</td>\n",
       "      <td>19.012990</td>\n",
       "      <td>rainy</td>\n",
       "    </tr>\n",
       "    <tr>\n",
       "      <th>5</th>\n",
       "      <td>2020-05-11</td>\n",
       "      <td>23.9382</td>\n",
       "      <td>NaN</td>\n",
       "      <td>sunny</td>\n",
       "    </tr>\n",
       "  </tbody>\n",
       "</table>\n",
       "</div>"
      ],
      "text/plain": [
       "        date  temperature  windSpeed  status\n",
       "0 2020-05-06      35.6582  10.788378   sunny\n",
       "1 2020-05-07          NaN        NaN     NaN\n",
       "2 2020-05-08      30.9343        NaN   rainy\n",
       "3 2020-05-09          NaN   6.889682  cloudy\n",
       "4 2020-05-10      13.9082  19.012990   rainy\n",
       "5 2020-05-11      23.9382        NaN   sunny"
      ]
     },
     "execution_count": 2,
     "metadata": {},
     "output_type": "execute_result"
    }
   ],
   "source": [
    "data=pd.read_excel('./fill_na.xlsx')\n",
    "data"
   ]
  },
  {
   "cell_type": "markdown",
   "id": "0a82392f",
   "metadata": {},
   "source": [
    "# Filling a common value to all missing data"
   ]
  },
  {
   "cell_type": "code",
   "execution_count": 3,
   "id": "2f9cc2f4",
   "metadata": {},
   "outputs": [
    {
     "data": {
      "text/html": [
       "<div>\n",
       "<style scoped>\n",
       "    .dataframe tbody tr th:only-of-type {\n",
       "        vertical-align: middle;\n",
       "    }\n",
       "\n",
       "    .dataframe tbody tr th {\n",
       "        vertical-align: top;\n",
       "    }\n",
       "\n",
       "    .dataframe thead th {\n",
       "        text-align: right;\n",
       "    }\n",
       "</style>\n",
       "<table border=\"1\" class=\"dataframe\">\n",
       "  <thead>\n",
       "    <tr style=\"text-align: right;\">\n",
       "      <th></th>\n",
       "      <th>date</th>\n",
       "      <th>temperature</th>\n",
       "      <th>windSpeed</th>\n",
       "      <th>status</th>\n",
       "    </tr>\n",
       "  </thead>\n",
       "  <tbody>\n",
       "    <tr>\n",
       "      <th>0</th>\n",
       "      <td>2020-05-06</td>\n",
       "      <td>35.6582</td>\n",
       "      <td>10.788378</td>\n",
       "      <td>sunny</td>\n",
       "    </tr>\n",
       "    <tr>\n",
       "      <th>1</th>\n",
       "      <td>2020-05-07</td>\n",
       "      <td>0.0000</td>\n",
       "      <td>0.000000</td>\n",
       "      <td>0</td>\n",
       "    </tr>\n",
       "    <tr>\n",
       "      <th>2</th>\n",
       "      <td>2020-05-08</td>\n",
       "      <td>30.9343</td>\n",
       "      <td>0.000000</td>\n",
       "      <td>rainy</td>\n",
       "    </tr>\n",
       "    <tr>\n",
       "      <th>3</th>\n",
       "      <td>2020-05-09</td>\n",
       "      <td>0.0000</td>\n",
       "      <td>6.889682</td>\n",
       "      <td>cloudy</td>\n",
       "    </tr>\n",
       "    <tr>\n",
       "      <th>4</th>\n",
       "      <td>2020-05-10</td>\n",
       "      <td>13.9082</td>\n",
       "      <td>19.012990</td>\n",
       "      <td>rainy</td>\n",
       "    </tr>\n",
       "    <tr>\n",
       "      <th>5</th>\n",
       "      <td>2020-05-11</td>\n",
       "      <td>23.9382</td>\n",
       "      <td>0.000000</td>\n",
       "      <td>sunny</td>\n",
       "    </tr>\n",
       "  </tbody>\n",
       "</table>\n",
       "</div>"
      ],
      "text/plain": [
       "        date  temperature  windSpeed  status\n",
       "0 2020-05-06      35.6582  10.788378   sunny\n",
       "1 2020-05-07       0.0000   0.000000       0\n",
       "2 2020-05-08      30.9343   0.000000   rainy\n",
       "3 2020-05-09       0.0000   6.889682  cloudy\n",
       "4 2020-05-10      13.9082  19.012990   rainy\n",
       "5 2020-05-11      23.9382   0.000000   sunny"
      ]
     },
     "execution_count": 3,
     "metadata": {},
     "output_type": "execute_result"
    }
   ],
   "source": [
    "data.fillna(0)"
   ]
  },
  {
   "cell_type": "markdown",
   "id": "9321b5ad",
   "metadata": {},
   "source": [
    "# Adding missing data to individual columns"
   ]
  },
  {
   "cell_type": "code",
   "execution_count": 4,
   "id": "da06e860",
   "metadata": {},
   "outputs": [
    {
     "data": {
      "text/html": [
       "<div>\n",
       "<style scoped>\n",
       "    .dataframe tbody tr th:only-of-type {\n",
       "        vertical-align: middle;\n",
       "    }\n",
       "\n",
       "    .dataframe tbody tr th {\n",
       "        vertical-align: top;\n",
       "    }\n",
       "\n",
       "    .dataframe thead th {\n",
       "        text-align: right;\n",
       "    }\n",
       "</style>\n",
       "<table border=\"1\" class=\"dataframe\">\n",
       "  <thead>\n",
       "    <tr style=\"text-align: right;\">\n",
       "      <th></th>\n",
       "      <th>date</th>\n",
       "      <th>temperature</th>\n",
       "      <th>windSpeed</th>\n",
       "      <th>status</th>\n",
       "    </tr>\n",
       "  </thead>\n",
       "  <tbody>\n",
       "    <tr>\n",
       "      <th>0</th>\n",
       "      <td>2020-05-06</td>\n",
       "      <td>35.6582</td>\n",
       "      <td>10.788378</td>\n",
       "      <td>sunny</td>\n",
       "    </tr>\n",
       "    <tr>\n",
       "      <th>1</th>\n",
       "      <td>2020-05-07</td>\n",
       "      <td>0.0000</td>\n",
       "      <td>20.000000</td>\n",
       "      <td>Sunny</td>\n",
       "    </tr>\n",
       "    <tr>\n",
       "      <th>2</th>\n",
       "      <td>2020-05-08</td>\n",
       "      <td>30.9343</td>\n",
       "      <td>20.000000</td>\n",
       "      <td>rainy</td>\n",
       "    </tr>\n",
       "    <tr>\n",
       "      <th>3</th>\n",
       "      <td>2020-05-09</td>\n",
       "      <td>0.0000</td>\n",
       "      <td>6.889682</td>\n",
       "      <td>cloudy</td>\n",
       "    </tr>\n",
       "    <tr>\n",
       "      <th>4</th>\n",
       "      <td>2020-05-10</td>\n",
       "      <td>13.9082</td>\n",
       "      <td>19.012990</td>\n",
       "      <td>rainy</td>\n",
       "    </tr>\n",
       "    <tr>\n",
       "      <th>5</th>\n",
       "      <td>2020-05-11</td>\n",
       "      <td>23.9382</td>\n",
       "      <td>20.000000</td>\n",
       "      <td>sunny</td>\n",
       "    </tr>\n",
       "  </tbody>\n",
       "</table>\n",
       "</div>"
      ],
      "text/plain": [
       "        date  temperature  windSpeed  status\n",
       "0 2020-05-06      35.6582  10.788378   sunny\n",
       "1 2020-05-07       0.0000  20.000000   Sunny\n",
       "2 2020-05-08      30.9343  20.000000   rainy\n",
       "3 2020-05-09       0.0000   6.889682  cloudy\n",
       "4 2020-05-10      13.9082  19.012990   rainy\n",
       "5 2020-05-11      23.9382  20.000000   sunny"
      ]
     },
     "execution_count": 4,
     "metadata": {},
     "output_type": "execute_result"
    }
   ],
   "source": [
    "data.fillna( {\n",
    "                'temperature':0,\n",
    "                 'windSpeed':20,\n",
    "                  'status':'Sunny'\n",
    "})"
   ]
  },
  {
   "cell_type": "markdown",
   "id": "ff95ba8e",
   "metadata": {},
   "source": [
    "# We can access individual columns by an alternate way also."
   ]
  },
  {
   "cell_type": "code",
   "execution_count": 5,
   "id": "0d11f0d0",
   "metadata": {},
   "outputs": [
    {
     "data": {
      "text/plain": [
       "0     sunny\n",
       "1     Windy\n",
       "2     rainy\n",
       "3    cloudy\n",
       "4     rainy\n",
       "5     sunny\n",
       "Name: status, dtype: object"
      ]
     },
     "execution_count": 5,
     "metadata": {},
     "output_type": "execute_result"
    }
   ],
   "source": [
    "data.status.fillna('Windy')"
   ]
  },
  {
   "cell_type": "code",
   "execution_count": 6,
   "id": "aff5874f",
   "metadata": {},
   "outputs": [
    {
     "data": {
      "text/plain": [
       "0    35.6582\n",
       "1    50.0000\n",
       "2    30.9343\n",
       "3    50.0000\n",
       "4    13.9082\n",
       "5    23.9382\n",
       "Name: temperature, dtype: float64"
      ]
     },
     "execution_count": 6,
     "metadata": {},
     "output_type": "execute_result"
    }
   ],
   "source": [
    "data.temperature.fillna(50)"
   ]
  },
  {
   "cell_type": "markdown",
   "id": "83f5d617",
   "metadata": {},
   "source": [
    "# Forward fill (row)"
   ]
  },
  {
   "cell_type": "markdown",
   "id": "b6f34093",
   "metadata": {},
   "source": [
    " Forward fill is a method to forward the data from the row above the missing value. Thus all the missing value will get filled with the value above. If there are multiple missing values consecutively, they will also get filled with the same value of the above available data."
   ]
  },
  {
   "cell_type": "code",
   "execution_count": 7,
   "id": "6c81ed32",
   "metadata": {},
   "outputs": [
    {
     "data": {
      "text/html": [
       "<div>\n",
       "<style scoped>\n",
       "    .dataframe tbody tr th:only-of-type {\n",
       "        vertical-align: middle;\n",
       "    }\n",
       "\n",
       "    .dataframe tbody tr th {\n",
       "        vertical-align: top;\n",
       "    }\n",
       "\n",
       "    .dataframe thead th {\n",
       "        text-align: right;\n",
       "    }\n",
       "</style>\n",
       "<table border=\"1\" class=\"dataframe\">\n",
       "  <thead>\n",
       "    <tr style=\"text-align: right;\">\n",
       "      <th></th>\n",
       "      <th>date</th>\n",
       "      <th>temperature</th>\n",
       "      <th>windSpeed</th>\n",
       "      <th>status</th>\n",
       "    </tr>\n",
       "  </thead>\n",
       "  <tbody>\n",
       "    <tr>\n",
       "      <th>0</th>\n",
       "      <td>2020-05-06</td>\n",
       "      <td>35.6582</td>\n",
       "      <td>10.788378</td>\n",
       "      <td>sunny</td>\n",
       "    </tr>\n",
       "    <tr>\n",
       "      <th>1</th>\n",
       "      <td>2020-05-07</td>\n",
       "      <td>35.6582</td>\n",
       "      <td>10.788378</td>\n",
       "      <td>sunny</td>\n",
       "    </tr>\n",
       "    <tr>\n",
       "      <th>2</th>\n",
       "      <td>2020-05-08</td>\n",
       "      <td>30.9343</td>\n",
       "      <td>10.788378</td>\n",
       "      <td>rainy</td>\n",
       "    </tr>\n",
       "    <tr>\n",
       "      <th>3</th>\n",
       "      <td>2020-05-09</td>\n",
       "      <td>30.9343</td>\n",
       "      <td>6.889682</td>\n",
       "      <td>cloudy</td>\n",
       "    </tr>\n",
       "    <tr>\n",
       "      <th>4</th>\n",
       "      <td>2020-05-10</td>\n",
       "      <td>13.9082</td>\n",
       "      <td>19.012990</td>\n",
       "      <td>rainy</td>\n",
       "    </tr>\n",
       "    <tr>\n",
       "      <th>5</th>\n",
       "      <td>2020-05-11</td>\n",
       "      <td>23.9382</td>\n",
       "      <td>19.012990</td>\n",
       "      <td>sunny</td>\n",
       "    </tr>\n",
       "  </tbody>\n",
       "</table>\n",
       "</div>"
      ],
      "text/plain": [
       "        date  temperature  windSpeed  status\n",
       "0 2020-05-06      35.6582  10.788378   sunny\n",
       "1 2020-05-07      35.6582  10.788378   sunny\n",
       "2 2020-05-08      30.9343  10.788378   rainy\n",
       "3 2020-05-09      30.9343   6.889682  cloudy\n",
       "4 2020-05-10      13.9082  19.012990   rainy\n",
       "5 2020-05-11      23.9382  19.012990   sunny"
      ]
     },
     "execution_count": 7,
     "metadata": {},
     "output_type": "execute_result"
    }
   ],
   "source": [
    "data.fillna(method='ffill')"
   ]
  },
  {
   "cell_type": "markdown",
   "id": "59318882",
   "metadata": {},
   "source": [
    "# Backward fill (row)"
   ]
  },
  {
   "cell_type": "code",
   "execution_count": 8,
   "id": "bfbf9dbc",
   "metadata": {},
   "outputs": [
    {
     "data": {
      "text/html": [
       "<div>\n",
       "<style scoped>\n",
       "    .dataframe tbody tr th:only-of-type {\n",
       "        vertical-align: middle;\n",
       "    }\n",
       "\n",
       "    .dataframe tbody tr th {\n",
       "        vertical-align: top;\n",
       "    }\n",
       "\n",
       "    .dataframe thead th {\n",
       "        text-align: right;\n",
       "    }\n",
       "</style>\n",
       "<table border=\"1\" class=\"dataframe\">\n",
       "  <thead>\n",
       "    <tr style=\"text-align: right;\">\n",
       "      <th></th>\n",
       "      <th>date</th>\n",
       "      <th>temperature</th>\n",
       "      <th>windSpeed</th>\n",
       "      <th>status</th>\n",
       "    </tr>\n",
       "  </thead>\n",
       "  <tbody>\n",
       "    <tr>\n",
       "      <th>0</th>\n",
       "      <td>2020-05-06</td>\n",
       "      <td>35.6582</td>\n",
       "      <td>10.788378</td>\n",
       "      <td>sunny</td>\n",
       "    </tr>\n",
       "    <tr>\n",
       "      <th>1</th>\n",
       "      <td>2020-05-07</td>\n",
       "      <td>30.9343</td>\n",
       "      <td>6.889682</td>\n",
       "      <td>rainy</td>\n",
       "    </tr>\n",
       "    <tr>\n",
       "      <th>2</th>\n",
       "      <td>2020-05-08</td>\n",
       "      <td>30.9343</td>\n",
       "      <td>6.889682</td>\n",
       "      <td>rainy</td>\n",
       "    </tr>\n",
       "    <tr>\n",
       "      <th>3</th>\n",
       "      <td>2020-05-09</td>\n",
       "      <td>13.9082</td>\n",
       "      <td>6.889682</td>\n",
       "      <td>cloudy</td>\n",
       "    </tr>\n",
       "    <tr>\n",
       "      <th>4</th>\n",
       "      <td>2020-05-10</td>\n",
       "      <td>13.9082</td>\n",
       "      <td>19.012990</td>\n",
       "      <td>rainy</td>\n",
       "    </tr>\n",
       "    <tr>\n",
       "      <th>5</th>\n",
       "      <td>2020-05-11</td>\n",
       "      <td>23.9382</td>\n",
       "      <td>NaN</td>\n",
       "      <td>sunny</td>\n",
       "    </tr>\n",
       "  </tbody>\n",
       "</table>\n",
       "</div>"
      ],
      "text/plain": [
       "        date  temperature  windSpeed  status\n",
       "0 2020-05-06      35.6582  10.788378   sunny\n",
       "1 2020-05-07      30.9343   6.889682   rainy\n",
       "2 2020-05-08      30.9343   6.889682   rainy\n",
       "3 2020-05-09      13.9082   6.889682  cloudy\n",
       "4 2020-05-10      13.9082  19.012990   rainy\n",
       "5 2020-05-11      23.9382        NaN   sunny"
      ]
     },
     "execution_count": 8,
     "metadata": {},
     "output_type": "execute_result"
    }
   ],
   "source": [
    "data.fillna(method='bfill')"
   ]
  },
  {
   "cell_type": "markdown",
   "id": "ed686d79",
   "metadata": {},
   "source": [
    "# Forward fill (column)"
   ]
  },
  {
   "cell_type": "code",
   "execution_count": 9,
   "id": "f0a98d79",
   "metadata": {},
   "outputs": [
    {
     "data": {
      "text/html": [
       "<div>\n",
       "<style scoped>\n",
       "    .dataframe tbody tr th:only-of-type {\n",
       "        vertical-align: middle;\n",
       "    }\n",
       "\n",
       "    .dataframe tbody tr th {\n",
       "        vertical-align: top;\n",
       "    }\n",
       "\n",
       "    .dataframe thead th {\n",
       "        text-align: right;\n",
       "    }\n",
       "</style>\n",
       "<table border=\"1\" class=\"dataframe\">\n",
       "  <thead>\n",
       "    <tr style=\"text-align: right;\">\n",
       "      <th></th>\n",
       "      <th>date</th>\n",
       "      <th>temperature</th>\n",
       "      <th>windSpeed</th>\n",
       "      <th>status</th>\n",
       "    </tr>\n",
       "  </thead>\n",
       "  <tbody>\n",
       "    <tr>\n",
       "      <th>0</th>\n",
       "      <td>2020-05-06</td>\n",
       "      <td>35.6582</td>\n",
       "      <td>10.788378</td>\n",
       "      <td>sunny</td>\n",
       "    </tr>\n",
       "    <tr>\n",
       "      <th>1</th>\n",
       "      <td>2020-05-07</td>\n",
       "      <td>2020-05-07 00:00:00</td>\n",
       "      <td>2020-05-07 00:00:00</td>\n",
       "      <td>2020-05-07 00:00:00</td>\n",
       "    </tr>\n",
       "    <tr>\n",
       "      <th>2</th>\n",
       "      <td>2020-05-08</td>\n",
       "      <td>30.9343</td>\n",
       "      <td>30.9343</td>\n",
       "      <td>rainy</td>\n",
       "    </tr>\n",
       "    <tr>\n",
       "      <th>3</th>\n",
       "      <td>2020-05-09</td>\n",
       "      <td>2020-05-09 00:00:00</td>\n",
       "      <td>6.889682</td>\n",
       "      <td>cloudy</td>\n",
       "    </tr>\n",
       "    <tr>\n",
       "      <th>4</th>\n",
       "      <td>2020-05-10</td>\n",
       "      <td>13.9082</td>\n",
       "      <td>19.01299</td>\n",
       "      <td>rainy</td>\n",
       "    </tr>\n",
       "    <tr>\n",
       "      <th>5</th>\n",
       "      <td>2020-05-11</td>\n",
       "      <td>23.9382</td>\n",
       "      <td>23.9382</td>\n",
       "      <td>sunny</td>\n",
       "    </tr>\n",
       "  </tbody>\n",
       "</table>\n",
       "</div>"
      ],
      "text/plain": [
       "        date          temperature            windSpeed               status\n",
       "0 2020-05-06              35.6582            10.788378                sunny\n",
       "1 2020-05-07  2020-05-07 00:00:00  2020-05-07 00:00:00  2020-05-07 00:00:00\n",
       "2 2020-05-08              30.9343              30.9343                rainy\n",
       "3 2020-05-09  2020-05-09 00:00:00             6.889682               cloudy\n",
       "4 2020-05-10              13.9082             19.01299                rainy\n",
       "5 2020-05-11              23.9382              23.9382                sunny"
      ]
     },
     "execution_count": 9,
     "metadata": {},
     "output_type": "execute_result"
    }
   ],
   "source": [
    "data.fillna(method='ffill', axis='columns')"
   ]
  },
  {
   "cell_type": "markdown",
   "id": "88a5df36",
   "metadata": {},
   "source": [
    "# Backward fill(column)"
   ]
  },
  {
   "cell_type": "code",
   "execution_count": 10,
   "id": "206ba561",
   "metadata": {},
   "outputs": [
    {
     "data": {
      "text/html": [
       "<div>\n",
       "<style scoped>\n",
       "    .dataframe tbody tr th:only-of-type {\n",
       "        vertical-align: middle;\n",
       "    }\n",
       "\n",
       "    .dataframe tbody tr th {\n",
       "        vertical-align: top;\n",
       "    }\n",
       "\n",
       "    .dataframe thead th {\n",
       "        text-align: right;\n",
       "    }\n",
       "</style>\n",
       "<table border=\"1\" class=\"dataframe\">\n",
       "  <thead>\n",
       "    <tr style=\"text-align: right;\">\n",
       "      <th></th>\n",
       "      <th>date</th>\n",
       "      <th>temperature</th>\n",
       "      <th>windSpeed</th>\n",
       "      <th>status</th>\n",
       "    </tr>\n",
       "  </thead>\n",
       "  <tbody>\n",
       "    <tr>\n",
       "      <th>0</th>\n",
       "      <td>2020-05-06</td>\n",
       "      <td>35.6582</td>\n",
       "      <td>10.788378</td>\n",
       "      <td>sunny</td>\n",
       "    </tr>\n",
       "    <tr>\n",
       "      <th>1</th>\n",
       "      <td>2020-05-07</td>\n",
       "      <td>NaT</td>\n",
       "      <td>NaT</td>\n",
       "      <td>NaT</td>\n",
       "    </tr>\n",
       "    <tr>\n",
       "      <th>2</th>\n",
       "      <td>2020-05-08</td>\n",
       "      <td>30.9343</td>\n",
       "      <td>rainy</td>\n",
       "      <td>rainy</td>\n",
       "    </tr>\n",
       "    <tr>\n",
       "      <th>3</th>\n",
       "      <td>2020-05-09</td>\n",
       "      <td>6.889682</td>\n",
       "      <td>6.889682</td>\n",
       "      <td>cloudy</td>\n",
       "    </tr>\n",
       "    <tr>\n",
       "      <th>4</th>\n",
       "      <td>2020-05-10</td>\n",
       "      <td>13.9082</td>\n",
       "      <td>19.01299</td>\n",
       "      <td>rainy</td>\n",
       "    </tr>\n",
       "    <tr>\n",
       "      <th>5</th>\n",
       "      <td>2020-05-11</td>\n",
       "      <td>23.9382</td>\n",
       "      <td>sunny</td>\n",
       "      <td>sunny</td>\n",
       "    </tr>\n",
       "  </tbody>\n",
       "</table>\n",
       "</div>"
      ],
      "text/plain": [
       "        date temperature  windSpeed  status\n",
       "0 2020-05-06     35.6582  10.788378   sunny\n",
       "1 2020-05-07         NaT        NaT     NaT\n",
       "2 2020-05-08     30.9343      rainy   rainy\n",
       "3 2020-05-09    6.889682   6.889682  cloudy\n",
       "4 2020-05-10     13.9082   19.01299   rainy\n",
       "5 2020-05-11     23.9382      sunny   sunny"
      ]
     },
     "execution_count": 10,
     "metadata": {},
     "output_type": "execute_result"
    }
   ],
   "source": [
    "data.fillna(method='bfill', axis='columns')"
   ]
  },
  {
   "cell_type": "markdown",
   "id": "d63f9746",
   "metadata": {},
   "source": [
    "# Limiting the forward/backward fill"
   ]
  },
  {
   "cell_type": "markdown",
   "id": "2ba925e3",
   "metadata": {},
   "source": [
    "We can limit the number of rows or columns getting filled"
   ]
  },
  {
   "cell_type": "code",
   "execution_count": 11,
   "id": "951e7e8c",
   "metadata": {},
   "outputs": [
    {
     "data": {
      "text/html": [
       "<div>\n",
       "<style scoped>\n",
       "    .dataframe tbody tr th:only-of-type {\n",
       "        vertical-align: middle;\n",
       "    }\n",
       "\n",
       "    .dataframe tbody tr th {\n",
       "        vertical-align: top;\n",
       "    }\n",
       "\n",
       "    .dataframe thead th {\n",
       "        text-align: right;\n",
       "    }\n",
       "</style>\n",
       "<table border=\"1\" class=\"dataframe\">\n",
       "  <thead>\n",
       "    <tr style=\"text-align: right;\">\n",
       "      <th></th>\n",
       "      <th>date</th>\n",
       "      <th>temperature</th>\n",
       "      <th>windSpeed</th>\n",
       "      <th>status</th>\n",
       "    </tr>\n",
       "  </thead>\n",
       "  <tbody>\n",
       "    <tr>\n",
       "      <th>0</th>\n",
       "      <td>2020-05-06</td>\n",
       "      <td>35.6582</td>\n",
       "      <td>10.788378</td>\n",
       "      <td>sunny</td>\n",
       "    </tr>\n",
       "    <tr>\n",
       "      <th>1</th>\n",
       "      <td>2020-05-07</td>\n",
       "      <td>35.6582</td>\n",
       "      <td>10.788378</td>\n",
       "      <td>sunny</td>\n",
       "    </tr>\n",
       "    <tr>\n",
       "      <th>2</th>\n",
       "      <td>2020-05-08</td>\n",
       "      <td>30.9343</td>\n",
       "      <td>NaN</td>\n",
       "      <td>rainy</td>\n",
       "    </tr>\n",
       "    <tr>\n",
       "      <th>3</th>\n",
       "      <td>2020-05-09</td>\n",
       "      <td>30.9343</td>\n",
       "      <td>6.889682</td>\n",
       "      <td>cloudy</td>\n",
       "    </tr>\n",
       "    <tr>\n",
       "      <th>4</th>\n",
       "      <td>2020-05-10</td>\n",
       "      <td>13.9082</td>\n",
       "      <td>19.012990</td>\n",
       "      <td>rainy</td>\n",
       "    </tr>\n",
       "    <tr>\n",
       "      <th>5</th>\n",
       "      <td>2020-05-11</td>\n",
       "      <td>23.9382</td>\n",
       "      <td>19.012990</td>\n",
       "      <td>sunny</td>\n",
       "    </tr>\n",
       "  </tbody>\n",
       "</table>\n",
       "</div>"
      ],
      "text/plain": [
       "        date  temperature  windSpeed  status\n",
       "0 2020-05-06      35.6582  10.788378   sunny\n",
       "1 2020-05-07      35.6582  10.788378   sunny\n",
       "2 2020-05-08      30.9343        NaN   rainy\n",
       "3 2020-05-09      30.9343   6.889682  cloudy\n",
       "4 2020-05-10      13.9082  19.012990   rainy\n",
       "5 2020-05-11      23.9382  19.012990   sunny"
      ]
     },
     "execution_count": 11,
     "metadata": {},
     "output_type": "execute_result"
    }
   ],
   "source": [
    "data.fillna(method='ffill', limit=1)"
   ]
  },
  {
   "cell_type": "code",
   "execution_count": 12,
   "id": "6f7bdfab",
   "metadata": {},
   "outputs": [
    {
     "data": {
      "text/html": [
       "<div>\n",
       "<style scoped>\n",
       "    .dataframe tbody tr th:only-of-type {\n",
       "        vertical-align: middle;\n",
       "    }\n",
       "\n",
       "    .dataframe tbody tr th {\n",
       "        vertical-align: top;\n",
       "    }\n",
       "\n",
       "    .dataframe thead th {\n",
       "        text-align: right;\n",
       "    }\n",
       "</style>\n",
       "<table border=\"1\" class=\"dataframe\">\n",
       "  <thead>\n",
       "    <tr style=\"text-align: right;\">\n",
       "      <th></th>\n",
       "      <th>date</th>\n",
       "      <th>temperature</th>\n",
       "      <th>windSpeed</th>\n",
       "      <th>status</th>\n",
       "    </tr>\n",
       "  </thead>\n",
       "  <tbody>\n",
       "    <tr>\n",
       "      <th>0</th>\n",
       "      <td>2020-05-06</td>\n",
       "      <td>35.6582</td>\n",
       "      <td>10.788378</td>\n",
       "      <td>sunny</td>\n",
       "    </tr>\n",
       "    <tr>\n",
       "      <th>1</th>\n",
       "      <td>2020-05-07</td>\n",
       "      <td>30.9343</td>\n",
       "      <td>NaN</td>\n",
       "      <td>rainy</td>\n",
       "    </tr>\n",
       "    <tr>\n",
       "      <th>2</th>\n",
       "      <td>2020-05-08</td>\n",
       "      <td>30.9343</td>\n",
       "      <td>6.889682</td>\n",
       "      <td>rainy</td>\n",
       "    </tr>\n",
       "    <tr>\n",
       "      <th>3</th>\n",
       "      <td>2020-05-09</td>\n",
       "      <td>13.9082</td>\n",
       "      <td>6.889682</td>\n",
       "      <td>cloudy</td>\n",
       "    </tr>\n",
       "    <tr>\n",
       "      <th>4</th>\n",
       "      <td>2020-05-10</td>\n",
       "      <td>13.9082</td>\n",
       "      <td>19.012990</td>\n",
       "      <td>rainy</td>\n",
       "    </tr>\n",
       "    <tr>\n",
       "      <th>5</th>\n",
       "      <td>2020-05-11</td>\n",
       "      <td>23.9382</td>\n",
       "      <td>NaN</td>\n",
       "      <td>sunny</td>\n",
       "    </tr>\n",
       "  </tbody>\n",
       "</table>\n",
       "</div>"
      ],
      "text/plain": [
       "        date  temperature  windSpeed  status\n",
       "0 2020-05-06      35.6582  10.788378   sunny\n",
       "1 2020-05-07      30.9343        NaN   rainy\n",
       "2 2020-05-08      30.9343   6.889682   rainy\n",
       "3 2020-05-09      13.9082   6.889682  cloudy\n",
       "4 2020-05-10      13.9082  19.012990   rainy\n",
       "5 2020-05-11      23.9382        NaN   sunny"
      ]
     },
     "execution_count": 12,
     "metadata": {},
     "output_type": "execute_result"
    }
   ],
   "source": [
    "data.fillna(method='bfill', limit=1)"
   ]
  },
  {
   "cell_type": "markdown",
   "id": "8afa23c1",
   "metadata": {},
   "source": [
    "# Filling with Pandas objects"
   ]
  },
  {
   "cell_type": "markdown",
   "id": "4696a397",
   "metadata": {},
   "source": [
    "There are many pandas object like data.sum(), data.max(),etc. we can fill the missing values with these too."
   ]
  },
  {
   "cell_type": "code",
   "execution_count": 13,
   "id": "42cb98e3",
   "metadata": {},
   "outputs": [
    {
     "data": {
      "text/html": [
       "<div>\n",
       "<style scoped>\n",
       "    .dataframe tbody tr th:only-of-type {\n",
       "        vertical-align: middle;\n",
       "    }\n",
       "\n",
       "    .dataframe tbody tr th {\n",
       "        vertical-align: top;\n",
       "    }\n",
       "\n",
       "    .dataframe thead th {\n",
       "        text-align: right;\n",
       "    }\n",
       "</style>\n",
       "<table border=\"1\" class=\"dataframe\">\n",
       "  <thead>\n",
       "    <tr style=\"text-align: right;\">\n",
       "      <th></th>\n",
       "      <th>date</th>\n",
       "      <th>temperature</th>\n",
       "      <th>windSpeed</th>\n",
       "      <th>status</th>\n",
       "    </tr>\n",
       "  </thead>\n",
       "  <tbody>\n",
       "    <tr>\n",
       "      <th>0</th>\n",
       "      <td>2020-05-06</td>\n",
       "      <td>35.658200</td>\n",
       "      <td>10.788378</td>\n",
       "      <td>sunny</td>\n",
       "    </tr>\n",
       "    <tr>\n",
       "      <th>1</th>\n",
       "      <td>2020-05-07</td>\n",
       "      <td>26.109725</td>\n",
       "      <td>12.230350</td>\n",
       "      <td>NaN</td>\n",
       "    </tr>\n",
       "    <tr>\n",
       "      <th>2</th>\n",
       "      <td>2020-05-08</td>\n",
       "      <td>30.934300</td>\n",
       "      <td>12.230350</td>\n",
       "      <td>rainy</td>\n",
       "    </tr>\n",
       "    <tr>\n",
       "      <th>3</th>\n",
       "      <td>2020-05-09</td>\n",
       "      <td>26.109725</td>\n",
       "      <td>6.889682</td>\n",
       "      <td>cloudy</td>\n",
       "    </tr>\n",
       "    <tr>\n",
       "      <th>4</th>\n",
       "      <td>2020-05-10</td>\n",
       "      <td>13.908200</td>\n",
       "      <td>19.012990</td>\n",
       "      <td>rainy</td>\n",
       "    </tr>\n",
       "    <tr>\n",
       "      <th>5</th>\n",
       "      <td>2020-05-11</td>\n",
       "      <td>23.938200</td>\n",
       "      <td>12.230350</td>\n",
       "      <td>sunny</td>\n",
       "    </tr>\n",
       "  </tbody>\n",
       "</table>\n",
       "</div>"
      ],
      "text/plain": [
       "        date  temperature  windSpeed  status\n",
       "0 2020-05-06    35.658200  10.788378   sunny\n",
       "1 2020-05-07    26.109725  12.230350     NaN\n",
       "2 2020-05-08    30.934300  12.230350   rainy\n",
       "3 2020-05-09    26.109725   6.889682  cloudy\n",
       "4 2020-05-10    13.908200  19.012990   rainy\n",
       "5 2020-05-11    23.938200  12.230350   sunny"
      ]
     },
     "execution_count": 13,
     "metadata": {},
     "output_type": "execute_result"
    }
   ],
   "source": [
    "data.fillna(data.mean())"
   ]
  },
  {
   "cell_type": "markdown",
   "id": "bdcd811c",
   "metadata": {},
   "source": [
    "# Filling for specific range of columns"
   ]
  },
  {
   "cell_type": "markdown",
   "id": "4d39891b",
   "metadata": {},
   "source": [
    "We can do filling for a specific range of column too as."
   ]
  },
  {
   "cell_type": "code",
   "execution_count": 14,
   "id": "28f81ffa",
   "metadata": {
    "scrolled": true
   },
   "outputs": [
    {
     "data": {
      "text/html": [
       "<div>\n",
       "<style scoped>\n",
       "    .dataframe tbody tr th:only-of-type {\n",
       "        vertical-align: middle;\n",
       "    }\n",
       "\n",
       "    .dataframe tbody tr th {\n",
       "        vertical-align: top;\n",
       "    }\n",
       "\n",
       "    .dataframe thead th {\n",
       "        text-align: right;\n",
       "    }\n",
       "</style>\n",
       "<table border=\"1\" class=\"dataframe\">\n",
       "  <thead>\n",
       "    <tr style=\"text-align: right;\">\n",
       "      <th></th>\n",
       "      <th>date</th>\n",
       "      <th>temperature</th>\n",
       "      <th>windSpeed</th>\n",
       "      <th>status</th>\n",
       "    </tr>\n",
       "  </thead>\n",
       "  <tbody>\n",
       "    <tr>\n",
       "      <th>0</th>\n",
       "      <td>2020-05-06</td>\n",
       "      <td>35.658200</td>\n",
       "      <td>10.788378</td>\n",
       "      <td>sunny</td>\n",
       "    </tr>\n",
       "    <tr>\n",
       "      <th>1</th>\n",
       "      <td>2020-05-07</td>\n",
       "      <td>26.109725</td>\n",
       "      <td>12.230350</td>\n",
       "      <td>NaN</td>\n",
       "    </tr>\n",
       "    <tr>\n",
       "      <th>2</th>\n",
       "      <td>2020-05-08</td>\n",
       "      <td>30.934300</td>\n",
       "      <td>12.230350</td>\n",
       "      <td>rainy</td>\n",
       "    </tr>\n",
       "    <tr>\n",
       "      <th>3</th>\n",
       "      <td>2020-05-09</td>\n",
       "      <td>26.109725</td>\n",
       "      <td>6.889682</td>\n",
       "      <td>cloudy</td>\n",
       "    </tr>\n",
       "    <tr>\n",
       "      <th>4</th>\n",
       "      <td>2020-05-10</td>\n",
       "      <td>13.908200</td>\n",
       "      <td>19.012990</td>\n",
       "      <td>rainy</td>\n",
       "    </tr>\n",
       "    <tr>\n",
       "      <th>5</th>\n",
       "      <td>2020-05-11</td>\n",
       "      <td>23.938200</td>\n",
       "      <td>12.230350</td>\n",
       "      <td>sunny</td>\n",
       "    </tr>\n",
       "  </tbody>\n",
       "</table>\n",
       "</div>"
      ],
      "text/plain": [
       "        date  temperature  windSpeed  status\n",
       "0 2020-05-06    35.658200  10.788378   sunny\n",
       "1 2020-05-07    26.109725  12.230350     NaN\n",
       "2 2020-05-08    30.934300  12.230350   rainy\n",
       "3 2020-05-09    26.109725   6.889682  cloudy\n",
       "4 2020-05-10    13.908200  19.012990   rainy\n",
       "5 2020-05-11    23.938200  12.230350   sunny"
      ]
     },
     "execution_count": 14,
     "metadata": {},
     "output_type": "execute_result"
    }
   ],
   "source": [
    "data.fillna(data.mean()['temperature':'windSpeed'])"
   ]
  },
  {
   "cell_type": "code",
   "execution_count": 15,
   "id": "ab4c4a01",
   "metadata": {},
   "outputs": [
    {
     "data": {
      "text/plain": [
       "0     sunny\n",
       "1     sunny\n",
       "2     rainy\n",
       "3    cloudy\n",
       "4     rainy\n",
       "5     sunny\n",
       "Name: status, dtype: object"
      ]
     },
     "execution_count": 15,
     "metadata": {},
     "output_type": "execute_result"
    }
   ],
   "source": [
    "data.status.fillna(data.status.mode())"
   ]
  },
  {
   "cell_type": "markdown",
   "id": "0de4ccba",
   "metadata": {},
   "source": [
    "# Interpolate missing value"
   ]
  },
  {
   "cell_type": "markdown",
   "id": "b0ca09b4",
   "metadata": {},
   "source": [
    "In short, interpolation is a process of determining the unknown values that lie in between the known data points. We can interpolate missing values based on different methods. This is done\n",
    "by an object in DataFrame as interpolate() . By default, interpolate() does linear interpolation."
   ]
  },
  {
   "cell_type": "markdown",
   "id": "d15b9396",
   "metadata": {},
   "source": [
    "# Linear interpolate"
   ]
  },
  {
   "cell_type": "markdown",
   "id": "46862fba",
   "metadata": {},
   "source": [
    "Linear interpolation involves estimating new value by connecting two adjacent known values with a straight line."
   ]
  },
  {
   "cell_type": "code",
   "execution_count": 16,
   "id": "0d6dd9d1",
   "metadata": {},
   "outputs": [
    {
     "data": {
      "text/plain": [
       "0    35.65820\n",
       "1    33.29625\n",
       "2    30.93430\n",
       "3    22.42125\n",
       "4    13.90820\n",
       "5    23.93820\n",
       "Name: temperature, dtype: float64"
      ]
     },
     "execution_count": 16,
     "metadata": {},
     "output_type": "execute_result"
    }
   ],
   "source": [
    "data.temperature.interpolate()"
   ]
  },
  {
   "cell_type": "code",
   "execution_count": 17,
   "id": "ff8982b5",
   "metadata": {},
   "outputs": [
    {
     "data": {
      "text/plain": [
       "0    10.788378\n",
       "1     9.488813\n",
       "2     8.189247\n",
       "3     6.889682\n",
       "4    19.012990\n",
       "5    19.012990\n",
       "Name: windSpeed, dtype: float64"
      ]
     },
     "execution_count": 17,
     "metadata": {},
     "output_type": "execute_result"
    }
   ],
   "source": [
    "data.windSpeed.interpolate()"
   ]
  },
  {
   "cell_type": "markdown",
   "id": "ec2a28a4",
   "metadata": {},
   "source": [
    "# Time interpolate"
   ]
  },
  {
   "cell_type": "markdown",
   "id": "849c14dd",
   "metadata": {},
   "source": [
    "time-weighted interpolation only works on Series or DataFrames with a <b> DatetimeIndex"
   ]
  },
  {
   "cell_type": "markdown",
   "id": "f71ddedb",
   "metadata": {},
   "source": [
    "##### data.interpolate(method='time')"
   ]
  },
  {
   "cell_type": "markdown",
   "id": "eee55c95",
   "metadata": {},
   "source": [
    "# Other methods"
   ]
  },
  {
   "cell_type": "code",
   "execution_count": 18,
   "id": "714a7ef8",
   "metadata": {},
   "outputs": [
    {
     "data": {
      "text/plain": [
       "0    35.65820\n",
       "1    39.46530\n",
       "2    30.93430\n",
       "3    19.32775\n",
       "4    13.90820\n",
       "5    23.93820\n",
       "Name: temperature, dtype: float64"
      ]
     },
     "execution_count": 18,
     "metadata": {},
     "output_type": "execute_result"
    }
   ],
   "source": [
    "data.temperature.interpolate(method='barycentric')"
   ]
  },
  {
   "cell_type": "code",
   "execution_count": 19,
   "id": "6350471c",
   "metadata": {},
   "outputs": [
    {
     "data": {
      "text/plain": [
       "0    10.788378\n",
       "1     2.777376\n",
       "2     1.477811\n",
       "3     6.889682\n",
       "4    19.012990\n",
       "5    37.847735\n",
       "Name: windSpeed, dtype: float64"
      ]
     },
     "execution_count": 19,
     "metadata": {},
     "output_type": "execute_result"
    }
   ],
   "source": [
    "data.windSpeed.interpolate(method='barycentric')"
   ]
  },
  {
   "cell_type": "code",
   "execution_count": 20,
   "id": "da5b1280",
   "metadata": {},
   "outputs": [
    {
     "data": {
      "text/plain": [
       "0    35.658200\n",
       "1    34.220728\n",
       "2    30.934300\n",
       "3    21.496772\n",
       "4    13.908200\n",
       "5    23.938200\n",
       "Name: temperature, dtype: float64"
      ]
     },
     "execution_count": 20,
     "metadata": {},
     "output_type": "execute_result"
    }
   ],
   "source": [
    "data.temperature.interpolate(method='pchip')"
   ]
  },
  {
   "cell_type": "code",
   "execution_count": 21,
   "id": "a611666d",
   "metadata": {},
   "outputs": [
    {
     "data": {
      "text/plain": [
       "0    10.788378\n",
       "1     8.044851\n",
       "2     7.034078\n",
       "3     6.889682\n",
       "4    19.012990\n",
       "5    20.312555\n",
       "Name: windSpeed, dtype: float64"
      ]
     },
     "execution_count": 21,
     "metadata": {},
     "output_type": "execute_result"
    }
   ],
   "source": [
    "data.windSpeed.interpolate(method='pchip')"
   ]
  },
  {
   "cell_type": "code",
   "execution_count": 22,
   "id": "98bc0671",
   "metadata": {},
   "outputs": [
    {
     "data": {
      "text/plain": [
       "0    35.658200\n",
       "1    34.448184\n",
       "2    30.934300\n",
       "3    22.421250\n",
       "4    13.908200\n",
       "5    23.938200\n",
       "Name: temperature, dtype: float64"
      ]
     },
     "execution_count": 22,
     "metadata": {},
     "output_type": "execute_result"
    }
   ],
   "source": [
    "data.temperature.interpolate(method='akima')"
   ]
  },
  {
   "cell_type": "code",
   "execution_count": 23,
   "id": "695f409f",
   "metadata": {},
   "outputs": [
    {
     "data": {
      "text/plain": [
       "0    10.788378\n",
       "1     5.014522\n",
       "2     3.714956\n",
       "3     6.889682\n",
       "4    19.012990\n",
       "5          NaN\n",
       "Name: windSpeed, dtype: float64"
      ]
     },
     "execution_count": 23,
     "metadata": {},
     "output_type": "execute_result"
    }
   ],
   "source": [
    "data.windSpeed.interpolate(method='akima')"
   ]
  },
  {
   "cell_type": "code",
   "execution_count": 24,
   "id": "e6844686",
   "metadata": {},
   "outputs": [
    {
     "data": {
      "text/plain": [
       "0    35.658200\n",
       "1    35.076089\n",
       "2    30.934300\n",
       "3    20.526966\n",
       "4    13.908200\n",
       "5    23.938200\n",
       "Name: temperature, dtype: float64"
      ]
     },
     "execution_count": 24,
     "metadata": {},
     "output_type": "execute_result"
    }
   ],
   "source": [
    "data.temperature.interpolate(method='spline', order=2)"
   ]
  },
  {
   "cell_type": "code",
   "execution_count": 25,
   "id": "232fef0c",
   "metadata": {},
   "outputs": [
    {
     "data": {
      "text/plain": [
       "0    10.788378\n",
       "1     2.777376\n",
       "2     1.477811\n",
       "3     6.889682\n",
       "4    19.012990\n",
       "5    37.847735\n",
       "Name: windSpeed, dtype: float64"
      ]
     },
     "execution_count": 25,
     "metadata": {},
     "output_type": "execute_result"
    }
   ],
   "source": [
    "data.windSpeed.interpolate(method='spline', order=2)"
   ]
  },
  {
   "cell_type": "code",
   "execution_count": 26,
   "id": "224ad361",
   "metadata": {},
   "outputs": [
    {
     "data": {
      "text/plain": [
       "0    35.658200\n",
       "1    36.196165\n",
       "2    30.934300\n",
       "3    19.872606\n",
       "4    13.908200\n",
       "5    23.938200\n",
       "Name: temperature, dtype: float64"
      ]
     },
     "execution_count": 26,
     "metadata": {},
     "output_type": "execute_result"
    }
   ],
   "source": [
    "data.temperature.interpolate(method='polynomial',order=2)"
   ]
  },
  {
   "cell_type": "code",
   "execution_count": 27,
   "id": "a9eb6d7f",
   "metadata": {},
   "outputs": [
    {
     "data": {
      "text/plain": [
       "0    10.788378\n",
       "1     2.777376\n",
       "2     1.477811\n",
       "3     6.889682\n",
       "4    19.012990\n",
       "5          NaN\n",
       "Name: windSpeed, dtype: float64"
      ]
     },
     "execution_count": 27,
     "metadata": {},
     "output_type": "execute_result"
    }
   ],
   "source": [
    "data.windSpeed.interpolate(method='polynomial',order=2)"
   ]
  },
  {
   "cell_type": "code",
   "execution_count": null,
   "id": "379960bd",
   "metadata": {},
   "outputs": [],
   "source": []
  }
 ],
 "metadata": {
  "kernelspec": {
   "display_name": "Python 3 (ipykernel)",
   "language": "python",
   "name": "python3"
  },
  "language_info": {
   "codemirror_mode": {
    "name": "ipython",
    "version": 3
   },
   "file_extension": ".py",
   "mimetype": "text/x-python",
   "name": "python",
   "nbconvert_exporter": "python",
   "pygments_lexer": "ipython3",
   "version": "3.9.13"
  }
 },
 "nbformat": 4,
 "nbformat_minor": 5
}
