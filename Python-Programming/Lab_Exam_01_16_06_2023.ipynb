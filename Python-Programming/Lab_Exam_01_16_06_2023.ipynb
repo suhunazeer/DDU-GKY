{
 "cells": [
  {
   "cell_type": "markdown",
   "id": "b561b049",
   "metadata": {},
   "source": [
    "# <center> <u>LAB EXAM-1"
   ]
  },
  {
   "cell_type": "code",
   "execution_count": 7,
   "id": "bf6db7de",
   "metadata": {
    "scrolled": true
   },
   "outputs": [
    {
     "name": "stdout",
     "output_type": "stream",
     "text": [
      "Enter the string:h\n",
      "Empty string\n"
     ]
    }
   ],
   "source": [
    "a=input(\"Enter the string:\")\n",
    "if len(a)>=2:\n",
    "    print(a[:2]+a[-2:])\n",
    "else:\n",
    "    print(\"Empty string\")"
   ]
  },
  {
   "cell_type": "code",
   "execution_count": 2,
   "id": "f28005ca",
   "metadata": {},
   "outputs": [
    {
     "name": "stdout",
     "output_type": "stream",
     "text": [
      "Multiplication result of list is 120\n"
     ]
    }
   ],
   "source": [
    "a=[1,2,3,4,5]\n",
    "p=1\n",
    "for i in a:\n",
    "    p=p*i\n",
    "print(\"Multiplication result of list is\",p)    "
   ]
  },
  {
   "cell_type": "code",
   "execution_count": 3,
   "id": "9c4246e7",
   "metadata": {},
   "outputs": [
    {
     "name": "stdout",
     "output_type": "stream",
     "text": [
      "Sum of first 50 odd number is 625\n"
     ]
    }
   ],
   "source": [
    "sum=0\n",
    "for i in range(1,51,2):\n",
    "    sum=sum+i\n",
    "print(\"Sum of first 50 odd number is\",sum)    "
   ]
  },
  {
   "cell_type": "code",
   "execution_count": null,
   "id": "e2319cd0",
   "metadata": {},
   "outputs": [],
   "source": []
  },
  {
   "cell_type": "code",
   "execution_count": null,
   "id": "7407505e",
   "metadata": {},
   "outputs": [],
   "source": []
  }
 ],
 "metadata": {
  "kernelspec": {
   "display_name": "Python 3 (ipykernel)",
   "language": "python",
   "name": "python3"
  },
  "language_info": {
   "codemirror_mode": {
    "name": "ipython",
    "version": 3
   },
   "file_extension": ".py",
   "mimetype": "text/x-python",
   "name": "python",
   "nbconvert_exporter": "python",
   "pygments_lexer": "ipython3",
   "version": "3.9.13"
  }
 },
 "nbformat": 4,
 "nbformat_minor": 5
}
