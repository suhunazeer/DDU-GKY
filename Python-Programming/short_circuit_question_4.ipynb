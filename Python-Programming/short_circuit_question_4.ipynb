{
 "cells": [
  {
   "cell_type": "markdown",
   "id": "5a0189f7",
   "metadata": {},
   "source": [
    "<b> Question No-4\n",
    "\n",
    "\n",
    "Sarah is working on a program that checks if a string contains both the letters \"a\" and \"b\". \n",
    "She is stuck and needs help understanding how to use short-circuiting in Python to check for both conditions. \n",
    "Sarah is a software developer working on a program that analyzes text data. \n",
    "As part of her program, she needs to check if a given string contains both the letters \"a\" and \"b\". \n",
    "She has written a function to do this, but it is not working as expected. \n",
    "She knows that she needs to use a conditional statement to check for both conditions, but she is not sure how to do it.\n",
    "\n",
    "\n",
    "How can Sarah use short-circuiting in Python to check if a string contains both the letters \"a\" and \"b\"?"
   ]
  },
  {
   "cell_type": "markdown",
   "id": "78379555",
   "metadata": {},
   "source": [
    "<b>Answer: \n",
    "\n",
    "<b><u>Code"
   ]
  },
  {
   "cell_type": "code",
   "execution_count": 1,
   "id": "c0fb3b12",
   "metadata": {},
   "outputs": [
    {
     "name": "stdout",
     "output_type": "stream",
     "text": [
      "Enter the string: banana\n",
      "banana contains both a and b\n"
     ]
    }
   ],
   "source": [
    "txt=input(\"Enter the string: \")\n",
    "\n",
    "if 'a' in txt and 'b' in txt:\n",
    "    print(txt,\"contains both a and b\")\n",
    "else:\n",
    "    print(txt,\"not contains both a and b\")"
   ]
  },
  {
   "cell_type": "markdown",
   "id": "9f61a07f",
   "metadata": {},
   "source": [
    "<b> Explanation\n",
    "\n",
    "To check whether the entered string contains both the letter 'a' and  'b', we can use logical operators in a Python if statement. \n",
    "\n",
    "To check whether the letter a and b present in the entered string, we can combine these two expressions using the logical and operator (and) to \n",
    "check if both expressions are true. \n",
    "\n",
    "If both the letter 'a' and also 'b' present in the entered string, the if condition is true and we can print the output as \"The entered string contains both the letters 'a' and 'b'\". \n",
    "\n",
    "otherwise execute the else condition and print the output as \"The entered string not contains the letters 'a' and 'b'\""
   ]
  },
  {
   "cell_type": "code",
   "execution_count": null,
   "id": "ac70a18c",
   "metadata": {},
   "outputs": [],
   "source": []
  }
 ],
 "metadata": {
  "kernelspec": {
   "display_name": "Python 3 (ipykernel)",
   "language": "python",
   "name": "python3"
  },
  "language_info": {
   "codemirror_mode": {
    "name": "ipython",
    "version": 3
   },
   "file_extension": ".py",
   "mimetype": "text/x-python",
   "name": "python",
   "nbconvert_exporter": "python",
   "pygments_lexer": "ipython3",
   "version": "3.9.13"
  }
 },
 "nbformat": 4,
 "nbformat_minor": 5
}
