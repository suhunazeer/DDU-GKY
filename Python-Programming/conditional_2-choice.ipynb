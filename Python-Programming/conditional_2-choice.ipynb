{
 "cells": [
  {
   "cell_type": "markdown",
   "id": "231510cb",
   "metadata": {},
   "source": [
    "# <u> Python - Conditionals\n",
    "\n",
    "## Ouestion 2\n",
    "   \n",
    "### <u> A program to perform a pick and get option from 1 to 5  \n",
    "\n",
    "For example, if the user select 1, he get a chance to visit Museum, for 2, to visit zoo for 3, he get a chance to enjoy \n",
    "circus, 4 to Flower show and 5 for In-door visit.\n",
    "    \n",
    "To check the user pickup and show the corresponding offer, execute different blocks of code based on certain conditions in Python?"
   ]
  },
  {
   "cell_type": "code",
   "execution_count": 2,
   "id": "00af547b",
   "metadata": {},
   "outputs": [
    {
     "name": "stdout",
     "output_type": "stream",
     "text": [
      "Select any number in between 5: 5\n",
      "You got a chane to visit  Planetarium\n"
     ]
    }
   ],
   "source": [
    "choice=int(input(\"Select any number in between 5: \"))\n",
    "a={1:'Museum',2:'Zoo',3:'Circus',4:'Flower show',5:'Planetarium'}\n",
    "\n",
    "if choice==1: \n",
    "    print(\"You got a chane to visit \",a[1])\n",
    "elif choice==2: \n",
    "    print(\"You got a chane to visit \",a[2])\n",
    "elif choice==3: \n",
    "    print(\"You got a chane to visit  \",a[3])  \n",
    "elif choice==4: \n",
    "    print(\"You got a chane to visit  \",a[4])    \n",
    "elif choice==5: \n",
    "    print(\"You got a chane to visit \",a[5])    \n",
    "else:\n",
    "    print(\"Better luck next time\")"
   ]
  },
  {
   "cell_type": "markdown",
   "id": "3d0d54ee",
   "metadata": {},
   "source": [
    "### <u> Explanation"
   ]
  },
  {
   "cell_type": "markdown",
   "id": "641e52f9",
   "metadata": {},
   "source": [
    "We have to check the choice of user. Based on this choice, the corresponding chance have to display to the user.\n",
    "For this take user input(pickup from 1 to 5) and stored in the variable \"choice\".\n",
    "Then after getting the choice, execute the if condition and elif statement.\n",
    "if the choice is 1, then execute the if condition and shows the user to \"get a chance to visit Museum\".\n",
    "if the choice is 2, then execute the elif condition and shows the user to \"get a chance to visit Zoo\".\n",
    "if the choice is 3, then execute the elif condition and shows the user to \"get a chance to visit Circus\".\n",
    "if the choice is 4, then execute the elif condition and shows the user to \"get a chance to visit Flower show\".\n",
    "if the choice is 5, then execute the elif condition and shows the user to \"get a chance to visit Planetarium\".\n",
    "if the user enters a wrong choice display the user to \"Better luck next time.\""
   ]
  },
  {
   "cell_type": "code",
   "execution_count": null,
   "id": "c1ab721c",
   "metadata": {},
   "outputs": [],
   "source": []
  }
 ],
 "metadata": {
  "kernelspec": {
   "display_name": "Python 3 (ipykernel)",
   "language": "python",
   "name": "python3"
  },
  "language_info": {
   "codemirror_mode": {
    "name": "ipython",
    "version": 3
   },
   "file_extension": ".py",
   "mimetype": "text/x-python",
   "name": "python",
   "nbconvert_exporter": "python",
   "pygments_lexer": "ipython3",
   "version": "3.9.13"
  }
 },
 "nbformat": 4,
 "nbformat_minor": 5
}
