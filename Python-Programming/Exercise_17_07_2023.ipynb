{
 "cells": [
  {
   "cell_type": "markdown",
   "id": "275b2cda",
   "metadata": {},
   "source": [
    "# <center> <u> Exercise"
   ]
  },
  {
   "cell_type": "markdown",
   "id": "107cc256",
   "metadata": {},
   "source": [
    "1. In this challenge, the user enters a string and a substring. You have to print the number of\n",
    "times that the substring occurs in the given string. String traversal will take place from left to\n",
    "right, not from right to left.\n",
    "\n",
    "NOTE: String letters are case-sensitive."
   ]
  },
  {
   "cell_type": "code",
   "execution_count": 1,
   "id": "7c0f0e34",
   "metadata": {},
   "outputs": [
    {
     "name": "stdout",
     "output_type": "stream",
     "text": [
      "Original string: python language python java html java python\n",
      "Enter the substring:java\n",
      "No of occurence of substring  java is:  2\n"
     ]
    }
   ],
   "source": [
    "string = \"python language python java html java python\"\n",
    "txt= string.split(\" \")\n",
    "print(\"Original string:\",string)\n",
    "substr = input(\"Enter the substring:\")\n",
    "for i in txt:\n",
    "    if substr in txt:\n",
    "         count=txt.count(substr)\n",
    "       \n",
    "print(\"No of occurence of substring \",substr,\"is: \",count)    "
   ]
  },
  {
   "cell_type": "code",
   "execution_count": 3,
   "id": "0da55500",
   "metadata": {},
   "outputs": [
    {
     "name": "stdout",
     "output_type": "stream",
     "text": [
      "Enter the original string:ababcbc bc\n",
      "Enter the substring:bc\n",
      "No of occurence of substring  bc is:  3\n"
     ]
    }
   ],
   "source": [
    "string = input(\"Enter the original string:\")\n",
    "substr = input(\"Enter the substring:\")\n",
    "for i in string:\n",
    "    if substr in string:\n",
    "          count=string.count(substr)\n",
    "print(\"No of occurence of substring \",substr,\"is: \",count)            "
   ]
  },
  {
   "cell_type": "code",
   "execution_count": 4,
   "id": "18ea954c",
   "metadata": {},
   "outputs": [
    {
     "name": "stdout",
     "output_type": "stream",
     "text": [
      "Enter the substring:bc\n",
      "No.of occurance of  bc is  4\n"
     ]
    }
   ],
   "source": [
    "a=\"abcbc cbc bc\"\n",
    "b=input(\"Enter the substring:\")\n",
    "print(\"No.of occurance of \",b,\"is \",a.count(b))"
   ]
  },
  {
   "cell_type": "markdown",
   "id": "47563a0f",
   "metadata": {},
   "source": [
    "<b>2. Kevin and Stuart want to play the &#39;The Minion Game&#39;.\n",
    "\n",
    "Game Rules\n",
    "\n",
    "Both players are given the same string, S.\n",
    "Both players have to make substrings using the letters of the string S.\n",
    "Stuart has to make words starting with consonants.\n",
    "Kevin has to make words starting with vowels.\n",
    "The game ends when both players have made all possible substrings.\n",
    "\n",
    "Scoring\n",
    "\n",
    "A player gets +1 point for each occurrence of the substring in the string S.\n",
    "\n",
    "For Example:\n",
    "    \n",
    "String  = BANANA\n",
    "Kevin&#39;s vowel beginning word = ANA\n",
    "\n",
    "Here, ANA occurs twice in BANANA. Hence, Kevin will get 2 Points."
   ]
  },
  {
   "cell_type": "code",
   "execution_count": 5,
   "id": "41e038d3",
   "metadata": {},
   "outputs": [
    {
     "name": "stdout",
     "output_type": "stream",
     "text": [
      "enter the string starting with vowels:ana\n",
      "Kevin wins and score is  2\n"
     ]
    }
   ],
   "source": [
    "a='banana'\n",
    "vowels = 'aeiou'\n",
    "s='ba'\n",
    "ck = 0\n",
    "cs = 0\n",
    "\n",
    "k = input(\"enter the string starting with vowels:\")\n",
    "if k[0].lower() in vowels:\n",
    "    for i in range(len(a)):\n",
    "        if (k in a[i:i+len(k)]):\n",
    "            ck+=1\n",
    "    print(\"Kevin wins and score is \",ck)\n",
    "else:\n",
    "    for i in range(len(a)):\n",
    "        if (s in a[i:i+len(s)]):\n",
    "            cs=cs+1\n",
    "    print(\"Stuart  wins and score is \",cs)"
   ]
  },
  {
   "cell_type": "code",
   "execution_count": 9,
   "id": "8c4a4776",
   "metadata": {},
   "outputs": [
    {
     "name": "stdout",
     "output_type": "stream",
     "text": [
      "Enter the string starting with vowels:ana\n",
      "Enter the string starting with consonant:ban\n",
      "Kevin wins and score: 2\n"
     ]
    }
   ],
   "source": [
    "a=\"banana\"\n",
    "k=input(\"Enter the string starting with vowels:\")\n",
    "s=input(\"Enter the string starting with consonant:\")\n",
    "vowel='aeiou'\n",
    "\n",
    "def occurrences(a, k):\n",
    "    count = start = 0\n",
    "    while True:\n",
    "        start = a.find(k, start) + 1\n",
    "        if start > 0:\n",
    "            count+=1\n",
    "        else:\n",
    "            return count\n",
    "\n",
    "if k[0].lower() in vowel: \n",
    "    print(\"Kevin wins and score:\", occurrences(a,k)) \n",
    "else:\n",
    "    print(\"Stuart wins and score:\", occurrences(a,s)) \n"
   ]
  },
  {
   "cell_type": "code",
   "execution_count": null,
   "id": "df76727e",
   "metadata": {},
   "outputs": [],
   "source": []
  }
 ],
 "metadata": {
  "kernelspec": {
   "display_name": "Python 3 (ipykernel)",
   "language": "python",
   "name": "python3"
  },
  "language_info": {
   "codemirror_mode": {
    "name": "ipython",
    "version": 3
   },
   "file_extension": ".py",
   "mimetype": "text/x-python",
   "name": "python",
   "nbconvert_exporter": "python",
   "pygments_lexer": "ipython3",
   "version": "3.9.13"
  }
 },
 "nbformat": 4,
 "nbformat_minor": 5
}
