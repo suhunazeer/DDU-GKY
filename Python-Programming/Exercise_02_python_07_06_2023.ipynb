{
 "cells": [
  {
   "cell_type": "code",
   "execution_count": 1,
   "id": "da38e2ec",
   "metadata": {},
   "outputs": [
    {
     "name": "stdout",
     "output_type": "stream",
     "text": [
      "{'g': 2, 'o': 3, 'l': 1, 'e': 1, '.': 1, 'c': 1, 'm': 1}\n"
     ]
    }
   ],
   "source": [
    "#Write a Python program to count the number of characters (character frequency) in a\n",
    "#string.\n",
    "\n",
    "#INPUT-----'google.com'\n",
    "#OUTPUT----{'g':2,'o':3,'l';1,'e':1,'c':1,'m':1}\n",
    "\n",
    "\n",
    "str=\"google.com\"\n",
    "ln=len(str)\n",
    "a=[]\n",
    "b=[]\n",
    "c=dict()\n",
    "\n",
    "for i in str:\n",
    "    x=str.count(i)\n",
    "    a.append(i)\n",
    "    b.append(x)\n",
    "# print(a)\n",
    "# print(b)\n",
    "\n",
    "for i in range(ln):\n",
    "    c[a[i]]=b[i]\n",
    "print(c)\n",
    "        \n"
   ]
  },
  {
   "cell_type": "code",
   "execution_count": 2,
   "id": "5f6cbc80",
   "metadata": {},
   "outputs": [
    {
     "name": "stdout",
     "output_type": "stream",
     "text": [
      "{'g': 2, 'o': 3, 'l': 1, 'e': 1, 'c': 1, 'm': 1}\n"
     ]
    }
   ],
   "source": [
    "a=\"google.com\"\n",
    "d={}\n",
    "for i in a:\n",
    "    if i.isalpha():\n",
    "        d[i]=a.count(i)\n",
    "print(d)"
   ]
  },
  {
   "cell_type": "code",
   "execution_count": 3,
   "id": "3fd0fb8f",
   "metadata": {},
   "outputs": [
    {
     "name": "stdout",
     "output_type": "stream",
     "text": [
      "Enter the string: he\n",
      "hehe\n"
     ]
    }
   ],
   "source": [
    "# Write a Python program to get a string made of the first 2 and last 2 characters of a\n",
    "#given string. If the string length is less than 2, return the empty string instead.\n",
    "\n",
    "str= input(\"Enter the string: \")\n",
    "ln= len(str)\n",
    "if ln>2:\n",
    "    print(str[:2]+str[-2:])\n",
    "elif ln==2:\n",
    "    print(str[:2]+str[-2:])\n",
    "else:\n",
    "    print(\"Empty string\")"
   ]
  },
  {
   "cell_type": "code",
   "execution_count": 4,
   "id": "2b2e5405",
   "metadata": {},
   "outputs": [
    {
     "name": "stdout",
     "output_type": "stream",
     "text": [
      "Enter the string: restarter\n",
      "resta$te$\n"
     ]
    }
   ],
   "source": [
    "#Write a Python program to get a string from a given string where all occurrences of its first char have \n",
    "#been changed to '$' except the first char itself.\n",
    "\n",
    "# Sample string= restart\n",
    "# output string= resta$t\n",
    "\n",
    "a=input(\"Enter the string: \")\n",
    "b=a[1:]\n",
    "for i in b:\n",
    "    if(a[0]==i):\n",
    "        c=b.replace(i,'$')\n",
    "print(a[0]+c)        "
   ]
  },
  {
   "cell_type": "code",
   "execution_count": 5,
   "id": "6c5433c3",
   "metadata": {},
   "outputs": [
    {
     "name": "stdout",
     "output_type": "stream",
     "text": [
      "Enter a word: restarter\n",
      "resta$te$\n"
     ]
    }
   ],
   "source": [
    "a=input(\"Enter a word: \")\n",
    "char = a[0]\n",
    "a=a.replace(char,'$')\n",
    "a=char+a[1:]\n",
    "print(a)"
   ]
  },
  {
   "cell_type": "markdown",
   "id": "cf6d201c",
   "metadata": {},
   "source": [
    "#### 08-06-2023"
   ]
  },
  {
   "cell_type": "markdown",
   "id": "6ae3fbaf",
   "metadata": {},
   "source": [
    "Write a Python program to get a single string from two given strings, separated by a space and swap the first two characters of each string.\n",
    "\n",
    "Sample String : 'abc', 'xyz'\n",
    "\n",
    "Expected Result : 'xyc abz'\n"
   ]
  },
  {
   "cell_type": "code",
   "execution_count": 4,
   "id": "72976e9f",
   "metadata": {},
   "outputs": [
    {
     "name": "stdout",
     "output_type": "stream",
     "text": [
      "xy\n",
      "xyc abz\n"
     ]
    }
   ],
   "source": [
    "a='abc,xyz'\n",
    "b=a.split(',')\n",
    "x=b[0][:2]\n",
    "y=b[1][:-1]\n",
    "c=b[0].replace(x,y)\n",
    "d=b[1].replace(y,x)\n",
    "print(c+\" \"+d)"
   ]
  },
  {
   "cell_type": "code",
   "execution_count": 7,
   "id": "f643efcf",
   "metadata": {},
   "outputs": [
    {
     "name": "stdout",
     "output_type": "stream",
     "text": [
      "xyc abz\n"
     ]
    }
   ],
   "source": [
    "a='abc'\n",
    "b='xyz'\n",
    "new_a=b[:2]+a[2:]\n",
    "new_b=a[:2]+b[2:]\n",
    "print(new_a+\" \"+new_b)\n"
   ]
  },
  {
   "cell_type": "markdown",
   "id": "d0daa563",
   "metadata": {},
   "source": [
    "5.\tWrite a Python program to add 'ing' at the end of a given string (length should be at least 3). If the given string already ends with 'ing', add 'ly' instead. If the string length of the given string is less than 3, leave it unchanged."
   ]
  },
  {
   "cell_type": "code",
   "execution_count": 1,
   "id": "a2cbb321",
   "metadata": {},
   "outputs": [
    {
     "name": "stdout",
     "output_type": "stream",
     "text": [
      "Enter a string: singing\n",
      "singly\n"
     ]
    }
   ],
   "source": [
    "a=input(\"Enter a string: \")\n",
    "\n",
    "if(a[-3:]=='ing' and len(a)>=3):\n",
    "        print(a[:-3]+'ly')\n",
    "elif(len(a)>=3):\n",
    "    print(a+'ing')\n",
    "else:\n",
    "    print(a)   "
   ]
  },
  {
   "cell_type": "markdown",
   "id": "397a3383",
   "metadata": {},
   "source": [
    "Write a Python program to find the first appearance of the substrings 'not' and 'poor' in a given string. If 'not' follows 'poor', replace the whole 'not'...'poor' substring with 'good'. Return the resulting string.\n",
    "\n",
    "Sample String : 'The lyrics is not that poor!' 'The lyrics is poor!'\n",
    "\n",
    "Expected Result : 'The lyrics is good!' 'The lyrics is poor!'\n",
    "    "
   ]
  },
  {
   "cell_type": "code",
   "execution_count": 22,
   "id": "6736d325",
   "metadata": {},
   "outputs": [
    {
     "name": "stdout",
     "output_type": "stream",
     "text": [
      "The lyrics is good! The lyrics is poor!\n"
     ]
    }
   ],
   "source": [
    "a=\"The lyrics is not that poor! The lyrics is poor!\"\n",
    "not_index=a.find('not')\n",
    "poor_index=a.find('poor')\n",
    "\n",
    "if (poor_index > not_index):\n",
    "    b=a.replace(a[not_index:(poor_index+4)],'good')\n",
    "    print(b)\n",
    "else:\n",
    "    print(a)"
   ]
  },
  {
   "cell_type": "markdown",
   "id": "404fc0e7",
   "metadata": {},
   "source": [
    "<b>7. Write a Python program to change a given string to a newly string where the first and last chars have been exchanged."
   ]
  },
  {
   "cell_type": "code",
   "execution_count": null,
   "id": "6274eda7",
   "metadata": {},
   "outputs": [],
   "source": [
    "a=input(\"Enter the string: \")\n",
    "b=a[-1]+a[1:-1]+a[0]\n",
    "print(\"New string: \",b)"
   ]
  },
  {
   "cell_type": "markdown",
   "id": "0072e827",
   "metadata": {},
   "source": [
    "<b>8.\tWrite a Python program to remove characters that have odd index values in a given string."
   ]
  },
  {
   "cell_type": "code",
   "execution_count": 3,
   "id": "284a0e4f",
   "metadata": {},
   "outputs": [
    {
     "name": "stdout",
     "output_type": "stream",
     "text": [
      "Enter the string: suhaina\n",
      "s h i a "
     ]
    }
   ],
   "source": [
    "a=input(\"Enter the string: \")\n",
    "for i in range(0,len(a),2):\n",
    "    b=a[i]\n",
    "    print(b,end=\" \")            "
   ]
  },
  {
   "cell_type": "code",
   "execution_count": null,
   "id": "bd65393d",
   "metadata": {},
   "outputs": [],
   "source": []
  }
 ],
 "metadata": {
  "kernelspec": {
   "display_name": "Python 3 (ipykernel)",
   "language": "python",
   "name": "python3"
  },
  "language_info": {
   "codemirror_mode": {
    "name": "ipython",
    "version": 3
   },
   "file_extension": ".py",
   "mimetype": "text/x-python",
   "name": "python",
   "nbconvert_exporter": "python",
   "pygments_lexer": "ipython3",
   "version": "3.9.13"
  }
 },
 "nbformat": 4,
 "nbformat_minor": 5
}
