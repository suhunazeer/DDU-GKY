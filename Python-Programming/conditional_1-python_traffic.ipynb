{
 "cells": [
  {
   "cell_type": "markdown",
   "id": "50c5d551",
   "metadata": {},
   "source": [
    "# <u> Python - Conditionals\n",
    "\n",
    "## Ouestion 1\n",
    "\n",
    "### <u> A program that needs to perform different traffic signal based on the passenger type. \n",
    "\n",
    "For example, if the passenger type is Vehicle and the signal is \"Green\", the program needs to display \"You can drive safely,\" and if the passenger type is Vehicle and  the signal is \"Red\", it needs to display \"Please stop for a minute.\" and if it is \"Yellow\", should display as \"Slow down\".This can achieve by using if and elif statements.\n",
    " \n",
    "Also for the passenger type as pedestrian and the signal \"Red\", the  program needs to disply \"You can Move\" otherwise the signal display as \"Wait for a minute\".  \n",
    "    \n",
    "To check the passenger type and signal , execute the corresponding block of code. How do you use if statements to execute \n",
    "different blocks of code based on certain conditions in Python?\n"
   ]
  },
  {
   "cell_type": "code",
   "execution_count": 5,
   "id": "c48cc09e",
   "metadata": {},
   "outputs": [
    {
     "name": "stdout",
     "output_type": "stream",
     "text": [
      "Enter the passenger type: Pedestrian or Vehicle (P or V) : V\n",
      "Check the signal color (G or R or Y): R\n",
      "Please stop for a minute\n"
     ]
    }
   ],
   "source": [
    "user=input(\"Enter the passenger type: Pedestrian or Vehicle (P or V) : \")\n",
    "signal=input(\"Check the signal color (G or R or Y): \")\n",
    "\n",
    "if user == 'P':\n",
    "    if signal == 'R':\n",
    "        print(\"You can move\")\n",
    "    else:\n",
    "        print(\"Please wait...\")\n",
    "\n",
    "elif user == 'V':\n",
    "    \n",
    "    if signal == 'G':\n",
    "        print('You can drive safely')\n",
    "    elif signal == 'R':\n",
    "        print(\"Please stop for a minute\")\n",
    "    elif signal == 'Y':\n",
    "        print(\"Slow down Please\")"
   ]
  },
  {
   "cell_type": "markdown",
   "id": "94c6da12",
   "metadata": {},
   "source": [
    "### <u> Explanation"
   ]
  },
  {
   "cell_type": "markdown",
   "id": "7e277d56",
   "metadata": {},
   "source": [
    "We have to check the passenger type by using if condition. There are two types of passenger type, either pedestrian or vehicle.\n",
    "\n",
    "Also check seperate signal condition for each passenger type by using if - elif condition. \n",
    "\n",
    "first to check the passenger type. if the passenger type is pedestrian, then check the signal colour. if it is red, displays as\n",
    "\" You can move\" and otherwise, shows that \"wait for sometime\".\n",
    "\n",
    "if the passenger type is vehicle, then check the signal colour. if it is red, displays as \"Stop\", for green displays as\n",
    "\" You can drive\" and if the signal colour is yellow, print as \"slow down\".\n",
    "\n",
    "\n",
    "\n"
   ]
  },
  {
   "cell_type": "code",
   "execution_count": null,
   "id": "16f22c47",
   "metadata": {},
   "outputs": [],
   "source": []
  }
 ],
 "metadata": {
  "kernelspec": {
   "display_name": "Python 3 (ipykernel)",
   "language": "python",
   "name": "python3"
  },
  "language_info": {
   "codemirror_mode": {
    "name": "ipython",
    "version": 3
   },
   "file_extension": ".py",
   "mimetype": "text/x-python",
   "name": "python",
   "nbconvert_exporter": "python",
   "pygments_lexer": "ipython3",
   "version": "3.9.13"
  }
 },
 "nbformat": 4,
 "nbformat_minor": 5
}
