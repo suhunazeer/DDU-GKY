{
 "cells": [
  {
   "cell_type": "markdown",
   "id": "9d33a1ac",
   "metadata": {},
   "source": [
    "# <center> EXERCISE NO-5"
   ]
  },
  {
   "cell_type": "markdown",
   "id": "0d6058d5",
   "metadata": {},
   "source": [
    "# 1. Amstrong or not"
   ]
  },
  {
   "cell_type": "code",
   "execution_count": 1,
   "id": "ad1b6622",
   "metadata": {},
   "outputs": [
    {
     "name": "stdout",
     "output_type": "stream",
     "text": [
      "407 is Amstrong \n"
     ]
    }
   ],
   "source": [
    "a=n=407\n",
    "sum=0\n",
    "while n>0:\n",
    "    rem=n%10\n",
    "    sum=sum+rem**3\n",
    "    n=n//10\n",
    "    \n",
    "#print(sum)\n",
    "#print(a)\n",
    "if (a==sum):\n",
    "    print(a,\"is Amstrong \")\n",
    "else:\n",
    "    print(a,\"is not Amstrong\")"
   ]
  },
  {
   "cell_type": "markdown",
   "id": "906c9334",
   "metadata": {},
   "source": [
    "# 2. String Anagram or not"
   ]
  },
  {
   "cell_type": "code",
   "execution_count": 2,
   "id": "13bcb3f0",
   "metadata": {},
   "outputs": [
    {
     "name": "stdout",
     "output_type": "stream",
     "text": [
      "Enter the string:silent\n",
      "Anagram\n"
     ]
    }
   ],
   "source": [
    "a=\"listen\"\n",
    "b=input(\"Enter the string:\")\n",
    "\n",
    "count=0\n",
    "for i in b:\n",
    "    for j in a:\n",
    "        if i==j:\n",
    "            count=count+1\n",
    "if count==len(a):\n",
    "    print(\"Anagram\")\n",
    "else:\n",
    "    print('No Anagram') "
   ]
  },
  {
   "cell_type": "markdown",
   "id": "059c48a5",
   "metadata": {},
   "source": [
    "# 3. Fibonocci Number"
   ]
  },
  {
   "cell_type": "code",
   "execution_count": 12,
   "id": "9af864ba",
   "metadata": {},
   "outputs": [
    {
     "name": "stdout",
     "output_type": "stream",
     "text": [
      "Enter the limit7\n",
      "[0, 1, 1, 2, 3, 5, 8, 13, 21]\n"
     ]
    }
   ],
   "source": [
    "# 0 1 1 2 3 5 8\n",
    "\n",
    "a=[0,1]\n",
    "limit=int(input(\"Enter the limit\"))\n",
    "count=0\n",
    "for i in range(limit):\n",
    "    c=a[-2]+a[-1]\n",
    "    a.append(c)\n",
    "print(a)   "
   ]
  },
  {
   "cell_type": "code",
   "execution_count": 4,
   "id": "f30b3ea6",
   "metadata": {},
   "outputs": [
    {
     "name": "stdout",
     "output_type": "stream",
     "text": [
      "Enter the limit:7\n",
      "Fibonocci Series upto limit  7 is [0, 1, 1, 2, 3, 5, 8, 13, 21]\n"
     ]
    }
   ],
   "source": [
    "a=[0,1]\n",
    "count=0\n",
    "limit=int(input(\"Enter the limit:\"))\n",
    "while limit>count:    \n",
    "    c=a[-1]+a[-2]\n",
    "    a.append(c)\n",
    "    count+=1\n",
    "print ('Fibonocci Series upto limit ',limit,'is', a)"
   ]
  },
  {
   "cell_type": "markdown",
   "id": "d18d9793",
   "metadata": {},
   "source": [
    "# 4.Write a program to find GCD of two numbers."
   ]
  },
  {
   "cell_type": "code",
   "execution_count": 10,
   "id": "b5acac8f",
   "metadata": {},
   "outputs": [
    {
     "name": "stdout",
     "output_type": "stream",
     "text": [
      "GCD is 12\n"
     ]
    }
   ],
   "source": [
    "a=12\n",
    "b=36\n",
    "for i in range(1,min(a,b)+1):\n",
    "    if a%i==0 and b%i==0:\n",
    "        gcd=i\n",
    "print(\"GCD is\", gcd)        "
   ]
  },
  {
   "cell_type": "markdown",
   "id": "fdbbab2b",
   "metadata": {},
   "source": [
    "# 5.Write a program to print the following pattern"
   ]
  },
  {
   "cell_type": "code",
   "execution_count": 18,
   "id": "7aa62cd0",
   "metadata": {},
   "outputs": [
    {
     "name": "stdout",
     "output_type": "stream",
     "text": [
      "          \n",
      "         * \n",
      "        * * \n",
      "       * * * \n",
      "      * * * * \n",
      "     * * * * * \n",
      "    * * * * * * \n",
      "   * * * * * * * \n",
      "  * * * * * * * * \n",
      " * * * * * * * * * \n"
     ]
    }
   ],
   "source": [
    "for i in range(10):\n",
    "    for j in range(10-i):\n",
    "        print(end=\" \")\n",
    "    for j in range(i):\n",
    "        print('*',end=\" \")\n",
    "    print()"
   ]
  },
  {
   "cell_type": "markdown",
   "id": "5454a8a3",
   "metadata": {},
   "source": [
    "# 6. Write a program to print the following pattern."
   ]
  },
  {
   "cell_type": "code",
   "execution_count": 14,
   "id": "d5c8a59c",
   "metadata": {},
   "outputs": [
    {
     "name": "stdout",
     "output_type": "stream",
     "text": [
      "A \n",
      "B B \n",
      "C C C \n",
      "D D D D \n",
      "E E E E E \n",
      "F F F F F F \n",
      "G G G G G G G \n",
      "H H H H H H H H \n",
      "I I I I I I I I I \n",
      "J J J J J J J J J J \n",
      "K K K K K K K K K K K \n",
      "L L L L L L L L L L L L \n",
      "M M M M M M M M M M M M M \n",
      "N N N N N N N N N N N N N N \n",
      "O O O O O O O O O O O O O O O \n",
      "P P P P P P P P P P P P P P P P \n",
      "Q Q Q Q Q Q Q Q Q Q Q Q Q Q Q Q Q \n",
      "R R R R R R R R R R R R R R R R R R \n",
      "S S S S S S S S S S S S S S S S S S S \n",
      "T T T T T T T T T T T T T T T T T T T T \n",
      "U U U U U U U U U U U U U U U U U U U U U \n",
      "V V V V V V V V V V V V V V V V V V V V V V \n",
      "W W W W W W W W W W W W W W W W W W W W W W W \n",
      "X X X X X X X X X X X X X X X X X X X X X X X X \n",
      "Y Y Y Y Y Y Y Y Y Y Y Y Y Y Y Y Y Y Y Y Y Y Y Y Y \n",
      "Z Z Z Z Z Z Z Z Z Z Z Z Z Z Z Z Z Z Z Z Z Z Z Z Z Z \n"
     ]
    }
   ],
   "source": [
    "a=['A','B','C','D','E','F','G','H','I','J','K','L','M','N','O','P','Q','R','S','T','U','V','W','X','Y','Z']\n",
    "for i in range(len(a)):\n",
    "    for j in range(i+1):\n",
    "        print(a[i], end=\" \")\n",
    "    print()"
   ]
  },
  {
   "cell_type": "markdown",
   "id": "f01df699",
   "metadata": {},
   "source": [
    "# 7.Write a program to print the following pattern."
   ]
  },
  {
   "cell_type": "code",
   "execution_count": 8,
   "id": "ab5cede6",
   "metadata": {},
   "outputs": [
    {
     "name": "stdout",
     "output_type": "stream",
     "text": [
      "1 \n",
      "2 3 \n",
      "4 5 6 \n",
      "7 8 9 10 \n",
      "11 12 13 14 15 \n",
      "16 17 18 19 20 21 \n",
      "22 23 24 25 26 27 28 \n",
      "29 30 31 32 33 34 35 36 \n",
      "37 38 39 40 41 42 43 44 45 \n",
      "46 47 48 49 50 51 52 53 54 55 \n"
     ]
    }
   ],
   "source": [
    "count=0\n",
    "for i in range(0,10):\n",
    "    for j in range(0,i+1):\n",
    "        count+=1\n",
    "        print(count, end=\" \")\n",
    "    print()"
   ]
  },
  {
   "cell_type": "markdown",
   "id": "6ce1d0a3",
   "metadata": {},
   "source": [
    "# 8.Write a program to print the following pattern."
   ]
  },
  {
   "cell_type": "code",
   "execution_count": 13,
   "id": "a92b0748",
   "metadata": {},
   "outputs": [
    {
     "name": "stdout",
     "output_type": "stream",
     "text": [
      "A \n",
      "B C \n",
      "D E F \n",
      "G H I J \n",
      "K L M N O \n",
      "P Q R S T U \n",
      "V W X Y Z "
     ]
    },
    {
     "ename": "IndexError",
     "evalue": "list index out of range",
     "output_type": "error",
     "traceback": [
      "\u001b[1;31m---------------------------------------------------------------------------\u001b[0m",
      "\u001b[1;31mIndexError\u001b[0m                                Traceback (most recent call last)",
      "\u001b[1;32m~\\AppData\\Local\\Temp\\ipykernel_11184\\1147618130.py\u001b[0m in \u001b[0;36m<module>\u001b[1;34m\u001b[0m\n\u001b[0;32m      3\u001b[0m \u001b[1;32mfor\u001b[0m \u001b[0mi\u001b[0m \u001b[1;32min\u001b[0m \u001b[0mrange\u001b[0m\u001b[1;33m(\u001b[0m\u001b[1;36m0\u001b[0m\u001b[1;33m,\u001b[0m\u001b[0mlen\u001b[0m\u001b[1;33m(\u001b[0m\u001b[0ma\u001b[0m\u001b[1;33m)\u001b[0m\u001b[1;33m)\u001b[0m\u001b[1;33m:\u001b[0m\u001b[1;33m\u001b[0m\u001b[1;33m\u001b[0m\u001b[0m\n\u001b[0;32m      4\u001b[0m     \u001b[1;32mfor\u001b[0m \u001b[0mj\u001b[0m \u001b[1;32min\u001b[0m \u001b[0mrange\u001b[0m\u001b[1;33m(\u001b[0m\u001b[1;36m0\u001b[0m\u001b[1;33m,\u001b[0m\u001b[0mi\u001b[0m\u001b[1;33m+\u001b[0m\u001b[1;36m1\u001b[0m\u001b[1;33m)\u001b[0m\u001b[1;33m:\u001b[0m\u001b[1;33m\u001b[0m\u001b[1;33m\u001b[0m\u001b[0m\n\u001b[1;32m----> 5\u001b[1;33m         \u001b[0mprint\u001b[0m\u001b[1;33m(\u001b[0m\u001b[0ma\u001b[0m\u001b[1;33m[\u001b[0m\u001b[0mc\u001b[0m\u001b[1;33m]\u001b[0m\u001b[1;33m,\u001b[0m \u001b[0mend\u001b[0m\u001b[1;33m=\u001b[0m\u001b[1;34m\" \"\u001b[0m\u001b[1;33m)\u001b[0m\u001b[1;33m\u001b[0m\u001b[1;33m\u001b[0m\u001b[0m\n\u001b[0m\u001b[0;32m      6\u001b[0m         \u001b[0mc\u001b[0m\u001b[1;33m+=\u001b[0m\u001b[1;36m1\u001b[0m\u001b[1;33m\u001b[0m\u001b[1;33m\u001b[0m\u001b[0m\n\u001b[0;32m      7\u001b[0m     \u001b[0mprint\u001b[0m\u001b[1;33m(\u001b[0m\u001b[1;33m)\u001b[0m\u001b[1;33m\u001b[0m\u001b[1;33m\u001b[0m\u001b[0m\n",
      "\u001b[1;31mIndexError\u001b[0m: list index out of range"
     ]
    }
   ],
   "source": [
    "a=['A','B','C','D','E','F','G','H','I','J','K','L','M','N','O','P','Q','R','S','T','U','V','W','X','Y','Z']\n",
    "c=0\n",
    "for i in range(0,len(a)):\n",
    "    for j in range(0,i+1):\n",
    "        print(a[c], end=\" \")\n",
    "        c+=1\n",
    "    print()"
   ]
  },
  {
   "cell_type": "code",
   "execution_count": null,
   "id": "05d3383b",
   "metadata": {},
   "outputs": [],
   "source": []
  }
 ],
 "metadata": {
  "kernelspec": {
   "display_name": "Python 3 (ipykernel)",
   "language": "python",
   "name": "python3"
  },
  "language_info": {
   "codemirror_mode": {
    "name": "ipython",
    "version": 3
   },
   "file_extension": ".py",
   "mimetype": "text/x-python",
   "name": "python",
   "nbconvert_exporter": "python",
   "pygments_lexer": "ipython3",
   "version": "3.9.13"
  }
 },
 "nbformat": 4,
 "nbformat_minor": 5
}
