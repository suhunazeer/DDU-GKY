{
 "cells": [
  {
   "cell_type": "markdown",
   "id": "44d24646",
   "metadata": {},
   "source": [
    "# <u> Python - Conditionals\n",
    "\n",
    "## Ouestion 3"
   ]
  },
  {
   "cell_type": "markdown",
   "id": "b4888041",
   "metadata": {},
   "source": [
    "### Find out the leap years by user given range of years"
   ]
  },
  {
   "cell_type": "code",
   "execution_count": 2,
   "id": "d7d6b662",
   "metadata": {},
   "outputs": [
    {
     "name": "stdout",
     "output_type": "stream",
     "text": [
      "Enter the starting range of Year: 1990\n",
      "Enter the year: 2023\n",
      "Leap year between  1990 and 2023 are: [1992, 1996, 2000, 2004, 2008, 2012, 2016, 2020]\n"
     ]
    }
   ],
   "source": [
    "year_1=int(input(\"Enter the starting range of Year: \"))\n",
    "year_2=int(input(\"Enter the ending range of year: \"))\n",
    "a=[]\n",
    "\n",
    "for i in range(year_1,year_2+1):\n",
    "    if(i%100 == 0 and i%400 == 0):\n",
    "        a.append(i)\n",
    "    elif(i%4 == 0):\n",
    "        if i not in a:\n",
    "            a.append(i)\n",
    "    else:\n",
    "        continue\n",
    "        \n",
    "print(\"Leap year between \",year_1 , \"and\", year_2, \"are:\",a)\n",
    "            "
   ]
  },
  {
   "cell_type": "code",
   "execution_count": null,
   "id": "ba09e038",
   "metadata": {},
   "outputs": [],
   "source": []
  }
 ],
 "metadata": {
  "kernelspec": {
   "display_name": "Python 3 (ipykernel)",
   "language": "python",
   "name": "python3"
  },
  "language_info": {
   "codemirror_mode": {
    "name": "ipython",
    "version": 3
   },
   "file_extension": ".py",
   "mimetype": "text/x-python",
   "name": "python",
   "nbconvert_exporter": "python",
   "pygments_lexer": "ipython3",
   "version": "3.9.13"
  }
 },
 "nbformat": 4,
 "nbformat_minor": 5
}
