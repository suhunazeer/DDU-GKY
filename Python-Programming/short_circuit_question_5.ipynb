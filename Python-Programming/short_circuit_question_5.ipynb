{
 "cells": [
  {
   "cell_type": "markdown",
   "id": "14d1005a",
   "metadata": {},
   "source": [
    "<b>Question 5:   \n",
    "\n",
    "You are working on a function that takes in a list of numbers and your goal is to check if any two numbers in the list \n",
    "add up to 10. You are working on a program that helps people identify pairs of numbers that add up to 10.\n",
    "You have a long list of numbers and you want to know if there are any pairs of numbers in the list that add up to 10. \n",
    "You know that checking every possible combination of two numbers in the list would take too long, \n",
    "so you decide to write a function to automate the process.\n",
    "\n",
    "\n",
    "How can you use short-circuiting to optimize your function and minimize the number of comparisons made?"
   ]
  },
  {
   "cell_type": "code",
   "execution_count": 49,
   "id": "5218cd61",
   "metadata": {},
   "outputs": [
    {
     "name": "stdout",
     "output_type": "stream",
     "text": [
      "pairs of numbers in the list that add up to 10: [(2, 8), (5, 5), (6, 4), (1, 9)]\n"
     ]
    }
   ],
   "source": [
    "a=[2,3,5,6,8,4,1,9,5,5]\n",
    "op=[]\n",
    "b=[]\n",
    "for i in range(len(a)):    \n",
    "    for j in range(i+1,len(a)):\n",
    "        sum=a[i]+a[j]\n",
    "        if(sum==10): \n",
    "                op.append((a[i],a[j]))\n",
    "for i in op:\n",
    "    if i not in b:\n",
    "        b.append(i)\n",
    "print(\"pairs of numbers in the list that add up to 10:\", b)    "
   ]
  },
  {
   "cell_type": "markdown",
   "id": "480d64f8",
   "metadata": {},
   "source": [
    "<b>Explanation:\n",
    "    \n",
    "we have a list of numbers and to check if the sum of the any two numbers in the list is 10. If the sum of the numbers is 10, pair the numbers and print that pair. \n",
    "    \n",
    "consider a list and check each number of the list with other number in the list by using for loop condition. if the sum of the numbers is 10, then print that pair of number using if condition.\n",
    "    "
   ]
  }
 ],
 "metadata": {
  "kernelspec": {
   "display_name": "Python 3 (ipykernel)",
   "language": "python",
   "name": "python3"
  },
  "language_info": {
   "codemirror_mode": {
    "name": "ipython",
    "version": 3
   },
   "file_extension": ".py",
   "mimetype": "text/x-python",
   "name": "python",
   "nbconvert_exporter": "python",
   "pygments_lexer": "ipython3",
   "version": "3.9.13"
  }
 },
 "nbformat": 4,
 "nbformat_minor": 5
}
