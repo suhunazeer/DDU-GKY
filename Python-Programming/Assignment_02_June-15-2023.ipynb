{
 "cells": [
  {
   "cell_type": "markdown",
   "id": "e4a73ce4",
   "metadata": {},
   "source": [
    "# <center> ASSIGNMENT No-2"
   ]
  },
  {
   "cell_type": "markdown",
   "id": "92a65aa3",
   "metadata": {},
   "source": [
    "<b>1. Write a function called fizz buzz that takes a number.\n",
    "\n",
    "1. If the number is divisible by 3, it should return “Fizz”.\n",
    "\n",
    "2. If it is divisible by 5, it should return “Buzz”.\n",
    "\n",
    "3. If it is divisible by both 3 and 5, it should return “FizzBuzz”.\n",
    "\n",
    "4. Otherwise, it should return the same number."
   ]
  },
  {
   "cell_type": "code",
   "execution_count": 4,
   "id": "a56c2180",
   "metadata": {},
   "outputs": [
    {
     "name": "stdout",
     "output_type": "stream",
     "text": [
      "Enter the number:5\n",
      "Buzz\n"
     ]
    }
   ],
   "source": [
    "n=int(input(\"Enter the number:\"))\n",
    "def fizz_buzz(n):\n",
    "    if (n%3==0 and n%5==0):\n",
    "        print(\"FizzBuzz\")\n",
    "    elif n%3==0:\n",
    "        print(\"Fizz\")\n",
    "    elif n%5==0:\n",
    "        print(\"Buzz\")\n",
    "    else:\n",
    "        return (n)\n",
    "fizz_buzz(n)    "
   ]
  },
  {
   "cell_type": "markdown",
   "id": "7de09f78",
   "metadata": {},
   "source": [
    "<b>2. Write a function for checking the speed of drivers. This function should have one parameter: speed.\n",
    "\n",
    "1. If speed is less than 70, it should print “Ok”.\n",
    "\n",
    "2. Otherwise, for every 5km above the speed limit (70), it should give the driver one demerit point and print the total number of demerit points. For example, if the\n",
    "speed is 80, it should print: “Points: 2”.\n",
    "        \n",
    "3. If the driver gets more than 12 points, the function should print: “License suspended”"
   ]
  },
  {
   "cell_type": "code",
   "execution_count": 2,
   "id": "f4274501",
   "metadata": {},
   "outputs": [
    {
     "name": "stdout",
     "output_type": "stream",
     "text": [
      "Enter the speed:200\n",
      "Your demerits point is above 12 so License suspended\n"
     ]
    }
   ],
   "source": [
    "speed=int(input(\"Enter the speed:\"))\n",
    "def speed_check(speed):\n",
    "    over=speed-70\n",
    "    point=over//5\n",
    "    if point>12:\n",
    "        print(\"Your demerits point is above 12 so License suspended\")\n",
    "    elif speed>70:\n",
    "        print(\"Your demerit points:\",point)\n",
    "    elif speed<=70:\n",
    "        print(\"Ok\")\n",
    "        \n",
    "speed_check(speed)        "
   ]
  },
  {
   "cell_type": "markdown",
   "id": "88767dd0",
   "metadata": {},
   "source": [
    "<b>3. Write a function called show Numbers that takes a parameter called limit. It should print all the numbers between 0 and limit with a label to identify the even and odd numbers. For\n",
    "<b>example, if the limit is 3, it should print:\n",
    "    \n",
    "1. 0 EVEN\n",
    "\n",
    "2. 1 ODD\n",
    "\n",
    "3. 2 EVEN\n",
    "\n",
    "4. 3 ODD"
   ]
  },
  {
   "cell_type": "code",
   "execution_count": 16,
   "id": "e7bf9313",
   "metadata": {},
   "outputs": [
    {
     "name": "stdout",
     "output_type": "stream",
     "text": [
      "Enter the limit:8\n",
      "0 Even\n",
      "1 Odd\n",
      "2 Even\n",
      "3 Odd\n",
      "4 Even\n",
      "5 Odd\n",
      "6 Even\n",
      "7 Odd\n",
      "8 Even\n"
     ]
    }
   ],
   "source": [
    "n=int(input(\"Enter the limit:\"))\n",
    "def show_num(n):\n",
    "    for i in range(0,n+1):\n",
    "        \n",
    "        if i%2==0:\n",
    "            print(i,\"Even\")\n",
    "        else:\n",
    "            print(i,\"Odd\")\n",
    "show_num(n)        "
   ]
  },
  {
   "cell_type": "markdown",
   "id": "85e1eab0",
   "metadata": {},
   "source": [
    "<b>4. Write a function that returns the sum of multiples of 3 and 5 between 0and limit (parameter). \n",
    "\n",
    "For example, if limit is 20, it should return the sum of 3, 5, 6, 9, 10,12, 15, 18, 20.\n",
    "\n"
   ]
  },
  {
   "cell_type": "code",
   "execution_count": 15,
   "id": "ca499d71",
   "metadata": {},
   "outputs": [
    {
     "name": "stdout",
     "output_type": "stream",
     "text": [
      "Enter the limit:20\n",
      "3 5 6 9 10 12 15 18 20 "
     ]
    }
   ],
   "source": [
    "n=int(input(\"Enter the limit:\"))\n",
    "def common_item(n):\n",
    "    for i in range(3,n+1):\n",
    "        if i%3==0 or i%5==0:\n",
    "            print(i,end=\" \")\n",
    "common_item(n)"
   ]
  },
  {
   "cell_type": "markdown",
   "id": "b14e65a5",
   "metadata": {},
   "source": [
    "<b>5. write a python program for creating a quiz game in python"
   ]
  },
  {
   "cell_type": "code",
   "execution_count": 1,
   "id": "9ef6d1d2",
   "metadata": {},
   "outputs": [
    {
     "name": "stdout",
     "output_type": "stream",
     "text": [
      "Welcome to the Quiz Game\n",
      "\n",
      "1 Who is the father of computer:\n",
      " a.Charles Babage\n",
      " b.Dennis Ritchi\n",
      " c.Alan Turing\n",
      "\n",
      "Ans:\n",
      "a\n",
      "\n",
      "\n",
      "2 Who is the father of C language:\n",
      " a.Charles Babage\n",
      " b.Dennis Ritchi\n",
      " c.Alan Turing\n",
      "\n",
      "Ans:\n",
      "b\n",
      "\n",
      "\n",
      "3 Who is the father of AI:\n",
      " a.Charles Babage\n",
      " b.Dennis Ritchi\n",
      " c.Alan Turing\n",
      "\n",
      "Ans:\n",
      "c\n",
      "\n",
      "\n",
      "4 Who is the father of Internet:\n",
      " a.Vint Cerf\n",
      " b.Dennis Ritchi\n",
      " c.Alan Turing\n",
      "\n",
      "Ans:\n",
      "a\n",
      "\n",
      "\n",
      "5 Who is the father of WWW:\n",
      " a.Tim Bernes Lee\n",
      " b.Dennis Ritchi\n",
      " c.Alan Turing\n",
      "\n",
      "Ans:\n",
      "a\n",
      "\n",
      "\n",
      "Total Score= 5\n"
     ]
    }
   ],
   "source": [
    "print(\"Welcome to the Quiz Game\\n\")\n",
    "score=0\n",
    "ans=['a','b','c','a','a']\n",
    "question=[\"Who is the father of computer:\\n a.Charles Babage\\n b.Dennis Ritchi\\n c.Alan Turing\\n\",\n",
    "      \"Who is the father of C language:\\n a.Charles Babage\\n b.Dennis Ritchi\\n c.Alan Turing\\n\",\n",
    "     \"Who is the father of AI:\\n a.Charles Babage\\n b.Dennis Ritchi\\n c.Alan Turing\\n\",\n",
    "     \"Who is the father of Internet:\\n a.Vint Cerf\\n b.Dennis Ritchi\\n c.Alan Turing\\n\",\n",
    "      \"Who is the father of WWW:\\n a.Tim Bernes Lee\\n b.Dennis Ritchi\\n c.Alan Turing\\n\"]\n",
    "\n",
    "for i in range(0,5):\n",
    "    print(i+1,question[i])\n",
    "    print(\"Ans:\")\n",
    "    user=input()\n",
    "    print(\"\\n\")\n",
    "    if user==ans[i]:\n",
    "        score=score+1\n",
    "    else:\n",
    "        continue\n",
    "print(\"Total Score=\",score)"
   ]
  },
  {
   "cell_type": "code",
   "execution_count": null,
   "id": "aeaecd79",
   "metadata": {},
   "outputs": [],
   "source": []
  }
 ],
 "metadata": {
  "kernelspec": {
   "display_name": "Python 3 (ipykernel)",
   "language": "python",
   "name": "python3"
  },
  "language_info": {
   "codemirror_mode": {
    "name": "ipython",
    "version": 3
   },
   "file_extension": ".py",
   "mimetype": "text/x-python",
   "name": "python",
   "nbconvert_exporter": "python",
   "pygments_lexer": "ipython3",
   "version": "3.9.13"
  }
 },
 "nbformat": 4,
 "nbformat_minor": 5
}
