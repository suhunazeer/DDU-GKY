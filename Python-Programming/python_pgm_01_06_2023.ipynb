{
 "cells": [
  {
   "cell_type": "code",
   "execution_count": 1,
   "id": "07f3dc83",
   "metadata": {},
   "outputs": [
    {
     "name": "stdout",
     "output_type": "stream",
     "text": [
      "Hello World!\n"
     ]
    }
   ],
   "source": [
    "a=\"Hello World!\"\n",
    "print(a)"
   ]
  },
  {
   "cell_type": "code",
   "execution_count": 2,
   "id": "e3be2697",
   "metadata": {},
   "outputs": [
    {
     "name": "stdout",
     "output_type": "stream",
     "text": [
      "H\n"
     ]
    }
   ],
   "source": [
    "print(a[0])"
   ]
  },
  {
   "cell_type": "code",
   "execution_count": 3,
   "id": "ee4e455a",
   "metadata": {},
   "outputs": [
    {
     "name": "stdout",
     "output_type": "stream",
     "text": [
      "l\n"
     ]
    }
   ],
   "source": [
    "print(a[9])"
   ]
  },
  {
   "cell_type": "code",
   "execution_count": 4,
   "id": "3172c013",
   "metadata": {},
   "outputs": [
    {
     "name": "stdout",
     "output_type": "stream",
     "text": [
      "l\n"
     ]
    }
   ],
   "source": [
    "print(a[-3])"
   ]
  },
  {
   "cell_type": "code",
   "execution_count": 5,
   "id": "961fc9e9",
   "metadata": {},
   "outputs": [
    {
     "name": "stdout",
     "output_type": "stream",
     "text": [
      "ello\n"
     ]
    }
   ],
   "source": [
    "print(a[1:5])"
   ]
  },
  {
   "cell_type": "code",
   "execution_count": 6,
   "id": "6c86f67e",
   "metadata": {},
   "outputs": [
    {
     "name": "stdout",
     "output_type": "stream",
     "text": [
      "Hello\n"
     ]
    }
   ],
   "source": [
    "print(a[:5])"
   ]
  },
  {
   "cell_type": "code",
   "execution_count": 7,
   "id": "241f8249",
   "metadata": {},
   "outputs": [
    {
     "name": "stdout",
     "output_type": "stream",
     "text": [
      "orl\n"
     ]
    }
   ],
   "source": [
    "print(a[-5:-2])"
   ]
  },
  {
   "cell_type": "code",
   "execution_count": 8,
   "id": "421862de",
   "metadata": {},
   "outputs": [
    {
     "name": "stdout",
     "output_type": "stream",
     "text": [
      "HELLO WORLD!\n"
     ]
    }
   ],
   "source": [
    "print(a.upper())"
   ]
  },
  {
   "cell_type": "code",
   "execution_count": 9,
   "id": "141db662",
   "metadata": {},
   "outputs": [
    {
     "name": "stdout",
     "output_type": "stream",
     "text": [
      "hello world!\n"
     ]
    }
   ],
   "source": [
    "print(a.lower())"
   ]
  },
  {
   "cell_type": "code",
   "execution_count": 10,
   "id": "9988ee5c",
   "metadata": {},
   "outputs": [
    {
     "name": "stdout",
     "output_type": "stream",
     "text": [
      "!\n"
     ]
    }
   ],
   "source": [
    "print(a[-1])"
   ]
  },
  {
   "cell_type": "code",
   "execution_count": 11,
   "id": "532f09c3",
   "metadata": {},
   "outputs": [
    {
     "name": "stdout",
     "output_type": "stream",
     "text": [
      "!dlroW olleH\n"
     ]
    }
   ],
   "source": [
    "print(a[::-1])"
   ]
  },
  {
   "cell_type": "code",
   "execution_count": 12,
   "id": "c68645f0",
   "metadata": {},
   "outputs": [
    {
     "name": "stdout",
     "output_type": "stream",
     "text": [
      "Hi, Hello\n"
     ]
    }
   ],
   "source": [
    "str= \" Hi, Hello\"\n",
    "print(str.strip())"
   ]
  },
  {
   "cell_type": "code",
   "execution_count": 13,
   "id": "cbf76251",
   "metadata": {},
   "outputs": [
    {
     "name": "stdout",
     "output_type": "stream",
     "text": [
      " Hy, Hello\n"
     ]
    }
   ],
   "source": [
    "print(str.replace(\"i\",\"y\"))"
   ]
  },
  {
   "cell_type": "code",
   "execution_count": 14,
   "id": "fe86fe44",
   "metadata": {},
   "outputs": [
    {
     "name": "stdout",
     "output_type": "stream",
     "text": [
      "['', 'Hi,', 'Hello']\n"
     ]
    }
   ],
   "source": [
    "print(str.split(\" \"))"
   ]
  },
  {
   "cell_type": "code",
   "execution_count": 15,
   "id": "73eba60e",
   "metadata": {},
   "outputs": [
    {
     "name": "stdout",
     "output_type": "stream",
     "text": [
      "[' ', 'i, ', 'ello']\n"
     ]
    }
   ],
   "source": [
    "print(str.split(\"H\"))"
   ]
  },
  {
   "cell_type": "code",
   "execution_count": 16,
   "id": "04626d2f",
   "metadata": {},
   "outputs": [
    {
     "data": {
      "text/plain": [
       "'Saby'"
      ]
     },
     "execution_count": 16,
     "metadata": {},
     "output_type": "execute_result"
    }
   ],
   "source": [
    "strn=\"Strawberry\"\n",
    "s1=strn[0]+strn[3]+strn[5]+strn[9]\n",
    "s1"
   ]
  },
  {
   "cell_type": "code",
   "execution_count": 30,
   "id": "0e8652cc",
   "metadata": {},
   "outputs": [
    {
     "data": {
      "text/plain": [
       "5.0"
      ]
     },
     "execution_count": 30,
     "metadata": {},
     "output_type": "execute_result"
    }
   ],
   "source": [
    "mid=len(strn)/2\n",
    "mid"
   ]
  },
  {
   "cell_type": "code",
   "execution_count": 17,
   "id": "6d787a6c",
   "metadata": {},
   "outputs": [
    {
     "name": "stdout",
     "output_type": "stream",
     "text": [
      "Saby\n"
     ]
    }
   ],
   "source": [
    "print(s1)"
   ]
  },
  {
   "cell_type": "code",
   "execution_count": 18,
   "id": "0f10cf18",
   "metadata": {},
   "outputs": [
    {
     "data": {
      "text/plain": [
       "10"
      ]
     },
     "execution_count": 18,
     "metadata": {},
     "output_type": "execute_result"
    }
   ],
   "source": [
    "len(strn)"
   ]
  },
  {
   "cell_type": "code",
   "execution_count": 19,
   "id": "01c44078",
   "metadata": {},
   "outputs": [],
   "source": [
    "###### Write a programm to calculate the area of a circle"
   ]
  },
  {
   "cell_type": "code",
   "execution_count": 20,
   "id": "01a4fd18",
   "metadata": {},
   "outputs": [
    {
     "name": "stdout",
     "output_type": "stream",
     "text": [
      "Area = 78.5\n"
     ]
    }
   ],
   "source": [
    "r=5\n",
    "area= 3.14*5*5\n",
    "print(\"Area =\",area)"
   ]
  },
  {
   "cell_type": "code",
   "execution_count": 21,
   "id": "e663970e",
   "metadata": {},
   "outputs": [
    {
     "name": "stdout",
     "output_type": "stream",
     "text": [
      "Enter radius3\n",
      "Area = 28.259999999999998\n"
     ]
    }
   ],
   "source": [
    "r=int(input(\"Enter radius\"))\n",
    "area=3.14*r*r\n",
    "print(\"Area =\", area)"
   ]
  },
  {
   "cell_type": "code",
   "execution_count": 22,
   "id": "0e529eb9",
   "metadata": {},
   "outputs": [],
   "source": [
    "#### Write a program to get the volume of a sphere with radius=6"
   ]
  },
  {
   "cell_type": "code",
   "execution_count": 23,
   "id": "24f8422c",
   "metadata": {},
   "outputs": [
    {
     "name": "stdout",
     "output_type": "stream",
     "text": [
      "Volume = 904.3199999999999\n"
     ]
    }
   ],
   "source": [
    "r=6\n",
    "vol=4/3 * (3.14*6*6*6)\n",
    "print(\"Volume =\",vol)"
   ]
  },
  {
   "cell_type": "code",
   "execution_count": 24,
   "id": "0e559cfb",
   "metadata": {},
   "outputs": [],
   "source": [
    "####### Write a program that accept the user'sfirst and last name and print them in reverse order with a space between them"
   ]
  },
  {
   "cell_type": "code",
   "execution_count": 27,
   "id": "33be687b",
   "metadata": {},
   "outputs": [
    {
     "name": "stdout",
     "output_type": "stream",
     "text": [
      "Enter your First_Name:Suhaina\n",
      "Enter your Last_Name:Nazeer\n",
      "reezaN aniahuS\n"
     ]
    }
   ],
   "source": [
    "f_name=input(\"Enter your First_Name:\")\n",
    "l_name=input(\"Enter your Last_Name:\")\n",
    "print(l_name[::-1],f_name[::-1])"
   ]
  },
  {
   "cell_type": "code",
   "execution_count": 28,
   "id": "7f3c50d6",
   "metadata": {},
   "outputs": [
    {
     "name": "stdout",
     "output_type": "stream",
     "text": [
      "reezaN aniahuS\n"
     ]
    }
   ],
   "source": [
    "a=\"Suhaina\"\n",
    "b=\"Nazeer\"\n",
    "print(b[::-1],a[::-1])"
   ]
  },
  {
   "cell_type": "code",
   "execution_count": 31,
   "id": "82a4b800",
   "metadata": {},
   "outputs": [],
   "source": [
    "#### Append a new string in the middle of given string\n",
    "s1=\"AULT\"\n",
    "s2=\"KELLY\"\n",
    "s3=\"AUKELLYLT\""
   ]
  },
  {
   "cell_type": "code",
   "execution_count": 32,
   "id": "38e51263",
   "metadata": {},
   "outputs": [
    {
     "name": "stdout",
     "output_type": "stream",
     "text": [
      "AUKELLYLT\n"
     ]
    }
   ],
   "source": [
    "s1=\"AULT\"\n",
    "s2=\"KELLY\"\n",
    "s3=s1[0]+s1[1]+s2+s1[2]+s1[3]\n",
    "print(s3)"
   ]
  },
  {
   "cell_type": "code",
   "execution_count": 37,
   "id": "4a92e312",
   "metadata": {},
   "outputs": [],
   "source": [
    "#### Create a new string made of first,middle and last characters of each input string\n",
    "# str1=America\n",
    "# str2=Japan\n",
    "# op=AJrpan\n"
   ]
  },
  {
   "cell_type": "code",
   "execution_count": 39,
   "id": "57a6a190",
   "metadata": {},
   "outputs": [
    {
     "name": "stdout",
     "output_type": "stream",
     "text": [
      "AJrpan\n"
     ]
    }
   ],
   "source": [
    "str1=\"America\"\n",
    "str2=\"Japan\"\n",
    "op=str1[0]+str2[0]+str1[3]+str2[2:]\n",
    "print(op)"
   ]
  },
  {
   "cell_type": "code",
   "execution_count": null,
   "id": "131b7df4",
   "metadata": {},
   "outputs": [],
   "source": [
    "#### Create a new string made of first,middle and last characters of each input string\n",
    "# str1=America\n",
    "# str2=Japan\n",
    "# op=AJrpan"
   ]
  },
  {
   "cell_type": "code",
   "execution_count": 42,
   "id": "5224b9a9",
   "metadata": {},
   "outputs": [
    {
     "name": "stdout",
     "output_type": "stream",
     "text": [
      "AJrpan\n"
     ]
    }
   ],
   "source": [
    "str1=\"America\"\n",
    "str2=\"Japan\"\n",
    "op=str1[0]+str2[0]+str1[3]+str2[2]+str1[-1]+str2[-1]\n",
    "print(op)"
   ]
  },
  {
   "cell_type": "code",
   "execution_count": 44,
   "id": "e0a49a2a",
   "metadata": {},
   "outputs": [
    {
     "name": "stdout",
     "output_type": "stream",
     "text": [
      "AJrpan\n"
     ]
    }
   ],
   "source": [
    "s1=\"America\"\n",
    "s2=\"Japan\"\n",
    "mid1=len(s1)//2\n",
    "mid2=len(s2)//2\n",
    "op=s1[0]+s2[0]+s1[mid1]+s2[mid2]+s1[-1]+s2[-1]\n",
    "print(op)"
   ]
  },
  {
   "cell_type": "code",
   "execution_count": null,
   "id": "254f6996",
   "metadata": {},
   "outputs": [],
   "source": []
  }
 ],
 "metadata": {
  "kernelspec": {
   "display_name": "Python 3 (ipykernel)",
   "language": "python",
   "name": "python3"
  },
  "language_info": {
   "codemirror_mode": {
    "name": "ipython",
    "version": 3
   },
   "file_extension": ".py",
   "mimetype": "text/x-python",
   "name": "python",
   "nbconvert_exporter": "python",
   "pygments_lexer": "ipython3",
   "version": "3.9.13"
  }
 },
 "nbformat": 4,
 "nbformat_minor": 5
}
