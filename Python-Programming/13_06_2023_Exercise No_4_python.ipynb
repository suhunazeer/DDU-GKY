{
 "cells": [
  {
   "cell_type": "markdown",
   "id": "b1cac4cd",
   "metadata": {},
   "source": [
    "<b>1. Write a Python function to sum all the numbers in a list.\n",
    "\n",
    "    Sample List : (8, 2, 3, 0, 7)\n",
    "\n",
    "    Expected Output : 20"
   ]
  },
  {
   "cell_type": "code",
   "execution_count": 1,
   "id": "949b5473",
   "metadata": {},
   "outputs": [
    {
     "name": "stdout",
     "output_type": "stream",
     "text": [
      "Sum of the items in the list is 20\n"
     ]
    }
   ],
   "source": [
    "a=[8,2,3,0,7]\n",
    "\n",
    "def sum_list(a):   \n",
    "    sum=0\n",
    "    for i in a:\n",
    "        sum=sum+i\n",
    "    return sum\n",
    "\n",
    "print(\"Sum of the items in the list is\",sum_list(a))    "
   ]
  },
  {
   "cell_type": "markdown",
   "id": "382ff255",
   "metadata": {},
   "source": [
    "<b>2.Write a Python function to multiply all the numbers in a list.\n",
    "\n",
    "Sample List : (8, 2, 3, -1, 7)\n",
    "\n",
    "Expected Output : -336"
   ]
  },
  {
   "cell_type": "code",
   "execution_count": 2,
   "id": "ce170b49",
   "metadata": {},
   "outputs": [
    {
     "name": "stdout",
     "output_type": "stream",
     "text": [
      "Multiplication result of list is: -336\n"
     ]
    }
   ],
   "source": [
    "a=[8, 2, 3, -1, 7]\n",
    "\n",
    "def multiply_list(a):\n",
    "    m=1\n",
    "    for i in a:\n",
    "        m=m*i\n",
    "    return m   \n",
    "print(\"Multiplication result of list is:\",multiply_list(a))"
   ]
  },
  {
   "cell_type": "markdown",
   "id": "483d5214",
   "metadata": {},
   "source": [
    "<b>3. Write a Python function to calculate the factorial of a number (a non-negativeinteger). The function accepts the number as an argument."
   ]
  },
  {
   "cell_type": "code",
   "execution_count": 3,
   "id": "ca502dd3",
   "metadata": {},
   "outputs": [
    {
     "name": "stdout",
     "output_type": "stream",
     "text": [
      "Enter the number:5\n",
      "Factorial of a number 5 120\n"
     ]
    }
   ],
   "source": [
    "n=int(input(\"Enter the number:\"))\n",
    "def fact_fun(n):\n",
    "    fact=1\n",
    "    for i in range(1,n+1):\n",
    "        fact=fact*i\n",
    "    return fact   \n",
    "print(\"Factorial of a number\",n,fact_fun(n))"
   ]
  },
  {
   "cell_type": "markdown",
   "id": "daf09dc9",
   "metadata": {},
   "source": [
    "<b>4. Write a Python function to check whether a number falls within a given range.\n",
    "\n"
   ]
  },
  {
   "cell_type": "code",
   "execution_count": 4,
   "id": "366fa152",
   "metadata": {},
   "outputs": [
    {
     "name": "stdout",
     "output_type": "stream",
     "text": [
      "Enter a number:3\n",
      "3 is in  given range\n"
     ]
    }
   ],
   "source": [
    "range=20\n",
    "n=int(input(\"Enter a number:\"))\n",
    "def check_num(n):\n",
    "    if n<=range:\n",
    "        print(n,\"is in  given range\")\n",
    "    else:\n",
    "        print(n,\"Not in range\")\n",
    "check_num(n)        "
   ]
  },
  {
   "cell_type": "markdown",
   "id": "2256ed4d",
   "metadata": {},
   "source": [
    "<b>5. Write a Python function that accepts a string and counts the number of upper and lower case letters.\n",
    "\n",
    "Sample String : 'The quick Brow Fox'\n",
    "\n",
    "Expected Output :\n",
    "    \n",
    "No. of Upper case characters : 3\n",
    "    \n",
    "No. of Lower case Characters : 12"
   ]
  },
  {
   "cell_type": "code",
   "execution_count": 5,
   "id": "a9392556",
   "metadata": {
    "scrolled": false
   },
   "outputs": [
    {
     "name": "stdout",
     "output_type": "stream",
     "text": [
      "Enter the String:The Boys\n",
      "No.of upper cases: 2\n",
      "No. of Lower cases: 5\n"
     ]
    }
   ],
   "source": [
    "a=input(\"Enter the String:\")\n",
    "def check_char(a):\n",
    "    up_count=0\n",
    "    low_count=0\n",
    "    for i in a:\n",
    "        if i.isupper():\n",
    "            up_count=up_count+1     \n",
    "        elif i.islower():\n",
    "            low_count=low_count+1\n",
    "    print(\"No.of upper cases:\",up_count)           \n",
    "    print(\"No. of Lower cases:\",low_count)\n",
    "check_char(a)"
   ]
  },
  {
   "cell_type": "code",
   "execution_count": 6,
   "id": "ec4ab84c",
   "metadata": {},
   "outputs": [
    {
     "ename": "SyntaxError",
     "evalue": "invalid syntax (1469922223.py, line 9)",
     "output_type": "error",
     "traceback": [
      "\u001b[1;36m  File \u001b[1;32m\"C:\\Users\\USER\\AppData\\Local\\Temp\\ipykernel_8632\\1469922223.py\"\u001b[1;36m, line \u001b[1;32m9\u001b[0m\n\u001b[1;33m    else (a[i]==a[i].lower()):\u001b[0m\n\u001b[1;37m         ^\u001b[0m\n\u001b[1;31mSyntaxError\u001b[0m\u001b[1;31m:\u001b[0m invalid syntax\n"
     ]
    }
   ],
   "source": [
    "a=\"The Quick ReEsponse\"\n",
    "x=len(a)\n",
    "def check_char(a):\n",
    "    up_count=0\n",
    "    low_count=0\n",
    "    for i in range(x+1):\n",
    "        if a[i]==a[i].upper():\n",
    "            up_count=up_count+1\n",
    "        else (a[i]==a[i].lower()):\n",
    "            low_count=low_count+1\n",
    "    print(\"No.of upper cases:\",up_count)\n",
    "    print(\"No.of lower cases:\",low_count)\n",
    "check_char(a)    "
   ]
  },
  {
   "cell_type": "code",
   "execution_count": null,
   "id": "31e306a6",
   "metadata": {},
   "outputs": [],
   "source": [
    "<b>6. Write a Python function that takes a list and returns a new list with distinct elements from the first list.\n",
    "\n",
    "Sample List : [1,2,3,3,3,3,4,5]\n",
    "\n",
    "Unique List : [1, 2, 3, 4, 5]"
   ]
  },
  {
   "cell_type": "code",
   "execution_count": 7,
   "id": "a6ac50af",
   "metadata": {},
   "outputs": [
    {
     "name": "stdout",
     "output_type": "stream",
     "text": [
      "New List [1, 2, 3, 4, 5]\n"
     ]
    }
   ],
   "source": [
    "a=[1,2,3,3,3,3,4,5]\n",
    "b=[]\n",
    "def duplicate_fun(a):\n",
    "    for i in a:\n",
    "        if i not in b:\n",
    "            b.append(i)\n",
    "    print(\"New List\",b)      \n",
    "duplicate_fun(a)    "
   ]
  },
  {
   "cell_type": "markdown",
   "id": "baca2135",
   "metadata": {},
   "source": [
    "<b> 7. Write a Python function that takes a number as a parameter and checks whether the number is prime or not."
   ]
  },
  {
   "cell_type": "code",
   "execution_count": 8,
   "id": "5ec2add9",
   "metadata": {},
   "outputs": [
    {
     "name": "stdout",
     "output_type": "stream",
     "text": [
      "Enter a number: 2\n"
     ]
    },
    {
     "ename": "TypeError",
     "evalue": "'int' object is not callable",
     "output_type": "error",
     "traceback": [
      "\u001b[1;31m---------------------------------------------------------------------------\u001b[0m",
      "\u001b[1;31mTypeError\u001b[0m                                 Traceback (most recent call last)",
      "\u001b[1;32m~\\AppData\\Local\\Temp\\ipykernel_8632\\2763977044.py\u001b[0m in \u001b[0;36m<module>\u001b[1;34m\u001b[0m\n\u001b[0;32m     10\u001b[0m         \u001b[1;32mif\u001b[0m \u001b[0mflag\u001b[0m\u001b[1;33m==\u001b[0m\u001b[1;36m0\u001b[0m\u001b[1;33m:\u001b[0m\u001b[1;33m\u001b[0m\u001b[1;33m\u001b[0m\u001b[0m\n\u001b[0;32m     11\u001b[0m             \u001b[0mprint\u001b[0m\u001b[1;33m(\u001b[0m\u001b[0mn\u001b[0m\u001b[1;33m,\u001b[0m\u001b[1;34m\"is a prime\"\u001b[0m\u001b[1;33m)\u001b[0m\u001b[1;33m\u001b[0m\u001b[1;33m\u001b[0m\u001b[0m\n\u001b[1;32m---> 12\u001b[1;33m \u001b[0mprime_fun\u001b[0m\u001b[1;33m(\u001b[0m\u001b[0mn\u001b[0m\u001b[1;33m)\u001b[0m\u001b[1;33m\u001b[0m\u001b[1;33m\u001b[0m\u001b[0m\n\u001b[0m",
      "\u001b[1;32m~\\AppData\\Local\\Temp\\ipykernel_8632\\2763977044.py\u001b[0m in \u001b[0;36mprime_fun\u001b[1;34m(n)\u001b[0m\n\u001b[0;32m      3\u001b[0m     \u001b[0mflag\u001b[0m\u001b[1;33m=\u001b[0m\u001b[1;36m0\u001b[0m\u001b[1;33m\u001b[0m\u001b[1;33m\u001b[0m\u001b[0m\n\u001b[0;32m      4\u001b[0m     \u001b[1;32mif\u001b[0m \u001b[0mn\u001b[0m\u001b[1;33m>\u001b[0m\u001b[1;36m1\u001b[0m\u001b[1;33m:\u001b[0m\u001b[1;33m\u001b[0m\u001b[1;33m\u001b[0m\u001b[0m\n\u001b[1;32m----> 5\u001b[1;33m         \u001b[1;32mfor\u001b[0m \u001b[0mi\u001b[0m \u001b[1;32min\u001b[0m \u001b[0mrange\u001b[0m\u001b[1;33m(\u001b[0m\u001b[1;36m2\u001b[0m\u001b[1;33m,\u001b[0m\u001b[1;33m(\u001b[0m\u001b[0mn\u001b[0m\u001b[1;33m//\u001b[0m\u001b[1;36m2\u001b[0m\u001b[1;33m)\u001b[0m\u001b[1;33m+\u001b[0m\u001b[1;36m1\u001b[0m\u001b[1;33m)\u001b[0m\u001b[1;33m:\u001b[0m\u001b[1;33m\u001b[0m\u001b[1;33m\u001b[0m\u001b[0m\n\u001b[0m\u001b[0;32m      6\u001b[0m             \u001b[1;32mif\u001b[0m \u001b[0mn\u001b[0m\u001b[1;33m%\u001b[0m\u001b[0mi\u001b[0m\u001b[1;33m==\u001b[0m\u001b[1;36m0\u001b[0m\u001b[1;33m:\u001b[0m\u001b[1;33m\u001b[0m\u001b[1;33m\u001b[0m\u001b[0m\n\u001b[0;32m      7\u001b[0m                 \u001b[0mflag\u001b[0m\u001b[1;33m=\u001b[0m\u001b[1;36m1\u001b[0m\u001b[1;33m\u001b[0m\u001b[1;33m\u001b[0m\u001b[0m\n",
      "\u001b[1;31mTypeError\u001b[0m: 'int' object is not callable"
     ]
    }
   ],
   "source": [
    "n=int(input(\"Enter a number: \"))\n",
    "def prime_fun(n):   \n",
    "    flag=0\n",
    "    if n>1:\n",
    "        for i in range(2,(n//2)):\n",
    "            if n%i==0:\n",
    "                flag=1\n",
    "                print(n,\"is not prime \")\n",
    "                break\n",
    "        if flag==0:\n",
    "            print(n,\"is a prime\")\n",
    "prime_fun(n)            "
   ]
  },
  {
   "cell_type": "code",
   "execution_count": 13,
   "id": "652011a1",
   "metadata": {},
   "outputs": [
    {
     "ename": "TypeError",
     "evalue": "'int' object is not callable",
     "output_type": "error",
     "traceback": [
      "\u001b[1;31m---------------------------------------------------------------------------\u001b[0m",
      "\u001b[1;31mTypeError\u001b[0m                                 Traceback (most recent call last)",
      "\u001b[1;32m~\\AppData\\Local\\Temp\\ipykernel_8632\\575799463.py\u001b[0m in \u001b[0;36m<module>\u001b[1;34m\u001b[0m\n\u001b[0;32m     11\u001b[0m     \u001b[1;32melse\u001b[0m\u001b[1;33m:\u001b[0m\u001b[1;33m\u001b[0m\u001b[1;33m\u001b[0m\u001b[0m\n\u001b[0;32m     12\u001b[0m         \u001b[0mprint\u001b[0m\u001b[1;33m(\u001b[0m\u001b[1;34m\"prime\"\u001b[0m\u001b[1;33m)\u001b[0m\u001b[1;33m\u001b[0m\u001b[1;33m\u001b[0m\u001b[0m\n\u001b[1;32m---> 13\u001b[1;33m \u001b[0mabc_fun\u001b[0m\u001b[1;33m(\u001b[0m\u001b[1;36m9\u001b[0m\u001b[1;33m)\u001b[0m\u001b[1;33m\u001b[0m\u001b[1;33m\u001b[0m\u001b[0m\n\u001b[0m",
      "\u001b[1;32m~\\AppData\\Local\\Temp\\ipykernel_8632\\575799463.py\u001b[0m in \u001b[0;36mabc_fun\u001b[1;34m(n)\u001b[0m\n\u001b[0;32m      1\u001b[0m \u001b[1;32mdef\u001b[0m \u001b[0mabc_fun\u001b[0m\u001b[1;33m(\u001b[0m\u001b[0mn\u001b[0m\u001b[1;33m)\u001b[0m\u001b[1;33m:\u001b[0m\u001b[1;33m\u001b[0m\u001b[1;33m\u001b[0m\u001b[0m\n\u001b[0;32m      2\u001b[0m     \u001b[0mflag\u001b[0m\u001b[1;33m=\u001b[0m\u001b[1;36m1\u001b[0m\u001b[1;33m\u001b[0m\u001b[1;33m\u001b[0m\u001b[0m\n\u001b[1;32m----> 3\u001b[1;33m     \u001b[1;32mfor\u001b[0m \u001b[0my\u001b[0m \u001b[1;32min\u001b[0m \u001b[0mrange\u001b[0m\u001b[1;33m(\u001b[0m\u001b[1;36m2\u001b[0m\u001b[1;33m,\u001b[0m\u001b[0mn\u001b[0m\u001b[1;33m)\u001b[0m\u001b[1;33m:\u001b[0m\u001b[1;33m\u001b[0m\u001b[1;33m\u001b[0m\u001b[0m\n\u001b[0m\u001b[0;32m      4\u001b[0m         \u001b[1;32mif\u001b[0m \u001b[0mn\u001b[0m\u001b[1;33m%\u001b[0m\u001b[0my\u001b[0m\u001b[1;33m==\u001b[0m\u001b[1;36m0\u001b[0m\u001b[1;33m:\u001b[0m\u001b[1;33m\u001b[0m\u001b[1;33m\u001b[0m\u001b[0m\n\u001b[0;32m      5\u001b[0m             \u001b[0mflag\u001b[0m\u001b[1;33m=\u001b[0m\u001b[1;36m0\u001b[0m\u001b[1;33m\u001b[0m\u001b[1;33m\u001b[0m\u001b[0m\n",
      "\u001b[1;31mTypeError\u001b[0m: 'int' object is not callable"
     ]
    }
   ],
   "source": [
    "def abc_fun(n):\n",
    "    flag=1\n",
    "    for y in range(2,n):\n",
    "        if n%y == 0:\n",
    "            flag=0\n",
    "    if flag==0:\n",
    "        print(\"Not prime\")\n",
    "    else:\n",
    "        print(\"prime\")\n",
    "abc_fun(9)    "
   ]
  },
  {
   "cell_type": "code",
   "execution_count": null,
   "id": "b23368b9",
   "metadata": {},
   "outputs": [],
   "source": [
    "4%2"
   ]
  },
  {
   "cell_type": "code",
   "execution_count": null,
   "id": "143ef5c9",
   "metadata": {},
   "outputs": [],
   "source": []
  }
 ],
 "metadata": {
  "kernelspec": {
   "display_name": "Python 3 (ipykernel)",
   "language": "python",
   "name": "python3"
  },
  "language_info": {
   "codemirror_mode": {
    "name": "ipython",
    "version": 3
   },
   "file_extension": ".py",
   "mimetype": "text/x-python",
   "name": "python",
   "nbconvert_exporter": "python",
   "pygments_lexer": "ipython3",
   "version": "3.9.13"
  }
 },
 "nbformat": 4,
 "nbformat_minor": 5
}
