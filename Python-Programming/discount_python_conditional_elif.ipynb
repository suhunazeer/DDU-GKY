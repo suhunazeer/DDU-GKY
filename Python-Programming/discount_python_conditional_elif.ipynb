{
 "cells": [
  {
   "cell_type": "markdown",
   "id": "2b8fe92f",
   "metadata": {},
   "source": [
    "<b>The \"elif\" Statement in Python Conditionals\n",
    "\n",
    "<b>Question 4:   \n",
    "    \n",
    "Sarah is working on a Python program that involves conditional statements. \n",
    "She has used \"if\" and \"else\" statements before, but now she wants to learn about the \"elif\" statement and \n",
    "how it can be used to improve her code.\n",
    "\n",
    "Sarah is working on a program that calculates the total cost of a customer's order based on the items they have selected. \n",
    "She needs to offer discounts to customers who have ordered a certain number of items, and she wants to use a conditional \n",
    "statement to determine the discount amount. She has already used an \"if\" statement to check if the customer has \n",
    "ordered more than a certain number of items, but now she wants to add more conditions and use the \"elif\" \n",
    "statement to offer different discounts based on the number of items ordered. \n",
    "\n",
    "Help her to use \"elif\" statement in a Python conditional statement, and explain how does it differ from \"else\" and \"if\"? "
   ]
  },
  {
   "cell_type": "code",
   "execution_count": 5,
   "id": "14f732a5",
   "metadata": {
    "scrolled": false
   },
   "outputs": [
    {
     "name": "stdout",
     "output_type": "stream",
     "text": [
      "Enter the no.of items you want to purchase:4\n",
      "Enter the item: book\n",
      "Enter the item: soap\n",
      "Enter the item: mango\n",
      "Enter the item: apple\n",
      "You paurchased 4 items,so eligible for 5% Discount !!!\n",
      "\n",
      "Total amount is Rs. 400 After discount your payable amount is :Rs. 380.0\n"
     ]
    }
   ],
   "source": [
    "menu={'milk':30, 'sugar':45, 'banana':50,'apple':200,'tomato':20,'book':30,\n",
    "      'soap':20,'chocolate':20,'mango':150,'potato':30,'rice':55,'orange':80,\n",
    "      'cake':60,'biscuit':40 }\n",
    "c=0\n",
    "total=0\n",
    "choice=[]\n",
    "\n",
    "n=int(input(\"Enter the no.of items you want to purchase:\"))\n",
    "\n",
    "while n>c:\n",
    "    purchase=input(\"Enter the item: \")\n",
    "    choice.append(purchase)\n",
    "    c=c+1\n",
    "    \n",
    "for k in choice:\n",
    "    total=total+menu[k]\n",
    "    \n",
    "if 3<=n<=5:\n",
    "    discount=total-(5/100)*total\n",
    "    print(\"You paurchased\",n,\"items,so eligible for 5% Discount !!!\\n\")\n",
    "    print(\"Total amount is Rs.\",total,\".After discount your payable amount is :Rs.\",discount)\n",
    "    \n",
    "elif 6<=n<=10:\n",
    "    discount=total-(10/100)*total\n",
    "    print(\"You paurchased\",n,\"items,so eligible for 10% Discount !!!\\n\")\n",
    "    print(\"Total amount is Rs.\",total,\".After discount your payable amount is :Rs.\",discount)\n",
    "    \n",
    "elif n>10:\n",
    "    discount=total-(25/100)*total\n",
    "    print(\"You paurchased\",n,\"items,so eligible for 25% Discount !!!\\n\")\n",
    "    print(\"Total amount is Rs.\",total,\".After discount your payable amount is :Rs.\",discount)\n",
    "    \n",
    "else:\n",
    "    print(\"Total amount payable is :Rs.\",total)\n",
    "    "
   ]
  },
  {
   "cell_type": "markdown",
   "id": "e50300ee",
   "metadata": {},
   "source": [
    "<b> <u> Explanation\n",
    " \n",
    "Make a dictionary of items with prices. By taking the customer's no.of order, using while loop enter the number of items \n",
    "that listed out in the dictionary. To check whether the customer is eligible for discount on the basis of no.of order. For that\n",
    "we can use if and elif condition. \n",
    "\n",
    "The no.of item ordered by the customer is between 3 and 5, check the condition with if statement and it is true apply 5% discount\n",
    "and print the payable amount.\n",
    "\n",
    "If the no.of item ordered is between 5 and 10, check the statement with elif condition and it is true, apply 10% discount \n",
    "and print the payable amount.\n",
    "\n",
    "Also to check the item ordered is above 10, check the condition with elif statement and it is true, apply 25% discount \n",
    "and print the payable amount.\n",
    "    \n",
    "If none of the above condition is true and customer order is below 3 items, check the condition in else statement,\n",
    "no discount is applicable print the total amount itself.\n"
   ]
  },
  {
   "cell_type": "code",
   "execution_count": null,
   "id": "d61cf4a7",
   "metadata": {},
   "outputs": [],
   "source": []
  }
 ],
 "metadata": {
  "kernelspec": {
   "display_name": "Python 3 (ipykernel)",
   "language": "python",
   "name": "python3"
  },
  "language_info": {
   "codemirror_mode": {
    "name": "ipython",
    "version": 3
   },
   "file_extension": ".py",
   "mimetype": "text/x-python",
   "name": "python",
   "nbconvert_exporter": "python",
   "pygments_lexer": "ipython3",
   "version": "3.10.9"
  }
 },
 "nbformat": 4,
 "nbformat_minor": 5
}
