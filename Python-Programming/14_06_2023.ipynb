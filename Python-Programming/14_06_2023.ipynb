{
 "cells": [
  {
   "cell_type": "markdown",
   "id": "7612c4cf",
   "metadata": {},
   "source": [
    "<b> 7. Write a Python function that takes a number as a parameter and checks whether the number is prime or not."
   ]
  },
  {
   "cell_type": "code",
   "execution_count": 1,
   "id": "51c183a5",
   "metadata": {},
   "outputs": [
    {
     "name": "stdout",
     "output_type": "stream",
     "text": [
      "Enter the number:3\n",
      "prime\n"
     ]
    }
   ],
   "source": [
    "n=int(input(\"Enter the number:\"))\n",
    "def abc_fun(n):\n",
    "    flag=1\n",
    "    for y in range(2,n):\n",
    "        if n%y == 0:\n",
    "            flag=0\n",
    "    if flag==0:\n",
    "        print(\"Not prime\")\n",
    "    else:\n",
    "        print(\"prime\")\n",
    "abc_fun(n)    "
   ]
  },
  {
   "cell_type": "markdown",
   "id": "6e1f70fb",
   "metadata": {},
   "source": [
    "<b>8. Write a Python function to check whether a number is Perfect or not."
   ]
  },
  {
   "cell_type": "code",
   "execution_count": 6,
   "id": "b4d40835",
   "metadata": {},
   "outputs": [
    {
     "name": "stdout",
     "output_type": "stream",
     "text": [
      "Enter the number:28\n",
      "Number is perfect\n"
     ]
    }
   ],
   "source": [
    "n=int(input(\"Enter the number:\"))\n",
    "def check_sum_num(n):\n",
    "    sum=0\n",
    "    for i in range(1,n):\n",
    "        if n%i == 0:\n",
    "            sum=sum+i\n",
    "    if n==sum:\n",
    "        print(\"Number is perfect\")\n",
    "    else:\n",
    "        print(\"Not Perfect\")\n",
    "check_sum_num(n)        "
   ]
  },
  {
   "cell_type": "markdown",
   "id": "e1a98920",
   "metadata": {},
   "source": [
    "<b>9.Write a Python function that checks whether a passed string is a palindrome or not."
   ]
  },
  {
   "cell_type": "code",
   "execution_count": 3,
   "id": "231eebdc",
   "metadata": {},
   "outputs": [
    {
     "name": "stdout",
     "output_type": "stream",
     "text": [
      "Enter the string:121\n",
      "121 is Palindrome\n"
     ]
    }
   ],
   "source": [
    "a=input(\"Enter the string:\")\n",
    "b=a[::-1]\n",
    "def palindrome(a):\n",
    "    if a==b:\n",
    "        print(a,\"is Palindrome\")\n",
    "    else:\n",
    "        print(a,\"is Not Palindrome\")\n",
    "palindrome(a)        "
   ]
  },
  {
   "cell_type": "code",
   "execution_count": 4,
   "id": "cbec40c1",
   "metadata": {},
   "outputs": [
    {
     "name": "stdout",
     "output_type": "stream",
     "text": [
      "Enter the string:123\n",
      "123 is Not Palindrome\n"
     ]
    }
   ],
   "source": [
    "a=input(\"Enter the string:\")\n",
    "def palindrome(a):\n",
    "    if a[0]==a[-1]:\n",
    "        print(a,\"is Palindrome\")\n",
    "    else:\n",
    "        print(a,\"is Not Palindrome\")\n",
    "palindrome(a)        "
   ]
  },
  {
   "cell_type": "markdown",
   "id": "bbf189ed",
   "metadata": {},
   "source": [
    "<b>10. Write a Python function to check whether a string is a pangram or not.\n",
    "\n",
    "Note : Pangrams are words or sentences containing every letter of the alphabet at least once.\n",
    "\n",
    "For example : &quot;The quick brown fox jumps over the lazy dog&quot;"
   ]
  },
  {
   "cell_type": "code",
   "execution_count": 62,
   "id": "e4f2b0b2",
   "metadata": {},
   "outputs": [
    {
     "name": "stdout",
     "output_type": "stream",
     "text": [
      "Enter the string:name\n",
      "Pangram\n"
     ]
    }
   ],
   "source": [
    "a=\"animlsde\"\n",
    "b=input(\"Enter the string:\")\n",
    "def pangram(b):\n",
    "    count=0\n",
    "    for i in b:\n",
    "        for j in a:\n",
    "            if i==j:\n",
    "                count=count+1\n",
    "    if count==len(b):\n",
    "        print(\"Pangram\")\n",
    "    else:\n",
    "        print('Not pangram')\n",
    "pangram(b)        "
   ]
  },
  {
   "cell_type": "markdown",
   "id": "fb77b0ea",
   "metadata": {},
   "source": [
    "<b>11. Write a Python program that accepts a hyphen-separated sequence of words as input and prints the words in a hyphen-separated sequence after sorting them alphabetically.\n",
    "\n",
    "Sample Items : green-red-yellow-black-white\n",
    "\n",
    "Expected Result : black-green-red-white-yellow"
   ]
  },
  {
   "cell_type": "code",
   "execution_count": 59,
   "id": "df06465b",
   "metadata": {},
   "outputs": [
    {
     "name": "stdout",
     "output_type": "stream",
     "text": [
      "black-green-red-white-yellow-"
     ]
    }
   ],
   "source": [
    "a='green-red-yellow-black-white'\n",
    "b=a.split('-')\n",
    "b.sort()\n",
    "for i in b:\n",
    "    print(i,end=\"-\")   "
   ]
  },
  {
   "cell_type": "code",
   "execution_count": 60,
   "id": "f7ea9ed6",
   "metadata": {},
   "outputs": [
    {
     "name": "stdout",
     "output_type": "stream",
     "text": [
      "Enter the string:green-red-yellow-black-white\n",
      "black-green-red-white-yellow\n"
     ]
    }
   ],
   "source": [
    "a=input(\"Enter the string:\")\n",
    "b=a.split('-')\n",
    "b.sort()\n",
    "print('-'.join(b))"
   ]
  },
  {
   "cell_type": "code",
   "execution_count": null,
   "id": "0ab225f8",
   "metadata": {},
   "outputs": [],
   "source": []
  }
 ],
 "metadata": {
  "kernelspec": {
   "display_name": "Python 3 (ipykernel)",
   "language": "python",
   "name": "python3"
  },
  "language_info": {
   "codemirror_mode": {
    "name": "ipython",
    "version": 3
   },
   "file_extension": ".py",
   "mimetype": "text/x-python",
   "name": "python",
   "nbconvert_exporter": "python",
   "pygments_lexer": "ipython3",
   "version": "3.9.13"
  }
 },
 "nbformat": 4,
 "nbformat_minor": 5
}
