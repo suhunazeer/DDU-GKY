{
 "cells": [
  {
   "cell_type": "markdown",
   "id": "bea98b98",
   "metadata": {},
   "source": [
    "# <center> ASSIGNMENT"
   ]
  },
  {
   "cell_type": "markdown",
   "id": "a68bc326",
   "metadata": {},
   "source": [
    "##### 1.WRITE A PYTHON PROGRAM TO ADD TWO MATRICES USING NESTED FOR LOOP\n",
    "\n",
    "<b>X=[[1,2,3], [4,5,6], [2,4,6]]\n",
    "     \n",
    "<b>Y=[[1,4,5], [3,6,9], [2,3,5]]\n",
    "\n"
   ]
  },
  {
   "cell_type": "code",
   "execution_count": 1,
   "id": "6982a6e0",
   "metadata": {},
   "outputs": [
    {
     "name": "stdout",
     "output_type": "stream",
     "text": [
      "[2, 6, 8]\n",
      "[7, 11, 15]\n",
      "[4, 7, 11]\n"
     ]
    }
   ],
   "source": [
    "X=[[1,2,3], [4,5,6], [2,4,6]]\n",
    "\n",
    "Y=[[1,4,5], [3,6,9], [2,3,5]]\n",
    "\n",
    "result = [[0,0,0],\n",
    "         [0,0,0],\n",
    "         [0,0,0]]\n",
    "\n",
    "for i in range(len(X)):\n",
    "   for j in range(len(X[0])):\n",
    "       result[i][j] = X[i][j] + Y[i][j]\n",
    "\n",
    "for r in result:\n",
    "   print(r)"
   ]
  },
  {
   "cell_type": "markdown",
   "id": "3784a3d4",
   "metadata": {},
   "source": [
    "<b>2.WRITE A PYTHON PROGRAM TO TRANSPOSE TWO MATRICES USING NESTED FOR LOOP"
   ]
  },
  {
   "cell_type": "code",
   "execution_count": 2,
   "id": "2237d820",
   "metadata": {},
   "outputs": [
    {
     "name": "stdout",
     "output_type": "stream",
     "text": [
      "[2, 5, 4]\n",
      "[8, 9, 7]\n",
      "[12, 14, 11]\n"
     ]
    }
   ],
   "source": [
    "X=[[1,4,7], [2,3,5], [2,4,6]]\n",
    "Y=[[1,4,5], [3,6,9], [2,3,5]]\n",
    "T=[[0,0,0],[0,0,0],[0,0,0]]\n",
    "for i in range(len(X)):\n",
    "    for j in range(len(X[0])):\n",
    "        T[j][i]=X[i][j]+Y[i][j]\n",
    "for n in T:\n",
    "    print(n)"
   ]
  },
  {
   "cell_type": "markdown",
   "id": "6f4ba55d",
   "metadata": {},
   "source": [
    "#### <b>3. WRITE A PYTHON PROGRAM TO MULTIPLY TWO MATRICES USING NESTED FORLOOP\n",
    " \n",
    "<b>X=[[1,2,3], [4,5,6], [2,4,6]]\n",
    "\n",
    "<b>Y=[[1,4,5,2], [3,6,9,5], [2,3,5,1]]"
   ]
  },
  {
   "cell_type": "code",
   "execution_count": 3,
   "id": "a5d85b7a",
   "metadata": {},
   "outputs": [
    {
     "name": "stdout",
     "output_type": "stream",
     "text": [
      "[13, 25, 38, 15]\n",
      "[31, 64, 95, 39]\n",
      "[26, 50, 76, 30]\n"
     ]
    }
   ],
   "source": [
    "X=[[1,2,3], [4,5,6], [2,4,6]]\n",
    "Y=[[1,4,5,2], [3,6,9,5], [2,3,5,1]]\n",
    "\n",
    "XY=[[0,0,0,0],[0,0,0,0],[0,0,0,0]]\n",
    "for i in range(len(X)):\n",
    " \n",
    "    for j in range(len(Y[0])):\n",
    " \n",
    "        for k in range(len(Y)):\n",
    "            XY[i][j] =XY[i][j]+ (X[i][k] * Y[k][j])\n",
    " \n",
    "for r in XY:\n",
    "    print(r)\n"
   ]
  },
  {
   "cell_type": "markdown",
   "id": "8cacdff4",
   "metadata": {},
   "source": [
    "<b>4.Python program to convert the temperature in degree centigrade to Fahrenheit"
   ]
  },
  {
   "cell_type": "code",
   "execution_count": 4,
   "id": "70b6635f",
   "metadata": {},
   "outputs": [
    {
     "name": "stdout",
     "output_type": "stream",
     "text": [
      "Enter temperature in Celsius: 32\n",
      "Farenheit= 89.6\n"
     ]
    }
   ],
   "source": [
    "celsius=int(input(\"Enter temperature in Celsius: \"))\n",
    "farenheit=(celsius*1.8)+32\n",
    "print(\"Farenheit=\",farenheit)"
   ]
  },
  {
   "cell_type": "markdown",
   "id": "9b59483b",
   "metadata": {},
   "source": [
    "<b>5.Python program to find the sum of the digits of an integer using a while loop"
   ]
  },
  {
   "cell_type": "code",
   "execution_count": 5,
   "id": "6cbbd521",
   "metadata": {},
   "outputs": [
    {
     "name": "stdout",
     "output_type": "stream",
     "text": [
      "enter a number:851\n",
      "Sum of the numbers is: 14\n"
     ]
    }
   ],
   "source": [
    "n=int(input(\"enter a number:\"))\n",
    "sum=0\n",
    "while(n>0):\n",
    "    r=n%10\n",
    "    sum=sum+r\n",
    "    n=n//10\n",
    "print(\"Sum of the numbers is:\",sum)"
   ]
  },
  {
   "cell_type": "markdown",
   "id": "8ca3ed6d",
   "metadata": {},
   "source": [
    "<b> 6.Make a two-player Rock-Paper-Scissors game. (Hint: Ask for player plays (using input),compare them, print out a message of congratulations to the winner, and ask if the playerswant to start a new game)\n",
    "\n"
   ]
  },
  {
   "cell_type": "code",
   "execution_count": 9,
   "id": "9b0be54a",
   "metadata": {},
   "outputs": [
    {
     "name": "stdout",
     "output_type": "stream",
     "text": [
      "Enter R for Rock,P for Paper,S for Scissors\n",
      "Player1 enter:R\n",
      "Player2 enter:P\n",
      "Congratulation Player2\n",
      "Do you want to play again(y/n):y\n",
      "Enter R for Rock,P for Paper,S for Scissors\n",
      "Player1 enter:P\n",
      "Player2 enter:S\n",
      "Congratulation Player2\n",
      "Do you want to play again(y/n):n\n",
      "Game over\n"
     ]
    }
   ],
   "source": [
    "while True:\n",
    "    \n",
    "    print(\"Enter R for Rock,P for Paper,S for Scissors\")\n",
    "\n",
    "    p1=input(\"Player1 enter:\")\n",
    "    p2=input(\"Player2 enter:\")\n",
    "\n",
    "    if p1=='R' and p2=='S':\n",
    "        print('Congratulation Player1')\n",
    "        choice=input(\"Do you want to play again(y/n):\")\n",
    "        if choice=='y':\n",
    "            continue\n",
    "        else:\n",
    "            print(\"Game over\")\n",
    "            break\n",
    "\n",
    "    elif p1=='P' and p2=='R':\n",
    "        print('Congratulation Player1')\n",
    "        choice=input(\"Do you want to play again(y/n):\")\n",
    "        if choice=='y':      \n",
    "            continue\n",
    "        else:\n",
    "            print(\"Game over\")\n",
    "            break\n",
    "    elif p1=='S' and p2=='P':\n",
    "        print('Congratulation Player1')\n",
    "        choice=input(\"Do you want to play again(y/n):\")\n",
    "        if choice=='y':\n",
    "            continue\n",
    "        else:\n",
    "            print(\"Game over\")\n",
    "            break\n",
    "    elif p2=='R' and p1=='S':\n",
    "        print('Congratulation Player2')\n",
    "        choice=input(\"Do you want to play again(y/n):\")\n",
    "        if choice=='y':\n",
    "            continue\n",
    "        else:\n",
    "            print(\"Game over\")\n",
    "            break\n",
    "    elif p2=='P' and p1=='R':\n",
    "        print('Congratulation Player2')\n",
    "        choice=input(\"Do you want to play again(y/n):\")\n",
    "        if choice=='y':\n",
    "            continue\n",
    "        else:\n",
    "            print(\"Game over\")\n",
    "            break\n",
    "    elif p2=='S' and p1=='P':\n",
    "        print('Congratulation Player2')\n",
    "        choice=input(\"Do you want to play again(y/n):\")\n",
    "        if choice=='y':\n",
    "            continue\n",
    "        else:\n",
    "            print(\"Game over\")\n",
    "            break\n",
    "    else:\n",
    "        print('its a tie')\n",
    "        choice=input(\"Do you want to play again(y/n):\")\n",
    "        if choice=='y':\n",
    "            continue\n",
    "        else:\n",
    "            print(\"Game over\")\n",
    "            break\n",
    "\n"
   ]
  },
  {
   "cell_type": "code",
   "execution_count": null,
   "id": "241ddffe",
   "metadata": {},
   "outputs": [],
   "source": []
  }
 ],
 "metadata": {
  "kernelspec": {
   "display_name": "Python 3 (ipykernel)",
   "language": "python",
   "name": "python3"
  },
  "language_info": {
   "codemirror_mode": {
    "name": "ipython",
    "version": 3
   },
   "file_extension": ".py",
   "mimetype": "text/x-python",
   "name": "python",
   "nbconvert_exporter": "python",
   "pygments_lexer": "ipython3",
   "version": "3.9.13"
  }
 },
 "nbformat": 4,
 "nbformat_minor": 5
}
