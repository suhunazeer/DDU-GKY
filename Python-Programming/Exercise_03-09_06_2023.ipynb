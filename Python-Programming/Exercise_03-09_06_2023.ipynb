{
 "cells": [
  {
   "cell_type": "markdown",
   "id": "145cd360",
   "metadata": {},
   "source": [
    "<b>1.Write a Python program to multiply all the items in a list."
   ]
  },
  {
   "cell_type": "code",
   "execution_count": 1,
   "id": "72ad7005",
   "metadata": {},
   "outputs": [
    {
     "name": "stdout",
     "output_type": "stream",
     "text": [
      "10\n"
     ]
    }
   ],
   "source": [
    "l1=[1,2,5]\n",
    "p=1\n",
    "for i in l1:\n",
    "    p=p*i\n",
    "print(p)        "
   ]
  },
  {
   "cell_type": "markdown",
   "id": "158b7dca",
   "metadata": {},
   "source": [
    "<b>2.\tWrite a Python program to get the largest number from a list."
   ]
  },
  {
   "cell_type": "code",
   "execution_count": 2,
   "id": "7f834a50",
   "metadata": {},
   "outputs": [
    {
     "name": "stdout",
     "output_type": "stream",
     "text": [
      "Largest number:  250\n"
     ]
    }
   ],
   "source": [
    "l1=[100,150,20,250,6,8]\n",
    "print(\"Largest number: \",max(l1))"
   ]
  },
  {
   "cell_type": "markdown",
   "id": "f6bd77c4",
   "metadata": {},
   "source": [
    "<b>3.\tWrite a Python program to get the smallest number from a list."
   ]
  },
  {
   "cell_type": "code",
   "execution_count": 3,
   "id": "b4017f73",
   "metadata": {},
   "outputs": [
    {
     "name": "stdout",
     "output_type": "stream",
     "text": [
      "Smallest number:  6\n"
     ]
    }
   ],
   "source": [
    "l1=[100,150,20,250,6,8]\n",
    "print(\"Smallest number: \",min(l1))"
   ]
  },
  {
   "cell_type": "markdown",
   "id": "72247813",
   "metadata": {},
   "source": [
    "<b>4.\tWrite a Python program to count the number of strings from a given list of strings. The string length is 2 or more and the first and last characters are the same.\n",
    "    \n",
    "<b>Sample List : ['abc', 'xyz', 'aba', '1221']\n",
    "    \n",
    "<b>Expected Result : 2\n"
   ]
  },
  {
   "cell_type": "code",
   "execution_count": 4,
   "id": "b148d438",
   "metadata": {},
   "outputs": [
    {
     "name": "stdout",
     "output_type": "stream",
     "text": [
      "3\n"
     ]
    }
   ],
   "source": [
    "a=['abc','xyz','aba','1221','pop']\n",
    "count=0\n",
    "for i in a:\n",
    "    if(i[0]==i[-1]):\n",
    "        count=count+1\n",
    "print(count)"
   ]
  },
  {
   "cell_type": "markdown",
   "id": "d241fdd7",
   "metadata": {},
   "source": [
    "<b>5.\tWrite a Python program to remove duplicates from a list."
   ]
  },
  {
   "cell_type": "code",
   "execution_count": 5,
   "id": "4344a32e",
   "metadata": {},
   "outputs": [
    {
     "name": "stdout",
     "output_type": "stream",
     "text": [
      "[1, 2, 3, 4]\n"
     ]
    }
   ],
   "source": [
    "a=[1,2,3,4,3,1]\n",
    "b=[]\n",
    "for i in a:\n",
    "    if i not in b:\n",
    "        b.append(i)\n",
    "print(b)    "
   ]
  },
  {
   "cell_type": "markdown",
   "id": "8edc4e82",
   "metadata": {},
   "source": [
    "<b> 6.\tWrite a Python program to check if a list is empty or not."
   ]
  },
  {
   "cell_type": "code",
   "execution_count": 6,
   "id": "4702232f",
   "metadata": {},
   "outputs": [
    {
     "name": "stdout",
     "output_type": "stream",
     "text": [
      "[1, 2, 3]\n"
     ]
    }
   ],
   "source": [
    "a=[1,2,3]\n",
    "if(len(a)>0):\n",
    "    print(a)\n",
    "else:\n",
    "    print(\"empty\")"
   ]
  },
  {
   "cell_type": "markdown",
   "id": "3a9e6c6c",
   "metadata": {},
   "source": [
    "<b>7.\tWrite a Python program to find the list of words that are longer than n from a given list of words."
   ]
  },
  {
   "cell_type": "code",
   "execution_count": 7,
   "id": "f1c81d4c",
   "metadata": {},
   "outputs": [
    {
     "name": "stdout",
     "output_type": "stream",
     "text": [
      "['apple']\n"
     ]
    }
   ],
   "source": [
    "a=['it','is','apple']\n",
    "b=[]\n",
    "for i in a:\n",
    "    if(len(i)>len(a)):\n",
    "        b.append(i)\n",
    "print(b)   "
   ]
  },
  {
   "cell_type": "markdown",
   "id": "556f4bc3",
   "metadata": {},
   "source": [
    "<b>8.\tWrite a Python program to print a specified list after removing the 0th, 4th and 5th elements.\n",
    "\n",
    "<b>Sample List : ['Red', 'Green', 'White', 'Black', 'Pink', 'Yellow']\n",
    "\n",
    "<b>Expected Output : ['Green', 'White', 'Black']\n"
   ]
  },
  {
   "cell_type": "code",
   "execution_count": 8,
   "id": "e15f3446",
   "metadata": {
    "scrolled": true
   },
   "outputs": [
    {
     "name": "stdout",
     "output_type": "stream",
     "text": [
      "['Green', 'White', 'Black']\n"
     ]
    }
   ],
   "source": [
    "a=['Red', 'Green', 'White', 'Black', 'Pink', 'Yellow']\n",
    "a.pop(0)\n",
    "a.pop(3)\n",
    "a.pop(3)\n",
    "print(a)"
   ]
  },
  {
   "cell_type": "code",
   "execution_count": 9,
   "id": "e8933585",
   "metadata": {},
   "outputs": [
    {
     "name": "stdout",
     "output_type": "stream",
     "text": [
      "['Green', 'White', 'Black']\n"
     ]
    }
   ],
   "source": [
    "a=['Red', 'Green', 'White', 'Black', 'Pink', 'Yellow']\n",
    "b=[0,4,5]\n",
    "c=[]\n",
    "for i in range(len(a)):\n",
    "    if i not in b:\n",
    "        c.append(a[i])\n",
    "print(c)        "
   ]
  },
  {
   "cell_type": "markdown",
   "id": "50db5a2a",
   "metadata": {},
   "source": [
    "<b>9.\tWrite a Python program to check if each number is prime in a given list of numbers. Return True if all numbers are prime otherwise False."
   ]
  },
  {
   "cell_type": "code",
   "execution_count": 7,
   "id": "f3f8f3ba",
   "metadata": {},
   "outputs": [
    {
     "name": "stdout",
     "output_type": "stream",
     "text": [
      "prime,True\n"
     ]
    }
   ],
   "source": [
    "a=[2,3,5,7]\n",
    "c=0\n",
    "x=len(a)\n",
    "flag=False\n",
    "for i in a:\n",
    "    if i==1:\n",
    "        flag=False    ## not prime\n",
    "    else:\n",
    "        for j in range(2,i+1):\n",
    "            if i%j==0:\n",
    "                flag=False   # not prime\n",
    "                c+=1\n",
    "                break\n",
    "            else:\n",
    "                flag=True   # prime\n",
    "                c+=1\n",
    "                break\n",
    "                \n",
    "if x==c and flag==True:\n",
    "    print(\"prime,True\")\n",
    "else:\n",
    "    print(\"not prime,False\")\n",
    "\n"
   ]
  },
  {
   "cell_type": "code",
   "execution_count": 5,
   "id": "7f0b4a75",
   "metadata": {},
   "outputs": [
    {
     "name": "stdout",
     "output_type": "stream",
     "text": [
      "Enter a number: 6\n",
      "6 Not prime\n"
     ]
    }
   ],
   "source": [
    "n=int(input(\"Enter a number: \"))\n",
    "flag=0\n",
    "if n>1:\n",
    "    for i in range(2,n//2+1):\n",
    "        if n%i==0:\n",
    "            flag=1\n",
    "            break\n",
    "    if flag==0:\n",
    "        print(n,\"is a prime\")\n",
    "    else:\n",
    "        print(n,\"Not prime\")"
   ]
  },
  {
   "cell_type": "code",
   "execution_count": null,
   "id": "5960a039",
   "metadata": {},
   "outputs": [],
   "source": []
  },
  {
   "cell_type": "markdown",
   "id": "cffd8be6",
   "metadata": {},
   "source": [
    "<b>10.\tWrite a Python program to convert a list of characters into a string."
   ]
  },
  {
   "cell_type": "code",
   "execution_count": 18,
   "id": "5fbd59a8",
   "metadata": {},
   "outputs": [
    {
     "name": "stdout",
     "output_type": "stream",
     "text": [
      "i am suhaina "
     ]
    }
   ],
   "source": [
    "a=['i','am','suhaina']\n",
    "for i in a:\n",
    "    print(str(i),end=\" \")"
   ]
  },
  {
   "cell_type": "markdown",
   "id": "f2b46b37",
   "metadata": {},
   "source": [
    "<b>11.\tWrite a Python program to find the second smallest number in a list"
   ]
  },
  {
   "cell_type": "code",
   "execution_count": 17,
   "id": "d8b9d3a0",
   "metadata": {},
   "outputs": [
    {
     "name": "stdout",
     "output_type": "stream",
     "text": [
      "Second smallest number:  3\n"
     ]
    }
   ],
   "source": [
    "a=[10,5,6,2,3]\n",
    "a.sort()\n",
    "print(\"Second smallest number: \",a[1])"
   ]
  },
  {
   "cell_type": "code",
   "execution_count": 16,
   "id": "fde892ac",
   "metadata": {},
   "outputs": [
    {
     "name": "stdout",
     "output_type": "stream",
     "text": [
      "Second smallest number:  3\n"
     ]
    }
   ],
   "source": [
    "a=[1,6,8,9,3,5,7]\n",
    "a.remove(min(a))\n",
    "print(\"Second smallest number: \",min(a))"
   ]
  },
  {
   "cell_type": "markdown",
   "id": "336e2e22",
   "metadata": {},
   "source": [
    "<b>12. Write a Python program to find the second largest number in a list\n",
    "\n"
   ]
  },
  {
   "cell_type": "code",
   "execution_count": 15,
   "id": "375f6fbe",
   "metadata": {},
   "outputs": [
    {
     "name": "stdout",
     "output_type": "stream",
     "text": [
      "Second largest number:  8\n"
     ]
    }
   ],
   "source": [
    "a=[1,6,8,9,3,5,7]\n",
    "a.remove(max(a))\n",
    "print(\"Second largest number: \",max(a))"
   ]
  },
  {
   "cell_type": "code",
   "execution_count": 14,
   "id": "b53addd8",
   "metadata": {},
   "outputs": [
    {
     "name": "stdout",
     "output_type": "stream",
     "text": [
      "Second largest number:  8\n"
     ]
    }
   ],
   "source": [
    "a=[1,6,8,9,3,5,7]\n",
    "a.sort()\n",
    "print(\"Second largest number: \",a[-2])"
   ]
  },
  {
   "cell_type": "markdown",
   "id": "c866436b",
   "metadata": {},
   "source": [
    "<b> 13. Write a Python program to check whether a list contains a sub-list."
   ]
  },
  {
   "cell_type": "code",
   "execution_count": 13,
   "id": "e62b6868",
   "metadata": {},
   "outputs": [
    {
     "name": "stdout",
     "output_type": "stream",
     "text": [
      "List contains sub-list\n"
     ]
    }
   ],
   "source": [
    "a=['abc','def','ghi',['lmn','xy','qwe'],[1,2,3],11,'cat']\n",
    "flag=0\n",
    "for i in a:\n",
    "    if type(i)==list:\n",
    "        flag=1\n",
    "if flag==1:\n",
    "    print(\"List contains sub-list\")\n",
    "else:\n",
    "    print(\"List without sub-list\")"
   ]
  },
  {
   "cell_type": "code",
   "execution_count": null,
   "id": "35f80570",
   "metadata": {},
   "outputs": [],
   "source": []
  }
 ],
 "metadata": {
  "kernelspec": {
   "display_name": "Python 3 (ipykernel)",
   "language": "python",
   "name": "python3"
  },
  "language_info": {
   "codemirror_mode": {
    "name": "ipython",
    "version": 3
   },
   "file_extension": ".py",
   "mimetype": "text/x-python",
   "name": "python",
   "nbconvert_exporter": "python",
   "pygments_lexer": "ipython3",
   "version": "3.9.13"
  }
 },
 "nbformat": 4,
 "nbformat_minor": 5
}
