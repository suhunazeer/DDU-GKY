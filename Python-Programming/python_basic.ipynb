{
 "cells": [
  {
   "cell_type": "code",
   "execution_count": 1,
   "id": "9f991be9",
   "metadata": {},
   "outputs": [
    {
     "name": "stdout",
     "output_type": "stream",
     "text": [
      "We are Indians\n"
     ]
    }
   ],
   "source": [
    "# Print the word we are Indians\n",
    "\n",
    "print(\"We are Indians\")"
   ]
  },
  {
   "cell_type": "code",
   "execution_count": 2,
   "id": "e7936934",
   "metadata": {},
   "outputs": [
    {
     "name": "stdout",
     "output_type": "stream",
     "text": [
      "Python is awesome\n"
     ]
    }
   ],
   "source": [
    "print('Python is awesome')"
   ]
  },
  {
   "cell_type": "code",
   "execution_count": 3,
   "id": "44423149",
   "metadata": {},
   "outputs": [
    {
     "name": "stdout",
     "output_type": "stream",
     "text": [
      "My name is Suhaina\n"
     ]
    }
   ],
   "source": [
    "print(\"My name is Suhaina\")"
   ]
  },
  {
   "cell_type": "code",
   "execution_count": 4,
   "id": "7a604c83",
   "metadata": {},
   "outputs": [
    {
     "name": "stdout",
     "output_type": "stream",
     "text": [
      "20\n"
     ]
    }
   ],
   "source": [
    "print(20)"
   ]
  },
  {
   "cell_type": "code",
   "execution_count": 5,
   "id": "236ec8b6",
   "metadata": {},
   "outputs": [
    {
     "data": {
      "text/plain": [
       "'\" Iam\\nstarted to learn\\npython '"
      ]
     },
     "execution_count": 5,
     "metadata": {},
     "output_type": "execute_result"
    }
   ],
   "source": [
    "# comment i am started to learn python\n",
    "\n",
    "#I am started to learn python\n",
    "\n",
    "#Iam\n",
    "#started \n",
    "#to learn \n",
    "#python\n",
    "\n",
    "\"\"\"\" Iam\n",
    "started to learn\n",
    "python \"\"\""
   ]
  },
  {
   "cell_type": "code",
   "execution_count": null,
   "id": "141134b4",
   "metadata": {},
   "outputs": [],
   "source": []
  }
 ],
 "metadata": {
  "kernelspec": {
   "display_name": "Python 3 (ipykernel)",
   "language": "python",
   "name": "python3"
  },
  "language_info": {
   "codemirror_mode": {
    "name": "ipython",
    "version": 3
   },
   "file_extension": ".py",
   "mimetype": "text/x-python",
   "name": "python",
   "nbconvert_exporter": "python",
   "pygments_lexer": "ipython3",
   "version": "3.9.13"
  }
 },
 "nbformat": 4,
 "nbformat_minor": 5
}
