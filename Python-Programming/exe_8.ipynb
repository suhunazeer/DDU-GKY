{
 "cells": [
  {
   "cell_type": "markdown",
   "id": "2fd6b6fd",
   "metadata": {},
   "source": [
    "Write a Python program to add three given lists using Python map and lambda."
   ]
  },
  {
   "cell_type": "code",
   "execution_count": 1,
   "id": "a453913f",
   "metadata": {},
   "outputs": [
    {
     "name": "stdout",
     "output_type": "stream",
     "text": [
      "[13, 16, 10, 11]\n"
     ]
    }
   ],
   "source": [
    "print(list((map(lambda x, y, z: x + y + z, [1,2,3,4],[5,6,4,3],[7,8,3,4])))) "
   ]
  },
  {
   "cell_type": "markdown",
   "id": "7c8242b1",
   "metadata": {},
   "source": [
    "Write a Python program to create a list containing the power of said number in bases\n",
    "raised to the corresponding number in the index using Python map."
   ]
  },
  {
   "cell_type": "code",
   "execution_count": 2,
   "id": "aa9176df",
   "metadata": {},
   "outputs": [
    {
     "name": "stdout",
     "output_type": "stream",
     "text": [
      "[100, 125, 729, 625]\n"
     ]
    }
   ],
   "source": [
    "a=[10,5,3,25]\n",
    "b=[2,3,6,2]\n",
    "def bases(a,b):\n",
    "    return a**b\n",
    "print(list(map(bases,a,b)))"
   ]
  },
  {
   "cell_type": "markdown",
   "id": "3496fc5a",
   "metadata": {},
   "source": [
    "1. Write a Python program to square and cube every number in a given list of integers\n",
    "using Lambda."
   ]
  },
  {
   "cell_type": "code",
   "execution_count": 3,
   "id": "186e1ab7",
   "metadata": {},
   "outputs": [
    {
     "name": "stdout",
     "output_type": "stream",
     "text": [
      "Square: [36, 64, 100, 144]\n",
      "Cube: [216, 512, 1000, 1728]\n"
     ]
    }
   ],
   "source": [
    "a=[6,8,10,12]\n",
    "def square(a):\n",
    "    return a**2\n",
    "def cube(a):\n",
    "    return a**3\n",
    "print(\"Square:\",list(map(square,a)))\n",
    "print(\"Cube:\",list(map(cube,a)))"
   ]
  },
  {
   "cell_type": "markdown",
   "id": "cfe60f9f",
   "metadata": {},
   "source": [
    "Write a Python program to find the intersection of two given arrays using Lambda.\n",
    "\n",
    "Original arrays:\n",
    "[1, 2, 3, 5, 7, 8, 9, 10]\n",
    "\n",
    "[1, 2, 4, 8, 9]\n",
    "\n",
    "Intersection of the said arrays: [1, 2, 8, 9]"
   ]
  },
  {
   "cell_type": "markdown",
   "id": "ccb3616b",
   "metadata": {},
   "source": [
    "2. Write a Python program to find the intersection of two given arrays using Lambda.\n",
    "\n",
    "Original arrays:\n",
    "\n",
    "[1, 2, 3, 5, 7, 8, 9, 10]\n",
    "\n",
    "[1, 2, 4, 8, 9]\n",
    "\n",
    "Intersection of the said arrays: [1, 2, 8, 9]"
   ]
  },
  {
   "cell_type": "code",
   "execution_count": 4,
   "id": "2b9d84e5",
   "metadata": {},
   "outputs": [
    {
     "name": "stdout",
     "output_type": "stream",
     "text": [
      "[1, 2, 8, 9]\n"
     ]
    }
   ],
   "source": [
    "a=[1, 2, 3, 5, 7, 8, 9, 10]\n",
    "b=[1, 2, 4, 8, 9]\n",
    "result=list(filter(lambda i: i in a,b))\n",
    "print(result)"
   ]
  },
  {
   "cell_type": "markdown",
   "id": "1e713c96",
   "metadata": {},
   "source": [
    "Write a Python program to count the even and odd numbers in a given array of\n",
    "integers using Lambda.\n",
    "\n",
    "Original arrays:\n",
    "[1, 2, 3, 5, 7, 8, 9, 10]\n",
    "\n",
    "Number of even numbers in the above array: 3\n",
    "\n",
    "Number of odd numbers in the above array: 5"
   ]
  },
  {
   "cell_type": "code",
   "execution_count": 5,
   "id": "21983cec",
   "metadata": {},
   "outputs": [
    {
     "name": "stdout",
     "output_type": "stream",
     "text": [
      "No.of Even numbers: 3\n",
      "No.of Even numbers: 5\n"
     ]
    }
   ],
   "source": [
    "a=[1, 2, 3, 5, 7, 8, 9, 10]\n",
    "even=list(filter(lambda i:i%2==0,a))\n",
    "print(\"No.of Even numbers:\",len(even))\n",
    "odd=list(filter(lambda i:i%2!=0,a))\n",
    "print(\"No.of Even numbers:\",len(odd))"
   ]
  },
  {
   "cell_type": "markdown",
   "id": "284b0aab",
   "metadata": {},
   "source": [
    "4. Write a Python program to filter a given list to determine if the values in the list have\n",
    "a length of 6 using Lambda.\n",
    "\n",
    "Sample Output:\n",
    "Monday\n",
    "Friday\n",
    "Sunday"
   ]
  },
  {
   "cell_type": "code",
   "execution_count": 6,
   "id": "d9b64b85",
   "metadata": {},
   "outputs": [
    {
     "name": "stdout",
     "output_type": "stream",
     "text": [
      "['Nazeer', 'Ayisha']\n"
     ]
    }
   ],
   "source": [
    "a=['Nazeer','Suhaina','Mariyam','Ayisha']\n",
    "y=list(filter(lambda x:len(x)==6,a))\n",
    "print(y)"
   ]
  },
  {
   "cell_type": "markdown",
   "id": "b56c5114",
   "metadata": {},
   "source": [
    "Write a Python program to find numbers divisible by nineteen or thirteen from a list\n",
    "of numbers using Lambda.\n",
    "\n",
    "Orginal list:\n",
    "\n",
    "[19, 65, 57, 39, 152, 639, 121, 44, 90, 190]\n",
    "\n",
    "Numbers of the above list divisible by nineteen or thirteen:\n",
    "\n",
    "[19, 65, 57, 39, 152, 190]"
   ]
  },
  {
   "cell_type": "code",
   "execution_count": 7,
   "id": "8ccb36c9",
   "metadata": {},
   "outputs": [
    {
     "name": "stdout",
     "output_type": "stream",
     "text": [
      "[19, 65, 57, 39, 152, 190]\n"
     ]
    }
   ],
   "source": [
    "a=[19, 65, 57, 39, 152, 639, 121, 44, 90, 190]\n",
    "print(list(filter(lambda x:x%19==0 or x%13==0,a)))"
   ]
  },
  {
   "cell_type": "markdown",
   "id": "21cb17a8",
   "metadata": {},
   "source": [
    "Write a Python program to find palindromes in a given list of strings using Lambda.\n",
    "\n",
    "Orginal list of strings:\n",
    "\n",
    "[&#39;php&#39;, &#39;w3r&#39;, &#39;Python&#39;, &#39;abcd&#39;, &#39;Java&#39;, &#39;aaa&#39;]\n",
    "\n",
    "List of palindromes:\n",
    " \n",
    "[&#39;php&#39;, &#39;aaa&#39;]"
   ]
  },
  {
   "cell_type": "code",
   "execution_count": 8,
   "id": "fe29285a",
   "metadata": {
    "scrolled": true
   },
   "outputs": [
    {
     "name": "stdout",
     "output_type": "stream",
     "text": [
      "['php', 'aaa']\n"
     ]
    }
   ],
   "source": [
    "a=['php', 'w3r', 'Python', 'abcda', 'Java', 'aaa'] \n",
    "re = list(filter(lambda x:x[0:]==x[::-1],a))\n",
    "print(re)"
   ]
  },
  {
   "cell_type": "code",
   "execution_count": 9,
   "id": "c9e174bc",
   "metadata": {},
   "outputs": [
    {
     "name": "stdout",
     "output_type": "stream",
     "text": [
      "['php', 'aaa']\n"
     ]
    }
   ],
   "source": [
    "a=['php', 'w3r', 'Python', 'abcd', 'Java', 'aaa']\n",
    "re = list(filter(lambda x :(x == \"\".join(reversed(x))),a))\n",
    "print(re)"
   ]
  },
  {
   "cell_type": "markdown",
   "id": "2d1d54b7",
   "metadata": {},
   "source": [
    "Write a Python program to find all anagrams of a string in a given list of strings using\n",
    "Lambda.\n",
    "\n",
    "Orginal list of strings:\n",
    "\n",
    "[&#39;bcda&#39;, &#39;abce&#39;, &#39;cbda&#39;, &#39;cbea&#39;, &#39;adcb&#39;]\n",
    "\n",
    "Anagrams of &#39;abcd&#39; in the above string:\n",
    "\n",
    "[&#39;bcda&#39;, &#39;cbda&#39;, &#39;adcb&#39;]"
   ]
  },
  {
   "cell_type": "code",
   "execution_count": 10,
   "id": "f1665ea0",
   "metadata": {},
   "outputs": [
    {
     "name": "stdout",
     "output_type": "stream",
     "text": [
      "['bcda', 'cbda', 'adcb']\n"
     ]
    }
   ],
   "source": [
    "a=['bcda', 'abce', 'cbda', 'cbea', 'adcb']\n",
    "b='abcd'\n",
    "result =list(filter(lambda x:sorted(x)== sorted(b),a))\n",
    "print(result)"
   ]
  },
  {
   "cell_type": "markdown",
   "id": "71be34ea",
   "metadata": {},
   "source": [
    "Write a Python program that multiplies each number in a list with a given number\n",
    "using lambda functions. Print the results.\n",
    "\n",
    "Original list: [2, 4, 6, 9, 11]\n",
    "\n",
    "Given number: 2\n",
    "\n",
    "Result:\n",
    "4 8 12 18 22"
   ]
  },
  {
   "cell_type": "code",
   "execution_count": 21,
   "id": "437f338c",
   "metadata": {},
   "outputs": [
    {
     "name": "stdout",
     "output_type": "stream",
     "text": [
      "[4, 8, 12, 18, 22]\n"
     ]
    }
   ],
   "source": [
    "a=[2, 4, 6, 9, 11]\n",
    "print(list(map(lambda x:x*2,a)))"
   ]
  },
  {
   "cell_type": "markdown",
   "id": "731a6a9a",
   "metadata": {},
   "source": [
    "Write a Python program that sums the length of a list of names after removing those\n",
    "that start with lowercase letters. Use the lambda function.\n",
    "\n",
    "Result:\n",
    "\n",
    "16"
   ]
  },
  {
   "cell_type": "code",
   "execution_count": 71,
   "id": "95355a42",
   "metadata": {
    "scrolled": true
   },
   "outputs": [
    {
     "name": "stdout",
     "output_type": "stream",
     "text": [
      "[]\n"
     ]
    }
   ],
   "source": [
    "a=['Anu','Ammu','achu','appu']\n",
    "b=list(filter(lambda x:x[0]==x.upper(),a))\n",
    "print(b)"
   ]
  },
  {
   "cell_type": "markdown",
   "id": "f2c0d2b1",
   "metadata": {},
   "source": [
    "Write a Python program to calculate the sum of the positive and negative numbers of\n",
    "a given list of numbers using the lambda function.\n",
    "\n",
    "Original list: [2, 4, -6, -9, 11, -12, 14, -5, 17]\n",
    "\n",
    "Sum of the positive numbers: -32\n",
    "\n",
    "Sum of the negative numbers: 48"
   ]
  },
  {
   "cell_type": "code",
   "execution_count": 53,
   "id": "c4a31b2f",
   "metadata": {},
   "outputs": [
    {
     "name": "stdout",
     "output_type": "stream",
     "text": [
      "sum positive:  48\n",
      "sum positive:  -32\n"
     ]
    }
   ],
   "source": [
    "a= [2, 4, -6, -9, 11, -12, 14, -5, 17]\n",
    "pos=list(filter(lambda x:x>0,a))\n",
    "print(\"sum positive: \",sum(pos))\n",
    "neg=list(filter(lambda x:x<0,a))\n",
    "print(\"sum positive: \",sum(negf))"
   ]
  },
  {
   "cell_type": "code",
   "execution_count": null,
   "id": "bc43c255",
   "metadata": {},
   "outputs": [],
   "source": []
  }
 ],
 "metadata": {
  "kernelspec": {
   "display_name": "Python 3 (ipykernel)",
   "language": "python",
   "name": "python3"
  },
  "language_info": {
   "codemirror_mode": {
    "name": "ipython",
    "version": 3
   },
   "file_extension": ".py",
   "mimetype": "text/x-python",
   "name": "python",
   "nbconvert_exporter": "python",
   "pygments_lexer": "ipython3",
   "version": "3.10.9"
  }
 },
 "nbformat": 4,
 "nbformat_minor": 5
}
