{
 "cells": [
  {
   "cell_type": "markdown",
   "id": "ba1f66d5",
   "metadata": {},
   "source": [
    "### <center>EXERCISE NO-1\n"
   ]
  },
  {
   "cell_type": "markdown",
   "id": "815fd921",
   "metadata": {},
   "source": [
    "#### 1.  Assign a name to a variable and print it."
   ]
  },
  {
   "cell_type": "code",
   "execution_count": 1,
   "id": "241587e0",
   "metadata": {},
   "outputs": [
    {
     "name": "stdout",
     "output_type": "stream",
     "text": [
      "Suhaina\n"
     ]
    }
   ],
   "source": [
    "a=\"Suhaina\"\n",
    "print(a)"
   ]
  },
  {
   "cell_type": "markdown",
   "id": "0269167f",
   "metadata": {},
   "source": [
    "#### 2. Create a variable starting with underscore and print it."
   ]
  },
  {
   "cell_type": "code",
   "execution_count": 2,
   "id": "49ab1629",
   "metadata": {},
   "outputs": [
    {
     "name": "stdout",
     "output_type": "stream",
     "text": [
      "Exercise No.1\n"
     ]
    }
   ],
   "source": [
    "_abc=\"Exercise No.1\"\n",
    "print(_abc)"
   ]
  },
  {
   "cell_type": "markdown",
   "id": "563b310d",
   "metadata": {},
   "source": [
    "#### 3. Create variables x, y, z. Assign an integer value to x, float value to y and a string value to z. Print it."
   ]
  },
  {
   "cell_type": "code",
   "execution_count": 3,
   "id": "2a241964",
   "metadata": {},
   "outputs": [
    {
     "name": "stdout",
     "output_type": "stream",
     "text": [
      "7\n",
      "25.67\n",
      "python\n"
     ]
    }
   ],
   "source": [
    "x=7\n",
    "y=25.67\n",
    "z=\"python\"\n",
    "print(x)\n",
    "print(y)\n",
    "print(z)"
   ]
  },
  {
   "cell_type": "markdown",
   "id": "bc8895f1",
   "metadata": {},
   "source": [
    "#### 4. “Python is a popular programming language . I t was created by Guido Van Rossum and released in 1991.”- comment the sentence"
   ]
  },
  {
   "cell_type": "code",
   "execution_count": 4,
   "id": "45ef90f8",
   "metadata": {},
   "outputs": [],
   "source": [
    "#“Python is a popular programming language . \n",
    "#I t was created by Guido Van Rossum and released in 1991.”"
   ]
  },
  {
   "cell_type": "markdown",
   "id": "a004a0dc",
   "metadata": {},
   "source": [
    "#### 5. Assign value “orange” to any three variables."
   ]
  },
  {
   "cell_type": "code",
   "execution_count": 5,
   "id": "de8b445a",
   "metadata": {},
   "outputs": [
    {
     "name": "stdout",
     "output_type": "stream",
     "text": [
      "orange\n",
      "orange\n",
      "orange\n"
     ]
    }
   ],
   "source": [
    "a=b=c=\"orange\"\n",
    "print(a)\n",
    "print(b)\n",
    "print(c)"
   ]
  },
  {
   "cell_type": "markdown",
   "id": "4e3c8265",
   "metadata": {},
   "source": [
    "#### 6. Assign 3,4,5 to x, y, z."
   ]
  },
  {
   "cell_type": "code",
   "execution_count": 6,
   "id": "95b8a8b0",
   "metadata": {},
   "outputs": [
    {
     "name": "stdout",
     "output_type": "stream",
     "text": [
      "5\n",
      "4\n",
      "3\n"
     ]
    }
   ],
   "source": [
    "x=3\n",
    "y=4\n",
    "z=5\n",
    "print(z)\n",
    "print(y)\n",
    "print(x)"
   ]
  },
  {
   "cell_type": "code",
   "execution_count": 7,
   "id": "3a7dbb78",
   "metadata": {},
   "outputs": [
    {
     "name": "stdout",
     "output_type": "stream",
     "text": [
      "3\n",
      "4\n",
      "5\n"
     ]
    }
   ],
   "source": [
    "x,y,z=3,4,5\n",
    "print(x)\n",
    "print(y)\n",
    "print(z)"
   ]
  },
  {
   "cell_type": "markdown",
   "id": "ee44a975",
   "metadata": {},
   "source": [
    "#### 7. Create a variable named carname and assign the value Volvo to it."
   ]
  },
  {
   "cell_type": "code",
   "execution_count": 8,
   "id": "019d3c4e",
   "metadata": {},
   "outputs": [
    {
     "name": "stdout",
     "output_type": "stream",
     "text": [
      "Volvo\n"
     ]
    }
   ],
   "source": [
    "carname=\"Volvo\"\n",
    "print(carname)"
   ]
  },
  {
   "cell_type": "markdown",
   "id": "4cbd4618",
   "metadata": {},
   "source": [
    "#### 8. Create a variable named x and assign the value 50 to it.\n"
   ]
  },
  {
   "cell_type": "code",
   "execution_count": 9,
   "id": "5e8f4204",
   "metadata": {},
   "outputs": [
    {
     "name": "stdout",
     "output_type": "stream",
     "text": [
      "50\n"
     ]
    }
   ],
   "source": [
    "x=50\n",
    "print(x)"
   ]
  },
  {
   "cell_type": "markdown",
   "id": "8b5909a5",
   "metadata": {},
   "source": [
    "#### 9. Remove the illegal characters in the variable name. Then print it: 2my-first_name = \"John"
   ]
  },
  {
   "cell_type": "code",
   "execution_count": 10,
   "id": "cfe1cd73",
   "metadata": {},
   "outputs": [
    {
     "name": "stdout",
     "output_type": "stream",
     "text": [
      "John\n"
     ]
    }
   ],
   "source": [
    "myfirst_name = \"John\"\n",
    "print(myfirst_name)"
   ]
  },
  {
   "cell_type": "code",
   "execution_count": null,
   "id": "666131ae",
   "metadata": {},
   "outputs": [],
   "source": []
  }
 ],
 "metadata": {
  "kernelspec": {
   "display_name": "Python 3 (ipykernel)",
   "language": "python",
   "name": "python3"
  },
  "language_info": {
   "codemirror_mode": {
    "name": "ipython",
    "version": 3
   },
   "file_extension": ".py",
   "mimetype": "text/x-python",
   "name": "python",
   "nbconvert_exporter": "python",
   "pygments_lexer": "ipython3",
   "version": "3.9.13"
  }
 },
 "nbformat": 4,
 "nbformat_minor": 5
}
