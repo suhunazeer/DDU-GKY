{
 "cells": [
  {
   "cell_type": "markdown",
   "id": "02e029c8",
   "metadata": {},
   "source": [
    "<b> Find the runner up"
   ]
  },
  {
   "cell_type": "code",
   "execution_count": 1,
   "id": "c635d9d5",
   "metadata": {},
   "outputs": [
    {
     "name": "stdout",
     "output_type": "stream",
     "text": [
      "Enter the limit:3\n",
      "Enter the score:5\n",
      "Enter the score:3\n",
      "Enter the score:6\n",
      "[5, 3, 6]\n",
      "Score obtained: 5 3 6\n",
      "Runner up score: 5\n"
     ]
    }
   ],
   "source": [
    "n=int(input(\"Enter the limit:\"))\n",
    "a=[]\n",
    "b=''\n",
    "for i in range(n):\n",
    "    score=int(input(\"Enter the score:\"))\n",
    "    a.append(score)   \n",
    "print(a)\n",
    "b=' '.join(map(str, a))\n",
    "print(\"Score obtained:\",b)\n",
    "s=sorted(a)\n",
    "print('Runner up score:',s[-2])"
   ]
  },
  {
   "cell_type": "markdown",
   "id": "26ce58c6",
   "metadata": {},
   "source": [
    "You are given a String. Your task is to delete vowels in that string. For example, your\n",
    "string is ‘hi iam learning python’ then the output will be ‘h m lrnng pythn’."
   ]
  },
  {
   "cell_type": "code",
   "execution_count": 2,
   "id": "080da6a2",
   "metadata": {},
   "outputs": [
    {
     "name": "stdout",
     "output_type": "stream",
     "text": [
      "Shn\n"
     ]
    }
   ],
   "source": [
    "txt=\"Suhaina\"\n",
    "newtxt=txt\n",
    "vow=['a','e','o','i','u']\n",
    "for n in txt:\n",
    "    if n in vow:\n",
    "        newtxt=newtxt.replace(n,\"\")\n",
    "print(newtxt)"
   ]
  },
  {
   "cell_type": "code",
   "execution_count": 3,
   "id": "8b0dcee0",
   "metadata": {
    "scrolled": true
   },
   "outputs": [
    {
     "name": "stdout",
     "output_type": "stream",
     "text": [
      "\n",
      "Removing vowels from the given string\n",
      "New string after successfully removed all the vowels:\n",
      "h  m lrnng pythn\n"
     ]
    }
   ],
   "source": [
    "string = \"hi i am learning python\"\n",
    "newstr = string\n",
    "print(\"\\nRemoving vowels from the given string\")\n",
    "vowels = ['a', 'e', 'i', 'o', 'u']\n",
    "for x in string:\n",
    "    if x in vowels:\n",
    "        newstr = newstr.replace(x,\"\");\n",
    "print(\"New string after successfully removed all the vowels:\")\n",
    "print(newstr)"
   ]
  },
  {
   "cell_type": "markdown",
   "id": "170555ff",
   "metadata": {},
   "source": [
    "<b> Find the highest occurance in a word"
   ]
  },
  {
   "cell_type": "code",
   "execution_count": 4,
   "id": "1cf2986e",
   "metadata": {},
   "outputs": [
    {
     "name": "stdout",
     "output_type": "stream",
     "text": [
      "{'g': 2, 'o': 3, 'l': 1, 'e': 1}\n",
      "Maximum occurence is  o and it is 3\n"
     ]
    }
   ],
   "source": [
    "a='gooogle'\n",
    "b=dict()\n",
    "for i in a:\n",
    "    b[i]=a.count(i)\n",
    "print(b)\n",
    "max_value=max(b.values())\n",
    "max_key=max(b,key=b.get)\n",
    "print(\"Maximum occurence is \",max_key, \"and it is\",max_value)"
   ]
  },
  {
   "cell_type": "code",
   "execution_count": null,
   "id": "43f58957",
   "metadata": {},
   "outputs": [],
   "source": []
  }
 ],
 "metadata": {
  "kernelspec": {
   "display_name": "Python 3 (ipykernel)",
   "language": "python",
   "name": "python3"
  },
  "language_info": {
   "codemirror_mode": {
    "name": "ipython",
    "version": 3
   },
   "file_extension": ".py",
   "mimetype": "text/x-python",
   "name": "python",
   "nbconvert_exporter": "python",
   "pygments_lexer": "ipython3",
   "version": "3.10.9"
  }
 },
 "nbformat": 4,
 "nbformat_minor": 5
}
