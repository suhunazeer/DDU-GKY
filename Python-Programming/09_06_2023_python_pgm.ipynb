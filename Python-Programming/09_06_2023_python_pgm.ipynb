{
 "cells": [
  {
   "cell_type": "markdown",
   "id": "da0ed73b",
   "metadata": {},
   "source": [
    "<b>8. Write a Python program to remove characters that have odd index values in a given string."
   ]
  },
  {
   "cell_type": "code",
   "execution_count": 1,
   "id": "dc696357",
   "metadata": {},
   "outputs": [
    {
     "name": "stdout",
     "output_type": "stream",
     "text": [
      "Enter the string: rose\n",
      "New string:  rs\n"
     ]
    }
   ],
   "source": [
    "a=input(\"Enter the string: \")\n",
    "b=\"\"\n",
    "for i in range(len(a)):\n",
    "    if(i%2 ==0):\n",
    "        b=b+a[i]\n",
    "print(\"New string: \",b)    "
   ]
  },
  {
   "cell_type": "markdown",
   "id": "78db9667",
   "metadata": {},
   "source": [
    "<b>9.\tWrite a Python script that takes input from the user and displays that input back in upper and lower cases."
   ]
  },
  {
   "cell_type": "code",
   "execution_count": 2,
   "id": "9d15ea10",
   "metadata": {},
   "outputs": [
    {
     "name": "stdout",
     "output_type": "stream",
     "text": [
      "Enter the input: SuHaINa\n",
      "upper case:  SUHAINA\n",
      "lower case:  suhaina\n"
     ]
    }
   ],
   "source": [
    "a=input(\"Enter the input: \")\n",
    "print(\"upper case: \",a.upper())\n",
    "print(\"lower case: \",a.lower())"
   ]
  },
  {
   "cell_type": "markdown",
   "id": "3cb8aacc",
   "metadata": {},
   "source": [
    "<b>10.\tWrite a Python function to get a string made of 4 copies of the last two characters of a specified string (length must be at least 2).\n",
    "Sample function and result :\n",
    "insert_end('Python') -> onononon\n",
    "insert_end('Exercises') -> eseseses\n"
   ]
  },
  {
   "cell_type": "code",
   "execution_count": 3,
   "id": "8dcf243c",
   "metadata": {},
   "outputs": [
    {
     "name": "stdout",
     "output_type": "stream",
     "text": [
      "Enter the string: python\n",
      "onononon\n"
     ]
    }
   ],
   "source": [
    "a=input(\"Enter the string: \")\n",
    "i=a[-2:]\n",
    "new=i+i+i+i\n",
    "print(new)"
   ]
  },
  {
   "cell_type": "code",
   "execution_count": null,
   "id": "65c2ea0b",
   "metadata": {},
   "outputs": [],
   "source": [
    "a=input(\"Enter the string: \")\n",
    "i=a[-2:]\n",
    "j=0\n",
    "if(j<=4):\n",
    "    j+=j\n",
    "    print(i)\n",
    "    "
   ]
  },
  {
   "cell_type": "markdown",
   "id": "1d76a47e",
   "metadata": {},
   "source": [
    "<b> 11.\tWrite a Python function to get a string made of the first three characters of a specified string. If the length of the string is less than 3, return the original string.\n",
    "    \n",
    "<b>Sample function and result :\n",
    "    \n",
    "<b>first_three('ipy') -> ipy\n",
    "    \n",
    "<b>first_three('python') -> pyt\n"
   ]
  },
  {
   "cell_type": "code",
   "execution_count": 5,
   "id": "931adb44",
   "metadata": {},
   "outputs": [
    {
     "name": "stdout",
     "output_type": "stream",
     "text": [
      "Enter the string: python\n",
      "pyt\n"
     ]
    }
   ],
   "source": [
    "a=input(\"Enter the string: \")\n",
    "if(len(a)>3):\n",
    "    print(a[:3])\n",
    "else:\n",
    "    print(a)\n",
    "          "
   ]
  },
  {
   "cell_type": "markdown",
   "id": "b612281c",
   "metadata": {},
   "source": [
    "<b> 13. Write a Python program to check whether a list contains a sub-list."
   ]
  },
  {
   "cell_type": "code",
   "execution_count": 1,
   "id": "5562ab3a",
   "metadata": {},
   "outputs": [
    {
     "name": "stdout",
     "output_type": "stream",
     "text": [
      "List contains sub-list\n"
     ]
    }
   ],
   "source": [
    "a=['abc','def','ghi',['lmn','xy','qwe'],[1,2,3],11,'cat']\n",
    "flag=0\n",
    "for i in a:\n",
    "    if type(i)==list:\n",
    "        flag=1\n",
    "if flag==1:\n",
    "    print(\"List contains sub-list\")\n",
    "else:\n",
    "    print(\"List without sub-list\")"
   ]
  },
  {
   "cell_type": "markdown",
   "id": "1cb081e2",
   "metadata": {},
   "source": [
    "<b>14. Write a Python program to find common items in two lists."
   ]
  },
  {
   "cell_type": "code",
   "execution_count": 5,
   "id": "c1c16018",
   "metadata": {},
   "outputs": [
    {
     "name": "stdout",
     "output_type": "stream",
     "text": [
      "banana "
     ]
    }
   ],
   "source": [
    "a=['apple','grapes','orange','banana']\n",
    "b=['strawberry','kiwi','banana']\n",
    "c=[]\n",
    "for i in a:\n",
    "    if i in b:\n",
    "        print(i,end=\" \")\n",
    "       \n",
    "                "
   ]
  },
  {
   "cell_type": "code",
   "execution_count": null,
   "id": "e6ce333a",
   "metadata": {},
   "outputs": [],
   "source": []
  }
 ],
 "metadata": {
  "kernelspec": {
   "display_name": "Python 3 (ipykernel)",
   "language": "python",
   "name": "python3"
  },
  "language_info": {
   "codemirror_mode": {
    "name": "ipython",
    "version": 3
   },
   "file_extension": ".py",
   "mimetype": "text/x-python",
   "name": "python",
   "nbconvert_exporter": "python",
   "pygments_lexer": "ipython3",
   "version": "3.9.13"
  }
 },
 "nbformat": 4,
 "nbformat_minor": 5
}
