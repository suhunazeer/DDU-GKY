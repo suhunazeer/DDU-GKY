{
 "cells": [
  {
   "cell_type": "code",
   "execution_count": 1,
   "id": "ac01805d",
   "metadata": {},
   "outputs": [],
   "source": [
    "list1=['apple','orange','grape']"
   ]
  },
  {
   "cell_type": "code",
   "execution_count": 2,
   "id": "bf4d9c89",
   "metadata": {},
   "outputs": [
    {
     "name": "stdout",
     "output_type": "stream",
     "text": [
      "orange\n"
     ]
    }
   ],
   "source": [
    "### print the 2nd item from the list\n",
    "\n",
    "print(list1[1])"
   ]
  },
  {
   "cell_type": "code",
   "execution_count": 3,
   "id": "e6aee146",
   "metadata": {},
   "outputs": [
    {
     "name": "stdout",
     "output_type": "stream",
     "text": [
      "['lemon', 'orange', 'grape']\n"
     ]
    }
   ],
   "source": [
    "### change apple to lemon\n",
    "\n",
    "\n",
    "list1[0]=\"lemon\"\n",
    "print(list1)"
   ]
  },
  {
   "cell_type": "code",
   "execution_count": 4,
   "id": "86ce4159",
   "metadata": {},
   "outputs": [
    {
     "name": "stdout",
     "output_type": "stream",
     "text": [
      "['lemon', 'orange', 'grape', 'water melon']\n"
     ]
    }
   ],
   "source": [
    "### Add watermelon to the list\n",
    "\n",
    "list1.append('water melon')\n",
    "print(list1)"
   ]
  },
  {
   "cell_type": "code",
   "execution_count": 5,
   "id": "3774fe4d",
   "metadata": {},
   "outputs": [
    {
     "name": "stdout",
     "output_type": "stream",
     "text": [
      "['lemon', 'grape', 'water melon']\n"
     ]
    }
   ],
   "source": [
    "### Remove orange\n",
    "\n",
    "list1.remove('orange')\n",
    "print(list1)"
   ]
  },
  {
   "cell_type": "code",
   "execution_count": 6,
   "id": "934a1860",
   "metadata": {},
   "outputs": [
    {
     "name": "stdout",
     "output_type": "stream",
     "text": [
      "water melon\n"
     ]
    }
   ],
   "source": [
    "### Print the last item\n",
    "\n",
    "print(list1[-1])"
   ]
  },
  {
   "cell_type": "code",
   "execution_count": 7,
   "id": "ef870ad0",
   "metadata": {},
   "outputs": [
    {
     "name": "stdout",
     "output_type": "stream",
     "text": [
      "['lemon', 'grape']\n"
     ]
    }
   ],
   "source": [
    "### print the first and second item\n",
    "\n",
    "print(list1[:2])"
   ]
  },
  {
   "cell_type": "code",
   "execution_count": 8,
   "id": "c9c5e74b",
   "metadata": {},
   "outputs": [
    {
     "name": "stdout",
     "output_type": "stream",
     "text": [
      "3\n"
     ]
    }
   ],
   "source": [
    "### print number of items\n",
    "\n",
    "print(len(list1))"
   ]
  },
  {
   "cell_type": "markdown",
   "id": "46a44b12",
   "metadata": {},
   "source": [
    "## Python Conditional Statements"
   ]
  },
  {
   "cell_type": "code",
   "execution_count": 9,
   "id": "133af911",
   "metadata": {},
   "outputs": [
    {
     "name": "stdout",
     "output_type": "stream",
     "text": [
      "Enter first number41\n",
      "Enter the second number63\n",
      "41 is less than 63\n"
     ]
    }
   ],
   "source": [
    "x=int(input(\"Enter first number\"))\n",
    "y=int(input(\"Enter the second number\"))\n",
    "if x>y :\n",
    "    print(x,\"is greater than\" ,y)\n",
    "elif x<y :\n",
    "    print(x,\"is less than\", y)\n",
    "if x==y :\n",
    "    print(\"Both are equal\")"
   ]
  },
  {
   "cell_type": "code",
   "execution_count": 10,
   "id": "5bf6c07e",
   "metadata": {},
   "outputs": [
    {
     "name": "stdout",
     "output_type": "stream",
     "text": [
      "Enter any number : 89\n",
      "89  is an Odd number\n"
     ]
    }
   ],
   "source": [
    "### Write a pgm to check whether a number entered by user is even or odd\n",
    "\n",
    "x=int(input(\"Enter any number : \"))\n",
    "if x%2 == 0:\n",
    "    print(x, \" is an Even number\")\n",
    "else:\n",
    "    print(x, \" is an Odd number\")"
   ]
  },
  {
   "cell_type": "code",
   "execution_count": 11,
   "id": "333fe757",
   "metadata": {},
   "outputs": [
    {
     "name": "stdout",
     "output_type": "stream",
     "text": [
      "Enter your age: 8\n",
      " You are not eligible\n"
     ]
    }
   ],
   "source": [
    "### Write a pgm to check whether a person is eligible for voting or not\n",
    "\n",
    "age=int(input(\"Enter your age: \"))\n",
    "\n",
    "if age >= 18 :\n",
    "    print(\" You are eligible\")\n",
    "else :\n",
    "    print(\" You are not eligible\")\n",
    "\n"
   ]
  },
  {
   "cell_type": "code",
   "execution_count": 12,
   "id": "e9d84d39",
   "metadata": {},
   "outputs": [
    {
     "name": "stdout",
     "output_type": "stream",
     "text": [
      "Enter the number: 70\n",
      "70 is divisible by 7\n"
     ]
    }
   ],
   "source": [
    "### Write a pgm to check whether a number is divisible by 7 or not \n",
    "\n",
    "n=int(input(\"Enter the number: \"))\n",
    "if n%7 == 0 :\n",
    "    print(n,\"is divisible by 7\")\n",
    "else:\n",
    "    print(n,\"is not divisible by 7\")"
   ]
  },
  {
   "cell_type": "code",
   "execution_count": 13,
   "id": "ec9520ef",
   "metadata": {},
   "outputs": [
    {
     "name": "stdout",
     "output_type": "stream",
     "text": [
      "Enter a number: 25\n",
      "Hello\n"
     ]
    }
   ],
   "source": [
    "# ### Write a pgm to display \"Hello\" if a number entered by user is multiple of 5, otherwise print \"Bye\"\n",
    "\n",
    "n=int(input(\"Enter a number: \"))\n",
    "\n",
    "if n%5 == 0 :\n",
    "    print(\"Hello\")\n",
    "else :\n",
    "    print(\"Bye\")"
   ]
  },
  {
   "cell_type": "code",
   "execution_count": 14,
   "id": "6c8c5440",
   "metadata": {},
   "outputs": [
    {
     "name": "stdout",
     "output_type": "stream",
     "text": [
      "Enter your mark percentage: 65\n",
      "Grade : C\n"
     ]
    }
   ],
   "source": [
    "### Write a pgm to accept percentage from user and display the grade according to the following criteria\n",
    "\n",
    "### Marks            Grade\n",
    "### >90               A\n",
    "### >80 and <=90      B \n",
    "### >60 and <=80      C\n",
    "### below 60          D \n",
    "\n",
    "mark=int(input(\"Enter your mark percentage: \"))\n",
    "\n",
    "if mark > 90 :\n",
    "    print(\"Grade : A\")\n",
    "elif mark >80 and mark <=90 :\n",
    "     print(\"Grade : B\")\n",
    "elif mark >60 and mark <=80 :\n",
    "     print(\"Grade : C\")  \n",
    "else:\n",
    "    print(\"Grade :  D\")"
   ]
  },
  {
   "cell_type": "code",
   "execution_count": 15,
   "id": "1bbdfe75",
   "metadata": {},
   "outputs": [
    {
     "name": "stdout",
     "output_type": "stream",
     "text": [
      "Enter the number: 86147\n",
      "last digit of 86147 is 7\n"
     ]
    }
   ],
   "source": [
    "### Write a pgm to display the last digit of a number\n",
    "\n",
    "n=int(input(\"Enter the number: \"))\n",
    "rem=n%10\n",
    "print(\"last digit of\",n ,\"is\",rem)"
   ]
  },
  {
   "cell_type": "code",
   "execution_count": 16,
   "id": "aeaf19c2",
   "metadata": {},
   "outputs": [
    {
     "name": "stdout",
     "output_type": "stream",
     "text": [
      "Enter the number: 95263\n",
      "95263 is divisible by 3\n"
     ]
    }
   ],
   "source": [
    "### Write a pgm to display the last digit of a number is divisible by 3 or not\n",
    "\n",
    "n=int(input(\"Enter the number: \"))\n",
    "rem=n%10\n",
    "\n",
    "if rem % 3 == 0 :\n",
    "    print(n,\"is divisible by 3\")\n",
    "else:\n",
    "    print(n,\"is not divisible by 3\")\n",
    "\n"
   ]
  },
  {
   "cell_type": "code",
   "execution_count": 17,
   "id": "a9dbbc98",
   "metadata": {},
   "outputs": [
    {
     "name": "stdout",
     "output_type": "stream",
     "text": [
      "1\n",
      "2\n",
      "3\n",
      "4\n",
      "5\n",
      "6\n",
      "7\n",
      "8\n",
      "9\n",
      "10\n"
     ]
    }
   ],
   "source": [
    "### Print the first 10 natural number using \"for\" loop\n",
    "\n",
    "for i in range(1,11) :\n",
    "    print(i)\n"
   ]
  },
  {
   "cell_type": "code",
   "execution_count": 18,
   "id": "32d107e3",
   "metadata": {},
   "outputs": [
    {
     "name": "stdout",
     "output_type": "stream",
     "text": [
      "1\n",
      "2\n",
      "3\n",
      "4\n",
      "5\n",
      "6\n",
      "7\n",
      "8\n",
      "9\n",
      "10\n"
     ]
    }
   ],
   "source": [
    "### Print the first 10 natural number using \"for\" loop\n",
    "\n",
    "i=1\n",
    "while (i < 11):\n",
    "    print(i)\n",
    "    i+=1"
   ]
  },
  {
   "cell_type": "code",
   "execution_count": 19,
   "id": "9cab3d76",
   "metadata": {},
   "outputs": [
    {
     "name": "stdout",
     "output_type": "stream",
     "text": [
      "2\n",
      "4\n",
      "6\n",
      "8\n",
      "10\n",
      "12\n",
      "14\n",
      "16\n",
      "18\n",
      "20\n"
     ]
    }
   ],
   "source": [
    "### Print all the even numbers upto 20\n",
    "\n",
    "for i in range(2,21,2):\n",
    "    print(i)\n",
    "    "
   ]
  },
  {
   "cell_type": "code",
   "execution_count": 20,
   "id": "913aa131",
   "metadata": {},
   "outputs": [
    {
     "name": "stdout",
     "output_type": "stream",
     "text": [
      "2\n",
      "4\n",
      "6\n",
      "8\n",
      "10\n",
      "12\n",
      "14\n",
      "16\n",
      "18\n",
      "20\n"
     ]
    }
   ],
   "source": [
    "### Print all the even numbers upto 20\n",
    "\n",
    "for i in range(2,21):\n",
    "    if i%2 == 0 :\n",
    "        print(i)\n",
    "    \n"
   ]
  },
  {
   "cell_type": "code",
   "execution_count": 21,
   "id": "695d1c25",
   "metadata": {},
   "outputs": [
    {
     "name": "stdout",
     "output_type": "stream",
     "text": [
      "1\n",
      "3\n",
      "5\n",
      "7\n",
      "9\n"
     ]
    }
   ],
   "source": [
    "### Print all the odd numbers upto 10\n",
    "\n",
    "for i in range(1,11,2):\n",
    "    print(i)"
   ]
  },
  {
   "cell_type": "code",
   "execution_count": 22,
   "id": "75053330",
   "metadata": {},
   "outputs": [
    {
     "name": "stdout",
     "output_type": "stream",
     "text": [
      "1\n",
      "3\n",
      "5\n",
      "7\n",
      "9\n"
     ]
    }
   ],
   "source": [
    "### Print all the odd numbers upto 10\n",
    "\n",
    "for i in range(1,11):\n",
    "    if i%2 != 0 :\n",
    "        print(i)\n",
    "    "
   ]
  },
  {
   "cell_type": "code",
   "execution_count": 23,
   "id": "90d65cf7",
   "metadata": {},
   "outputs": [
    {
     "name": "stdout",
     "output_type": "stream",
     "text": [
      "55\n"
     ]
    }
   ],
   "source": [
    "### Calculate the sum of all numbers from 1 to 10\n",
    "\n",
    "sum=0\n",
    "\n",
    "for i in range(1,11):\n",
    "    sum=sum+i\n",
    "print(sum)"
   ]
  },
  {
   "cell_type": "code",
   "execution_count": 24,
   "id": "2d78898c",
   "metadata": {},
   "outputs": [
    {
     "name": "stdout",
     "output_type": "stream",
     "text": [
      "Enter the number: 6\n",
      "9\n"
     ]
    }
   ],
   "source": [
    "### Print the sum of all odd number\n",
    "\n",
    "x=int(input(\"Enter the number: \"))\n",
    "sum=0\n",
    "\n",
    "for i in range(1,x+1):\n",
    "    if i%2 !=0:\n",
    "        sum= sum + i\n",
    "print(sum)    "
   ]
  },
  {
   "cell_type": "code",
   "execution_count": 25,
   "id": "67bf2756",
   "metadata": {},
   "outputs": [
    {
     "name": "stdout",
     "output_type": "stream",
     "text": [
      "Enter a number: 8\n",
      "1 X 8 = 8\n",
      "2 X 8 = 16\n",
      "3 X 8 = 24\n",
      "4 X 8 = 32\n",
      "5 X 8 = 40\n",
      "6 X 8 = 48\n",
      "7 X 8 = 56\n",
      "8 X 8 = 64\n",
      "9 X 8 = 72\n",
      "10 X 8 = 80\n"
     ]
    }
   ],
   "source": [
    "### print the multiplication table of a given number\n",
    "\n",
    "n=int(input(\"Enter a number: \"))\n",
    "\n",
    "for i in range(1,11):\n",
    "    print(i,'X',n,'=',i*n)"
   ]
  },
  {
   "cell_type": "code",
   "execution_count": 26,
   "id": "17222cf9",
   "metadata": {},
   "outputs": [
    {
     "name": "stdout",
     "output_type": "stream",
     "text": [
      "H\n",
      "e\n",
      "l\n",
      "l\n",
      "o\n"
     ]
    }
   ],
   "source": [
    "a=\"Hello\"\n",
    "for i in a:\n",
    "    print(i)"
   ]
  },
  {
   "cell_type": "code",
   "execution_count": 27,
   "id": "cdc33287",
   "metadata": {},
   "outputs": [
    {
     "name": "stdout",
     "output_type": "stream",
     "text": [
      "H\n",
      "E\n",
      "L\n",
      "L\n",
      "O\n"
     ]
    }
   ],
   "source": [
    "a=\"HELLO\"\n",
    "for i in range(len(a)):\n",
    "    print(a[i])"
   ]
  },
  {
   "cell_type": "code",
   "execution_count": 35,
   "id": "b2dc20ef",
   "metadata": {},
   "outputs": [
    {
     "name": "stdout",
     "output_type": "stream",
     "text": [
      "M\n",
      " \n",
      "a\n",
      "e\n",
      "i\n",
      " \n",
      "u\n",
      "a\n",
      "n\n"
     ]
    }
   ],
   "source": [
    "### print the characters from a string that are present at even index\n",
    "\n",
    "str=\"My name is Suhaina\"\n",
    "x=len(str)\n",
    "\n",
    "for i in range(0,x,2):\n",
    "    print(str[i])"
   ]
  },
  {
   "cell_type": "code",
   "execution_count": 29,
   "id": "e104c36a",
   "metadata": {},
   "outputs": [
    {
     "name": "stdout",
     "output_type": "stream",
     "text": [
      "M\n",
      " \n",
      "a\n",
      "e\n",
      "i\n",
      " \n",
      "u\n",
      "a\n",
      "n\n"
     ]
    }
   ],
   "source": [
    "### print the characters from a string that are present at even index\n",
    "\n",
    "str=\"My name is Suhaina\"\n",
    "for i in range(len(str)):\n",
    "    if i%2==0:\n",
    "        print(str[i])"
   ]
  },
  {
   "cell_type": "code",
   "execution_count": 37,
   "id": "8f8da9a4",
   "metadata": {},
   "outputs": [
    {
     "name": "stdout",
     "output_type": "stream",
     "text": [
      "Items are same\n"
     ]
    }
   ],
   "source": [
    "### Check if the first and last item of a list are same\n",
    "\n",
    "list1=[1,2,3,4,1]\n",
    "\n",
    "if list1[0]==list1[-1]:\n",
    "    print(\"Items are same\")\n",
    "else :\n",
    "    print(\"Not same\")"
   ]
  },
  {
   "cell_type": "code",
   "execution_count": 38,
   "id": "e67b522e",
   "metadata": {},
   "outputs": [
    {
     "name": "stdout",
     "output_type": "stream",
     "text": [
      "5\n",
      "20\n",
      "25\n"
     ]
    }
   ],
   "source": [
    "### print the numbers that are divisible by 5 from a given list\n",
    "\n",
    "a=[5,14,20,25,6]\n",
    "for i in range(len(a)):\n",
    "    if a[i]%5 == 0:\n",
    "        print(a[i])\n"
   ]
  },
  {
   "cell_type": "code",
   "execution_count": 39,
   "id": "21ff31f2",
   "metadata": {},
   "outputs": [
    {
     "name": "stdout",
     "output_type": "stream",
     "text": [
      "5\n",
      "20\n",
      "25\n"
     ]
    }
   ],
   "source": [
    "### print the numbers that are divisible by 5 from a given list\n",
    "\n",
    "a=[5,14,20,25,6]\n",
    "\n",
    "for i in a:\n",
    "    if i%5==0:\n",
    "        print(i)\n",
    "    "
   ]
  },
  {
   "cell_type": "code",
   "execution_count": 46,
   "id": "f24b6998",
   "metadata": {},
   "outputs": [
    {
     "name": "stdout",
     "output_type": "stream",
     "text": [
      "*\n",
      "**\n",
      "***\n",
      "****\n",
      "*****\n",
      "******\n"
     ]
    }
   ],
   "source": [
    "for i in range(6):\n",
    "    for j in range(i+1):\n",
    "        print('*',end=\"\")\n",
    "    print()"
   ]
  },
  {
   "cell_type": "markdown",
   "id": "6b64568c",
   "metadata": {},
   "source": [
    "#### Date: 07-06-2023"
   ]
  },
  {
   "cell_type": "code",
   "execution_count": 11,
   "id": "b7d87f57",
   "metadata": {},
   "outputs": [
    {
     "name": "stdout",
     "output_type": "stream",
     "text": [
      "['My', 'name', 'is', 'kelly']\n"
     ]
    }
   ],
   "source": [
    "L1=['M','na','i','ke']\n",
    "L2=['y','me','s','lly']\n",
    "a=[]\n",
    "\n",
    "#for i in L1:\n",
    " #   for j in L2:\n",
    "  #      b=i+j\n",
    "   # a.append(b)\n",
    "#print(a)    \n",
    "\n",
    "\n",
    "\n",
    "for i in range(len(L1)):\n",
    "    for j in range(len(L2)):\n",
    "     b=L1[i]+L2[i]\n",
    "    a.append(b)\n",
    "print(a)    "
   ]
  },
  {
   "cell_type": "code",
   "execution_count": 16,
   "id": "0ef26e0c",
   "metadata": {},
   "outputs": [
    {
     "name": "stdout",
     "output_type": "stream",
     "text": [
      "['Hello Dear', 'Hello Sir', 'take Dear', 'take Sir']\n"
     ]
    }
   ],
   "source": [
    "l1=['Hello','take']\n",
    "l2=['Dear','Sir']\n",
    "#op[\"Hello Dear\",\"Hello Sir\",\"Take Dear\",\"take Sir\"]\n",
    "a=[]\n",
    "\n",
    "for i in l1:\n",
    "    for j in l2:\n",
    "        x=i+\" \"+j\n",
    "        a.append(x)\n",
    "print(a)   \n"
   ]
  },
  {
   "cell_type": "code",
   "execution_count": 17,
   "id": "5aaeba37",
   "metadata": {},
   "outputs": [
    {
     "name": "stdout",
     "output_type": "stream",
     "text": [
      "[1, 4, 9, 16, 25]\n"
     ]
    }
   ],
   "source": [
    "#i/p a=[1,2,3,4,5]\n",
    "#o/p b=[1,4,9,16,25]\n",
    "\n",
    "a=[1,2,3,4,5]\n",
    "b=[]\n",
    "for i in a:\n",
    "    x=i*i\n",
    "    b.append(x)\n",
    "print(b)    "
   ]
  },
  {
   "cell_type": "code",
   "execution_count": 18,
   "id": "f5984131",
   "metadata": {},
   "outputs": [
    {
     "name": "stdout",
     "output_type": "stream",
     "text": [
      "[10, 20, [300, 400, [5000, 6000, 7000], 500], 30, 40]\n"
     ]
    }
   ],
   "source": [
    "#list1=[10,20,[300,400,[5000,6000],500],30,40]\n",
    "#o/p=[10,20,[300,400,[5000,6000,7000],500],30,40]\n",
    "\n",
    "list1=[10,20,[300,400,[5000,6000],500],30,40]\n",
    "list1[2][2].append(7000)\n",
    "print(list1)\n"
   ]
  },
  {
   "cell_type": "code",
   "execution_count": 23,
   "id": "caa2aab6",
   "metadata": {},
   "outputs": [
    {
     "name": "stdout",
     "output_type": "stream",
     "text": [
      "Enter a number: 5\n",
      "Factorial= 120\n"
     ]
    }
   ],
   "source": [
    "## Write a pgm to calculate the factorial of a number\n",
    "\n",
    "n=int(input(\"Enter a number: \"))\n",
    "f=1\n",
    "for i in range(1,(n+1)):\n",
    "    f=f*i\n",
    "print(\"Factorial=\",f)    "
   ]
  },
  {
   "cell_type": "code",
   "execution_count": 25,
   "id": "5a8c74c7",
   "metadata": {},
   "outputs": [
    {
     "name": "stdout",
     "output_type": "stream",
     "text": [
      "-10\n",
      "-9\n",
      "-8\n",
      "-7\n",
      "-6\n",
      "-5\n",
      "-4\n",
      "-3\n",
      "-2\n",
      "-1\n"
     ]
    }
   ],
   "source": [
    "## Print the numbers -10 to -1\n",
    "\n",
    "for i in range(-10,0):\n",
    "    print(i)\n"
   ]
  },
  {
   "cell_type": "code",
   "execution_count": 26,
   "id": "ed4eb913",
   "metadata": {},
   "outputs": [
    {
     "name": "stdout",
     "output_type": "stream",
     "text": [
      "Enter a number: 7643\n",
      "3467\n"
     ]
    }
   ],
   "source": [
    "# write a pgm to reverse a number\n",
    "\n",
    "num=int(input(\"Enter a number: \"))\n",
    "reverse=0\n",
    "while(num>0):\n",
    "    reminder=num%10\n",
    "    reverse=(reverse*10)+reminder\n",
    "    num=num//10\n",
    "print(reverse)    "
   ]
  },
  {
   "cell_type": "code",
   "execution_count": 31,
   "id": "2e2b4e91",
   "metadata": {},
   "outputs": [
    {
     "name": "stdout",
     "output_type": "stream",
     "text": [
      "Enter a number:10\n",
      "[1, 8, 27, 64, 125, 216, 343, 512, 729, 1000]\n"
     ]
    }
   ],
   "source": [
    "## Calculate the cube of all number from 1 to a given number\n",
    "\n",
    "a=[]\n",
    "n=int(input(\"Enter a number:\"))\n",
    "\n",
    "for i in range(1,n+1):\n",
    "    cube=i**3\n",
    "#print(cube)    \n",
    "    a.append(cube)\n",
    "print(a)"
   ]
  },
  {
   "cell_type": "code",
   "execution_count": 35,
   "id": "48cc9437",
   "metadata": {},
   "outputs": [
    {
     "name": "stdout",
     "output_type": "stream",
     "text": [
      "updated: {'Age': 23, 'City': 'New Delhi'}\n"
     ]
    }
   ],
   "source": [
    "### Delete a list of keys from a dictionary\n",
    "\n",
    "# person1={ Name: John\n",
    "           # Age: 23\n",
    " #           Salary: 25000\n",
    "   #             City: New Delhi\n",
    "\n",
    "#}\n",
    "#keys[Name,Salary]\n",
    "\n",
    "person1={ 'Name': 'John',\n",
    "        'Age':23,\n",
    "        'Salary':25000,\n",
    "        'City': 'New Delhi'\n",
    "        }\n",
    "\n",
    "keys=['Name','Salary']\n",
    "\n",
    "for k in keys:\n",
    "    person1.pop(k)\n",
    "print(\"updated:\",person1)    "
   ]
  },
  {
   "cell_type": "code",
   "execution_count": 40,
   "id": "bd2d457d",
   "metadata": {},
   "outputs": [
    {
     "name": "stdout",
     "output_type": "stream",
     "text": [
      "0 \n",
      "0 1 \n",
      "0 1 2 \n",
      "0 1 2 3 \n",
      "0 1 2 3 4 \n"
     ]
    }
   ],
   "source": [
    "for i in range(5):\n",
    "    for j in range(i+1):\n",
    "        print(j,end=\" \")\n",
    "    print()"
   ]
  },
  {
   "cell_type": "code",
   "execution_count": null,
   "id": "1ae49342",
   "metadata": {},
   "outputs": [],
   "source": []
  }
 ],
 "metadata": {
  "kernelspec": {
   "display_name": "Python 3 (ipykernel)",
   "language": "python",
   "name": "python3"
  },
  "language_info": {
   "codemirror_mode": {
    "name": "ipython",
    "version": 3
   },
   "file_extension": ".py",
   "mimetype": "text/x-python",
   "name": "python",
   "nbconvert_exporter": "python",
   "pygments_lexer": "ipython3",
   "version": "3.9.13"
  }
 },
 "nbformat": 4,
 "nbformat_minor": 5
}
