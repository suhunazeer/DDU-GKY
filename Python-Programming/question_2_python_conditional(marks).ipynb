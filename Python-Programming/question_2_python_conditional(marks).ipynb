{
 "cells": [
  {
   "cell_type": "markdown",
   "id": "de5e355f",
   "metadata": {},
   "source": [
    "<b>How to use the \"and\" operator ?\n",
    "\n",
    "<b><u>Question 2 :\n",
    "    \n",
    "John is working on a Python program where he needs to check if two conditions are true at the same time.\n",
    "John is a programmer who is working on a program that evaluates students' grades based on their scores on two exams. \n",
    "He wants to filter out the students who scored less than 60 on both exams and calculate the average score of the \n",
    "remaining students. He knows he can use the \"and\" operator to combine two conditions in an if statement.\n",
    "How to use the \"and\" operator in a conditional statement in Python? \n",
    " \n",
    "    \n",
    "Answer :\n",
    "\n",
    "    The \"and\" operator can be used in a conditional statement to combine two conditions that must be true at the same time. \n",
    "    In Python, the \"and\" operator evaluates to True if both the conditions it connects are true. For example, in John's program, he can use the following conditional statement to filter out students who scored less than 60 on both exams:\n",
    "\n",
    "    \n",
    "if exam1_score >= 60 and exam2_score >= 60:\n",
    "    # do something with the student's scores"
   ]
  },
  {
   "cell_type": "code",
   "execution_count": 1,
   "id": "18a1cd3d",
   "metadata": {},
   "outputs": [
    {
     "name": "stdout",
     "output_type": "stream",
     "text": [
      "Enter the no.of students:3\n",
      "Enter the student name: Aswathy\n",
      "Enter the score for subject-1: 52\n",
      "Enter the score for subject-2: 51\n",
      "Enter the student name: Reshma\n",
      "Enter the score for subject-1: 63\n",
      "Enter the score for subject-2: 62\n",
      "Enter the student name: Doniya\n",
      "Enter the score for subject-1: 70\n",
      "Enter the score for subject-2: 60\n",
      "Average of the 2 students whose both the marks above 60 is: 127.5\n",
      "The name of the students whose both the marks below 60 are:  Aswathy\n"
     ]
    }
   ],
   "source": [
    "stud={}\n",
    "n=int(input(\"Enter the no.of students:\"))\n",
    "c=0\n",
    "s=[]\n",
    "a=[]\n",
    "sum=0;\n",
    "avg=0\n",
    "while n>c:\n",
    "    name=input(\"Enter the student name: \")\n",
    "    score_1=int(input(\"Enter the score for subject-1: \"))\n",
    "    score_2=int(input(\"Enter the score for subject-2: \"))\n",
    "    s.append(score_1)\n",
    "    s.append(score_2)\n",
    "    stud[name]=s[-2:]\n",
    "    c=c+1\n",
    "\n",
    "for k,i in stud.items():\n",
    "   \n",
    "    if i[0]>=60 and i[1]>=60:\n",
    "        sum=sum+i[0]+i[1]\n",
    "        a.append(k)\n",
    "        avg=sum/len(a)\n",
    "\n",
    "print(\"Average of the\",len(a),\"students whose both the marks above 60 is:\",avg)\n",
    "\n",
    "for k,i in stud.items():\n",
    "\n",
    "    if i[0]<60 and i[1]<60:\n",
    "        print(\"The name of the students whose both the marks below 60 are: \",k)\n",
    "    else:\n",
    "        break"
   ]
  },
  {
   "cell_type": "code",
   "execution_count": null,
   "id": "25674d2a",
   "metadata": {},
   "outputs": [],
   "source": []
  },
  {
   "cell_type": "code",
   "execution_count": null,
   "id": "b695f896",
   "metadata": {},
   "outputs": [],
   "source": []
  }
 ],
 "metadata": {
  "kernelspec": {
   "display_name": "Python 3 (ipykernel)",
   "language": "python",
   "name": "python3"
  },
  "language_info": {
   "codemirror_mode": {
    "name": "ipython",
    "version": 3
   },
   "file_extension": ".py",
   "mimetype": "text/x-python",
   "name": "python",
   "nbconvert_exporter": "python",
   "pygments_lexer": "ipython3",
   "version": "3.9.13"
  }
 },
 "nbformat": 4,
 "nbformat_minor": 5
}
