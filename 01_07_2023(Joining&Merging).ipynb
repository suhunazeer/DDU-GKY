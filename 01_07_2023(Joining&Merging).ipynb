{
 "cells": [
  {
   "cell_type": "markdown",
   "id": "ad7576a4",
   "metadata": {},
   "source": [
    "# <center> <u> JOINING & MERGING"
   ]
  },
  {
   "cell_type": "code",
   "execution_count": 1,
   "id": "fe3a8b32",
   "metadata": {},
   "outputs": [],
   "source": [
    "import pandas as pd\n",
    "import numpy as np\n",
    "import warnings\n",
    "warnings.filterwarnings('ignore')"
   ]
  },
  {
   "cell_type": "markdown",
   "id": "0b3e47af",
   "metadata": {},
   "source": [
    "#### create 2 dictionaries for building a dataframe"
   ]
  },
  {
   "cell_type": "code",
   "execution_count": 2,
   "id": "ae74d69c",
   "metadata": {},
   "outputs": [],
   "source": [
    "names = pd.DataFrame({\n",
    "    'id':[1,2,3,4,5],\n",
    "    'name':['Suhaina','Reshma','Reshma A C','Aiswarya','Doniya'],\n",
    "})\n",
    "\n",
    "ages = pd.DataFrame({\n",
    "    'id':[1,2,3,4,5],\n",
    "    'age':[32,22,26,23,22],\n",
    "})"
   ]
  },
  {
   "cell_type": "markdown",
   "id": "5716840d",
   "metadata": {},
   "source": [
    "##### here in both the dataframe, id column is repetative. so that we can merge the two different dataframe"
   ]
  },
  {
   "cell_type": "code",
   "execution_count": 3,
   "id": "61a4d40d",
   "metadata": {},
   "outputs": [],
   "source": [
    "df = pd.merge(names,ages, on='id')\n",
    "df.set_index('id',inplace=True)"
   ]
  },
  {
   "cell_type": "code",
   "execution_count": 4,
   "id": "3d7a857f",
   "metadata": {},
   "outputs": [
    {
     "data": {
      "text/html": [
       "<div>\n",
       "<style scoped>\n",
       "    .dataframe tbody tr th:only-of-type {\n",
       "        vertical-align: middle;\n",
       "    }\n",
       "\n",
       "    .dataframe tbody tr th {\n",
       "        vertical-align: top;\n",
       "    }\n",
       "\n",
       "    .dataframe thead th {\n",
       "        text-align: right;\n",
       "    }\n",
       "</style>\n",
       "<table border=\"1\" class=\"dataframe\">\n",
       "  <thead>\n",
       "    <tr style=\"text-align: right;\">\n",
       "      <th></th>\n",
       "      <th>name</th>\n",
       "      <th>age</th>\n",
       "    </tr>\n",
       "    <tr>\n",
       "      <th>id</th>\n",
       "      <th></th>\n",
       "      <th></th>\n",
       "    </tr>\n",
       "  </thead>\n",
       "  <tbody>\n",
       "    <tr>\n",
       "      <th>1</th>\n",
       "      <td>Suhaina</td>\n",
       "      <td>32</td>\n",
       "    </tr>\n",
       "    <tr>\n",
       "      <th>2</th>\n",
       "      <td>Reshma</td>\n",
       "      <td>22</td>\n",
       "    </tr>\n",
       "    <tr>\n",
       "      <th>3</th>\n",
       "      <td>Reshma A C</td>\n",
       "      <td>26</td>\n",
       "    </tr>\n",
       "    <tr>\n",
       "      <th>4</th>\n",
       "      <td>Aiswarya</td>\n",
       "      <td>23</td>\n",
       "    </tr>\n",
       "    <tr>\n",
       "      <th>5</th>\n",
       "      <td>Doniya</td>\n",
       "      <td>22</td>\n",
       "    </tr>\n",
       "  </tbody>\n",
       "</table>\n",
       "</div>"
      ],
      "text/plain": [
       "          name  age\n",
       "id                 \n",
       "1      Suhaina   32\n",
       "2       Reshma   22\n",
       "3   Reshma A C   26\n",
       "4     Aiswarya   23\n",
       "5       Doniya   22"
      ]
     },
     "execution_count": 4,
     "metadata": {},
     "output_type": "execute_result"
    }
   ],
   "source": [
    "df"
   ]
  },
  {
   "cell_type": "markdown",
   "id": "1876af82",
   "metadata": {},
   "source": [
    "### <u> JOINS"
   ]
  },
  {
   "cell_type": "markdown",
   "id": "c6011766",
   "metadata": {},
   "source": [
    "<table align=\"center\">\n",
    "<tr>\n",
    "<th>JOIN MERGE TYPES</th>\n",
    "\n",
    "    \n",
    "<table align=\"center\">\n",
    "<tr>\n",
    "<th>JOIN</th>\n",
    "<th>DESCRIPTION</th>\n",
    "</tr>\n",
    "<tr>\n",
    "<td>Left</td>\n",
    "<td>Uses all keys from left object and merges with right</td>\n",
    "</tr>\n",
    "<tr>\n",
    "<td>Right</td>\n",
    "<td>Uses all keys from right object and merges with left</td>\n",
    "</tr>\n",
    "<tr>\n",
    "<td>Outer</td>\n",
    "<td>Uses all keys from both the object and merges them</td>\n",
    "</tr>   \n",
    "<tr>\n",
    "<td>Inner</td>\n",
    "<td>Uses only the keys which both the object have \n",
    "    and merges them(default)</td>\n",
    "</tr>       \n",
    "</table>"
   ]
  },
  {
   "cell_type": "markdown",
   "id": "c95b6810",
   "metadata": {},
   "source": [
    "##### Change our dataframe a littlebit"
   ]
  },
  {
   "cell_type": "code",
   "execution_count": 5,
   "id": "6a3f56b2",
   "metadata": {},
   "outputs": [],
   "source": [
    "names = pd.DataFrame({\n",
    "    'id':[1,2,3,4,5,6],\n",
    "    'name':['Suhaina','Reshma','Reshma A C','Aiswarya','Doniya','Aswathi'],\n",
    "})\n",
    "\n",
    "ages = pd.DataFrame({\n",
    "    'id':[1,2,3,4,5,7],\n",
    "    'age':[32,22,26,23,22,23],\n",
    "})"
   ]
  },
  {
   "cell_type": "markdown",
   "id": "2241e1bd",
   "metadata": {},
   "source": [
    "#### <u> 1. Left Join"
   ]
  },
  {
   "cell_type": "code",
   "execution_count": 6,
   "id": "0b77a9ae",
   "metadata": {},
   "outputs": [],
   "source": [
    "df = pd.merge(names,ages, on='id', how='left')\n",
    "df.set_index('id',inplace=True)"
   ]
  },
  {
   "cell_type": "code",
   "execution_count": 7,
   "id": "91d1a43d",
   "metadata": {},
   "outputs": [
    {
     "data": {
      "text/html": [
       "<div>\n",
       "<style scoped>\n",
       "    .dataframe tbody tr th:only-of-type {\n",
       "        vertical-align: middle;\n",
       "    }\n",
       "\n",
       "    .dataframe tbody tr th {\n",
       "        vertical-align: top;\n",
       "    }\n",
       "\n",
       "    .dataframe thead th {\n",
       "        text-align: right;\n",
       "    }\n",
       "</style>\n",
       "<table border=\"1\" class=\"dataframe\">\n",
       "  <thead>\n",
       "    <tr style=\"text-align: right;\">\n",
       "      <th></th>\n",
       "      <th>name</th>\n",
       "      <th>age</th>\n",
       "    </tr>\n",
       "    <tr>\n",
       "      <th>id</th>\n",
       "      <th></th>\n",
       "      <th></th>\n",
       "    </tr>\n",
       "  </thead>\n",
       "  <tbody>\n",
       "    <tr>\n",
       "      <th>1</th>\n",
       "      <td>Suhaina</td>\n",
       "      <td>32.0</td>\n",
       "    </tr>\n",
       "    <tr>\n",
       "      <th>2</th>\n",
       "      <td>Reshma</td>\n",
       "      <td>22.0</td>\n",
       "    </tr>\n",
       "    <tr>\n",
       "      <th>3</th>\n",
       "      <td>Reshma A C</td>\n",
       "      <td>26.0</td>\n",
       "    </tr>\n",
       "    <tr>\n",
       "      <th>4</th>\n",
       "      <td>Aiswarya</td>\n",
       "      <td>23.0</td>\n",
       "    </tr>\n",
       "    <tr>\n",
       "      <th>5</th>\n",
       "      <td>Doniya</td>\n",
       "      <td>22.0</td>\n",
       "    </tr>\n",
       "    <tr>\n",
       "      <th>6</th>\n",
       "      <td>Aswathi</td>\n",
       "      <td>NaN</td>\n",
       "    </tr>\n",
       "  </tbody>\n",
       "</table>\n",
       "</div>"
      ],
      "text/plain": [
       "          name   age\n",
       "id                  \n",
       "1      Suhaina  32.0\n",
       "2       Reshma  22.0\n",
       "3   Reshma A C  26.0\n",
       "4     Aiswarya  23.0\n",
       "5       Doniya  22.0\n",
       "6      Aswathi   NaN"
      ]
     },
     "execution_count": 7,
     "metadata": {},
     "output_type": "execute_result"
    }
   ],
   "source": [
    "df"
   ]
  },
  {
   "cell_type": "markdown",
   "id": "149d889f",
   "metadata": {},
   "source": [
    "#### <u> 2. Right Join"
   ]
  },
  {
   "cell_type": "code",
   "execution_count": 8,
   "id": "b429d6ff",
   "metadata": {},
   "outputs": [],
   "source": [
    "df = pd.merge(names,ages, on='id', how='right')\n",
    "df.set_index('id',inplace=True)"
   ]
  },
  {
   "cell_type": "code",
   "execution_count": 9,
   "id": "22483c73",
   "metadata": {},
   "outputs": [
    {
     "data": {
      "text/html": [
       "<div>\n",
       "<style scoped>\n",
       "    .dataframe tbody tr th:only-of-type {\n",
       "        vertical-align: middle;\n",
       "    }\n",
       "\n",
       "    .dataframe tbody tr th {\n",
       "        vertical-align: top;\n",
       "    }\n",
       "\n",
       "    .dataframe thead th {\n",
       "        text-align: right;\n",
       "    }\n",
       "</style>\n",
       "<table border=\"1\" class=\"dataframe\">\n",
       "  <thead>\n",
       "    <tr style=\"text-align: right;\">\n",
       "      <th></th>\n",
       "      <th>name</th>\n",
       "      <th>age</th>\n",
       "    </tr>\n",
       "    <tr>\n",
       "      <th>id</th>\n",
       "      <th></th>\n",
       "      <th></th>\n",
       "    </tr>\n",
       "  </thead>\n",
       "  <tbody>\n",
       "    <tr>\n",
       "      <th>1</th>\n",
       "      <td>Suhaina</td>\n",
       "      <td>32</td>\n",
       "    </tr>\n",
       "    <tr>\n",
       "      <th>2</th>\n",
       "      <td>Reshma</td>\n",
       "      <td>22</td>\n",
       "    </tr>\n",
       "    <tr>\n",
       "      <th>3</th>\n",
       "      <td>Reshma A C</td>\n",
       "      <td>26</td>\n",
       "    </tr>\n",
       "    <tr>\n",
       "      <th>4</th>\n",
       "      <td>Aiswarya</td>\n",
       "      <td>23</td>\n",
       "    </tr>\n",
       "    <tr>\n",
       "      <th>5</th>\n",
       "      <td>Doniya</td>\n",
       "      <td>22</td>\n",
       "    </tr>\n",
       "    <tr>\n",
       "      <th>7</th>\n",
       "      <td>NaN</td>\n",
       "      <td>23</td>\n",
       "    </tr>\n",
       "  </tbody>\n",
       "</table>\n",
       "</div>"
      ],
      "text/plain": [
       "          name  age\n",
       "id                 \n",
       "1      Suhaina   32\n",
       "2       Reshma   22\n",
       "3   Reshma A C   26\n",
       "4     Aiswarya   23\n",
       "5       Doniya   22\n",
       "7          NaN   23"
      ]
     },
     "execution_count": 9,
     "metadata": {},
     "output_type": "execute_result"
    }
   ],
   "source": [
    "df"
   ]
  },
  {
   "cell_type": "code",
   "execution_count": null,
   "id": "be50186b",
   "metadata": {},
   "outputs": [],
   "source": []
  },
  {
   "cell_type": "markdown",
   "id": "914e5781",
   "metadata": {},
   "source": [
    "#### <u> 3. Inner Join"
   ]
  },
  {
   "cell_type": "code",
   "execution_count": 10,
   "id": "8233ea8f",
   "metadata": {},
   "outputs": [],
   "source": [
    "df = pd.merge(names,ages, on='id', how='inner')\n",
    "df.set_index('id',inplace=True)"
   ]
  },
  {
   "cell_type": "code",
   "execution_count": 11,
   "id": "cee5a8f7",
   "metadata": {},
   "outputs": [
    {
     "data": {
      "text/html": [
       "<div>\n",
       "<style scoped>\n",
       "    .dataframe tbody tr th:only-of-type {\n",
       "        vertical-align: middle;\n",
       "    }\n",
       "\n",
       "    .dataframe tbody tr th {\n",
       "        vertical-align: top;\n",
       "    }\n",
       "\n",
       "    .dataframe thead th {\n",
       "        text-align: right;\n",
       "    }\n",
       "</style>\n",
       "<table border=\"1\" class=\"dataframe\">\n",
       "  <thead>\n",
       "    <tr style=\"text-align: right;\">\n",
       "      <th></th>\n",
       "      <th>name</th>\n",
       "      <th>age</th>\n",
       "    </tr>\n",
       "    <tr>\n",
       "      <th>id</th>\n",
       "      <th></th>\n",
       "      <th></th>\n",
       "    </tr>\n",
       "  </thead>\n",
       "  <tbody>\n",
       "    <tr>\n",
       "      <th>1</th>\n",
       "      <td>Suhaina</td>\n",
       "      <td>32</td>\n",
       "    </tr>\n",
       "    <tr>\n",
       "      <th>2</th>\n",
       "      <td>Reshma</td>\n",
       "      <td>22</td>\n",
       "    </tr>\n",
       "    <tr>\n",
       "      <th>3</th>\n",
       "      <td>Reshma A C</td>\n",
       "      <td>26</td>\n",
       "    </tr>\n",
       "    <tr>\n",
       "      <th>4</th>\n",
       "      <td>Aiswarya</td>\n",
       "      <td>23</td>\n",
       "    </tr>\n",
       "    <tr>\n",
       "      <th>5</th>\n",
       "      <td>Doniya</td>\n",
       "      <td>22</td>\n",
       "    </tr>\n",
       "  </tbody>\n",
       "</table>\n",
       "</div>"
      ],
      "text/plain": [
       "          name  age\n",
       "id                 \n",
       "1      Suhaina   32\n",
       "2       Reshma   22\n",
       "3   Reshma A C   26\n",
       "4     Aiswarya   23\n",
       "5       Doniya   22"
      ]
     },
     "execution_count": 11,
     "metadata": {},
     "output_type": "execute_result"
    }
   ],
   "source": [
    "df"
   ]
  },
  {
   "cell_type": "markdown",
   "id": "d6d02fc2",
   "metadata": {},
   "source": [
    "#### <u> 4. Outer Join"
   ]
  },
  {
   "cell_type": "code",
   "execution_count": 12,
   "id": "d104f154",
   "metadata": {},
   "outputs": [],
   "source": [
    "df = pd.merge(names,ages, on='id', how='outer')\n",
    "df.set_index('id',inplace=True)"
   ]
  },
  {
   "cell_type": "code",
   "execution_count": 13,
   "id": "9c1bccf5",
   "metadata": {},
   "outputs": [
    {
     "data": {
      "text/html": [
       "<div>\n",
       "<style scoped>\n",
       "    .dataframe tbody tr th:only-of-type {\n",
       "        vertical-align: middle;\n",
       "    }\n",
       "\n",
       "    .dataframe tbody tr th {\n",
       "        vertical-align: top;\n",
       "    }\n",
       "\n",
       "    .dataframe thead th {\n",
       "        text-align: right;\n",
       "    }\n",
       "</style>\n",
       "<table border=\"1\" class=\"dataframe\">\n",
       "  <thead>\n",
       "    <tr style=\"text-align: right;\">\n",
       "      <th></th>\n",
       "      <th>name</th>\n",
       "      <th>age</th>\n",
       "    </tr>\n",
       "    <tr>\n",
       "      <th>id</th>\n",
       "      <th></th>\n",
       "      <th></th>\n",
       "    </tr>\n",
       "  </thead>\n",
       "  <tbody>\n",
       "    <tr>\n",
       "      <th>1</th>\n",
       "      <td>Suhaina</td>\n",
       "      <td>32.0</td>\n",
       "    </tr>\n",
       "    <tr>\n",
       "      <th>2</th>\n",
       "      <td>Reshma</td>\n",
       "      <td>22.0</td>\n",
       "    </tr>\n",
       "    <tr>\n",
       "      <th>3</th>\n",
       "      <td>Reshma A C</td>\n",
       "      <td>26.0</td>\n",
       "    </tr>\n",
       "    <tr>\n",
       "      <th>4</th>\n",
       "      <td>Aiswarya</td>\n",
       "      <td>23.0</td>\n",
       "    </tr>\n",
       "    <tr>\n",
       "      <th>5</th>\n",
       "      <td>Doniya</td>\n",
       "      <td>22.0</td>\n",
       "    </tr>\n",
       "    <tr>\n",
       "      <th>6</th>\n",
       "      <td>Aswathi</td>\n",
       "      <td>NaN</td>\n",
       "    </tr>\n",
       "    <tr>\n",
       "      <th>7</th>\n",
       "      <td>NaN</td>\n",
       "      <td>23.0</td>\n",
       "    </tr>\n",
       "  </tbody>\n",
       "</table>\n",
       "</div>"
      ],
      "text/plain": [
       "          name   age\n",
       "id                  \n",
       "1      Suhaina  32.0\n",
       "2       Reshma  22.0\n",
       "3   Reshma A C  26.0\n",
       "4     Aiswarya  23.0\n",
       "5       Doniya  22.0\n",
       "6      Aswathi   NaN\n",
       "7          NaN  23.0"
      ]
     },
     "execution_count": 13,
     "metadata": {},
     "output_type": "execute_result"
    }
   ],
   "source": [
    "df"
   ]
  }
 ],
 "metadata": {
  "kernelspec": {
   "display_name": "Python 3 (ipykernel)",
   "language": "python",
   "name": "python3"
  },
  "language_info": {
   "codemirror_mode": {
    "name": "ipython",
    "version": 3
   },
   "file_extension": ".py",
   "mimetype": "text/x-python",
   "name": "python",
   "nbconvert_exporter": "python",
   "pygments_lexer": "ipython3",
   "version": "3.9.13"
  }
 },
 "nbformat": 4,
 "nbformat_minor": 5
}
