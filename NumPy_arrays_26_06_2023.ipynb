{
 "cells": [
  {
   "cell_type": "markdown",
   "id": "df85623f",
   "metadata": {},
   "source": [
    "## Import NumPy"
   ]
  },
  {
   "cell_type": "code",
   "execution_count": 1,
   "id": "3a951113",
   "metadata": {},
   "outputs": [],
   "source": [
    "import numpy as np"
   ]
  },
  {
   "cell_type": "markdown",
   "id": "2000a807",
   "metadata": {},
   "source": [
    "### One Dimensional Array"
   ]
  },
  {
   "cell_type": "code",
   "execution_count": 2,
   "id": "0fa388ab",
   "metadata": {},
   "outputs": [],
   "source": [
    "a=np.array([1,2,3,4,5])"
   ]
  },
  {
   "cell_type": "markdown",
   "id": "23b68267",
   "metadata": {},
   "source": [
    "### Attributes of arrays\n",
    "#### dtype\n",
    "#### ndim\n",
    "#### size\n",
    "#### shape"
   ]
  },
  {
   "cell_type": "code",
   "execution_count": 3,
   "id": "7b5ba472",
   "metadata": {},
   "outputs": [
    {
     "data": {
      "text/plain": [
       "dtype('int32')"
      ]
     },
     "execution_count": 3,
     "metadata": {},
     "output_type": "execute_result"
    }
   ],
   "source": [
    "a.dtype"
   ]
  },
  {
   "cell_type": "code",
   "execution_count": 4,
   "id": "8a3eca75",
   "metadata": {},
   "outputs": [
    {
     "data": {
      "text/plain": [
       "1"
      ]
     },
     "execution_count": 4,
     "metadata": {},
     "output_type": "execute_result"
    }
   ],
   "source": [
    "a.ndim"
   ]
  },
  {
   "cell_type": "code",
   "execution_count": 5,
   "id": "63daa0d1",
   "metadata": {},
   "outputs": [
    {
     "data": {
      "text/plain": [
       "5"
      ]
     },
     "execution_count": 5,
     "metadata": {},
     "output_type": "execute_result"
    }
   ],
   "source": [
    "a.size"
   ]
  },
  {
   "cell_type": "code",
   "execution_count": 6,
   "id": "30a498f1",
   "metadata": {},
   "outputs": [
    {
     "data": {
      "text/plain": [
       "(5,)"
      ]
     },
     "execution_count": 6,
     "metadata": {},
     "output_type": "execute_result"
    }
   ],
   "source": [
    "a.shape"
   ]
  },
  {
   "cell_type": "markdown",
   "id": "c7bc4594",
   "metadata": {},
   "source": [
    "#### Float Array"
   ]
  },
  {
   "cell_type": "code",
   "execution_count": 7,
   "id": "880c2e21",
   "metadata": {},
   "outputs": [],
   "source": [
    "c=np.array([12.3,14.5,85.6,98.0])"
   ]
  },
  {
   "cell_type": "code",
   "execution_count": 8,
   "id": "4dbb7982",
   "metadata": {},
   "outputs": [
    {
     "data": {
      "text/plain": [
       "dtype('float64')"
      ]
     },
     "execution_count": 8,
     "metadata": {},
     "output_type": "execute_result"
    }
   ],
   "source": [
    "c.dtype"
   ]
  },
  {
   "cell_type": "code",
   "execution_count": 9,
   "id": "6175427d",
   "metadata": {},
   "outputs": [
    {
     "data": {
      "text/plain": [
       "1"
      ]
     },
     "execution_count": 9,
     "metadata": {},
     "output_type": "execute_result"
    }
   ],
   "source": [
    "c.ndim"
   ]
  },
  {
   "cell_type": "code",
   "execution_count": 10,
   "id": "af6c9123",
   "metadata": {},
   "outputs": [
    {
     "data": {
      "text/plain": [
       "4"
      ]
     },
     "execution_count": 10,
     "metadata": {},
     "output_type": "execute_result"
    }
   ],
   "source": [
    "c.size"
   ]
  },
  {
   "cell_type": "code",
   "execution_count": 11,
   "id": "7bcfac13",
   "metadata": {},
   "outputs": [
    {
     "data": {
      "text/plain": [
       "(4,)"
      ]
     },
     "execution_count": 11,
     "metadata": {},
     "output_type": "execute_result"
    }
   ],
   "source": [
    "c.shape"
   ]
  },
  {
   "cell_type": "code",
   "execution_count": 12,
   "id": "9ed4e2a6",
   "metadata": {},
   "outputs": [
    {
     "name": "stdout",
     "output_type": "stream",
     "text": [
      "85.6\n"
     ]
    }
   ],
   "source": [
    "print(c[2])"
   ]
  },
  {
   "cell_type": "markdown",
   "id": "8439392b",
   "metadata": {},
   "source": [
    "### Multidimensional Array"
   ]
  },
  {
   "cell_type": "code",
   "execution_count": 13,
   "id": "8b462554",
   "metadata": {},
   "outputs": [],
   "source": [
    "a_2d=np.array([[9,8,7],[6,5,4]])"
   ]
  },
  {
   "cell_type": "code",
   "execution_count": 14,
   "id": "c9f7e871",
   "metadata": {},
   "outputs": [
    {
     "data": {
      "text/plain": [
       "dtype('int32')"
      ]
     },
     "execution_count": 14,
     "metadata": {},
     "output_type": "execute_result"
    }
   ],
   "source": [
    "a_2d.dtype"
   ]
  },
  {
   "cell_type": "code",
   "execution_count": 15,
   "id": "46b33ab5",
   "metadata": {},
   "outputs": [
    {
     "data": {
      "text/plain": [
       "2"
      ]
     },
     "execution_count": 15,
     "metadata": {},
     "output_type": "execute_result"
    }
   ],
   "source": [
    "a_2d.ndim"
   ]
  },
  {
   "cell_type": "code",
   "execution_count": 16,
   "id": "5630de2b",
   "metadata": {},
   "outputs": [
    {
     "data": {
      "text/plain": [
       "6"
      ]
     },
     "execution_count": 16,
     "metadata": {},
     "output_type": "execute_result"
    }
   ],
   "source": [
    "a_2d.size"
   ]
  },
  {
   "cell_type": "code",
   "execution_count": 17,
   "id": "da545b23",
   "metadata": {},
   "outputs": [
    {
     "data": {
      "text/plain": [
       "(2, 3)"
      ]
     },
     "execution_count": 17,
     "metadata": {},
     "output_type": "execute_result"
    }
   ],
   "source": [
    "a_2d.shape"
   ]
  },
  {
   "cell_type": "code",
   "execution_count": 18,
   "id": "bcadcdd0",
   "metadata": {},
   "outputs": [
    {
     "data": {
      "text/plain": [
       "array([9, 8, 7])"
      ]
     },
     "execution_count": 18,
     "metadata": {},
     "output_type": "execute_result"
    }
   ],
   "source": [
    "a_2d[0]"
   ]
  },
  {
   "cell_type": "code",
   "execution_count": 19,
   "id": "867e50d3",
   "metadata": {},
   "outputs": [
    {
     "data": {
      "text/plain": [
       "9"
      ]
     },
     "execution_count": 19,
     "metadata": {},
     "output_type": "execute_result"
    }
   ],
   "source": [
    "a_2d[0][0]"
   ]
  },
  {
   "cell_type": "code",
   "execution_count": 20,
   "id": "196162e1",
   "metadata": {},
   "outputs": [
    {
     "data": {
      "text/plain": [
       "5"
      ]
     },
     "execution_count": 20,
     "metadata": {},
     "output_type": "execute_result"
    }
   ],
   "source": [
    "a_2d[1][1]"
   ]
  },
  {
   "cell_type": "markdown",
   "id": "9a1c7587",
   "metadata": {},
   "source": [
    "### Another type of multi-dimensional array"
   ]
  },
  {
   "cell_type": "code",
   "execution_count": 21,
   "id": "465036f3",
   "metadata": {},
   "outputs": [],
   "source": [
    "another_type_array=np.array([[[1,2,3,4]]])"
   ]
  },
  {
   "cell_type": "code",
   "execution_count": 22,
   "id": "012adb9b",
   "metadata": {},
   "outputs": [
    {
     "data": {
      "text/plain": [
       "array([[[1, 2, 3, 4]]])"
      ]
     },
     "execution_count": 22,
     "metadata": {},
     "output_type": "execute_result"
    }
   ],
   "source": [
    "another_type_array"
   ]
  },
  {
   "cell_type": "code",
   "execution_count": 23,
   "id": "1d8106dc",
   "metadata": {},
   "outputs": [
    {
     "data": {
      "text/plain": [
       "(1, 1, 4)"
      ]
     },
     "execution_count": 23,
     "metadata": {},
     "output_type": "execute_result"
    }
   ],
   "source": [
    "another_type_array.shape"
   ]
  },
  {
   "cell_type": "code",
   "execution_count": 24,
   "id": "1e16e901",
   "metadata": {},
   "outputs": [
    {
     "data": {
      "text/plain": [
       "3"
      ]
     },
     "execution_count": 24,
     "metadata": {},
     "output_type": "execute_result"
    }
   ],
   "source": [
    "another_type_array.ndim"
   ]
  },
  {
   "cell_type": "markdown",
   "id": "002be782",
   "metadata": {},
   "source": [
    "#### Lets change its datatype into float"
   ]
  },
  {
   "cell_type": "code",
   "execution_count": 25,
   "id": "7ff7ab20",
   "metadata": {},
   "outputs": [
    {
     "data": {
      "text/plain": [
       "array([[9, 8, 7],\n",
       "       [6, 5, 4]])"
      ]
     },
     "execution_count": 25,
     "metadata": {},
     "output_type": "execute_result"
    }
   ],
   "source": [
    "a_2d"
   ]
  },
  {
   "cell_type": "code",
   "execution_count": 26,
   "id": "56ab03fc",
   "metadata": {},
   "outputs": [],
   "source": [
    "a_2d=np.array([[9,8,7],[6,5,4]], dtype=float)"
   ]
  },
  {
   "cell_type": "code",
   "execution_count": 27,
   "id": "41ae0c08",
   "metadata": {},
   "outputs": [
    {
     "data": {
      "text/plain": [
       "array([[9., 8., 7.],\n",
       "       [6., 5., 4.]])"
      ]
     },
     "execution_count": 27,
     "metadata": {},
     "output_type": "execute_result"
    }
   ],
   "source": [
    "a_2d"
   ]
  },
  {
   "cell_type": "markdown",
   "id": "58b4712b",
   "metadata": {},
   "source": [
    "#### Lets create bigger array"
   ]
  },
  {
   "cell_type": "code",
   "execution_count": 28,
   "id": "e0a02132",
   "metadata": {},
   "outputs": [],
   "source": [
    "a_bigger= np.array([\n",
    "    [\n",
    "        [1,2,3,4],[5,6,6,7],[8,8,9,1]\n",
    "    ],\n",
    "    [\n",
    "        [10,12,14,16],[18,20,20,22],[24,26,24,26]\n",
    "    ],\n",
    "    [\n",
    "        [25,35,45,55],[55,65,75,45],[55,65,25,35]\n",
    "    ]\n",
    "    \n",
    "], dtype = float )"
   ]
  },
  {
   "cell_type": "code",
   "execution_count": 29,
   "id": "4b62b206",
   "metadata": {},
   "outputs": [
    {
     "data": {
      "text/plain": [
       "dtype('float64')"
      ]
     },
     "execution_count": 29,
     "metadata": {},
     "output_type": "execute_result"
    }
   ],
   "source": [
    "a_bigger.dtype"
   ]
  },
  {
   "cell_type": "code",
   "execution_count": 30,
   "id": "2d9a11aa",
   "metadata": {},
   "outputs": [
    {
     "data": {
      "text/plain": [
       "3"
      ]
     },
     "execution_count": 30,
     "metadata": {},
     "output_type": "execute_result"
    }
   ],
   "source": [
    "a_bigger.ndim"
   ]
  },
  {
   "cell_type": "code",
   "execution_count": 31,
   "id": "42aa26ce",
   "metadata": {},
   "outputs": [
    {
     "data": {
      "text/plain": [
       "36"
      ]
     },
     "execution_count": 31,
     "metadata": {},
     "output_type": "execute_result"
    }
   ],
   "source": [
    "a_bigger.size"
   ]
  },
  {
   "cell_type": "code",
   "execution_count": 32,
   "id": "3cf521e2",
   "metadata": {},
   "outputs": [
    {
     "data": {
      "text/plain": [
       "(3, 3, 4)"
      ]
     },
     "execution_count": 32,
     "metadata": {},
     "output_type": "execute_result"
    }
   ],
   "source": [
    "a_bigger.shape"
   ]
  },
  {
   "cell_type": "code",
   "execution_count": 33,
   "id": "486aa22a",
   "metadata": {},
   "outputs": [],
   "source": [
    "a_num=np.array([\n",
    "    [\n",
    "        [1,2,3,4],[1,1,2,2],[1,3,3,1],[4,3,2,1]\n",
    "    ],\n",
    "    [\n",
    "        [1,5,6,7],[5,6,7,8],[9,8,7,1],[1,4,7,8]\n",
    "    ],\n",
    "    [\n",
    "        [1,2,3,4],[1,5,6,9],[1,6,8,7],[7,4,2,3]\n",
    "    ],\n",
    "    [\n",
    "        [8,6,5,4],[1,2,5,8],[9,8,7,6],[1,3,6,9]\n",
    "    ]\n",
    "], dtype= int)"
   ]
  },
  {
   "cell_type": "code",
   "execution_count": 34,
   "id": "31fe01dd",
   "metadata": {},
   "outputs": [
    {
     "data": {
      "text/plain": [
       "array([[[1, 2, 3, 4],\n",
       "        [1, 1, 2, 2],\n",
       "        [1, 3, 3, 1],\n",
       "        [4, 3, 2, 1]],\n",
       "\n",
       "       [[1, 5, 6, 7],\n",
       "        [5, 6, 7, 8],\n",
       "        [9, 8, 7, 1],\n",
       "        [1, 4, 7, 8]],\n",
       "\n",
       "       [[1, 2, 3, 4],\n",
       "        [1, 5, 6, 9],\n",
       "        [1, 6, 8, 7],\n",
       "        [7, 4, 2, 3]],\n",
       "\n",
       "       [[8, 6, 5, 4],\n",
       "        [1, 2, 5, 8],\n",
       "        [9, 8, 7, 6],\n",
       "        [1, 3, 6, 9]]])"
      ]
     },
     "execution_count": 34,
     "metadata": {},
     "output_type": "execute_result"
    }
   ],
   "source": [
    "a_num"
   ]
  },
  {
   "cell_type": "code",
   "execution_count": 35,
   "id": "efa683bc",
   "metadata": {},
   "outputs": [
    {
     "data": {
      "text/plain": [
       "dtype('int32')"
      ]
     },
     "execution_count": 35,
     "metadata": {},
     "output_type": "execute_result"
    }
   ],
   "source": [
    "a_num.dtype"
   ]
  },
  {
   "cell_type": "code",
   "execution_count": 36,
   "id": "885a6341",
   "metadata": {},
   "outputs": [
    {
     "data": {
      "text/plain": [
       "64"
      ]
     },
     "execution_count": 36,
     "metadata": {},
     "output_type": "execute_result"
    }
   ],
   "source": [
    "a_num.size"
   ]
  },
  {
   "cell_type": "code",
   "execution_count": 37,
   "id": "f734f758",
   "metadata": {},
   "outputs": [
    {
     "data": {
      "text/plain": [
       "3"
      ]
     },
     "execution_count": 37,
     "metadata": {},
     "output_type": "execute_result"
    }
   ],
   "source": [
    "a_num.ndim"
   ]
  },
  {
   "cell_type": "code",
   "execution_count": 38,
   "id": "5601ec6f",
   "metadata": {},
   "outputs": [
    {
     "data": {
      "text/plain": [
       "(4, 4, 4)"
      ]
     },
     "execution_count": 38,
     "metadata": {},
     "output_type": "execute_result"
    }
   ],
   "source": [
    "a_num.shape"
   ]
  },
  {
   "cell_type": "markdown",
   "id": "aaa77191",
   "metadata": {},
   "source": [
    "### Filling Arrays"
   ]
  },
  {
   "cell_type": "markdown",
   "id": "86ad1392",
   "metadata": {},
   "source": [
    "### np.full"
   ]
  },
  {
   "cell_type": "code",
   "execution_count": 39,
   "id": "b800ce13",
   "metadata": {},
   "outputs": [],
   "source": [
    "a_full=np.full((3,3,4),8)"
   ]
  },
  {
   "cell_type": "code",
   "execution_count": 40,
   "id": "23e3bf41",
   "metadata": {},
   "outputs": [
    {
     "data": {
      "text/plain": [
       "array([[[8, 8, 8, 8],\n",
       "        [8, 8, 8, 8],\n",
       "        [8, 8, 8, 8]],\n",
       "\n",
       "       [[8, 8, 8, 8],\n",
       "        [8, 8, 8, 8],\n",
       "        [8, 8, 8, 8]],\n",
       "\n",
       "       [[8, 8, 8, 8],\n",
       "        [8, 8, 8, 8],\n",
       "        [8, 8, 8, 8]]])"
      ]
     },
     "execution_count": 40,
     "metadata": {},
     "output_type": "execute_result"
    }
   ],
   "source": [
    "a_full"
   ]
  },
  {
   "cell_type": "code",
   "execution_count": 41,
   "id": "853f27f3",
   "metadata": {},
   "outputs": [
    {
     "data": {
      "text/plain": [
       "3"
      ]
     },
     "execution_count": 41,
     "metadata": {},
     "output_type": "execute_result"
    }
   ],
   "source": [
    "a_full.ndim"
   ]
  },
  {
   "cell_type": "code",
   "execution_count": 42,
   "id": "146cd5c8",
   "metadata": {},
   "outputs": [],
   "source": [
    "b_full=np.full((3,5,5),3)"
   ]
  },
  {
   "cell_type": "code",
   "execution_count": 43,
   "id": "947df2d7",
   "metadata": {},
   "outputs": [
    {
     "data": {
      "text/plain": [
       "array([[[3, 3, 3, 3, 3],\n",
       "        [3, 3, 3, 3, 3],\n",
       "        [3, 3, 3, 3, 3],\n",
       "        [3, 3, 3, 3, 3],\n",
       "        [3, 3, 3, 3, 3]],\n",
       "\n",
       "       [[3, 3, 3, 3, 3],\n",
       "        [3, 3, 3, 3, 3],\n",
       "        [3, 3, 3, 3, 3],\n",
       "        [3, 3, 3, 3, 3],\n",
       "        [3, 3, 3, 3, 3]],\n",
       "\n",
       "       [[3, 3, 3, 3, 3],\n",
       "        [3, 3, 3, 3, 3],\n",
       "        [3, 3, 3, 3, 3],\n",
       "        [3, 3, 3, 3, 3],\n",
       "        [3, 3, 3, 3, 3]]])"
      ]
     },
     "execution_count": 43,
     "metadata": {},
     "output_type": "execute_result"
    }
   ],
   "source": [
    "b_full"
   ]
  },
  {
   "cell_type": "code",
   "execution_count": 44,
   "id": "ecdff27a",
   "metadata": {},
   "outputs": [
    {
     "data": {
      "text/plain": [
       "3"
      ]
     },
     "execution_count": 44,
     "metadata": {},
     "output_type": "execute_result"
    }
   ],
   "source": [
    "b_full.ndim"
   ]
  },
  {
   "cell_type": "code",
   "execution_count": 45,
   "id": "29f44730",
   "metadata": {},
   "outputs": [
    {
     "data": {
      "text/plain": [
       "75"
      ]
     },
     "execution_count": 45,
     "metadata": {},
     "output_type": "execute_result"
    }
   ],
   "source": [
    "b_full.size"
   ]
  },
  {
   "cell_type": "code",
   "execution_count": 46,
   "id": "31c96b91",
   "metadata": {},
   "outputs": [
    {
     "data": {
      "text/plain": [
       "(3, 5, 5)"
      ]
     },
     "execution_count": 46,
     "metadata": {},
     "output_type": "execute_result"
    }
   ],
   "source": [
    "b_full.shape"
   ]
  },
  {
   "cell_type": "markdown",
   "id": "3d5bce36",
   "metadata": {},
   "source": [
    "### ZEROES and ONES"
   ]
  },
  {
   "cell_type": "code",
   "execution_count": 47,
   "id": "1a2dee67",
   "metadata": {},
   "outputs": [],
   "source": [
    "a_zeroes=np.zeros((3,3))"
   ]
  },
  {
   "cell_type": "code",
   "execution_count": 48,
   "id": "6f4ffa11",
   "metadata": {},
   "outputs": [
    {
     "data": {
      "text/plain": [
       "array([[0., 0., 0.],\n",
       "       [0., 0., 0.],\n",
       "       [0., 0., 0.]])"
      ]
     },
     "execution_count": 48,
     "metadata": {},
     "output_type": "execute_result"
    }
   ],
   "source": [
    "a_zeroes"
   ]
  },
  {
   "cell_type": "code",
   "execution_count": 49,
   "id": "4c472c62",
   "metadata": {},
   "outputs": [
    {
     "data": {
      "text/plain": [
       "2"
      ]
     },
     "execution_count": 49,
     "metadata": {},
     "output_type": "execute_result"
    }
   ],
   "source": [
    "a_zeroes.ndim"
   ]
  },
  {
   "cell_type": "code",
   "execution_count": 50,
   "id": "2cc4f363",
   "metadata": {},
   "outputs": [
    {
     "data": {
      "text/plain": [
       "9"
      ]
     },
     "execution_count": 50,
     "metadata": {},
     "output_type": "execute_result"
    }
   ],
   "source": [
    "a_zeroes.size"
   ]
  },
  {
   "cell_type": "code",
   "execution_count": 51,
   "id": "e977f5ea",
   "metadata": {},
   "outputs": [],
   "source": [
    "b_zeroes=np.zeros((3,4,4))"
   ]
  },
  {
   "cell_type": "code",
   "execution_count": 52,
   "id": "42fb7cf5",
   "metadata": {},
   "outputs": [
    {
     "data": {
      "text/plain": [
       "array([[[0., 0., 0., 0.],\n",
       "        [0., 0., 0., 0.],\n",
       "        [0., 0., 0., 0.],\n",
       "        [0., 0., 0., 0.]],\n",
       "\n",
       "       [[0., 0., 0., 0.],\n",
       "        [0., 0., 0., 0.],\n",
       "        [0., 0., 0., 0.],\n",
       "        [0., 0., 0., 0.]],\n",
       "\n",
       "       [[0., 0., 0., 0.],\n",
       "        [0., 0., 0., 0.],\n",
       "        [0., 0., 0., 0.],\n",
       "        [0., 0., 0., 0.]]])"
      ]
     },
     "execution_count": 52,
     "metadata": {},
     "output_type": "execute_result"
    }
   ],
   "source": [
    "b_zeroes"
   ]
  },
  {
   "cell_type": "code",
   "execution_count": 53,
   "id": "6e0d2cd9",
   "metadata": {},
   "outputs": [
    {
     "data": {
      "text/plain": [
       "3"
      ]
     },
     "execution_count": 53,
     "metadata": {},
     "output_type": "execute_result"
    }
   ],
   "source": [
    "b_zeroes.ndim"
   ]
  },
  {
   "cell_type": "code",
   "execution_count": 54,
   "id": "fcc1fd8e",
   "metadata": {},
   "outputs": [
    {
     "data": {
      "text/plain": [
       "48"
      ]
     },
     "execution_count": 54,
     "metadata": {},
     "output_type": "execute_result"
    }
   ],
   "source": [
    "b_zeroes.size"
   ]
  },
  {
   "cell_type": "code",
   "execution_count": 55,
   "id": "470d9e29",
   "metadata": {},
   "outputs": [],
   "source": [
    "a_ones=np.ones((2,3,4))"
   ]
  },
  {
   "cell_type": "code",
   "execution_count": 56,
   "id": "3ac61d59",
   "metadata": {},
   "outputs": [
    {
     "data": {
      "text/plain": [
       "array([[[1., 1., 1., 1.],\n",
       "        [1., 1., 1., 1.],\n",
       "        [1., 1., 1., 1.]],\n",
       "\n",
       "       [[1., 1., 1., 1.],\n",
       "        [1., 1., 1., 1.],\n",
       "        [1., 1., 1., 1.]]])"
      ]
     },
     "execution_count": 56,
     "metadata": {},
     "output_type": "execute_result"
    }
   ],
   "source": [
    "a_ones"
   ]
  },
  {
   "cell_type": "code",
   "execution_count": 57,
   "id": "1e2e88f8",
   "metadata": {},
   "outputs": [
    {
     "data": {
      "text/plain": [
       "3"
      ]
     },
     "execution_count": 57,
     "metadata": {},
     "output_type": "execute_result"
    }
   ],
   "source": [
    "a_ones.ndim"
   ]
  },
  {
   "cell_type": "code",
   "execution_count": 58,
   "id": "5eb05f9a",
   "metadata": {},
   "outputs": [
    {
     "data": {
      "text/plain": [
       "24"
      ]
     },
     "execution_count": 58,
     "metadata": {},
     "output_type": "execute_result"
    }
   ],
   "source": [
    "a_ones.size"
   ]
  },
  {
   "cell_type": "markdown",
   "id": "149713c9",
   "metadata": {},
   "source": [
    "### EMPTY and RANDOM"
   ]
  },
  {
   "cell_type": "code",
   "execution_count": 59,
   "id": "c2373e41",
   "metadata": {},
   "outputs": [],
   "source": [
    "\n",
    "### Exponential value avoidance\n",
    "c=np.set_printoptions(suppress=True)  "
   ]
  },
  {
   "cell_type": "code",
   "execution_count": 60,
   "id": "96cdcf41",
   "metadata": {
    "scrolled": true
   },
   "outputs": [],
   "source": [
    "c = np.empty((4,4))"
   ]
  },
  {
   "cell_type": "code",
   "execution_count": 61,
   "id": "b0bc13cf",
   "metadata": {},
   "outputs": [
    {
     "data": {
      "text/plain": [
       "array([[0., 0., 0., 0.],\n",
       "       [0., 0., 0., 0.],\n",
       "       [0., 0., 0., 0.],\n",
       "       [0., 0., 0., 0.]])"
      ]
     },
     "execution_count": 61,
     "metadata": {},
     "output_type": "execute_result"
    }
   ],
   "source": [
    "c"
   ]
  },
  {
   "cell_type": "code",
   "execution_count": 62,
   "id": "0443faad",
   "metadata": {},
   "outputs": [
    {
     "data": {
      "text/plain": [
       "16"
      ]
     },
     "execution_count": 62,
     "metadata": {},
     "output_type": "execute_result"
    }
   ],
   "source": [
    "c.size"
   ]
  },
  {
   "cell_type": "code",
   "execution_count": 63,
   "id": "2d4a2bb6",
   "metadata": {},
   "outputs": [],
   "source": [
    "d=np.empty((3,3))"
   ]
  },
  {
   "cell_type": "code",
   "execution_count": 64,
   "id": "32cde81c",
   "metadata": {},
   "outputs": [
    {
     "data": {
      "text/plain": [
       "array([[0., 0., 0.],\n",
       "       [0., 0., 0.],\n",
       "       [0., 0., 0.]])"
      ]
     },
     "execution_count": 64,
     "metadata": {},
     "output_type": "execute_result"
    }
   ],
   "source": [
    "d"
   ]
  },
  {
   "cell_type": "code",
   "execution_count": 65,
   "id": "023f054f",
   "metadata": {},
   "outputs": [
    {
     "data": {
      "text/plain": [
       "9"
      ]
     },
     "execution_count": 65,
     "metadata": {},
     "output_type": "execute_result"
    }
   ],
   "source": [
    "d.size"
   ]
  },
  {
   "cell_type": "code",
   "execution_count": 66,
   "id": "a05cc88f",
   "metadata": {},
   "outputs": [],
   "source": [
    "d_random=np.random.random((2,3))"
   ]
  },
  {
   "cell_type": "code",
   "execution_count": 67,
   "id": "7b607e03",
   "metadata": {},
   "outputs": [
    {
     "data": {
      "text/plain": [
       "array([[0.93834341, 0.40805911, 0.99719167],\n",
       "       [0.43344585, 0.48107722, 0.13309449]])"
      ]
     },
     "execution_count": 67,
     "metadata": {},
     "output_type": "execute_result"
    }
   ],
   "source": [
    "d_random"
   ]
  },
  {
   "cell_type": "code",
   "execution_count": 68,
   "id": "fd6d1883",
   "metadata": {},
   "outputs": [
    {
     "data": {
      "text/plain": [
       "2"
      ]
     },
     "execution_count": 68,
     "metadata": {},
     "output_type": "execute_result"
    }
   ],
   "source": [
    "d_random.ndim"
   ]
  },
  {
   "cell_type": "code",
   "execution_count": 69,
   "id": "b23385be",
   "metadata": {},
   "outputs": [
    {
     "data": {
      "text/plain": [
       "6"
      ]
     },
     "execution_count": 69,
     "metadata": {},
     "output_type": "execute_result"
    }
   ],
   "source": [
    "d_random.size"
   ]
  },
  {
   "cell_type": "code",
   "execution_count": 70,
   "id": "05484962",
   "metadata": {},
   "outputs": [
    {
     "data": {
      "text/plain": [
       "dtype('float64')"
      ]
     },
     "execution_count": 70,
     "metadata": {},
     "output_type": "execute_result"
    }
   ],
   "source": [
    "d_random.dtype"
   ]
  },
  {
   "cell_type": "code",
   "execution_count": 71,
   "id": "29288ea0",
   "metadata": {},
   "outputs": [],
   "source": [
    "f_random=np.random.random((3,2))"
   ]
  },
  {
   "cell_type": "code",
   "execution_count": 72,
   "id": "cb2ef4c7",
   "metadata": {},
   "outputs": [
    {
     "data": {
      "text/plain": [
       "array([[0.95742712, 0.72417409],\n",
       "       [0.01443286, 0.39468832],\n",
       "       [0.78158247, 0.20198454]])"
      ]
     },
     "execution_count": 72,
     "metadata": {},
     "output_type": "execute_result"
    }
   ],
   "source": [
    "f_random"
   ]
  },
  {
   "cell_type": "code",
   "execution_count": 73,
   "id": "df02b67a",
   "metadata": {},
   "outputs": [
    {
     "data": {
      "text/plain": [
       "2"
      ]
     },
     "execution_count": 73,
     "metadata": {},
     "output_type": "execute_result"
    }
   ],
   "source": [
    "f_random.ndim"
   ]
  },
  {
   "cell_type": "code",
   "execution_count": 74,
   "id": "e04a1cc4",
   "metadata": {},
   "outputs": [
    {
     "data": {
      "text/plain": [
       "6"
      ]
     },
     "execution_count": 74,
     "metadata": {},
     "output_type": "execute_result"
    }
   ],
   "source": [
    "f_random.size"
   ]
  },
  {
   "cell_type": "markdown",
   "id": "15666fa4",
   "metadata": {},
   "source": [
    "### RANGES"
   ]
  },
  {
   "cell_type": "markdown",
   "id": "9560259a",
   "metadata": {},
   "source": [
    "#### Arange"
   ]
  },
  {
   "cell_type": "markdown",
   "id": "bdc7d4a0",
   "metadata": {},
   "source": [
    "##### Arguments: start-stop-step"
   ]
  },
  {
   "cell_type": "code",
   "execution_count": 75,
   "id": "c0c690a2",
   "metadata": {},
   "outputs": [],
   "source": [
    "a_arange=np.arange(10,50,5)"
   ]
  },
  {
   "cell_type": "code",
   "execution_count": 76,
   "id": "74bc8c5c",
   "metadata": {},
   "outputs": [
    {
     "data": {
      "text/plain": [
       "array([10, 15, 20, 25, 30, 35, 40, 45])"
      ]
     },
     "execution_count": 76,
     "metadata": {},
     "output_type": "execute_result"
    }
   ],
   "source": [
    "a_arange"
   ]
  },
  {
   "cell_type": "code",
   "execution_count": 77,
   "id": "381b16ff",
   "metadata": {},
   "outputs": [],
   "source": [
    "b_arange = np.arange(10,100,25)"
   ]
  },
  {
   "cell_type": "code",
   "execution_count": 78,
   "id": "b8bbe9f4",
   "metadata": {},
   "outputs": [
    {
     "data": {
      "text/plain": [
       "array([10, 35, 60, 85])"
      ]
     },
     "execution_count": 78,
     "metadata": {},
     "output_type": "execute_result"
    }
   ],
   "source": [
    "b_arange"
   ]
  },
  {
   "cell_type": "markdown",
   "id": "a6bad85e",
   "metadata": {},
   "source": [
    "#### linspace"
   ]
  },
  {
   "cell_type": "markdown",
   "id": "2915c69a",
   "metadata": {},
   "source": [
    "##### Arguments: start-stop-no.of values"
   ]
  },
  {
   "cell_type": "code",
   "execution_count": 79,
   "id": "88ccd3dc",
   "metadata": {},
   "outputs": [
    {
     "data": {
      "text/plain": [
       "array([ 0., 50.])"
      ]
     },
     "execution_count": 79,
     "metadata": {},
     "output_type": "execute_result"
    }
   ],
   "source": [
    "b_linspace = np.linspace(0,50,2)\n",
    "b_linspace"
   ]
  },
  {
   "cell_type": "code",
   "execution_count": 80,
   "id": "7ae27ef0",
   "metadata": {},
   "outputs": [],
   "source": [
    "a_linspace = np.linspace(0,100,11)"
   ]
  },
  {
   "cell_type": "code",
   "execution_count": 81,
   "id": "a345f67d",
   "metadata": {},
   "outputs": [
    {
     "data": {
      "text/plain": [
       "array([  0.,  10.,  20.,  30.,  40.,  50.,  60.,  70.,  80.,  90., 100.])"
      ]
     },
     "execution_count": 81,
     "metadata": {},
     "output_type": "execute_result"
    }
   ],
   "source": [
    "a_linspace"
   ]
  },
  {
   "cell_type": "code",
   "execution_count": 82,
   "id": "962f6379",
   "metadata": {},
   "outputs": [],
   "source": [
    "c_linspace = np.linspace(0,100,13)"
   ]
  },
  {
   "cell_type": "code",
   "execution_count": 83,
   "id": "2648c92a",
   "metadata": {},
   "outputs": [
    {
     "data": {
      "text/plain": [
       "array([  0.        ,   8.33333333,  16.66666667,  25.        ,\n",
       "        33.33333333,  41.66666667,  50.        ,  58.33333333,\n",
       "        66.66666667,  75.        ,  83.33333333,  91.66666667,\n",
       "       100.        ])"
      ]
     },
     "execution_count": 83,
     "metadata": {},
     "output_type": "execute_result"
    }
   ],
   "source": [
    "c_linspace"
   ]
  },
  {
   "cell_type": "code",
   "execution_count": 84,
   "id": "5f59ff27",
   "metadata": {},
   "outputs": [],
   "source": [
    "c_even = np.linspace(0,50,25, dtype=int)"
   ]
  },
  {
   "cell_type": "code",
   "execution_count": 85,
   "id": "ebe8fb78",
   "metadata": {},
   "outputs": [
    {
     "data": {
      "text/plain": [
       "array([ 0,  2,  4,  6,  8, 10, 12, 14, 16, 18, 20, 22, 25, 27, 29, 31, 33,\n",
       "       35, 37, 39, 41, 43, 45, 47, 50])"
      ]
     },
     "execution_count": 85,
     "metadata": {},
     "output_type": "execute_result"
    }
   ],
   "source": [
    "c_even"
   ]
  },
  {
   "cell_type": "code",
   "execution_count": 86,
   "id": "17c82692",
   "metadata": {},
   "outputs": [],
   "source": [
    "c_odd = np.linspace(1,50,25, dtype=int)"
   ]
  },
  {
   "cell_type": "code",
   "execution_count": 87,
   "id": "748987ea",
   "metadata": {},
   "outputs": [
    {
     "data": {
      "text/plain": [
       "array([ 1,  3,  5,  7,  9, 11, 13, 15, 17, 19, 21, 23, 25, 27, 29, 31, 33,\n",
       "       35, 37, 39, 41, 43, 45, 47, 50])"
      ]
     },
     "execution_count": 87,
     "metadata": {},
     "output_type": "execute_result"
    }
   ],
   "source": [
    "c_odd"
   ]
  },
  {
   "cell_type": "markdown",
   "id": "50f2d63d",
   "metadata": {},
   "source": [
    "#### Math functions"
   ]
  },
  {
   "cell_type": "markdown",
   "id": "d2aa1a5b",
   "metadata": {},
   "source": [
    "#### np.exp(a)\n",
    "\n",
    " Takes e to the power of each value"
   ]
  },
  {
   "cell_type": "markdown",
   "id": "c79201c7",
   "metadata": {},
   "source": [
    "#### np.sin(a)\n",
    "\n",
    "Returns the sine of each value"
   ]
  },
  {
   "cell_type": "markdown",
   "id": "1e3cf085",
   "metadata": {},
   "source": [
    "#### np.cos(a)\n",
    "\n",
    "Returns the cosine of each value"
   ]
  },
  {
   "cell_type": "markdown",
   "id": "8b81b82f",
   "metadata": {},
   "source": [
    "#### np.tan(a)\n",
    "\n",
    "Returns the tangent of each value"
   ]
  },
  {
   "cell_type": "markdown",
   "id": "4de7fec2",
   "metadata": {},
   "source": [
    "#### np.log(a)\n",
    "\n",
    "Returns the logarithm of each value"
   ]
  },
  {
   "cell_type": "markdown",
   "id": "468f4196",
   "metadata": {},
   "source": [
    "#### np.sqrt(a)\n",
    "\n",
    "Returns the square root of each value"
   ]
  },
  {
   "cell_type": "markdown",
   "id": "ee8e0e55",
   "metadata": {},
   "source": [
    "#### AGGREGATE FUNCTIONS"
   ]
  },
  {
   "cell_type": "markdown",
   "id": "b1a83bcf",
   "metadata": {},
   "source": [
    "##### a.sum()\n",
    "##### a.min()\n",
    "##### a.max()\n",
    "##### a.mean()\n",
    "##### np.median(a)\n",
    "##### np.std(a)"
   ]
  },
  {
   "cell_type": "markdown",
   "id": "c6457a88",
   "metadata": {},
   "source": [
    "<b><u>Examples for Aggregate functions"
   ]
  },
  {
   "cell_type": "code",
   "execution_count": 88,
   "id": "ee7b349d",
   "metadata": {},
   "outputs": [
    {
     "data": {
      "text/plain": [
       "25.0"
      ]
     },
     "execution_count": 88,
     "metadata": {},
     "output_type": "execute_result"
    }
   ],
   "source": [
    "np.median(b_linspace)"
   ]
  },
  {
   "cell_type": "code",
   "execution_count": 89,
   "id": "7157703f",
   "metadata": {},
   "outputs": [
    {
     "data": {
      "text/plain": [
       "50.0"
      ]
     },
     "execution_count": 89,
     "metadata": {},
     "output_type": "execute_result"
    }
   ],
   "source": [
    "np.sum(b_linspace)"
   ]
  },
  {
   "cell_type": "code",
   "execution_count": 90,
   "id": "4ec68a15",
   "metadata": {},
   "outputs": [
    {
     "data": {
      "text/plain": [
       "50"
      ]
     },
     "execution_count": 90,
     "metadata": {},
     "output_type": "execute_result"
    }
   ],
   "source": [
    "np.max(c_even)"
   ]
  },
  {
   "cell_type": "code",
   "execution_count": 91,
   "id": "07e98274",
   "metadata": {},
   "outputs": [
    {
     "data": {
      "text/plain": [
       "array([0.        , 1.41421356, 2.        , 2.44948974, 2.82842712,\n",
       "       3.16227766, 3.46410162, 3.74165739, 4.        , 4.24264069,\n",
       "       4.47213595, 4.69041576, 5.        , 5.19615242, 5.38516481,\n",
       "       5.56776436, 5.74456265, 5.91607978, 6.08276253, 6.244998  ,\n",
       "       6.40312424, 6.55743852, 6.70820393, 6.8556546 , 7.07106781])"
      ]
     },
     "execution_count": 91,
     "metadata": {},
     "output_type": "execute_result"
    }
   ],
   "source": [
    "np.sqrt(c_even)"
   ]
  },
  {
   "cell_type": "code",
   "execution_count": 92,
   "id": "0e8b984e",
   "metadata": {},
   "outputs": [
    {
     "data": {
      "text/plain": [
       "array([   0,    4,   16,   36,   64,  100,  144,  196,  256,  324,  400,\n",
       "        484,  625,  729,  841,  961, 1089, 1225, 1369, 1521, 1681, 1849,\n",
       "       2025, 2209, 2500], dtype=int32)"
      ]
     },
     "execution_count": 92,
     "metadata": {},
     "output_type": "execute_result"
    }
   ],
   "source": [
    "np.square(c_even)"
   ]
  },
  {
   "cell_type": "code",
   "execution_count": 93,
   "id": "3e23da6e",
   "metadata": {},
   "outputs": [
    {
     "data": {
      "text/plain": [
       "14.924020905908701"
      ]
     },
     "execution_count": 93,
     "metadata": {},
     "output_type": "execute_result"
    }
   ],
   "source": [
    "np.std(c_even)"
   ]
  },
  {
   "cell_type": "code",
   "execution_count": 94,
   "id": "f62f29ea",
   "metadata": {},
   "outputs": [
    {
     "data": {
      "text/plain": [
       "array([ 1.        , -0.41614684, -0.65364362,  0.96017029, -0.14550003,\n",
       "       -0.83907153,  0.84385396,  0.13673722, -0.95765948,  0.66031671,\n",
       "        0.40808206, -0.99996083,  0.99120281, -0.29213881, -0.74805753,\n",
       "        0.91474236, -0.01327675, -0.90369221,  0.76541405,  0.26664293,\n",
       "       -0.98733928,  0.5551133 ,  0.52532199, -0.99233547,  0.96496603])"
      ]
     },
     "execution_count": 94,
     "metadata": {},
     "output_type": "execute_result"
    }
   ],
   "source": [
    "np.cos(c_even)"
   ]
  },
  {
   "cell_type": "code",
   "execution_count": null,
   "id": "7ab10d73",
   "metadata": {},
   "outputs": [],
   "source": []
  }
 ],
 "metadata": {
  "kernelspec": {
   "display_name": "Python 3 (ipykernel)",
   "language": "python",
   "name": "python3"
  },
  "language_info": {
   "codemirror_mode": {
    "name": "ipython",
    "version": 3
   },
   "file_extension": ".py",
   "mimetype": "text/x-python",
   "name": "python",
   "nbconvert_exporter": "python",
   "pygments_lexer": "ipython3",
   "version": "3.9.13"
  }
 },
 "nbformat": 4,
 "nbformat_minor": 5
}
