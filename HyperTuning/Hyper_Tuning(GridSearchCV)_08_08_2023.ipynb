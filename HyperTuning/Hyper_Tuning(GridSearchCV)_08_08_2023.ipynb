{
 "cells": [
  {
   "cell_type": "markdown",
   "id": "0f6dc8a4",
   "metadata": {},
   "source": [
    "# <center> <u> Hyper Tuning & Feature selection in Regression using Correlation on Car price dataset"
   ]
  },
  {
   "cell_type": "code",
   "execution_count": 1,
   "id": "cbe29fa0",
   "metadata": {},
   "outputs": [],
   "source": [
    "import pandas as pd\n",
    "import numpy as np\n",
    "import seaborn as sns\n",
    "import matplotlib.pyplot as plt\n",
    "\n",
    "from sklearn.feature_selection import SelectKBest,f_regression\n",
    "from sklearn.model_selection import train_test_split,cross_val_score,GridSearchCV\n",
    "from sklearn.metrics import r2_score,mean_absolute_error,mean_squared_error\n",
    "from sklearn.linear_model import LinearRegression,Ridge\n",
    "from sklearn.tree import DecisionTreeRegressor\n",
    "from sklearn.ensemble import AdaBoostRegressor,GradientBoostingRegressor,RandomForestRegressor\n",
    "from sklearn.preprocessing import StandardScaler,RobustScaler,LabelEncoder\n",
    "\n",
    "import warnings\n",
    "warnings.filterwarnings('ignore')"
   ]
  },
  {
   "cell_type": "code",
   "execution_count": 2,
   "id": "8be0a766",
   "metadata": {},
   "outputs": [],
   "source": [
    "data = pd.read_csv('./CarPricesData.csv')"
   ]
  },
  {
   "cell_type": "code",
   "execution_count": 3,
   "id": "fd5e139e",
   "metadata": {},
   "outputs": [
    {
     "data": {
      "text/html": [
       "<div>\n",
       "<style scoped>\n",
       "    .dataframe tbody tr th:only-of-type {\n",
       "        vertical-align: middle;\n",
       "    }\n",
       "\n",
       "    .dataframe tbody tr th {\n",
       "        vertical-align: top;\n",
       "    }\n",
       "\n",
       "    .dataframe thead th {\n",
       "        text-align: right;\n",
       "    }\n",
       "</style>\n",
       "<table border=\"1\" class=\"dataframe\">\n",
       "  <thead>\n",
       "    <tr style=\"text-align: right;\">\n",
       "      <th></th>\n",
       "      <th>Price</th>\n",
       "      <th>Age</th>\n",
       "      <th>KM</th>\n",
       "      <th>FuelType</th>\n",
       "      <th>HP</th>\n",
       "      <th>MetColor</th>\n",
       "      <th>Automatic</th>\n",
       "      <th>CC</th>\n",
       "      <th>Doors</th>\n",
       "      <th>Weight</th>\n",
       "    </tr>\n",
       "  </thead>\n",
       "  <tbody>\n",
       "    <tr>\n",
       "      <th>0</th>\n",
       "      <td>13500</td>\n",
       "      <td>23.0</td>\n",
       "      <td>46986</td>\n",
       "      <td>Diesel</td>\n",
       "      <td>90</td>\n",
       "      <td>1</td>\n",
       "      <td>0</td>\n",
       "      <td>2000.0</td>\n",
       "      <td>3</td>\n",
       "      <td>1165.0</td>\n",
       "    </tr>\n",
       "    <tr>\n",
       "      <th>1</th>\n",
       "      <td>13750</td>\n",
       "      <td>23.0</td>\n",
       "      <td>72937</td>\n",
       "      <td>Diesel</td>\n",
       "      <td>90</td>\n",
       "      <td>1</td>\n",
       "      <td>0</td>\n",
       "      <td>2000.0</td>\n",
       "      <td>3</td>\n",
       "      <td>1165.0</td>\n",
       "    </tr>\n",
       "    <tr>\n",
       "      <th>2</th>\n",
       "      <td>13950</td>\n",
       "      <td>24.0</td>\n",
       "      <td>41711</td>\n",
       "      <td>Diesel</td>\n",
       "      <td>90</td>\n",
       "      <td>1</td>\n",
       "      <td>0</td>\n",
       "      <td>2000.0</td>\n",
       "      <td>3</td>\n",
       "      <td>1165.0</td>\n",
       "    </tr>\n",
       "    <tr>\n",
       "      <th>3</th>\n",
       "      <td>14950</td>\n",
       "      <td>26.0</td>\n",
       "      <td>48000</td>\n",
       "      <td>Diesel</td>\n",
       "      <td>90</td>\n",
       "      <td>0</td>\n",
       "      <td>0</td>\n",
       "      <td>2000.0</td>\n",
       "      <td>3</td>\n",
       "      <td>1165.0</td>\n",
       "    </tr>\n",
       "    <tr>\n",
       "      <th>4</th>\n",
       "      <td>13750</td>\n",
       "      <td>30.0</td>\n",
       "      <td>38500</td>\n",
       "      <td>Diesel</td>\n",
       "      <td>90</td>\n",
       "      <td>0</td>\n",
       "      <td>0</td>\n",
       "      <td>2000.0</td>\n",
       "      <td>3</td>\n",
       "      <td>1170.0</td>\n",
       "    </tr>\n",
       "  </tbody>\n",
       "</table>\n",
       "</div>"
      ],
      "text/plain": [
       "   Price   Age     KM FuelType  HP  MetColor  Automatic      CC  Doors  Weight\n",
       "0  13500  23.0  46986   Diesel  90         1          0  2000.0      3  1165.0\n",
       "1  13750  23.0  72937   Diesel  90         1          0  2000.0      3  1165.0\n",
       "2  13950  24.0  41711   Diesel  90         1          0  2000.0      3  1165.0\n",
       "3  14950  26.0  48000   Diesel  90         0          0  2000.0      3  1165.0\n",
       "4  13750  30.0  38500   Diesel  90         0          0  2000.0      3  1170.0"
      ]
     },
     "execution_count": 3,
     "metadata": {},
     "output_type": "execute_result"
    }
   ],
   "source": [
    "data.head()"
   ]
  },
  {
   "cell_type": "code",
   "execution_count": 4,
   "id": "2457ea3e",
   "metadata": {},
   "outputs": [
    {
     "data": {
      "text/plain": [
       "Price        0.000000\n",
       "Age          0.139276\n",
       "KM           0.000000\n",
       "FuelType     0.278552\n",
       "HP           0.000000\n",
       "MetColor     0.000000\n",
       "Automatic    0.000000\n",
       "CC           0.139276\n",
       "Doors        0.000000\n",
       "Weight       0.139276\n",
       "dtype: float64"
      ]
     },
     "execution_count": 4,
     "metadata": {},
     "output_type": "execute_result"
    }
   ],
   "source": [
    "data.isnull().mean()*100"
   ]
  },
  {
   "cell_type": "code",
   "execution_count": 5,
   "id": "72e3532f",
   "metadata": {},
   "outputs": [],
   "source": [
    "data.dropna(inplace=True)"
   ]
  },
  {
   "cell_type": "code",
   "execution_count": 6,
   "id": "c3a4511a",
   "metadata": {},
   "outputs": [
    {
     "data": {
      "text/plain": [
       "1"
      ]
     },
     "execution_count": 6,
     "metadata": {},
     "output_type": "execute_result"
    }
   ],
   "source": [
    "data.duplicated().sum()"
   ]
  },
  {
   "cell_type": "code",
   "execution_count": 7,
   "id": "cb9bcb8c",
   "metadata": {},
   "outputs": [],
   "source": [
    "data.drop_duplicates(inplace=True)"
   ]
  },
  {
   "cell_type": "code",
   "execution_count": 8,
   "id": "61da0c05",
   "metadata": {},
   "outputs": [],
   "source": [
    "le = LabelEncoder()"
   ]
  },
  {
   "cell_type": "code",
   "execution_count": 9,
   "id": "ad344e1d",
   "metadata": {},
   "outputs": [],
   "source": [
    "for i in data.columns:\n",
    "    if data[i].dtypes == 'object':\n",
    "        data[i] = le.fit_transform(data[i])"
   ]
  },
  {
   "cell_type": "code",
   "execution_count": 10,
   "id": "fd1097cf",
   "metadata": {},
   "outputs": [
    {
     "data": {
      "text/html": [
       "<div>\n",
       "<style scoped>\n",
       "    .dataframe tbody tr th:only-of-type {\n",
       "        vertical-align: middle;\n",
       "    }\n",
       "\n",
       "    .dataframe tbody tr th {\n",
       "        vertical-align: top;\n",
       "    }\n",
       "\n",
       "    .dataframe thead th {\n",
       "        text-align: right;\n",
       "    }\n",
       "</style>\n",
       "<table border=\"1\" class=\"dataframe\">\n",
       "  <thead>\n",
       "    <tr style=\"text-align: right;\">\n",
       "      <th></th>\n",
       "      <th>Price</th>\n",
       "      <th>Age</th>\n",
       "      <th>KM</th>\n",
       "      <th>FuelType</th>\n",
       "      <th>HP</th>\n",
       "      <th>MetColor</th>\n",
       "      <th>Automatic</th>\n",
       "      <th>CC</th>\n",
       "      <th>Doors</th>\n",
       "      <th>Weight</th>\n",
       "    </tr>\n",
       "  </thead>\n",
       "  <tbody>\n",
       "    <tr>\n",
       "      <th>821</th>\n",
       "      <td>8450</td>\n",
       "      <td>64.0</td>\n",
       "      <td>70116</td>\n",
       "      <td>2</td>\n",
       "      <td>110</td>\n",
       "      <td>1</td>\n",
       "      <td>0</td>\n",
       "      <td>1600.0</td>\n",
       "      <td>4</td>\n",
       "      <td>1035.0</td>\n",
       "    </tr>\n",
       "    <tr>\n",
       "      <th>1363</th>\n",
       "      <td>6900</td>\n",
       "      <td>69.0</td>\n",
       "      <td>58952</td>\n",
       "      <td>2</td>\n",
       "      <td>110</td>\n",
       "      <td>1</td>\n",
       "      <td>0</td>\n",
       "      <td>1600.0</td>\n",
       "      <td>3</td>\n",
       "      <td>1050.0</td>\n",
       "    </tr>\n",
       "    <tr>\n",
       "      <th>295</th>\n",
       "      <td>10950</td>\n",
       "      <td>38.0</td>\n",
       "      <td>41754</td>\n",
       "      <td>2</td>\n",
       "      <td>110</td>\n",
       "      <td>0</td>\n",
       "      <td>0</td>\n",
       "      <td>1600.0</td>\n",
       "      <td>3</td>\n",
       "      <td>1040.0</td>\n",
       "    </tr>\n",
       "    <tr>\n",
       "      <th>1009</th>\n",
       "      <td>8900</td>\n",
       "      <td>59.0</td>\n",
       "      <td>36954</td>\n",
       "      <td>2</td>\n",
       "      <td>110</td>\n",
       "      <td>1</td>\n",
       "      <td>0</td>\n",
       "      <td>1600.0</td>\n",
       "      <td>3</td>\n",
       "      <td>1050.0</td>\n",
       "    </tr>\n",
       "    <tr>\n",
       "      <th>528</th>\n",
       "      <td>10500</td>\n",
       "      <td>56.0</td>\n",
       "      <td>48731</td>\n",
       "      <td>2</td>\n",
       "      <td>110</td>\n",
       "      <td>1</td>\n",
       "      <td>0</td>\n",
       "      <td>1600.0</td>\n",
       "      <td>3</td>\n",
       "      <td>1055.0</td>\n",
       "    </tr>\n",
       "    <tr>\n",
       "      <th>1399</th>\n",
       "      <td>8950</td>\n",
       "      <td>74.0</td>\n",
       "      <td>48242</td>\n",
       "      <td>2</td>\n",
       "      <td>86</td>\n",
       "      <td>1</td>\n",
       "      <td>0</td>\n",
       "      <td>1300.0</td>\n",
       "      <td>5</td>\n",
       "      <td>1035.0</td>\n",
       "    </tr>\n",
       "    <tr>\n",
       "      <th>426</th>\n",
       "      <td>11450</td>\n",
       "      <td>49.0</td>\n",
       "      <td>86221</td>\n",
       "      <td>2</td>\n",
       "      <td>110</td>\n",
       "      <td>0</td>\n",
       "      <td>0</td>\n",
       "      <td>1600.0</td>\n",
       "      <td>3</td>\n",
       "      <td>1045.0</td>\n",
       "    </tr>\n",
       "    <tr>\n",
       "      <th>432</th>\n",
       "      <td>10950</td>\n",
       "      <td>54.0</td>\n",
       "      <td>81905</td>\n",
       "      <td>2</td>\n",
       "      <td>110</td>\n",
       "      <td>1</td>\n",
       "      <td>0</td>\n",
       "      <td>1600.0</td>\n",
       "      <td>5</td>\n",
       "      <td>1105.0</td>\n",
       "    </tr>\n",
       "    <tr>\n",
       "      <th>1318</th>\n",
       "      <td>8500</td>\n",
       "      <td>78.0</td>\n",
       "      <td>67255</td>\n",
       "      <td>2</td>\n",
       "      <td>110</td>\n",
       "      <td>0</td>\n",
       "      <td>0</td>\n",
       "      <td>1600.0</td>\n",
       "      <td>5</td>\n",
       "      <td>1085.0</td>\n",
       "    </tr>\n",
       "    <tr>\n",
       "      <th>166</th>\n",
       "      <td>19950</td>\n",
       "      <td>14.0</td>\n",
       "      <td>5459</td>\n",
       "      <td>2</td>\n",
       "      <td>110</td>\n",
       "      <td>1</td>\n",
       "      <td>0</td>\n",
       "      <td>1600.0</td>\n",
       "      <td>5</td>\n",
       "      <td>1130.0</td>\n",
       "    </tr>\n",
       "  </tbody>\n",
       "</table>\n",
       "</div>"
      ],
      "text/plain": [
       "      Price   Age     KM  FuelType   HP  MetColor  Automatic      CC  Doors  \\\n",
       "821    8450  64.0  70116         2  110         1          0  1600.0      4   \n",
       "1363   6900  69.0  58952         2  110         1          0  1600.0      3   \n",
       "295   10950  38.0  41754         2  110         0          0  1600.0      3   \n",
       "1009   8900  59.0  36954         2  110         1          0  1600.0      3   \n",
       "528   10500  56.0  48731         2  110         1          0  1600.0      3   \n",
       "1399   8950  74.0  48242         2   86         1          0  1300.0      5   \n",
       "426   11450  49.0  86221         2  110         0          0  1600.0      3   \n",
       "432   10950  54.0  81905         2  110         1          0  1600.0      5   \n",
       "1318   8500  78.0  67255         2  110         0          0  1600.0      5   \n",
       "166   19950  14.0   5459         2  110         1          0  1600.0      5   \n",
       "\n",
       "      Weight  \n",
       "821   1035.0  \n",
       "1363  1050.0  \n",
       "295   1040.0  \n",
       "1009  1050.0  \n",
       "528   1055.0  \n",
       "1399  1035.0  \n",
       "426   1045.0  \n",
       "432   1105.0  \n",
       "1318  1085.0  \n",
       "166   1130.0  "
      ]
     },
     "execution_count": 10,
     "metadata": {},
     "output_type": "execute_result"
    }
   ],
   "source": [
    "data.sample(10)"
   ]
  },
  {
   "cell_type": "markdown",
   "id": "489eddf5",
   "metadata": {},
   "source": [
    "### Selecting the features and targets"
   ]
  },
  {
   "cell_type": "code",
   "execution_count": 11,
   "id": "00787fd4",
   "metadata": {},
   "outputs": [],
   "source": [
    "x = data.iloc[:, 1:].values\n",
    "y = data.iloc[: ,0].values"
   ]
  },
  {
   "cell_type": "code",
   "execution_count": 12,
   "id": "8563e082",
   "metadata": {},
   "outputs": [],
   "source": [
    "x_train,x_test,y_train,y_test = train_test_split(x,y, test_size=0.2,random_state=42,shuffle=True)"
   ]
  },
  {
   "cell_type": "markdown",
   "id": "0b0752cd",
   "metadata": {},
   "source": [
    "### Checking model scores without feature selection"
   ]
  },
  {
   "cell_type": "code",
   "execution_count": 13,
   "id": "c58548f7",
   "metadata": {},
   "outputs": [],
   "source": [
    "model = LinearRegression()"
   ]
  },
  {
   "cell_type": "code",
   "execution_count": 14,
   "id": "633857e7",
   "metadata": {},
   "outputs": [
    {
     "data": {
      "text/plain": [
       "LinearRegression()"
      ]
     },
     "execution_count": 14,
     "metadata": {},
     "output_type": "execute_result"
    }
   ],
   "source": [
    "model.fit(x_train,y_train)"
   ]
  },
  {
   "cell_type": "code",
   "execution_count": 15,
   "id": "90ea79bf",
   "metadata": {},
   "outputs": [],
   "source": [
    "y_pred = model.predict(x_test)"
   ]
  },
  {
   "cell_type": "code",
   "execution_count": 16,
   "id": "aa12474c",
   "metadata": {},
   "outputs": [
    {
     "data": {
      "text/plain": [
       "0.8708517690870113"
      ]
     },
     "execution_count": 16,
     "metadata": {},
     "output_type": "execute_result"
    }
   ],
   "source": [
    "model.score(x_test,y_test)"
   ]
  },
  {
   "cell_type": "code",
   "execution_count": 17,
   "id": "747ad780",
   "metadata": {},
   "outputs": [
    {
     "data": {
      "text/plain": [
       "0.861762477331229"
      ]
     },
     "execution_count": 17,
     "metadata": {},
     "output_type": "execute_result"
    }
   ],
   "source": [
    "model.score(x_train,y_train)"
   ]
  },
  {
   "cell_type": "markdown",
   "id": "9d9492c5",
   "metadata": {},
   "source": [
    "### Defining feature selection with all features included"
   ]
  },
  {
   "cell_type": "code",
   "execution_count": 18,
   "id": "6b5e56a3",
   "metadata": {},
   "outputs": [],
   "source": [
    "fs = SelectKBest(score_func=f_regression, k='all')"
   ]
  },
  {
   "cell_type": "markdown",
   "id": "2430cc30",
   "metadata": {},
   "source": [
    "### Fitting the fs"
   ]
  },
  {
   "cell_type": "code",
   "execution_count": 19,
   "id": "564d799c",
   "metadata": {},
   "outputs": [
    {
     "data": {
      "text/plain": [
       "SelectKBest(k='all', score_func=<function f_regression at 0x000002B2A2DAF160>)"
      ]
     },
     "execution_count": 19,
     "metadata": {},
     "output_type": "execute_result"
    }
   ],
   "source": [
    "fs.fit(x_train,y_train)"
   ]
  },
  {
   "cell_type": "markdown",
   "id": "fcb39e89",
   "metadata": {},
   "source": [
    "### Checking the scores for the features"
   ]
  },
  {
   "cell_type": "code",
   "execution_count": 20,
   "id": "c388d06d",
   "metadata": {},
   "outputs": [
    {
     "name": "stdout",
     "output_type": "stream",
     "text": [
      "Feature 0: 3723.096607\n",
      "Feature 1: 589.688041\n",
      "Feature 2: 0.007963\n",
      "Feature 3: 137.680309\n",
      "Feature 4: 10.973220\n",
      "Feature 5: 0.873022\n",
      "Feature 6: 23.886260\n",
      "Feature 7: 40.573243\n",
      "Feature 8: 506.819328\n"
     ]
    }
   ],
   "source": [
    "for i in range(len(fs.scores_)):\n",
    "    print('Feature %d: %f' %(i, fs.scores_[i]))"
   ]
  },
  {
   "cell_type": "markdown",
   "id": "e9167c09",
   "metadata": {},
   "source": [
    "### Plotting the scores in a bar grapgh"
   ]
  },
  {
   "cell_type": "code",
   "execution_count": 21,
   "id": "de62c83a",
   "metadata": {
    "scrolled": true
   },
   "outputs": [
    {
     "data": {
      "image/png": "[encoded data removed]",
      "text/plain": [
       "<Figure size 640x480 with 1 Axes>"
      ]
     },
     "metadata": {},
     "output_type": "display_data"
    }
   ],
   "source": [
    "plt.bar([i for i in range(len(fs.scores_))], fs.scores_)\n",
    "plt.show()"
   ]
  },
  {
   "cell_type": "markdown",
   "id": "35074da1",
   "metadata": {},
   "source": [
    "#### Selecting k = 4"
   ]
  },
  {
   "cell_type": "code",
   "execution_count": 22,
   "id": "b60becc3",
   "metadata": {},
   "outputs": [],
   "source": [
    "fs = SelectKBest(score_func=f_regression, k=4)"
   ]
  },
  {
   "cell_type": "markdown",
   "id": "01045deb",
   "metadata": {},
   "source": [
    "#### Transorm the train and test data"
   ]
  },
  {
   "cell_type": "code",
   "execution_count": 23,
   "id": "d9f21048",
   "metadata": {},
   "outputs": [
    {
     "data": {
      "text/plain": [
       "SelectKBest(k=4, score_func=<function f_regression at 0x000002B2A2DAF160>)"
      ]
     },
     "execution_count": 23,
     "metadata": {},
     "output_type": "execute_result"
    }
   ],
   "source": [
    "fs.fit(x_train,y_train)"
   ]
  },
  {
   "cell_type": "code",
   "execution_count": 24,
   "id": "49cab3b7",
   "metadata": {},
   "outputs": [],
   "source": [
    "x_train_fs = fs.transform(x_train)\n",
    "x_test_fs = fs.transform(x_test)"
   ]
  },
  {
   "cell_type": "code",
   "execution_count": 25,
   "id": "2124d50d",
   "metadata": {},
   "outputs": [
    {
     "data": {
      "text/plain": [
       "(285, 4)"
      ]
     },
     "execution_count": 25,
     "metadata": {},
     "output_type": "execute_result"
    }
   ],
   "source": [
    "x_test_fs.shape"
   ]
  },
  {
   "cell_type": "code",
   "execution_count": 26,
   "id": "3156624b",
   "metadata": {},
   "outputs": [
    {
     "data": {
      "text/plain": [
       "(1140, 4)"
      ]
     },
     "execution_count": 26,
     "metadata": {},
     "output_type": "execute_result"
    }
   ],
   "source": [
    "x_train_fs.shape"
   ]
  },
  {
   "cell_type": "code",
   "execution_count": 27,
   "id": "fa299763",
   "metadata": {},
   "outputs": [],
   "source": [
    "model =LinearRegression()"
   ]
  },
  {
   "cell_type": "code",
   "execution_count": 28,
   "id": "2ef054e2",
   "metadata": {},
   "outputs": [
    {
     "data": {
      "text/plain": [
       "LinearRegression()"
      ]
     },
     "execution_count": 28,
     "metadata": {},
     "output_type": "execute_result"
    }
   ],
   "source": [
    "model.fit(x_train_fs,y_train)"
   ]
  },
  {
   "cell_type": "code",
   "execution_count": 29,
   "id": "4d973925",
   "metadata": {},
   "outputs": [],
   "source": [
    "y_pred_fs = model.predict(x_test_fs)"
   ]
  },
  {
   "cell_type": "code",
   "execution_count": 30,
   "id": "5cf6f9d8",
   "metadata": {},
   "outputs": [
    {
     "data": {
      "text/plain": [
       "0.8581005278601517"
      ]
     },
     "execution_count": 30,
     "metadata": {},
     "output_type": "execute_result"
    }
   ],
   "source": [
    "model.score(x_train_fs,y_train)"
   ]
  },
  {
   "cell_type": "code",
   "execution_count": 31,
   "id": "86c3f9d4",
   "metadata": {},
   "outputs": [
    {
     "data": {
      "text/plain": [
       "0.8660327850546731"
      ]
     },
     "execution_count": 31,
     "metadata": {},
     "output_type": "execute_result"
    }
   ],
   "source": [
    "model.score(x_test_fs,y_test)"
   ]
  },
  {
   "cell_type": "markdown",
   "id": "2fb0b319",
   "metadata": {},
   "source": [
    "#### Selecting only the top feature"
   ]
  },
  {
   "cell_type": "code",
   "execution_count": 32,
   "id": "f3bbe9f7",
   "metadata": {},
   "outputs": [],
   "source": [
    "fs = SelectKBest(score_func=f_regression, k=1)"
   ]
  },
  {
   "cell_type": "markdown",
   "id": "a4f61081",
   "metadata": {},
   "source": [
    "#### Fitting the fs"
   ]
  },
  {
   "cell_type": "code",
   "execution_count": 33,
   "id": "1fab087d",
   "metadata": {},
   "outputs": [
    {
     "data": {
      "text/plain": [
       "SelectKBest(k=1, score_func=<function f_regression at 0x000002B2A2DAF160>)"
      ]
     },
     "execution_count": 33,
     "metadata": {},
     "output_type": "execute_result"
    }
   ],
   "source": [
    "fs.fit(x_train,y_train)"
   ]
  },
  {
   "cell_type": "markdown",
   "id": "b1b72d0e",
   "metadata": {},
   "source": [
    "#### Transforming the training and testing data"
   ]
  },
  {
   "cell_type": "code",
   "execution_count": 34,
   "id": "90a46955",
   "metadata": {},
   "outputs": [],
   "source": [
    "x_train_fs = fs.transform(x_train)\n",
    "x_test_fs = fs.transform(x_test)"
   ]
  },
  {
   "cell_type": "code",
   "execution_count": 35,
   "id": "d2371de4",
   "metadata": {},
   "outputs": [
    {
     "data": {
      "text/plain": [
       "LinearRegression()"
      ]
     },
     "execution_count": 35,
     "metadata": {},
     "output_type": "execute_result"
    }
   ],
   "source": [
    "model.fit(x_train_fs,y_train)"
   ]
  },
  {
   "cell_type": "code",
   "execution_count": 36,
   "id": "5f42181f",
   "metadata": {},
   "outputs": [
    {
     "data": {
      "text/plain": [
       "0.7658964443630741"
      ]
     },
     "execution_count": 36,
     "metadata": {},
     "output_type": "execute_result"
    }
   ],
   "source": [
    "model.score(x_train_fs,y_train)"
   ]
  },
  {
   "cell_type": "code",
   "execution_count": 37,
   "id": "358c5994",
   "metadata": {},
   "outputs": [
    {
     "data": {
      "text/plain": [
       "0.78439624199139"
      ]
     },
     "execution_count": 37,
     "metadata": {},
     "output_type": "execute_result"
    }
   ],
   "source": [
    "model.score(x_test_fs,y_test)"
   ]
  },
  {
   "cell_type": "markdown",
   "id": "85f02202",
   "metadata": {},
   "source": [
    "#### We can see that there is 76% of accuracy just by using only one variable"
   ]
  },
  {
   "cell_type": "markdown",
   "id": "96705b85",
   "metadata": {},
   "source": [
    "### Model Building in Feature selected variables"
   ]
  },
  {
   "cell_type": "code",
   "execution_count": 38,
   "id": "2bbe2a0d",
   "metadata": {},
   "outputs": [
    {
     "name": "stdout",
     "output_type": "stream",
     "text": [
      "score before tuning hyper parameter tuning is : 0.8660327850546731\n"
     ]
    }
   ],
   "source": [
    "best_model = GradientBoostingRegressor().fit(x_train_fs,y_train)\n",
    "y_pred = best_model.predict(x_test_fs)\n",
    "Score = r2_score(y_test,y_pred_fs)\n",
    "print(\"score before tuning hyper parameter tuning is : {}\".format(Score))"
   ]
  },
  {
   "cell_type": "code",
   "execution_count": 39,
   "id": "2b126368",
   "metadata": {},
   "outputs": [],
   "source": [
    "GBR = GradientBoostingRegressor()"
   ]
  },
  {
   "cell_type": "code",
   "execution_count": 40,
   "id": "88a3607f",
   "metadata": {},
   "outputs": [],
   "source": [
    "parameters = { 'learning_rate':[0.01,0.02,0.03,0.04],\n",
    "                'n_estimators':[100,500,1000],\n",
    "                'subsample':[0.9,0.5,0.2,0.1],\n",
    "                'max_depth':[4,6,8]\n",
    "}"
   ]
  },
  {
   "cell_type": "code",
   "execution_count": 41,
   "id": "f63112b9",
   "metadata": {},
   "outputs": [],
   "source": [
    "grid_GBR = GridSearchCV(estimator=GBR, param_grid=parameters, cv=2, n_jobs=-1,verbose=3)"
   ]
  },
  {
   "cell_type": "code",
   "execution_count": 42,
   "id": "7dc70200",
   "metadata": {},
   "outputs": [
    {
     "name": "stdout",
     "output_type": "stream",
     "text": [
      "Fitting 2 folds for each of 144 candidates, totalling 288 fits\n"
     ]
    },
    {
     "data": {
      "text/plain": [
       "GridSearchCV(cv=2, estimator=GradientBoostingRegressor(), n_jobs=-1,\n",
       "             param_grid={'learning_rate': [0.01, 0.02, 0.03, 0.04],\n",
       "                         'max_depth': [4, 6, 8],\n",
       "                         'n_estimators': [100, 500, 1000],\n",
       "                         'subsample': [0.9, 0.5, 0.2, 0.1]},\n",
       "             verbose=3)"
      ]
     },
     "execution_count": 42,
     "metadata": {},
     "output_type": "execute_result"
    }
   ],
   "source": [
    "grid_GBR.fit(x_train_fs,y_train)"
   ]
  },
  {
   "cell_type": "code",
   "execution_count": 43,
   "id": "32e35b93",
   "metadata": {},
   "outputs": [
    {
     "data": {
      "text/plain": [
       "{'learning_rate': 0.03, 'max_depth': 4, 'n_estimators': 100, 'subsample': 0.9}"
      ]
     },
     "execution_count": 43,
     "metadata": {},
     "output_type": "execute_result"
    }
   ],
   "source": [
    "grid_GBR.best_params_"
   ]
  },
  {
   "cell_type": "code",
   "execution_count": 44,
   "id": "6908186f",
   "metadata": {},
   "outputs": [],
   "source": [
    "grid_GBR_tuned = GradientBoostingRegressor(learning_rate =0.03, max_depth= 4, n_estimators= 100, subsample= 0.5)"
   ]
  },
  {
   "cell_type": "code",
   "execution_count": 45,
   "id": "05be317e",
   "metadata": {},
   "outputs": [
    {
     "data": {
      "text/plain": [
       "GradientBoostingRegressor(learning_rate=0.03, max_depth=4, subsample=0.5)"
      ]
     },
     "execution_count": 45,
     "metadata": {},
     "output_type": "execute_result"
    }
   ],
   "source": [
    "grid_GBR_tuned.fit(x_train_fs,y_train)"
   ]
  },
  {
   "cell_type": "code",
   "execution_count": 46,
   "id": "d52f4004",
   "metadata": {},
   "outputs": [],
   "source": [
    "y_pred_gbr = grid_GBR_tuned.predict(x_test_fs)"
   ]
  },
  {
   "cell_type": "code",
   "execution_count": 47,
   "id": "9fe74c57",
   "metadata": {},
   "outputs": [],
   "source": [
    "score = r2_score(y_test,y_pred_gbr)\n",
    "mae = mean_absolute_error(y_test,y_pred_gbr)\n",
    "mse = mean_squared_error(y_test,y_pred_gbr)\n",
    "rmse = np.sqrt(mean_squared_error(y_test,y_pred_gbr))"
   ]
  },
  {
   "cell_type": "code",
   "execution_count": 48,
   "id": "a8ddc061",
   "metadata": {},
   "outputs": [
    {
     "name": "stdout",
     "output_type": "stream",
     "text": [
      "r2 score:  0.8606785182906352\n",
      "mae:  1002.9492302956411\n",
      "mse:  1725237.9585063462\n",
      "rmse:  1313.4831397876208\n"
     ]
    }
   ],
   "source": [
    "print(\"r2 score: \",score)\n",
    "print(\"mae: \",mae)\n",
    "print(\"mse: \",mse)\n",
    "print(\"rmse: \",rmse)"
   ]
  },
  {
   "cell_type": "markdown",
   "id": "f417eff7",
   "metadata": {},
   "source": [
    "### Model building without feature selection"
   ]
  },
  {
   "cell_type": "code",
   "execution_count": 49,
   "id": "af0d942b",
   "metadata": {},
   "outputs": [
    {
     "name": "stdout",
     "output_type": "stream",
     "text": [
      "score before tuning hyper parameter tuning is : 0.918413493955746\n"
     ]
    }
   ],
   "source": [
    "best_model = GradientBoostingRegressor().fit(x_train,y_train)\n",
    "y_pred = best_model.predict(x_test)\n",
    "Score = r2_score(y_test,y_pred)\n",
    "print(\"score before tuning hyper parameter tuning is : {}\".format(Score))"
   ]
  },
  {
   "cell_type": "code",
   "execution_count": 50,
   "id": "03fe5924",
   "metadata": {},
   "outputs": [],
   "source": [
    "GBR = GradientBoostingRegressor()"
   ]
  },
  {
   "cell_type": "code",
   "execution_count": 51,
   "id": "65c4354b",
   "metadata": {},
   "outputs": [],
   "source": [
    "parameters = { 'learning_rate':[0.01,0.02,0.03,0.04],\n",
    "                'n_estimators':[100,500,1000],\n",
    "                'subsample':[0.9,0.5,0.2,0.1],\n",
    "                'max_depth':[4,6,8]\n",
    "}"
   ]
  },
  {
   "cell_type": "code",
   "execution_count": 52,
   "id": "0160149e",
   "metadata": {},
   "outputs": [],
   "source": [
    "grid_GBR = GridSearchCV(estimator=GBR, param_grid=parameters, cv=2, n_jobs=-1,verbose=3)"
   ]
  },
  {
   "cell_type": "code",
   "execution_count": 53,
   "id": "5d4d1395",
   "metadata": {},
   "outputs": [
    {
     "name": "stdout",
     "output_type": "stream",
     "text": [
      "Fitting 2 folds for each of 144 candidates, totalling 288 fits\n"
     ]
    },
    {
     "data": {
      "text/plain": [
       "GridSearchCV(cv=2, estimator=GradientBoostingRegressor(), n_jobs=-1,\n",
       "             param_grid={'learning_rate': [0.01, 0.02, 0.03, 0.04],\n",
       "                         'max_depth': [4, 6, 8],\n",
       "                         'n_estimators': [100, 500, 1000],\n",
       "                         'subsample': [0.9, 0.5, 0.2, 0.1]},\n",
       "             verbose=3)"
      ]
     },
     "execution_count": 53,
     "metadata": {},
     "output_type": "execute_result"
    }
   ],
   "source": [
    "grid_GBR.fit(x_train,y_train)"
   ]
  },
  {
   "cell_type": "code",
   "execution_count": 54,
   "id": "7b1be39f",
   "metadata": {},
   "outputs": [
    {
     "data": {
      "text/plain": [
       "{'learning_rate': 0.01, 'max_depth': 4, 'n_estimators': 500, 'subsample': 0.5}"
      ]
     },
     "execution_count": 54,
     "metadata": {},
     "output_type": "execute_result"
    }
   ],
   "source": [
    "grid_GBR.best_params_"
   ]
  },
  {
   "cell_type": "code",
   "execution_count": 55,
   "id": "941729b9",
   "metadata": {},
   "outputs": [],
   "source": [
    "grid_GBR_tuned = GradientBoostingRegressor(learning_rate =0.01, max_depth= 4, n_estimators= 500, subsample= 0.5)"
   ]
  },
  {
   "cell_type": "code",
   "execution_count": 56,
   "id": "c8836e1d",
   "metadata": {},
   "outputs": [
    {
     "data": {
      "text/plain": [
       "GradientBoostingRegressor(learning_rate=0.01, max_depth=4, n_estimators=500,\n",
       "                          subsample=0.5)"
      ]
     },
     "execution_count": 56,
     "metadata": {},
     "output_type": "execute_result"
    }
   ],
   "source": [
    "grid_GBR_tuned.fit(x_train,y_train)"
   ]
  },
  {
   "cell_type": "code",
   "execution_count": 57,
   "id": "62076463",
   "metadata": {},
   "outputs": [],
   "source": [
    "y_pred_gbr = grid_GBR_tuned.predict(x_test)"
   ]
  },
  {
   "cell_type": "code",
   "execution_count": 58,
   "id": "e3931c63",
   "metadata": {},
   "outputs": [],
   "source": [
    "score = r2_score(y_test,y_pred_gbr)\n",
    "mae = mean_absolute_error(y_test,y_pred_gbr)\n",
    "mse = mean_squared_error(y_test,y_pred_gbr)\n",
    "rmse = np.sqrt(mean_squared_error(y_test,y_pred_gbr))"
   ]
  },
  {
   "cell_type": "code",
   "execution_count": 59,
   "id": "963add46",
   "metadata": {},
   "outputs": [
    {
     "name": "stdout",
     "output_type": "stream",
     "text": [
      "r2 score:  0.9218239217516794\n",
      "mae:  792.5134453332428\n",
      "mse:  968065.6276863251\n",
      "rmse:  983.9032613455071\n"
     ]
    }
   ],
   "source": [
    "print(\"r2 score: \",score)\n",
    "print(\"mae: \",mae)\n",
    "print(\"mse: \",mse)\n",
    "print(\"rmse: \",rmse)"
   ]
  },
  {
   "cell_type": "code",
   "execution_count": 60,
   "id": "1f39db20",
   "metadata": {},
   "outputs": [],
   "source": [
    "predict = grid_GBR_tuned.predict(x)"
   ]
  },
  {
   "cell_type": "code",
   "execution_count": 61,
   "id": "332832da",
   "metadata": {},
   "outputs": [],
   "source": [
    "price = data.Price.values"
   ]
  },
  {
   "cell_type": "code",
   "execution_count": 62,
   "id": "0545a511",
   "metadata": {},
   "outputs": [],
   "source": [
    "PREDICT = pd.DataFrame(zip(price,predict), columns=(\"ACTUAL\",\"PREDICTED\"))"
   ]
  },
  {
   "cell_type": "code",
   "execution_count": 63,
   "id": "701ecc46",
   "metadata": {},
   "outputs": [
    {
     "data": {
      "image/png": "[encoded data removed]",
      "text/plain": [
       "<Figure size 640x480 with 1 Axes>"
      ]
     },
     "metadata": {},
     "output_type": "display_data"
    }
   ],
   "source": [
    "sns.regplot(data=PREDICT, x=\"ACTUAL\", y=\"PREDICTED\");"
   ]
  },
  {
   "cell_type": "code",
   "execution_count": null,
   "id": "d31170af",
   "metadata": {},
   "outputs": [],
   "source": []
  }
 ],
 "metadata": {
  "kernelspec": {
   "display_name": "Python 3 (ipykernel)",
   "language": "python",
   "name": "python3"
  },
  "language_info": {
   "codemirror_mode": {
    "name": "ipython",
    "version": 3
   },
   "file_extension": ".py",
   "mimetype": "text/x-python",
   "name": "python",
   "nbconvert_exporter": "python",
   "pygments_lexer": "ipython3",
   "version": "3.9.13"
  }
 },
 "nbformat": 4,
 "nbformat_minor": 5
}
