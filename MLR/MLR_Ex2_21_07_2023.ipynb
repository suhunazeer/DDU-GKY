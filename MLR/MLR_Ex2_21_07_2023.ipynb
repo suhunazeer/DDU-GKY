{
 "cells": [
  {
   "cell_type": "markdown",
   "id": "06254340",
   "metadata": {},
   "source": [
    "# <center> MLR Example -2"
   ]
  },
  {
   "cell_type": "code",
   "execution_count": 1,
   "id": "4631c87f",
   "metadata": {},
   "outputs": [],
   "source": [
    "import pandas as pd\n",
    "import numpy as np\n",
    "import seaborn as sns\n",
    "import matplotlib.pyplot as plt\n",
    "from sklearn.preprocessing import LabelEncoder,StandardScaler\n",
    "from sklearn.model_selection import train_test_split\n",
    "from sklearn.linear_model import LinearRegression,Ridge,Lasso\n",
    "from sklearn.ensemble import AdaBoostRegressor,GradientBoostingRegressor,RandomForestRegressor\n",
    "from sklearn.svm import SVR,LinearSVR\n",
    "from sklearn.tree import DecisionTreeRegressor\n",
    "from sklearn.metrics import r2_score,mean_absolute_error,mean_squared_error\n",
    "import warnings\n",
    "warnings.filterwarnings('ignore')"
   ]
  },
  {
   "cell_type": "code",
   "execution_count": 2,
   "id": "2cee275d",
   "metadata": {},
   "outputs": [],
   "source": [
    "data = pd.read_csv('./headbrain.csv')"
   ]
  },
  {
   "cell_type": "code",
   "execution_count": 3,
   "id": "70c1bcef",
   "metadata": {},
   "outputs": [
    {
     "data": {
      "text/html": [
       "<div>\n",
       "<style scoped>\n",
       "    .dataframe tbody tr th:only-of-type {\n",
       "        vertical-align: middle;\n",
       "    }\n",
       "\n",
       "    .dataframe tbody tr th {\n",
       "        vertical-align: top;\n",
       "    }\n",
       "\n",
       "    .dataframe thead th {\n",
       "        text-align: right;\n",
       "    }\n",
       "</style>\n",
       "<table border=\"1\" class=\"dataframe\">\n",
       "  <thead>\n",
       "    <tr style=\"text-align: right;\">\n",
       "      <th></th>\n",
       "      <th>Gender</th>\n",
       "      <th>Age Range</th>\n",
       "      <th>Head Size(cm^3)</th>\n",
       "      <th>Brain Weight(grams)</th>\n",
       "    </tr>\n",
       "  </thead>\n",
       "  <tbody>\n",
       "    <tr>\n",
       "      <th>0</th>\n",
       "      <td>1</td>\n",
       "      <td>1</td>\n",
       "      <td>4512</td>\n",
       "      <td>1530</td>\n",
       "    </tr>\n",
       "    <tr>\n",
       "      <th>1</th>\n",
       "      <td>1</td>\n",
       "      <td>1</td>\n",
       "      <td>3738</td>\n",
       "      <td>1297</td>\n",
       "    </tr>\n",
       "    <tr>\n",
       "      <th>2</th>\n",
       "      <td>1</td>\n",
       "      <td>1</td>\n",
       "      <td>4261</td>\n",
       "      <td>1335</td>\n",
       "    </tr>\n",
       "    <tr>\n",
       "      <th>3</th>\n",
       "      <td>1</td>\n",
       "      <td>1</td>\n",
       "      <td>3777</td>\n",
       "      <td>1282</td>\n",
       "    </tr>\n",
       "    <tr>\n",
       "      <th>4</th>\n",
       "      <td>1</td>\n",
       "      <td>1</td>\n",
       "      <td>4177</td>\n",
       "      <td>1590</td>\n",
       "    </tr>\n",
       "    <tr>\n",
       "      <th>...</th>\n",
       "      <td>...</td>\n",
       "      <td>...</td>\n",
       "      <td>...</td>\n",
       "      <td>...</td>\n",
       "    </tr>\n",
       "    <tr>\n",
       "      <th>232</th>\n",
       "      <td>2</td>\n",
       "      <td>2</td>\n",
       "      <td>3214</td>\n",
       "      <td>1110</td>\n",
       "    </tr>\n",
       "    <tr>\n",
       "      <th>233</th>\n",
       "      <td>2</td>\n",
       "      <td>2</td>\n",
       "      <td>3394</td>\n",
       "      <td>1215</td>\n",
       "    </tr>\n",
       "    <tr>\n",
       "      <th>234</th>\n",
       "      <td>2</td>\n",
       "      <td>2</td>\n",
       "      <td>3233</td>\n",
       "      <td>1104</td>\n",
       "    </tr>\n",
       "    <tr>\n",
       "      <th>235</th>\n",
       "      <td>2</td>\n",
       "      <td>2</td>\n",
       "      <td>3352</td>\n",
       "      <td>1170</td>\n",
       "    </tr>\n",
       "    <tr>\n",
       "      <th>236</th>\n",
       "      <td>2</td>\n",
       "      <td>2</td>\n",
       "      <td>3391</td>\n",
       "      <td>1120</td>\n",
       "    </tr>\n",
       "  </tbody>\n",
       "</table>\n",
       "<p>237 rows × 4 columns</p>\n",
       "</div>"
      ],
      "text/plain": [
       "     Gender  Age Range  Head Size(cm^3)  Brain Weight(grams)\n",
       "0         1          1             4512                 1530\n",
       "1         1          1             3738                 1297\n",
       "2         1          1             4261                 1335\n",
       "3         1          1             3777                 1282\n",
       "4         1          1             4177                 1590\n",
       "..      ...        ...              ...                  ...\n",
       "232       2          2             3214                 1110\n",
       "233       2          2             3394                 1215\n",
       "234       2          2             3233                 1104\n",
       "235       2          2             3352                 1170\n",
       "236       2          2             3391                 1120\n",
       "\n",
       "[237 rows x 4 columns]"
      ]
     },
     "execution_count": 3,
     "metadata": {},
     "output_type": "execute_result"
    }
   ],
   "source": [
    "data"
   ]
  },
  {
   "cell_type": "code",
   "execution_count": 4,
   "id": "c969b8c0",
   "metadata": {},
   "outputs": [
    {
     "data": {
      "text/html": [
       "<div>\n",
       "<style scoped>\n",
       "    .dataframe tbody tr th:only-of-type {\n",
       "        vertical-align: middle;\n",
       "    }\n",
       "\n",
       "    .dataframe tbody tr th {\n",
       "        vertical-align: top;\n",
       "    }\n",
       "\n",
       "    .dataframe thead th {\n",
       "        text-align: right;\n",
       "    }\n",
       "</style>\n",
       "<table border=\"1\" class=\"dataframe\">\n",
       "  <thead>\n",
       "    <tr style=\"text-align: right;\">\n",
       "      <th></th>\n",
       "      <th>Gender</th>\n",
       "      <th>Age Range</th>\n",
       "      <th>Head Size(cm^3)</th>\n",
       "      <th>Brain Weight(grams)</th>\n",
       "    </tr>\n",
       "  </thead>\n",
       "  <tbody>\n",
       "    <tr>\n",
       "      <th>0</th>\n",
       "      <td>1</td>\n",
       "      <td>1</td>\n",
       "      <td>4512</td>\n",
       "      <td>1530</td>\n",
       "    </tr>\n",
       "    <tr>\n",
       "      <th>1</th>\n",
       "      <td>1</td>\n",
       "      <td>1</td>\n",
       "      <td>3738</td>\n",
       "      <td>1297</td>\n",
       "    </tr>\n",
       "    <tr>\n",
       "      <th>2</th>\n",
       "      <td>1</td>\n",
       "      <td>1</td>\n",
       "      <td>4261</td>\n",
       "      <td>1335</td>\n",
       "    </tr>\n",
       "    <tr>\n",
       "      <th>3</th>\n",
       "      <td>1</td>\n",
       "      <td>1</td>\n",
       "      <td>3777</td>\n",
       "      <td>1282</td>\n",
       "    </tr>\n",
       "    <tr>\n",
       "      <th>4</th>\n",
       "      <td>1</td>\n",
       "      <td>1</td>\n",
       "      <td>4177</td>\n",
       "      <td>1590</td>\n",
       "    </tr>\n",
       "  </tbody>\n",
       "</table>\n",
       "</div>"
      ],
      "text/plain": [
       "   Gender  Age Range  Head Size(cm^3)  Brain Weight(grams)\n",
       "0       1          1             4512                 1530\n",
       "1       1          1             3738                 1297\n",
       "2       1          1             4261                 1335\n",
       "3       1          1             3777                 1282\n",
       "4       1          1             4177                 1590"
      ]
     },
     "execution_count": 4,
     "metadata": {},
     "output_type": "execute_result"
    }
   ],
   "source": [
    "data.head()"
   ]
  },
  {
   "cell_type": "code",
   "execution_count": 5,
   "id": "93b7b9ab",
   "metadata": {},
   "outputs": [
    {
     "data": {
      "text/html": [
       "<div>\n",
       "<style scoped>\n",
       "    .dataframe tbody tr th:only-of-type {\n",
       "        vertical-align: middle;\n",
       "    }\n",
       "\n",
       "    .dataframe tbody tr th {\n",
       "        vertical-align: top;\n",
       "    }\n",
       "\n",
       "    .dataframe thead th {\n",
       "        text-align: right;\n",
       "    }\n",
       "</style>\n",
       "<table border=\"1\" class=\"dataframe\">\n",
       "  <thead>\n",
       "    <tr style=\"text-align: right;\">\n",
       "      <th></th>\n",
       "      <th>Gender</th>\n",
       "      <th>Age Range</th>\n",
       "      <th>Head Size(cm^3)</th>\n",
       "      <th>Brain Weight(grams)</th>\n",
       "    </tr>\n",
       "  </thead>\n",
       "  <tbody>\n",
       "    <tr>\n",
       "      <th>130</th>\n",
       "      <td>1</td>\n",
       "      <td>2</td>\n",
       "      <td>3666</td>\n",
       "      <td>1270</td>\n",
       "    </tr>\n",
       "    <tr>\n",
       "      <th>131</th>\n",
       "      <td>1</td>\n",
       "      <td>2</td>\n",
       "      <td>3532</td>\n",
       "      <td>1335</td>\n",
       "    </tr>\n",
       "    <tr>\n",
       "      <th>132</th>\n",
       "      <td>1</td>\n",
       "      <td>2</td>\n",
       "      <td>4046</td>\n",
       "      <td>1450</td>\n",
       "    </tr>\n",
       "    <tr>\n",
       "      <th>133</th>\n",
       "      <td>1</td>\n",
       "      <td>2</td>\n",
       "      <td>3667</td>\n",
       "      <td>1310</td>\n",
       "    </tr>\n",
       "    <tr>\n",
       "      <th>134</th>\n",
       "      <td>2</td>\n",
       "      <td>1</td>\n",
       "      <td>2857</td>\n",
       "      <td>1027</td>\n",
       "    </tr>\n",
       "    <tr>\n",
       "      <th>135</th>\n",
       "      <td>2</td>\n",
       "      <td>1</td>\n",
       "      <td>3436</td>\n",
       "      <td>1235</td>\n",
       "    </tr>\n",
       "    <tr>\n",
       "      <th>136</th>\n",
       "      <td>2</td>\n",
       "      <td>1</td>\n",
       "      <td>3791</td>\n",
       "      <td>1260</td>\n",
       "    </tr>\n",
       "    <tr>\n",
       "      <th>137</th>\n",
       "      <td>2</td>\n",
       "      <td>1</td>\n",
       "      <td>3302</td>\n",
       "      <td>1165</td>\n",
       "    </tr>\n",
       "    <tr>\n",
       "      <th>138</th>\n",
       "      <td>2</td>\n",
       "      <td>1</td>\n",
       "      <td>3104</td>\n",
       "      <td>1080</td>\n",
       "    </tr>\n",
       "    <tr>\n",
       "      <th>139</th>\n",
       "      <td>2</td>\n",
       "      <td>1</td>\n",
       "      <td>3171</td>\n",
       "      <td>1127</td>\n",
       "    </tr>\n",
       "    <tr>\n",
       "      <th>140</th>\n",
       "      <td>2</td>\n",
       "      <td>1</td>\n",
       "      <td>3572</td>\n",
       "      <td>1270</td>\n",
       "    </tr>\n",
       "    <tr>\n",
       "      <th>141</th>\n",
       "      <td>2</td>\n",
       "      <td>1</td>\n",
       "      <td>3530</td>\n",
       "      <td>1252</td>\n",
       "    </tr>\n",
       "    <tr>\n",
       "      <th>142</th>\n",
       "      <td>2</td>\n",
       "      <td>1</td>\n",
       "      <td>3175</td>\n",
       "      <td>1200</td>\n",
       "    </tr>\n",
       "    <tr>\n",
       "      <th>143</th>\n",
       "      <td>2</td>\n",
       "      <td>1</td>\n",
       "      <td>3438</td>\n",
       "      <td>1290</td>\n",
       "    </tr>\n",
       "    <tr>\n",
       "      <th>144</th>\n",
       "      <td>2</td>\n",
       "      <td>1</td>\n",
       "      <td>3903</td>\n",
       "      <td>1334</td>\n",
       "    </tr>\n",
       "    <tr>\n",
       "      <th>145</th>\n",
       "      <td>2</td>\n",
       "      <td>1</td>\n",
       "      <td>3899</td>\n",
       "      <td>1380</td>\n",
       "    </tr>\n",
       "    <tr>\n",
       "      <th>146</th>\n",
       "      <td>2</td>\n",
       "      <td>1</td>\n",
       "      <td>3401</td>\n",
       "      <td>1140</td>\n",
       "    </tr>\n",
       "    <tr>\n",
       "      <th>147</th>\n",
       "      <td>2</td>\n",
       "      <td>1</td>\n",
       "      <td>3267</td>\n",
       "      <td>1243</td>\n",
       "    </tr>\n",
       "    <tr>\n",
       "      <th>148</th>\n",
       "      <td>2</td>\n",
       "      <td>1</td>\n",
       "      <td>3451</td>\n",
       "      <td>1340</td>\n",
       "    </tr>\n",
       "    <tr>\n",
       "      <th>149</th>\n",
       "      <td>2</td>\n",
       "      <td>1</td>\n",
       "      <td>3090</td>\n",
       "      <td>1168</td>\n",
       "    </tr>\n",
       "    <tr>\n",
       "      <th>150</th>\n",
       "      <td>2</td>\n",
       "      <td>1</td>\n",
       "      <td>3413</td>\n",
       "      <td>1322</td>\n",
       "    </tr>\n",
       "    <tr>\n",
       "      <th>151</th>\n",
       "      <td>2</td>\n",
       "      <td>1</td>\n",
       "      <td>3323</td>\n",
       "      <td>1249</td>\n",
       "    </tr>\n",
       "    <tr>\n",
       "      <th>152</th>\n",
       "      <td>2</td>\n",
       "      <td>1</td>\n",
       "      <td>3680</td>\n",
       "      <td>1321</td>\n",
       "    </tr>\n",
       "    <tr>\n",
       "      <th>153</th>\n",
       "      <td>2</td>\n",
       "      <td>1</td>\n",
       "      <td>3439</td>\n",
       "      <td>1192</td>\n",
       "    </tr>\n",
       "    <tr>\n",
       "      <th>154</th>\n",
       "      <td>2</td>\n",
       "      <td>1</td>\n",
       "      <td>3853</td>\n",
       "      <td>1373</td>\n",
       "    </tr>\n",
       "    <tr>\n",
       "      <th>155</th>\n",
       "      <td>2</td>\n",
       "      <td>1</td>\n",
       "      <td>3156</td>\n",
       "      <td>1170</td>\n",
       "    </tr>\n",
       "    <tr>\n",
       "      <th>156</th>\n",
       "      <td>2</td>\n",
       "      <td>1</td>\n",
       "      <td>3279</td>\n",
       "      <td>1265</td>\n",
       "    </tr>\n",
       "    <tr>\n",
       "      <th>157</th>\n",
       "      <td>2</td>\n",
       "      <td>1</td>\n",
       "      <td>3707</td>\n",
       "      <td>1235</td>\n",
       "    </tr>\n",
       "    <tr>\n",
       "      <th>158</th>\n",
       "      <td>2</td>\n",
       "      <td>1</td>\n",
       "      <td>4006</td>\n",
       "      <td>1302</td>\n",
       "    </tr>\n",
       "    <tr>\n",
       "      <th>159</th>\n",
       "      <td>2</td>\n",
       "      <td>1</td>\n",
       "      <td>3269</td>\n",
       "      <td>1241</td>\n",
       "    </tr>\n",
       "  </tbody>\n",
       "</table>\n",
       "</div>"
      ],
      "text/plain": [
       "     Gender  Age Range  Head Size(cm^3)  Brain Weight(grams)\n",
       "130       1          2             3666                 1270\n",
       "131       1          2             3532                 1335\n",
       "132       1          2             4046                 1450\n",
       "133       1          2             3667                 1310\n",
       "134       2          1             2857                 1027\n",
       "135       2          1             3436                 1235\n",
       "136       2          1             3791                 1260\n",
       "137       2          1             3302                 1165\n",
       "138       2          1             3104                 1080\n",
       "139       2          1             3171                 1127\n",
       "140       2          1             3572                 1270\n",
       "141       2          1             3530                 1252\n",
       "142       2          1             3175                 1200\n",
       "143       2          1             3438                 1290\n",
       "144       2          1             3903                 1334\n",
       "145       2          1             3899                 1380\n",
       "146       2          1             3401                 1140\n",
       "147       2          1             3267                 1243\n",
       "148       2          1             3451                 1340\n",
       "149       2          1             3090                 1168\n",
       "150       2          1             3413                 1322\n",
       "151       2          1             3323                 1249\n",
       "152       2          1             3680                 1321\n",
       "153       2          1             3439                 1192\n",
       "154       2          1             3853                 1373\n",
       "155       2          1             3156                 1170\n",
       "156       2          1             3279                 1265\n",
       "157       2          1             3707                 1235\n",
       "158       2          1             4006                 1302\n",
       "159       2          1             3269                 1241"
      ]
     },
     "execution_count": 5,
     "metadata": {},
     "output_type": "execute_result"
    }
   ],
   "source": [
    "data[130:160]"
   ]
  },
  {
   "cell_type": "code",
   "execution_count": 6,
   "id": "73200057",
   "metadata": {},
   "outputs": [
    {
     "name": "stdout",
     "output_type": "stream",
     "text": [
      "<class 'pandas.core.frame.DataFrame'>\n",
      "RangeIndex: 237 entries, 0 to 236\n",
      "Data columns (total 4 columns):\n",
      " #   Column               Non-Null Count  Dtype\n",
      "---  ------               --------------  -----\n",
      " 0   Gender               237 non-null    int64\n",
      " 1   Age Range            237 non-null    int64\n",
      " 2   Head Size(cm^3)      237 non-null    int64\n",
      " 3   Brain Weight(grams)  237 non-null    int64\n",
      "dtypes: int64(4)\n",
      "memory usage: 7.5 KB\n"
     ]
    }
   ],
   "source": [
    "data.info()"
   ]
  },
  {
   "cell_type": "code",
   "execution_count": 7,
   "id": "c69cea26",
   "metadata": {},
   "outputs": [
    {
     "data": {
      "text/html": [
       "<div>\n",
       "<style scoped>\n",
       "    .dataframe tbody tr th:only-of-type {\n",
       "        vertical-align: middle;\n",
       "    }\n",
       "\n",
       "    .dataframe tbody tr th {\n",
       "        vertical-align: top;\n",
       "    }\n",
       "\n",
       "    .dataframe thead th {\n",
       "        text-align: right;\n",
       "    }\n",
       "</style>\n",
       "<table border=\"1\" class=\"dataframe\">\n",
       "  <thead>\n",
       "    <tr style=\"text-align: right;\">\n",
       "      <th></th>\n",
       "      <th>Gender</th>\n",
       "      <th>Age Range</th>\n",
       "      <th>Head Size(cm^3)</th>\n",
       "      <th>Brain Weight(grams)</th>\n",
       "    </tr>\n",
       "  </thead>\n",
       "  <tbody>\n",
       "    <tr>\n",
       "      <th>count</th>\n",
       "      <td>237.000000</td>\n",
       "      <td>237.000000</td>\n",
       "      <td>237.000000</td>\n",
       "      <td>237.000000</td>\n",
       "    </tr>\n",
       "    <tr>\n",
       "      <th>mean</th>\n",
       "      <td>1.434599</td>\n",
       "      <td>1.535865</td>\n",
       "      <td>3633.991561</td>\n",
       "      <td>1282.873418</td>\n",
       "    </tr>\n",
       "    <tr>\n",
       "      <th>std</th>\n",
       "      <td>0.496753</td>\n",
       "      <td>0.499768</td>\n",
       "      <td>365.261422</td>\n",
       "      <td>120.340446</td>\n",
       "    </tr>\n",
       "    <tr>\n",
       "      <th>min</th>\n",
       "      <td>1.000000</td>\n",
       "      <td>1.000000</td>\n",
       "      <td>2720.000000</td>\n",
       "      <td>955.000000</td>\n",
       "    </tr>\n",
       "    <tr>\n",
       "      <th>25%</th>\n",
       "      <td>1.000000</td>\n",
       "      <td>1.000000</td>\n",
       "      <td>3389.000000</td>\n",
       "      <td>1207.000000</td>\n",
       "    </tr>\n",
       "    <tr>\n",
       "      <th>50%</th>\n",
       "      <td>1.000000</td>\n",
       "      <td>2.000000</td>\n",
       "      <td>3614.000000</td>\n",
       "      <td>1280.000000</td>\n",
       "    </tr>\n",
       "    <tr>\n",
       "      <th>75%</th>\n",
       "      <td>2.000000</td>\n",
       "      <td>2.000000</td>\n",
       "      <td>3876.000000</td>\n",
       "      <td>1350.000000</td>\n",
       "    </tr>\n",
       "    <tr>\n",
       "      <th>max</th>\n",
       "      <td>2.000000</td>\n",
       "      <td>2.000000</td>\n",
       "      <td>4747.000000</td>\n",
       "      <td>1635.000000</td>\n",
       "    </tr>\n",
       "  </tbody>\n",
       "</table>\n",
       "</div>"
      ],
      "text/plain": [
       "           Gender   Age Range  Head Size(cm^3)  Brain Weight(grams)\n",
       "count  237.000000  237.000000       237.000000           237.000000\n",
       "mean     1.434599    1.535865      3633.991561          1282.873418\n",
       "std      0.496753    0.499768       365.261422           120.340446\n",
       "min      1.000000    1.000000      2720.000000           955.000000\n",
       "25%      1.000000    1.000000      3389.000000          1207.000000\n",
       "50%      1.000000    2.000000      3614.000000          1280.000000\n",
       "75%      2.000000    2.000000      3876.000000          1350.000000\n",
       "max      2.000000    2.000000      4747.000000          1635.000000"
      ]
     },
     "execution_count": 7,
     "metadata": {},
     "output_type": "execute_result"
    }
   ],
   "source": [
    "data.describe()"
   ]
  },
  {
   "cell_type": "code",
   "execution_count": 8,
   "id": "f4f3fc6c",
   "metadata": {},
   "outputs": [
    {
     "data": {
      "text/plain": [
       "(237, 4)"
      ]
     },
     "execution_count": 8,
     "metadata": {},
     "output_type": "execute_result"
    }
   ],
   "source": [
    "data.shape"
   ]
  },
  {
   "cell_type": "code",
   "execution_count": 9,
   "id": "d383eaec",
   "metadata": {},
   "outputs": [
    {
     "data": {
      "text/plain": [
       "Index(['Gender', 'Age Range', 'Head Size(cm^3)', 'Brain Weight(grams)'], dtype='object')"
      ]
     },
     "execution_count": 9,
     "metadata": {},
     "output_type": "execute_result"
    }
   ],
   "source": [
    "data.columns"
   ]
  },
  {
   "cell_type": "code",
   "execution_count": 10,
   "id": "cfe66468",
   "metadata": {},
   "outputs": [
    {
     "data": {
      "text/plain": [
       "Gender                 0\n",
       "Age Range              0\n",
       "Head Size(cm^3)        0\n",
       "Brain Weight(grams)    0\n",
       "dtype: int64"
      ]
     },
     "execution_count": 10,
     "metadata": {},
     "output_type": "execute_result"
    }
   ],
   "source": [
    "data.isnull().sum()"
   ]
  },
  {
   "cell_type": "code",
   "execution_count": 11,
   "id": "db8bb648",
   "metadata": {},
   "outputs": [
    {
     "data": {
      "text/plain": [
       "0"
      ]
     },
     "execution_count": 11,
     "metadata": {},
     "output_type": "execute_result"
    }
   ],
   "source": [
    "data.duplicated().sum()"
   ]
  },
  {
   "cell_type": "code",
   "execution_count": 12,
   "id": "f4c4a857",
   "metadata": {},
   "outputs": [
    {
     "data": {
      "text/plain": [
       "1    134\n",
       "2    103\n",
       "Name: Gender, dtype: int64"
      ]
     },
     "execution_count": 12,
     "metadata": {},
     "output_type": "execute_result"
    }
   ],
   "source": [
    "data.Gender.value_counts()"
   ]
  },
  {
   "cell_type": "code",
   "execution_count": 13,
   "id": "c4bbe93d",
   "metadata": {},
   "outputs": [],
   "source": [
    "data.rename(columns={'Age Range':'Age_Range','Head Size(cm^3)':'Head_Size(cm^3)','Brain Weight(grams)':'Brain_Weight(grams)'}, inplace=True)"
   ]
  },
  {
   "cell_type": "code",
   "execution_count": 14,
   "id": "17458b71",
   "metadata": {},
   "outputs": [
    {
     "data": {
      "text/plain": [
       "Index(['Gender', 'Age_Range', 'Head_Size(cm^3)', 'Brain_Weight(grams)'], dtype='object')"
      ]
     },
     "execution_count": 14,
     "metadata": {},
     "output_type": "execute_result"
    }
   ],
   "source": [
    "data.columns"
   ]
  },
  {
   "cell_type": "code",
   "execution_count": 15,
   "id": "bc24a7a1",
   "metadata": {},
   "outputs": [
    {
     "data": {
      "text/plain": [
       "2    127\n",
       "1    110\n",
       "Name: Age_Range, dtype: int64"
      ]
     },
     "execution_count": 15,
     "metadata": {},
     "output_type": "execute_result"
    }
   ],
   "source": [
    "data.Age_Range.value_counts()"
   ]
  },
  {
   "cell_type": "markdown",
   "id": "5d57e2e7",
   "metadata": {},
   "source": [
    "## Explaratory Data Analysis"
   ]
  },
  {
   "cell_type": "markdown",
   "id": "d5e87569",
   "metadata": {},
   "source": [
    "## <u> Univariate Analysis"
   ]
  },
  {
   "cell_type": "markdown",
   "id": "f46bf395",
   "metadata": {},
   "source": [
    "### <li> <u> Histogram"
   ]
  },
  {
   "cell_type": "code",
   "execution_count": 16,
   "id": "96dc4be1",
   "metadata": {},
   "outputs": [
    {
     "data": {
      "image/png": "[encoded data removed]",
      "text/plain": [
       "<Figure size 640x480 with 1 Axes>"
      ]
     },
     "metadata": {},
     "output_type": "display_data"
    },
    {
     "data": {
      "image/png": "[encoded data removed]",
      "text/plain": [
       "<Figure size 640x480 with 1 Axes>"
      ]
     },
     "metadata": {},
     "output_type": "display_data"
    },
    {
     "data": {
      "image/png": "[encoded data removed]",
      "text/plain": [
       "<Figure size 640x480 with 1 Axes>"
      ]
     },
     "metadata": {},
     "output_type": "display_data"
    },
    {
     "data": {
      "image/png": "[encoded data removed]",
      "text/plain": [
       "<Figure size 640x480 with 1 Axes>"
      ]
     },
     "metadata": {},
     "output_type": "display_data"
    }
   ],
   "source": [
    "for i in data.columns:\n",
    "    sns.histplot(data=data[i], kde=True)\n",
    "    plt.show()"
   ]
  },
  {
   "cell_type": "markdown",
   "id": "93379145",
   "metadata": {},
   "source": [
    "### <li> <u> Boxplot"
   ]
  },
  {
   "cell_type": "code",
   "execution_count": 17,
   "id": "849e9a3a",
   "metadata": {},
   "outputs": [
    {
     "data": {
      "image/png": "[encoded data removed]",
      "text/plain": [
       "<Figure size 640x480 with 1 Axes>"
      ]
     },
     "metadata": {},
     "output_type": "display_data"
    },
    {
     "data": {
      "image/png": "[encoded data removed]",
      "text/plain": [
       "<Figure size 640x480 with 1 Axes>"
      ]
     },
     "metadata": {},
     "output_type": "display_data"
    },
    {
     "data": {
      "image/png": "[encoded data removed]",
      "text/plain": [
       "<Figure size 640x480 with 1 Axes>"
      ]
     },
     "metadata": {},
     "output_type": "display_data"
    },
    {
     "data": {
      "image/png": "[encoded data removed]",
      "text/plain": [
       "<Figure size 640x480 with 1 Axes>"
      ]
     },
     "metadata": {},
     "output_type": "display_data"
    }
   ],
   "source": [
    "for i in data.columns:\n",
    "    sns.boxplot(y=data[i])\n",
    "    plt.show()"
   ]
  },
  {
   "cell_type": "code",
   "execution_count": 18,
   "id": "b0106dbf",
   "metadata": {},
   "outputs": [],
   "source": [
    "column=['Gender','Age_Range', 'Head_Size(cm^3)', 'Brain_Weight(grams)']"
   ]
  },
  {
   "cell_type": "markdown",
   "id": "5f725ec2",
   "metadata": {},
   "source": [
    "### OUTLIER Treatment"
   ]
  },
  {
   "cell_type": "code",
   "execution_count": 19,
   "id": "d8fe3c3a",
   "metadata": {},
   "outputs": [],
   "source": [
    "def outlier_limit(column):\n",
    "    Q3,Q1 = np.nanpercentile(column,[75,25])\n",
    "    IQR = Q3 - Q1\n",
    "    UL = Q3 + 1.5*IQR\n",
    "    LL = Q1 - 1.5*IQR\n",
    "    return UL,LL"
   ]
  },
  {
   "cell_type": "code",
   "execution_count": 20,
   "id": "f8e99a73",
   "metadata": {},
   "outputs": [],
   "source": [
    "for i in column:\n",
    "    UL,LL = outlier_limit(data[i])\n",
    "    data[i] = np.where((data[i]>UL) | (data[i]<LL),np.nan,data[i])"
   ]
  },
  {
   "cell_type": "code",
   "execution_count": 21,
   "id": "5b07b1b8",
   "metadata": {},
   "outputs": [
    {
     "data": {
      "image/png": "[encoded data removed]",
      "text/plain": [
       "<Figure size 640x480 with 1 Axes>"
      ]
     },
     "metadata": {},
     "output_type": "display_data"
    },
    {
     "data": {
      "image/png": "[encoded data removed]",
      "text/plain": [
       "<Figure size 640x480 with 1 Axes>"
      ]
     },
     "metadata": {},
     "output_type": "display_data"
    },
    {
     "data": {
      "image/png": "[encoded data removed]",
      "text/plain": [
       "<Figure size 640x480 with 1 Axes>"
      ]
     },
     "metadata": {},
     "output_type": "display_data"
    },
    {
     "data": {
      "image/png": "[encoded data removed]",
      "text/plain": [
       "<Figure size 640x480 with 1 Axes>"
      ]
     },
     "metadata": {},
     "output_type": "display_data"
    }
   ],
   "source": [
    "for i in column:\n",
    "    sns.boxplot(y=data[i])\n",
    "    plt.show()"
   ]
  },
  {
   "cell_type": "code",
   "execution_count": 22,
   "id": "83d9bed7",
   "metadata": {},
   "outputs": [],
   "source": [
    "data.dropna(inplace=True)"
   ]
  },
  {
   "cell_type": "markdown",
   "id": "249c41c7",
   "metadata": {},
   "source": [
    "### <li> <u> Heatmap"
   ]
  },
  {
   "cell_type": "code",
   "execution_count": 23,
   "id": "a75ac0bd",
   "metadata": {},
   "outputs": [
    {
     "data": {
      "image/png": "[encoded data removed]",
      "text/plain": [
       "<Figure size 640x480 with 2 Axes>"
      ]
     },
     "metadata": {},
     "output_type": "display_data"
    }
   ],
   "source": [
    "sns.heatmap(data.corr()[['Brain_Weight(grams)']].sort_values(by='Brain_Weight(grams)',ascending=False), vmin=-1, vmax=1, annot=True)\n",
    "plt.show()"
   ]
  },
  {
   "cell_type": "code",
   "execution_count": 24,
   "id": "3d0baac5",
   "metadata": {},
   "outputs": [
    {
     "data": {
      "image/png": "[encoded data removed]",
      "text/plain": [
       "<Figure size 640x480 with 2 Axes>"
      ]
     },
     "metadata": {},
     "output_type": "display_data"
    }
   ],
   "source": [
    "sns.heatmap(data.corr()[['Age_Range']].sort_values(by='Age_Range',ascending=False), vmin=-1, vmax=1, annot=True)\n",
    "plt.show()"
   ]
  },
  {
   "cell_type": "code",
   "execution_count": 25,
   "id": "1a72f601",
   "metadata": {},
   "outputs": [
    {
     "data": {
      "text/plain": [
       "Index(['Gender', 'Age_Range', 'Head_Size(cm^3)', 'Brain_Weight(grams)'], dtype='object')"
      ]
     },
     "execution_count": 25,
     "metadata": {},
     "output_type": "execute_result"
    }
   ],
   "source": [
    "data.columns"
   ]
  },
  {
   "cell_type": "code",
   "execution_count": 51,
   "id": "59fee8b0",
   "metadata": {},
   "outputs": [],
   "source": [
    "data1=data[['Head_Size(cm^3)', 'Brain_Weight(grams)']]"
   ]
  },
  {
   "cell_type": "code",
   "execution_count": 52,
   "id": "befab257",
   "metadata": {},
   "outputs": [
    {
     "data": {
      "text/html": [
       "<div>\n",
       "<style scoped>\n",
       "    .dataframe tbody tr th:only-of-type {\n",
       "        vertical-align: middle;\n",
       "    }\n",
       "\n",
       "    .dataframe tbody tr th {\n",
       "        vertical-align: top;\n",
       "    }\n",
       "\n",
       "    .dataframe thead th {\n",
       "        text-align: right;\n",
       "    }\n",
       "</style>\n",
       "<table border=\"1\" class=\"dataframe\">\n",
       "  <thead>\n",
       "    <tr style=\"text-align: right;\">\n",
       "      <th></th>\n",
       "      <th>Head_Size(cm^3)</th>\n",
       "      <th>Brain_Weight(grams)</th>\n",
       "    </tr>\n",
       "  </thead>\n",
       "  <tbody>\n",
       "    <tr>\n",
       "      <th>0</th>\n",
       "      <td>4512.0</td>\n",
       "      <td>1530.0</td>\n",
       "    </tr>\n",
       "    <tr>\n",
       "      <th>1</th>\n",
       "      <td>3738.0</td>\n",
       "      <td>1297.0</td>\n",
       "    </tr>\n",
       "    <tr>\n",
       "      <th>2</th>\n",
       "      <td>4261.0</td>\n",
       "      <td>1335.0</td>\n",
       "    </tr>\n",
       "    <tr>\n",
       "      <th>3</th>\n",
       "      <td>3777.0</td>\n",
       "      <td>1282.0</td>\n",
       "    </tr>\n",
       "    <tr>\n",
       "      <th>5</th>\n",
       "      <td>3585.0</td>\n",
       "      <td>1300.0</td>\n",
       "    </tr>\n",
       "    <tr>\n",
       "      <th>...</th>\n",
       "      <td>...</td>\n",
       "      <td>...</td>\n",
       "    </tr>\n",
       "    <tr>\n",
       "      <th>232</th>\n",
       "      <td>3214.0</td>\n",
       "      <td>1110.0</td>\n",
       "    </tr>\n",
       "    <tr>\n",
       "      <th>233</th>\n",
       "      <td>3394.0</td>\n",
       "      <td>1215.0</td>\n",
       "    </tr>\n",
       "    <tr>\n",
       "      <th>234</th>\n",
       "      <td>3233.0</td>\n",
       "      <td>1104.0</td>\n",
       "    </tr>\n",
       "    <tr>\n",
       "      <th>235</th>\n",
       "      <td>3352.0</td>\n",
       "      <td>1170.0</td>\n",
       "    </tr>\n",
       "    <tr>\n",
       "      <th>236</th>\n",
       "      <td>3391.0</td>\n",
       "      <td>1120.0</td>\n",
       "    </tr>\n",
       "  </tbody>\n",
       "</table>\n",
       "<p>231 rows × 2 columns</p>\n",
       "</div>"
      ],
      "text/plain": [
       "     Head_Size(cm^3)  Brain_Weight(grams)\n",
       "0             4512.0               1530.0\n",
       "1             3738.0               1297.0\n",
       "2             4261.0               1335.0\n",
       "3             3777.0               1282.0\n",
       "5             3585.0               1300.0\n",
       "..               ...                  ...\n",
       "232           3214.0               1110.0\n",
       "233           3394.0               1215.0\n",
       "234           3233.0               1104.0\n",
       "235           3352.0               1170.0\n",
       "236           3391.0               1120.0\n",
       "\n",
       "[231 rows x 2 columns]"
      ]
     },
     "execution_count": 52,
     "metadata": {},
     "output_type": "execute_result"
    }
   ],
   "source": [
    "data1"
   ]
  },
  {
   "cell_type": "markdown",
   "id": "e1f4269a",
   "metadata": {},
   "source": [
    "### Selecting Features and Targets"
   ]
  },
  {
   "cell_type": "code",
   "execution_count": 53,
   "id": "53396000",
   "metadata": {},
   "outputs": [],
   "source": [
    "x = data1.iloc[:,:-1].values\n",
    "y = data1.iloc[:,-1].values"
   ]
  },
  {
   "cell_type": "code",
   "execution_count": 29,
   "id": "94f924be",
   "metadata": {},
   "outputs": [
    {
     "data": {
      "text/plain": [
       "array([[4512.],\n",
       "       [3738.],\n",
       "       [4261.],\n",
       "       [3777.],\n",
       "       [3585.],\n",
       "       [3785.],\n",
       "       [3559.],\n",
       "       [3613.],\n",
       "       [3982.],\n",
       "       [3443.],\n",
       "       [3993.],\n",
       "       [3640.],\n",
       "       [4208.],\n",
       "       [3832.],\n",
       "       [3876.],\n",
       "       [3497.],\n",
       "       [3466.],\n",
       "       [3095.],\n",
       "       [4424.],\n",
       "       [3878.],\n",
       "       [4046.],\n",
       "       [3804.],\n",
       "       [3710.],\n",
       "       [4423.],\n",
       "       [4036.],\n",
       "       [4022.],\n",
       "       [3454.],\n",
       "       [4175.],\n",
       "       [3787.],\n",
       "       [3796.],\n",
       "       [4103.],\n",
       "       [4161.],\n",
       "       [4158.],\n",
       "       [3814.],\n",
       "       [3527.],\n",
       "       [3748.],\n",
       "       [3334.],\n",
       "       [3492.],\n",
       "       [3962.],\n",
       "       [3505.],\n",
       "       [4315.],\n",
       "       [3863.],\n",
       "       [4034.],\n",
       "       [4308.],\n",
       "       [3165.],\n",
       "       [3641.],\n",
       "       [3644.],\n",
       "       [3891.],\n",
       "       [3793.],\n",
       "       [4270.],\n",
       "       [4063.],\n",
       "       [4012.],\n",
       "       [3458.],\n",
       "       [3890.],\n",
       "       [4166.],\n",
       "       [3935.],\n",
       "       [3669.],\n",
       "       [3866.],\n",
       "       [3393.],\n",
       "       [4442.],\n",
       "       [4253.],\n",
       "       [3727.],\n",
       "       [3329.],\n",
       "       [3415.],\n",
       "       [3372.],\n",
       "       [4430.],\n",
       "       [4381.],\n",
       "       [4008.],\n",
       "       [3858.],\n",
       "       [4121.],\n",
       "       [4057.],\n",
       "       [3824.],\n",
       "       [3394.],\n",
       "       [3558.],\n",
       "       [3362.],\n",
       "       [3930.],\n",
       "       [3835.],\n",
       "       [3830.],\n",
       "       [3856.],\n",
       "       [3249.],\n",
       "       [3577.],\n",
       "       [3933.],\n",
       "       [3850.],\n",
       "       [3309.],\n",
       "       [3406.],\n",
       "       [3506.],\n",
       "       [3907.],\n",
       "       [4160.],\n",
       "       [3318.],\n",
       "       [3662.],\n",
       "       [3899.],\n",
       "       [3700.],\n",
       "       [3779.],\n",
       "       [3473.],\n",
       "       [3490.],\n",
       "       [3654.],\n",
       "       [3478.],\n",
       "       [3495.],\n",
       "       [3834.],\n",
       "       [3661.],\n",
       "       [3618.],\n",
       "       [3648.],\n",
       "       [4032.],\n",
       "       [3399.],\n",
       "       [3916.],\n",
       "       [3695.],\n",
       "       [3524.],\n",
       "       [3571.],\n",
       "       [3594.],\n",
       "       [3383.],\n",
       "       [3499.],\n",
       "       [3589.],\n",
       "       [3900.],\n",
       "       [4114.],\n",
       "       [3937.],\n",
       "       [3399.],\n",
       "       [4200.],\n",
       "       [4488.],\n",
       "       [3614.],\n",
       "       [4051.],\n",
       "       [3782.],\n",
       "       [3391.],\n",
       "       [3124.],\n",
       "       [4053.],\n",
       "       [3582.],\n",
       "       [3666.],\n",
       "       [3532.],\n",
       "       [4046.],\n",
       "       [3667.],\n",
       "       [2857.],\n",
       "       [3436.],\n",
       "       [3791.],\n",
       "       [3302.],\n",
       "       [3104.],\n",
       "       [3171.],\n",
       "       [3572.],\n",
       "       [3530.],\n",
       "       [3175.],\n",
       "       [3438.],\n",
       "       [3903.],\n",
       "       [3899.],\n",
       "       [3401.],\n",
       "       [3267.],\n",
       "       [3451.],\n",
       "       [3090.],\n",
       "       [3413.],\n",
       "       [3323.],\n",
       "       [3680.],\n",
       "       [3439.],\n",
       "       [3853.],\n",
       "       [3156.],\n",
       "       [3279.],\n",
       "       [3707.],\n",
       "       [4006.],\n",
       "       [3269.],\n",
       "       [3071.],\n",
       "       [3779.],\n",
       "       [3548.],\n",
       "       [3292.],\n",
       "       [3497.],\n",
       "       [3082.],\n",
       "       [3248.],\n",
       "       [3358.],\n",
       "       [3803.],\n",
       "       [3566.],\n",
       "       [3145.],\n",
       "       [3503.],\n",
       "       [3571.],\n",
       "       [3724.],\n",
       "       [3615.],\n",
       "       [3203.],\n",
       "       [3609.],\n",
       "       [3561.],\n",
       "       [3979.],\n",
       "       [3533.],\n",
       "       [3689.],\n",
       "       [3158.],\n",
       "       [4005.],\n",
       "       [3181.],\n",
       "       [3479.],\n",
       "       [3642.],\n",
       "       [3632.],\n",
       "       [3069.],\n",
       "       [3394.],\n",
       "       [3703.],\n",
       "       [3165.],\n",
       "       [3354.],\n",
       "       [3000.],\n",
       "       [3687.],\n",
       "       [3556.],\n",
       "       [2773.],\n",
       "       [3058.],\n",
       "       [3344.],\n",
       "       [3493.],\n",
       "       [3297.],\n",
       "       [3360.],\n",
       "       [3228.],\n",
       "       [3277.],\n",
       "       [3851.],\n",
       "       [3067.],\n",
       "       [3692.],\n",
       "       [3402.],\n",
       "       [3995.],\n",
       "       [3318.],\n",
       "       [2937.],\n",
       "       [3580.],\n",
       "       [2939.],\n",
       "       [2989.],\n",
       "       [3586.],\n",
       "       [3156.],\n",
       "       [3246.],\n",
       "       [3170.],\n",
       "       [3268.],\n",
       "       [3389.],\n",
       "       [3381.],\n",
       "       [2864.],\n",
       "       [3740.],\n",
       "       [3479.],\n",
       "       [3647.],\n",
       "       [3716.],\n",
       "       [3284.],\n",
       "       [4204.],\n",
       "       [3735.],\n",
       "       [3218.],\n",
       "       [3685.],\n",
       "       [3704.],\n",
       "       [3214.],\n",
       "       [3394.],\n",
       "       [3233.],\n",
       "       [3352.],\n",
       "       [3391.]])"
      ]
     },
     "execution_count": 29,
     "metadata": {},
     "output_type": "execute_result"
    }
   ],
   "source": [
    "x"
   ]
  },
  {
   "cell_type": "code",
   "execution_count": 54,
   "id": "373c2c33",
   "metadata": {},
   "outputs": [
    {
     "data": {
      "text/plain": [
       "array([1530., 1297., 1335., 1282., 1300., 1400., 1255., 1355., 1375.,\n",
       "       1340., 1380., 1355., 1522., 1208., 1405., 1358., 1292., 1340.,\n",
       "       1400., 1357., 1287., 1275., 1270., 1505., 1490., 1485., 1310.,\n",
       "       1420., 1318., 1432., 1364., 1405., 1432., 1207., 1375., 1350.,\n",
       "       1236., 1250., 1350., 1320., 1525., 1340., 1422., 1506., 1215.,\n",
       "       1311., 1300., 1224., 1350., 1335., 1390., 1400., 1225., 1310.,\n",
       "       1560., 1330., 1222., 1415., 1175., 1330., 1485., 1470., 1135.,\n",
       "       1310., 1154., 1510., 1415., 1468., 1390., 1380., 1432., 1240.,\n",
       "       1195., 1225., 1188., 1252., 1315., 1245., 1430., 1279., 1245.,\n",
       "       1309., 1412., 1120., 1220., 1280., 1440., 1370., 1192., 1230.,\n",
       "       1346., 1290., 1165., 1240., 1132., 1242., 1270., 1218., 1430.,\n",
       "       1320., 1290., 1260., 1425., 1226., 1360., 1310., 1250., 1295.,\n",
       "       1290., 1290., 1275., 1250., 1270., 1362., 1300., 1173., 1256.,\n",
       "       1440., 1180., 1306., 1350., 1125., 1165., 1312., 1300., 1270.,\n",
       "       1335., 1450., 1310., 1027., 1235., 1260., 1165., 1080., 1127.,\n",
       "       1270., 1252., 1200., 1290., 1334., 1380., 1140., 1243., 1340.,\n",
       "       1168., 1322., 1249., 1321., 1192., 1373., 1170., 1265., 1235.,\n",
       "       1302., 1241., 1078., 1520., 1460., 1075., 1280., 1180., 1250.,\n",
       "       1190., 1374., 1306., 1202., 1240., 1316., 1280., 1350., 1180.,\n",
       "       1210., 1127., 1324., 1210., 1290., 1100., 1280., 1175., 1160.,\n",
       "       1205., 1163., 1022., 1243., 1350., 1237., 1204., 1090., 1355.,\n",
       "       1250., 1076., 1120., 1220., 1240., 1220., 1095., 1235., 1105.,\n",
       "       1405., 1150., 1305., 1220., 1296., 1175., 1070., 1320., 1060.,\n",
       "       1130., 1250., 1225., 1180., 1178., 1142., 1130., 1185., 1012.,\n",
       "       1280., 1103., 1408., 1300., 1246., 1380., 1350., 1060., 1350.,\n",
       "       1220., 1110., 1215., 1104., 1170., 1120.])"
      ]
     },
     "execution_count": 54,
     "metadata": {},
     "output_type": "execute_result"
    }
   ],
   "source": [
    "y"
   ]
  },
  {
   "cell_type": "markdown",
   "id": "66c8006b",
   "metadata": {},
   "source": [
    "### Feature Scaling"
   ]
  },
  {
   "cell_type": "markdown",
   "id": "1d08d0e3",
   "metadata": {},
   "source": [
    "### Initializing Standard Scaler"
   ]
  },
  {
   "cell_type": "code",
   "execution_count": 55,
   "id": "79a212eb",
   "metadata": {},
   "outputs": [],
   "source": [
    "sc = StandardScaler()"
   ]
  },
  {
   "cell_type": "code",
   "execution_count": 56,
   "id": "c40dc533",
   "metadata": {},
   "outputs": [],
   "source": [
    "x=sc.fit_transform(x)"
   ]
  },
  {
   "cell_type": "code",
   "execution_count": 57,
   "id": "1caadca9",
   "metadata": {},
   "outputs": [
    {
     "data": {
      "text/plain": [
       "array([[ 2.52905033],\n",
       "       [ 0.32082146],\n",
       "       [ 1.8129451 ],\n",
       "       [ 0.43208881],\n",
       "       [-0.11568889],\n",
       "       [ 0.45491288],\n",
       "       [-0.18986712],\n",
       "       [-0.03580464],\n",
       "       [ 1.01695563],\n",
       "       [-0.52081615],\n",
       "       [ 1.04833873],\n",
       "       [ 0.0412266 ],\n",
       "       [ 1.66173563],\n",
       "       [ 0.5890043 ],\n",
       "       [ 0.71453669],\n",
       "       [-0.36675367],\n",
       "       [-0.45519695],\n",
       "       [-1.51366324],\n",
       "       [ 2.27798555],\n",
       "       [ 0.72024271],\n",
       "       [ 1.1995482 ],\n",
       "       [ 0.50912005],\n",
       "       [ 0.24093722],\n",
       "       [ 2.27513254],\n",
       "       [ 1.17101811],\n",
       "       [ 1.13107598],\n",
       "       [-0.48943305],\n",
       "       [ 1.56758634],\n",
       "       [ 0.4606189 ],\n",
       "       [ 0.48629598],\n",
       "       [ 1.3621697 ],\n",
       "       [ 1.52764422],\n",
       "       [ 1.51908519],\n",
       "       [ 0.53765014],\n",
       "       [-0.28116341],\n",
       "       [ 0.34935155],\n",
       "       [-0.83179412],\n",
       "       [-0.38101872],\n",
       "       [ 0.95989545],\n",
       "       [-0.3439296 ],\n",
       "       [ 1.96700758],\n",
       "       [ 0.67744757],\n",
       "       [ 1.16531209],\n",
       "       [ 1.94703652],\n",
       "       [-1.31395262],\n",
       "       [ 0.0440796 ],\n",
       "       [ 0.05263863],\n",
       "       [ 0.75733182],\n",
       "       [ 0.47773695],\n",
       "       [ 1.83862218],\n",
       "       [ 1.24804935],\n",
       "       [ 1.10254589],\n",
       "       [-0.47802102],\n",
       "       [ 0.75447881],\n",
       "       [ 1.54190926],\n",
       "       [ 0.88286421],\n",
       "       [ 0.12396385],\n",
       "       [ 0.6860066 ],\n",
       "       [-0.66346659],\n",
       "       [ 2.32933971],\n",
       "       [ 1.79012103],\n",
       "       [ 0.28943837],\n",
       "       [-0.84605916],\n",
       "       [-0.6007004 ],\n",
       "       [-0.72337978],\n",
       "       [ 2.2951036 ],\n",
       "       [ 2.15530617],\n",
       "       [ 1.09113386],\n",
       "       [ 0.66318253],\n",
       "       [ 1.41352386],\n",
       "       [ 1.23093129],\n",
       "       [ 0.56618023],\n",
       "       [-0.66061359],\n",
       "       [-0.19272013],\n",
       "       [-0.75190987],\n",
       "       [ 0.86859917],\n",
       "       [ 0.59756332],\n",
       "       [ 0.58329828],\n",
       "       [ 0.65747651],\n",
       "       [-1.07429987],\n",
       "       [-0.13851296],\n",
       "       [ 0.87715819],\n",
       "       [ 0.64035846],\n",
       "       [-0.90311934],\n",
       "       [-0.62637748],\n",
       "       [-0.34107659],\n",
       "       [ 0.80297996],\n",
       "       [ 1.52479121],\n",
       "       [-0.87744226],\n",
       "       [ 0.10399279],\n",
       "       [ 0.78015589],\n",
       "       [ 0.21240713],\n",
       "       [ 0.43779483],\n",
       "       [-0.43522589],\n",
       "       [-0.38672473],\n",
       "       [ 0.08116872],\n",
       "       [-0.42096084],\n",
       "       [-0.37245969],\n",
       "       [ 0.59471032],\n",
       "       [ 0.10113978],\n",
       "       [-0.0215396 ],\n",
       "       [ 0.06405067],\n",
       "       [ 1.15960607],\n",
       "       [-0.64634854],\n",
       "       [ 0.82865704],\n",
       "       [ 0.19814208],\n",
       "       [-0.28972243],\n",
       "       [-0.15563102],\n",
       "       [-0.09001181],\n",
       "       [-0.69199668],\n",
       "       [-0.36104765],\n",
       "       [-0.10427686],\n",
       "       [ 0.7830089 ],\n",
       "       [ 1.3935528 ],\n",
       "       [ 0.88857023],\n",
       "       [-0.64634854],\n",
       "       [ 1.63891156],\n",
       "       [ 2.46057811],\n",
       "       [-0.03295163],\n",
       "       [ 1.21381324],\n",
       "       [ 0.44635385],\n",
       "       [-0.66917261],\n",
       "       [-1.43092598],\n",
       "       [ 1.21951926],\n",
       "       [-0.12424792],\n",
       "       [ 0.11540483],\n",
       "       [-0.26689836],\n",
       "       [ 1.1995482 ],\n",
       "       [ 0.11825784],\n",
       "       [-2.19267935],\n",
       "       [-0.54078721],\n",
       "       [ 0.47203093],\n",
       "       [-0.9230904 ],\n",
       "       [-1.48798616],\n",
       "       [-1.29683456],\n",
       "       [-0.15277801],\n",
       "       [-0.27260438],\n",
       "       [-1.28542253],\n",
       "       [-0.5350812 ],\n",
       "       [ 0.79156793],\n",
       "       [ 0.78015589],\n",
       "       [-0.64064252],\n",
       "       [-1.02294571],\n",
       "       [-0.49799208],\n",
       "       [-1.52792828],\n",
       "       [-0.60640642],\n",
       "       [-0.86317722],\n",
       "       [ 0.15534695],\n",
       "       [-0.53222819],\n",
       "       [ 0.64891748],\n",
       "       [-1.3396297 ],\n",
       "       [-0.98870961],\n",
       "       [ 0.23237819],\n",
       "       [ 1.08542784],\n",
       "       [-1.01723969],\n",
       "       [-1.58213545],\n",
       "       [ 0.43779483],\n",
       "       [-0.22125022],\n",
       "       [-0.95162049],\n",
       "       [-0.36675367],\n",
       "       [-1.55075235],\n",
       "       [-1.07715288],\n",
       "       [-0.7633219 ],\n",
       "       [ 0.50626704],\n",
       "       [-0.16989606],\n",
       "       [-1.37101279],\n",
       "       [-0.34963562],\n",
       "       [-0.15563102],\n",
       "       [ 0.28087934],\n",
       "       [-0.03009863],\n",
       "       [-1.20553828],\n",
       "       [-0.04721668],\n",
       "       [-0.1841611 ],\n",
       "       [ 1.0083966 ],\n",
       "       [-0.26404535],\n",
       "       [ 0.18102403],\n",
       "       [-1.33392368],\n",
       "       [ 1.08257483],\n",
       "       [-1.26830447],\n",
       "       [-0.41810783],\n",
       "       [ 0.04693261],\n",
       "       [ 0.01840252],\n",
       "       [-1.58784147],\n",
       "       [-0.66061359],\n",
       "       [ 0.22096615],\n",
       "       [-1.31395262],\n",
       "       [-0.77473394],\n",
       "       [-1.78469908],\n",
       "       [ 0.17531801],\n",
       "       [-0.19842615],\n",
       "       [-2.43233209],\n",
       "       [-1.61922456],\n",
       "       [-0.80326403],\n",
       "       [-0.37816571],\n",
       "       [-0.93735545],\n",
       "       [-0.75761589],\n",
       "       [-1.13421306],\n",
       "       [-0.99441562],\n",
       "       [ 0.64321147],\n",
       "       [-1.59354749],\n",
       "       [ 0.18958306],\n",
       "       [-0.63778951],\n",
       "       [ 1.05404474],\n",
       "       [-0.87744226],\n",
       "       [-1.96443864],\n",
       "       [-0.12995394],\n",
       "       [-1.95873262],\n",
       "       [-1.81608218],\n",
       "       [-0.11283588],\n",
       "       [-1.3396297 ],\n",
       "       [-1.0828589 ],\n",
       "       [-1.29968757],\n",
       "       [-1.0200927 ],\n",
       "       [-0.67487863],\n",
       "       [-0.6977027 ],\n",
       "       [-2.17270829],\n",
       "       [ 0.32652748],\n",
       "       [-0.41810783],\n",
       "       [ 0.06119766],\n",
       "       [ 0.25805527],\n",
       "       [-0.97444456],\n",
       "       [ 1.6503236 ],\n",
       "       [ 0.31226244],\n",
       "       [-1.16274315],\n",
       "       [ 0.16961199],\n",
       "       [ 0.22381916],\n",
       "       [-1.17415518],\n",
       "       [-0.66061359],\n",
       "       [-1.11994801],\n",
       "       [-0.78043996],\n",
       "       [-0.66917261]])"
      ]
     },
     "execution_count": 57,
     "metadata": {},
     "output_type": "execute_result"
    }
   ],
   "source": [
    "x"
   ]
  },
  {
   "cell_type": "markdown",
   "id": "83329820",
   "metadata": {},
   "source": [
    "### Splitting the data "
   ]
  },
  {
   "cell_type": "code",
   "execution_count": 58,
   "id": "7f33e7df",
   "metadata": {},
   "outputs": [],
   "source": [
    "x_train, x_test, y_train, y_test = train_test_split(x,y,test_size=0.2,random_state=42,shuffle=True)"
   ]
  },
  {
   "cell_type": "code",
   "execution_count": 59,
   "id": "91d4602e",
   "metadata": {},
   "outputs": [
    {
     "data": {
      "text/plain": [
       "array([[ 0.06119766],\n",
       "       [ 2.15530617],\n",
       "       [-0.52081615],\n",
       "       [-1.20553828],\n",
       "       [-0.36675367],\n",
       "       [ 0.18958306],\n",
       "       [ 1.13107598],\n",
       "       [-1.13421306],\n",
       "       [-1.01723969],\n",
       "       [-0.26689836],\n",
       "       [-2.17270829],\n",
       "       [ 0.72024271],\n",
       "       [-0.42096084],\n",
       "       [-1.26830447],\n",
       "       [ 0.18102403],\n",
       "       [-1.28542253],\n",
       "       [-0.86317722],\n",
       "       [ 1.3621697 ],\n",
       "       [-1.17415518],\n",
       "       [-1.31395262],\n",
       "       [-0.09001181],\n",
       "       [-0.7633219 ],\n",
       "       [-0.12995394],\n",
       "       [ 0.01840252],\n",
       "       [ 0.11540483],\n",
       "       [ 2.27798555],\n",
       "       [ 0.15534695],\n",
       "       [ 0.06405067],\n",
       "       [ 0.82865704],\n",
       "       [-0.62637748],\n",
       "       [ 0.64321147],\n",
       "       [ 1.79012103],\n",
       "       [-0.03295163],\n",
       "       [ 0.0440796 ],\n",
       "       [-0.45519695],\n",
       "       [ 1.1995482 ],\n",
       "       [-0.36675367],\n",
       "       [ 1.21381324],\n",
       "       [ 0.64035846],\n",
       "       [-1.52792828],\n",
       "       [-0.43522589],\n",
       "       [-0.93735545],\n",
       "       [-0.49799208],\n",
       "       [-0.19272013],\n",
       "       [ 1.3935528 ],\n",
       "       [ 0.7830089 ],\n",
       "       [-1.3396297 ]])"
      ]
     },
     "execution_count": 59,
     "metadata": {},
     "output_type": "execute_result"
    }
   ],
   "source": [
    "x_test"
   ]
  },
  {
   "cell_type": "markdown",
   "id": "7705f5e7",
   "metadata": {},
   "source": [
    "### Model Building"
   ]
  },
  {
   "cell_type": "code",
   "execution_count": 60,
   "id": "efb935a4",
   "metadata": {},
   "outputs": [],
   "source": [
    "model = LinearRegression()"
   ]
  },
  {
   "cell_type": "code",
   "execution_count": 61,
   "id": "1cc28907",
   "metadata": {},
   "outputs": [
    {
     "data": {
      "text/plain": [
       "LinearRegression()"
      ]
     },
     "execution_count": 61,
     "metadata": {},
     "output_type": "execute_result"
    }
   ],
   "source": [
    "model.fit(x_train,y_train)"
   ]
  },
  {
   "cell_type": "code",
   "execution_count": 62,
   "id": "ed942f5c",
   "metadata": {},
   "outputs": [],
   "source": [
    "y_pred = model.predict(x_test)"
   ]
  },
  {
   "cell_type": "code",
   "execution_count": 63,
   "id": "6fd2f938",
   "metadata": {},
   "outputs": [
    {
     "data": {
      "text/plain": [
       "array([1278.83763125, 1465.98465043, 1226.8240183 , 1165.63153246,\n",
       "       1240.59232761, 1290.31122235, 1374.45089037, 1172.00574974,\n",
       "       1182.45946607, 1249.51623179, 1079.19714622, 1337.73539887,\n",
       "       1235.74792248, 1160.02222126, 1289.54631627, 1158.49240911,\n",
       "       1196.22777538, 1395.10335434, 1168.43618806, 1155.94272221,\n",
       "       1265.32429063, 1205.15167956, 1261.75472896, 1275.01310089,\n",
       "       1283.68203638, 1476.94830414, 1287.25159806, 1279.09259994,\n",
       "       1347.42420912, 1217.39017673, 1330.85124421, 1433.34865798,\n",
       "       1270.42366445, 1277.30781911, 1232.68829819, 1380.57013895,\n",
       "       1240.59232761, 1381.84498241, 1330.59627552, 1136.82007038,\n",
       "       1234.47307902, 1189.59858941, 1228.86376782, 1256.14541776,\n",
       "       1397.90800994, 1343.34471007, 1153.64800399])"
      ]
     },
     "execution_count": 63,
     "metadata": {},
     "output_type": "execute_result"
    }
   ],
   "source": [
    "y_pred"
   ]
  },
  {
   "cell_type": "markdown",
   "id": "501c51ac",
   "metadata": {},
   "source": [
    "#### Evaluating the accuracy"
   ]
  },
  {
   "cell_type": "code",
   "execution_count": 64,
   "id": "8e28560a",
   "metadata": {},
   "outputs": [
    {
     "data": {
      "text/plain": [
       "0.5919199838767479"
      ]
     },
     "execution_count": 64,
     "metadata": {},
     "output_type": "execute_result"
    }
   ],
   "source": [
    "r2_score(y_test,y_pred)"
   ]
  },
  {
   "cell_type": "markdown",
   "id": "9f68f151",
   "metadata": {},
   "source": [
    "#### Testing accuracy"
   ]
  },
  {
   "cell_type": "code",
   "execution_count": 65,
   "id": "1025dc24",
   "metadata": {},
   "outputs": [
    {
     "data": {
      "text/plain": [
       "0.5919199838767479"
      ]
     },
     "execution_count": 65,
     "metadata": {},
     "output_type": "execute_result"
    }
   ],
   "source": [
    "model.score(x_test,y_test)"
   ]
  },
  {
   "cell_type": "markdown",
   "id": "10037cdc",
   "metadata": {},
   "source": [
    "#### Training accuracy"
   ]
  },
  {
   "cell_type": "code",
   "execution_count": 66,
   "id": "57d91eaf",
   "metadata": {},
   "outputs": [
    {
     "data": {
      "text/plain": [
       "0.6266111486672457"
      ]
     },
     "execution_count": 66,
     "metadata": {},
     "output_type": "execute_result"
    }
   ],
   "source": [
    "model.score(x_train,y_train)"
   ]
  },
  {
   "cell_type": "code",
   "execution_count": 67,
   "id": "70e9cc4e",
   "metadata": {},
   "outputs": [
    {
     "data": {
      "text/plain": [
       "51.86018581656748"
      ]
     },
     "execution_count": 67,
     "metadata": {},
     "output_type": "execute_result"
    }
   ],
   "source": [
    "mean_absolute_error(y_test, y_pred)"
   ]
  },
  {
   "cell_type": "code",
   "execution_count": 68,
   "id": "6b25eb89",
   "metadata": {},
   "outputs": [
    {
     "data": {
      "text/plain": [
       "3860.709621653986"
      ]
     },
     "execution_count": 68,
     "metadata": {},
     "output_type": "execute_result"
    }
   ],
   "source": [
    "mean_squared_error(y_test, y_pred)"
   ]
  },
  {
   "cell_type": "code",
   "execution_count": 69,
   "id": "9f3c3222",
   "metadata": {},
   "outputs": [
    {
     "data": {
      "text/plain": [
       "62.13460888791355"
      ]
     },
     "execution_count": 69,
     "metadata": {},
     "output_type": "execute_result"
    }
   ],
   "source": [
    "np.sqrt(mean_squared_error(y_test, y_pred))"
   ]
  },
  {
   "cell_type": "code",
   "execution_count": 70,
   "id": "87037a01",
   "metadata": {},
   "outputs": [],
   "source": [
    "OUTPUT = pd.DataFrame(zip(y_test, y_pred), columns=['ACTUAL','PREDICTED'])"
   ]
  },
  {
   "cell_type": "code",
   "execution_count": 71,
   "id": "3338f6e9",
   "metadata": {},
   "outputs": [
    {
     "data": {
      "text/html": [
       "<div>\n",
       "<style scoped>\n",
       "    .dataframe tbody tr th:only-of-type {\n",
       "        vertical-align: middle;\n",
       "    }\n",
       "\n",
       "    .dataframe tbody tr th {\n",
       "        vertical-align: top;\n",
       "    }\n",
       "\n",
       "    .dataframe thead th {\n",
       "        text-align: right;\n",
       "    }\n",
       "</style>\n",
       "<table border=\"1\" class=\"dataframe\">\n",
       "  <thead>\n",
       "    <tr style=\"text-align: right;\">\n",
       "      <th></th>\n",
       "      <th>ACTUAL</th>\n",
       "      <th>PREDICTED</th>\n",
       "    </tr>\n",
       "  </thead>\n",
       "  <tbody>\n",
       "    <tr>\n",
       "      <th>0</th>\n",
       "      <td>1408.0</td>\n",
       "      <td>1278.837631</td>\n",
       "    </tr>\n",
       "    <tr>\n",
       "      <th>1</th>\n",
       "      <td>1415.0</td>\n",
       "      <td>1465.984650</td>\n",
       "    </tr>\n",
       "    <tr>\n",
       "      <th>2</th>\n",
       "      <td>1340.0</td>\n",
       "      <td>1226.824018</td>\n",
       "    </tr>\n",
       "    <tr>\n",
       "      <th>3</th>\n",
       "      <td>1180.0</td>\n",
       "      <td>1165.631532</td>\n",
       "    </tr>\n",
       "    <tr>\n",
       "      <th>4</th>\n",
       "      <td>1358.0</td>\n",
       "      <td>1240.592328</td>\n",
       "    </tr>\n",
       "  </tbody>\n",
       "</table>\n",
       "</div>"
      ],
      "text/plain": [
       "   ACTUAL    PREDICTED\n",
       "0  1408.0  1278.837631\n",
       "1  1415.0  1465.984650\n",
       "2  1340.0  1226.824018\n",
       "3  1180.0  1165.631532\n",
       "4  1358.0  1240.592328"
      ]
     },
     "execution_count": 71,
     "metadata": {},
     "output_type": "execute_result"
    }
   ],
   "source": [
    "OUTPUT.head()"
   ]
  },
  {
   "cell_type": "code",
   "execution_count": 72,
   "id": "77ca3937",
   "metadata": {},
   "outputs": [
    {
     "data": {
      "image/png": "[encoded data removed]",
      "text/plain": [
       "<Figure size 640x480 with 1 Axes>"
      ]
     },
     "metadata": {},
     "output_type": "display_data"
    }
   ],
   "source": [
    "sns.regplot(data=OUTPUT, x=\"ACTUAL\", y=\"PREDICTED\")\n",
    "plt.show()"
   ]
  },
  {
   "cell_type": "markdown",
   "id": "9c3f4129",
   "metadata": {},
   "source": [
    "### Creating a dictionary of models for iterative purposes"
   ]
  },
  {
   "cell_type": "code",
   "execution_count": 73,
   "id": "1c11db7b",
   "metadata": {},
   "outputs": [],
   "source": [
    "models = {\n",
    "    \"LinearRegression\":LinearRegression(),\n",
    "    \"Ridge\":Ridge(),\n",
    "    \"Lasso\":Lasso(),\n",
    "    \"LinearSVR\":LinearSVR(),\n",
    "    \"DecisionTreeRegressor\":DecisionTreeRegressor(),\n",
    "    \"GradientBoostingRegressor\":GradientBoostingRegressor(),\n",
    "    \"AdaBoostRegressor\":AdaBoostRegressor(),\n",
    "    \"RandomForestRegressor\":RandomForestRegressor(random_state=0),\n",
    "}"
   ]
  },
  {
   "cell_type": "markdown",
   "id": "ea817782",
   "metadata": {},
   "source": [
    "### Using a for loop for model training and testing¶"
   ]
  },
  {
   "cell_type": "code",
   "execution_count": 75,
   "id": "3a0b1ecc",
   "metadata": {},
   "outputs": [
    {
     "name": "stdout",
     "output_type": "stream",
     "text": [
      "model trained with LinearRegression\n",
      "r2score:  59.19199838767479\n",
      "training score:  62.66111486672457\n",
      "testing score:  59.19199838767479\n",
      "mae:  51.86018581656748\n",
      "mse:  3860.709621653986\n",
      "rmse:  62.13460888791355\n",
      "****************************************************************************************************\n",
      "model trained with Ridge\n",
      "r2score:  59.31822237678489\n",
      "training score:  62.65928526188389\n",
      "testing score:  59.31822237678489\n",
      "mae:  51.71749154103035\n",
      "mse:  3848.7679888862162\n",
      "rmse:  62.03843960711952\n",
      "****************************************************************************************************\n",
      "model trained with Lasso\n",
      "r2score:  59.4478299732938\n",
      "training score:  62.65327458486486\n",
      "testing score:  59.4478299732938\n",
      "mae:  51.564797211083736\n",
      "mse:  3836.50624425008\n",
      "rmse:  61.93953700384012\n",
      "****************************************************************************************************\n",
      "model trained with LinearSVR\n",
      "r2score:  -12853.529871641877\n",
      "training score:  -9330.175757420246\n",
      "testing score:  -12853.529871641877\n",
      "mae:  1102.9748052634632\n",
      "mse:  1225490.4781891028\n",
      "rmse:  1107.0187343442308\n",
      "****************************************************************************************************\n",
      "model trained with DecisionTreeRegressor\n",
      "r2score:  7.285179793724128\n",
      "training score:  97.09470123984714\n",
      "testing score:  7.285179793724128\n",
      "mae:  78.2872340425532\n",
      "mse:  8771.441489361701\n",
      "rmse:  93.65597412531515\n",
      "****************************************************************************************************\n",
      "model trained with GradientBoostingRegressor\n",
      "r2score:  47.957589854955486\n",
      "training score:  86.35700505890263\n",
      "testing score:  47.957589854955486\n",
      "mae:  58.88502478596387\n",
      "mse:  4923.559734430916\n",
      "rmse:  70.16808202046651\n",
      "****************************************************************************************************\n",
      "model trained with AdaBoostRegressor\n",
      "r2score:  53.892760701325535\n",
      "training score:  67.25966253394287\n",
      "testing score:  53.892760701325535\n",
      "mae:  53.08483164757647\n",
      "mse:  4362.05291499822\n",
      "rmse:  66.04583949802002\n",
      "****************************************************************************************************\n",
      "model trained with RandomForestRegressor\n",
      "r2score:  37.364826106315796\n",
      "training score:  91.41063378493169\n",
      "testing score:  37.364826106315796\n",
      "mae:  64.0887624113475\n",
      "mse:  5925.7059633197405\n",
      "rmse:  76.9786071796557\n",
      "****************************************************************************************************\n"
     ]
    }
   ],
   "source": [
    "for name,model in models.items():\n",
    "    model.fit(x_train, y_train)\n",
    "    print(\"model trained with {}\".format(name))\n",
    "    training_score = model.score(x_train, y_train)*100\n",
    "    testing_score = model.score(x_test, y_test)*100\n",
    "    score = r2_score(y_test, model.predict(x_test))*100\n",
    "    mae = mean_absolute_error(y_test, model.predict(x_test))\n",
    "    mse = mean_squared_error(y_test, model.predict(x_test))\n",
    "    rmse = np.sqrt(mse)\n",
    "    print(\"r2score: \",score)\n",
    "    print(\"training score: \",training_score)\n",
    "    print(\"testing score: \",testing_score)\n",
    "    print(\"mae: \",mae)\n",
    "    print(\"mse: \",mse)\n",
    "    print(\"rmse: \",rmse)\n",
    "    print(\"*\"*100)    "
   ]
  },
  {
   "cell_type": "code",
   "execution_count": null,
   "id": "fa3507c7",
   "metadata": {},
   "outputs": [],
   "source": []
  }
 ],
 "metadata": {
  "kernelspec": {
   "display_name": "Python 3 (ipykernel)",
   "language": "python",
   "name": "python3"
  },
  "language_info": {
   "codemirror_mode": {
    "name": "ipython",
    "version": 3
   },
   "file_extension": ".py",
   "mimetype": "text/x-python",
   "name": "python",
   "nbconvert_exporter": "python",
   "pygments_lexer": "ipython3",
   "version": "3.9.13"
  }
 },
 "nbformat": 4,
 "nbformat_minor": 5
}
