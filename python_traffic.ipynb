{
 "cells": [
  {
   "cell_type": "code",
   "execution_count": 1,
   "id": "c48cc09e",
   "metadata": {},
   "outputs": [
    {
     "name": "stdout",
     "output_type": "stream",
     "text": [
      "Check the signal color (G or R or Y):G\n",
      "You can drive safely\n"
     ]
    }
   ],
   "source": [
    "signal=input(\"Check the signal color (G or R or Y):\")\n",
    "\n",
    "if signal == 'G':\n",
    "    print('You can drive safely')\n",
    "elif signal == 'R':\n",
    "    print(\"Please stop for a while\")\n",
    "elif signal == 'Y':\n",
    "    print(\"Slow down Please\")"
   ]
  },
  {
   "cell_type": "code",
   "execution_count": null,
   "id": "efc89e59",
   "metadata": {},
   "outputs": [],
   "source": []
  }
 ],
 "metadata": {
  "kernelspec": {
   "display_name": "Python 3 (ipykernel)",
   "language": "python",
   "name": "python3"
  },
  "language_info": {
   "codemirror_mode": {
    "name": "ipython",
    "version": 3
   },
   "file_extension": ".py",
   "mimetype": "text/x-python",
   "name": "python",
   "nbconvert_exporter": "python",
   "pygments_lexer": "ipython3",
   "version": "3.9.13"
  }
 },
 "nbformat": 4,
 "nbformat_minor": 5
}
